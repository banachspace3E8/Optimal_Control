{
 "cells": [
  {
   "cell_type": "code",
   "execution_count": 52,
   "id": "2dec1a17",
   "metadata": {},
   "outputs": [],
   "source": [
    "#Shishir Khanal\n",
    "#CMU-Optimal Controls from Jack Manchester\n",
    "#LQG Simulation using basic equations for a sliding brick in 1D problem(Double integrator)"
   ]
  },
  {
   "cell_type": "code",
   "execution_count": 53,
   "id": "e254ef65",
   "metadata": {},
   "outputs": [
    {
     "name": "stderr",
     "output_type": "stream",
     "text": [
      "\u001b[32m\u001b[1m  Activating\u001b[22m\u001b[39m project at `~/Documents/Optimal_Control/Sims/LQG`\n",
      "\u001b[32m\u001b[1m   Resolving\u001b[22m\u001b[39m package versions...\n",
      "\u001b[32m\u001b[1m  No Changes\u001b[22m\u001b[39m to `~/Documents/Optimal_Control/Sims/LQG/Project.toml`\n",
      "\u001b[32m\u001b[1m  No Changes\u001b[22m\u001b[39m to `~/Documents/Optimal_Control/Sims/LQG/Manifest.toml`\n",
      "\u001b[32m\u001b[1m   Resolving\u001b[22m\u001b[39m package versions...\n",
      "\u001b[32m\u001b[1m  No Changes\u001b[22m\u001b[39m to `~/Documents/Optimal_Control/Sims/LQG/Project.toml`\n",
      "\u001b[32m\u001b[1m  No Changes\u001b[22m\u001b[39m to `~/Documents/Optimal_Control/Sims/LQG/Manifest.toml`\n",
      "\u001b[32m\u001b[1m   Resolving\u001b[22m\u001b[39m package versions...\n",
      "\u001b[32m\u001b[1m  No Changes\u001b[22m\u001b[39m to `~/Documents/Optimal_Control/Sims/LQG/Project.toml`\n",
      "\u001b[32m\u001b[1m  No Changes\u001b[22m\u001b[39m to `~/Documents/Optimal_Control/Sims/LQG/Manifest.toml`\n",
      "\u001b[32m\u001b[1m   Resolving\u001b[22m\u001b[39m package versions...\n",
      "\u001b[32m\u001b[1m  No Changes\u001b[22m\u001b[39m to `~/Documents/Optimal_Control/Sims/LQG/Project.toml`\n",
      "\u001b[32m\u001b[1m  No Changes\u001b[22m\u001b[39m to `~/Documents/Optimal_Control/Sims/LQG/Manifest.toml`\n",
      "\u001b[32m\u001b[1m   Resolving\u001b[22m\u001b[39m package versions...\n",
      "\u001b[32m\u001b[1m  No Changes\u001b[22m\u001b[39m to `~/Documents/Optimal_Control/Sims/LQG/Project.toml`\n",
      "\u001b[32m\u001b[1m  No Changes\u001b[22m\u001b[39m to `~/Documents/Optimal_Control/Sims/LQG/Manifest.toml`\n"
     ]
    }
   ],
   "source": [
    "import Pkg; Pkg.activate(@__DIR__); Pkg.instantiate()\n",
    "Pkg.add(\"LinearAlgebra\")\n",
    "Pkg.add(\"PyPlot\")\n",
    "Pkg.add(\"SparseArrays\")\n",
    "Pkg.add(\"ControlSystems\")\n",
    "Pkg.add(\"ForwardDiff\")\n",
    "using LinearAlgebra\n",
    "using PyPlot\n",
    "using ForwardDiff\n",
    "using SparseArrays\n",
    "using ControlSystems"
   ]
  },
  {
   "cell_type": "code",
   "execution_count": 54,
   "id": "69efa4a9",
   "metadata": {},
   "outputs": [],
   "source": [
    "#Discrete Dynamics\n",
    "h = 0.1  #time step\n",
    "A = [1 h; 0 1]\n",
    "B = [0.5*h*h; h]\n",
    "C = [1.0 0];"
   ]
  },
  {
   "cell_type": "code",
   "execution_count": 72,
   "id": "e42c0950",
   "metadata": {},
   "outputs": [
    {
     "ename": "LoadError",
     "evalue": "MethodError: no method matching abs(::Matrix{ComplexF64})\n\u001b[0mClosest candidates are:\n\u001b[0m  abs(\u001b[91m::Union{Float16, Float32, Float64}\u001b[39m) at float.jl:486\n\u001b[0m  abs(\u001b[91m::Union{Static.StaticBool{N}, Static.StaticFloat64{N}, Static.StaticInt{N}}\u001b[39m) where N at ~/.julia/packages/Static/s64Zx/src/Static.jl:408\n\u001b[0m  abs(\u001b[91m::T\u001b[39m) where T<:Dates.Period at ~/Downloads/julia-1.8.3/share/julia/stdlib/v1.8/Dates/src/periods.jl:105\n\u001b[0m  ...",
     "output_type": "error",
     "traceback": [
      "MethodError: no method matching abs(::Matrix{ComplexF64})\n\u001b[0mClosest candidates are:\n\u001b[0m  abs(\u001b[91m::Union{Float16, Float32, Float64}\u001b[39m) at float.jl:486\n\u001b[0m  abs(\u001b[91m::Union{Static.StaticBool{N}, Static.StaticFloat64{N}, Static.StaticInt{N}}\u001b[39m) where N at ~/.julia/packages/Static/s64Zx/src/Static.jl:408\n\u001b[0m  abs(\u001b[91m::T\u001b[39m) where T<:Dates.Period at ~/Downloads/julia-1.8.3/share/julia/stdlib/v1.8/Dates/src/periods.jl:105\n\u001b[0m  ...",
      "",
      "Stacktrace:",
      " [1] top-level scope",
      "   @ In[72]:5"
     ]
    }
   ],
   "source": [
    "#Noise Covariances\n",
    "W = B*0.1*B'  #Corresponds to white noise force input to dynamics\n",
    "V = 0.1;  #Noise on position measurements\n",
    "#real(sqrt(W))"
   ]
  },
  {
   "cell_type": "code",
   "execution_count": 56,
   "id": "05f0a219",
   "metadata": {},
   "outputs": [],
   "source": [
    "n = 2  #number of states\n",
    "m = 1  #number of controls\n",
    "Tfinal = 10.0\n",
    "N = Int(Tfinal/h)+1  #number of time steps\n",
    "thist = Array(range(0, h*(N-1), step=h));"
   ]
  },
  {
   "cell_type": "code",
   "execution_count": 57,
   "id": "34e8fcb4",
   "metadata": {},
   "outputs": [
    {
     "data": {
      "text/plain": [
       "2×2 Matrix{Float64}:\n",
       " 1.0  0.0\n",
       " 0.0  1.0"
      ]
     },
     "execution_count": 57,
     "metadata": {},
     "output_type": "execute_result"
    }
   ],
   "source": [
    "#LQR cost weights\n",
    "Q = Array(1.0*I(n))\n",
    "R = Array(0.1*I(m))\n",
    "Qn = Q"
   ]
  },
  {
   "cell_type": "code",
   "execution_count": 58,
   "id": "b0a66a17",
   "metadata": {},
   "outputs": [
    {
     "data": {
      "text/plain": [
       "J (generic function with 1 method)"
      ]
     },
     "execution_count": 58,
     "metadata": {},
     "output_type": "execute_result"
    }
   ],
   "source": [
    "#Cost function\n",
    "function J(xhist, uhist)\n",
    "    cost = 0.5*xhist[:,end]'*Qn*xhist[:,end]\n",
    "    for k = 1:(size(xhist,2)-1)\n",
    "        cost = cost + 0.5*xhist[:,k]'*Q*xhist[:,k] + 0.5*(uhist[k]'*R*uhist[k])[1]\n",
    "    end\n",
    "    return cost\n",
    "end"
   ]
  },
  {
   "cell_type": "code",
   "execution_count": 59,
   "id": "f8ba2dfd",
   "metadata": {},
   "outputs": [
    {
     "data": {
      "text/plain": [
       "1×2 Matrix{Float64}:\n",
       " 2.5857  3.44344"
      ]
     },
     "execution_count": 59,
     "metadata": {},
     "output_type": "execute_result"
    }
   ],
   "source": [
    "#Infinite-Horizon LQR Gain and cost-to-go\n",
    "P = dare(A,B,Q,R)\n",
    "K = dlqr(A,B,Q,R)"
   ]
  },
  {
   "cell_type": "code",
   "execution_count": 60,
   "id": "514947f5",
   "metadata": {},
   "outputs": [
    {
     "data": {
      "text/plain": [
       "2-element Vector{Float64}:\n",
       " 0.0\n",
       " 0.0"
      ]
     },
     "execution_count": 60,
     "metadata": {},
     "output_type": "execute_result"
    }
   ],
   "source": [
    "#Initial conditions\n",
    "x0 = [1.0; 0] #true state\n",
    "\n",
    "#Filter State\n",
    "∑0 = Array(1.0*I(2))\n",
    "x̂0 = [0.0; 0.0]"
   ]
  },
  {
   "cell_type": "code",
   "execution_count": 63,
   "id": "916aa7de",
   "metadata": {},
   "outputs": [],
   "source": [
    "xhist = zeros(n,N)\n",
    "xhist[:,1] .= x0;\n",
    "\n",
    "uhist = zeros(N)\n",
    "yhist = zeros(N)\n",
    "x̂hist = zeros(n,N)\n",
    "∑hist = zeros(n,n,N);"
   ]
  },
  {
   "cell_type": "code",
   "execution_count": 66,
   "id": "4f83a0fe",
   "metadata": {},
   "outputs": [
    {
     "data": {
      "text/plain": [
       "-2.545676572006933"
      ]
     },
     "execution_count": 66,
     "metadata": {},
     "output_type": "execute_result"
    }
   ],
   "source": [
    "#Initial Time Step\n",
    "\n",
    "#Generate Measurement\n",
    "yhist[1] = (C*xhist[:,1])[1] + sqrt(V)*randn()\n",
    "\n",
    "z = yhist[1] - (C*x̂0)[1] #Innovation\n",
    "S = (C*∑0*C')[1] + V #Innovation Covariance\n",
    "\n",
    "L = ∑0*C'*inv(S) #Kalman Gain\n",
    "\n",
    "x̂hist[:,1] = x̂0 + L*z\n",
    "∑hist[:,:,1] .= (I-L*C)*∑0*(I-L*C)' + L*V*L'\n",
    "\n",
    "uhist[1] = -(K*x̂hist[:,1])[1] #Control input\n",
    "\n",
    "#xhist[:,2] .= A*xhist[:,1] + B*uhist[1] + sqrt(W)*randn(n) #Simulate with stochastic dynamics"
   ]
  },
  {
   "cell_type": "code",
   "execution_count": 62,
   "id": "fa04e251",
   "metadata": {},
   "outputs": [
    {
     "ename": "LoadError",
     "evalue": "InexactError: Float64(0.984233354458988 - 2.924377568840488e-10im)",
     "output_type": "error",
     "traceback": [
      "InexactError: Float64(0.984233354458988 - 2.924377568840488e-10im)",
      "",
      "Stacktrace:",
      "  [1] Real",
      "    @ ./complex.jl:44 [inlined]",
      "  [2] convert",
      "    @ ./number.jl:7 [inlined]",
      "  [3] setindex!",
      "    @ ./array.jl:966 [inlined]",
      "  [4] setindex!",
      "    @ ./subarray.jl:347 [inlined]",
      "  [5] copyto_unaliased!(deststyle::IndexLinear, dest::SubArray{Float64, 1, Matrix{Float64}, Tuple{Base.Slice{Base.OneTo{Int64}}, Int64}, true}, srcstyle::IndexLinear, src::Vector{ComplexF64})",
      "    @ Base ./abstractarray.jl:1038",
      "  [6] copyto!",
      "    @ ./abstractarray.jl:1018 [inlined]",
      "  [7] copyto!",
      "    @ ./broadcast.jl:954 [inlined]",
      "  [8] copyto!",
      "    @ ./broadcast.jl:913 [inlined]",
      "  [9] materialize!",
      "    @ ./broadcast.jl:871 [inlined]",
      " [10] materialize!(dest::SubArray{Float64, 1, Matrix{Float64}, Tuple{Base.Slice{Base.OneTo{Int64}}, Int64}, true}, bc::Base.Broadcast.Broadcasted{Base.Broadcast.DefaultArrayStyle{1}, Nothing, typeof(identity), Tuple{Vector{ComplexF64}}})",
      "    @ Base.Broadcast ./broadcast.jl:868",
      " [11] top-level scope",
      "    @ In[62]:16"
     ]
    }
   ],
   "source": [
    "#Initial Time Step\n",
    "\n",
    "#Generate Measurement\n",
    "yhist[1] = (C*xhist[:,1])[1] + sqrt(V)*randn() #randn() samples 0 mean Identity variance gaussian\n",
    "                                               #sqrt(V)*randn() samples 0 mean V variance gaussian\n",
    "z = yhist[1] - (C*x̂0)[1]  #Innovation\n",
    "S = (C*∑0*C')[1] + V  #Innovation Covariance\n",
    "\n",
    "L = ∑0*C'*inv(S)  #Kalman Gain\n",
    "\n",
    "x̂hist[:,1] = x̂0 + L*z\n",
    "∑hist[:,:,1] .= (I-L*C)*∑0*(I-L*C)' + L*V*L'\n",
    "\n",
    "uhist[1] = -(K*x̂hist[:,1])[1]  #Control input\n",
    "\n",
    "xhist[:,2] .= A*xhist[:,1] + B*uhist[1] + sqrt(W)*randn(n)  #Simulate with stochastic dynamics"
   ]
  },
  {
   "cell_type": "code",
   "execution_count": 42,
   "id": "04701c2f",
   "metadata": {},
   "outputs": [
    {
     "ename": "LoadError",
     "evalue": "InexactError: Float64(0.014249783611296689 + 9.646635092194922e-10im)",
     "output_type": "error",
     "traceback": [
      "InexactError: Float64(0.014249783611296689 + 9.646635092194922e-10im)",
      "",
      "Stacktrace:",
      "  [1] Real",
      "    @ ./complex.jl:44 [inlined]",
      "  [2] convert",
      "    @ ./number.jl:7 [inlined]",
      "  [3] setindex!",
      "    @ ./array.jl:966 [inlined]",
      "  [4] setindex!",
      "    @ ./subarray.jl:347 [inlined]",
      "  [5] copyto_unaliased!(deststyle::IndexLinear, dest::SubArray{Float64, 1, Matrix{Float64}, Tuple{Base.Slice{Base.OneTo{Int64}}, Int64}, true}, srcstyle::IndexLinear, src::Vector{ComplexF64})",
      "    @ Base ./abstractarray.jl:1038",
      "  [6] copyto!",
      "    @ ./abstractarray.jl:1018 [inlined]",
      "  [7] copyto!",
      "    @ ./broadcast.jl:954 [inlined]",
      "  [8] copyto!",
      "    @ ./broadcast.jl:913 [inlined]",
      "  [9] materialize!",
      "    @ ./broadcast.jl:871 [inlined]",
      " [10] materialize!(dest::SubArray{Float64, 1, Matrix{Float64}, Tuple{Base.Slice{Base.OneTo{Int64}}, Int64}, true}, bc::Base.Broadcast.Broadcasted{Base.Broadcast.DefaultArrayStyle{1}, Nothing, typeof(identity), Tuple{Vector{ComplexF64}}})",
      "    @ Base.Broadcast ./broadcast.jl:868",
      " [11] top-level scope",
      "    @ ./In[42]:22"
     ]
    }
   ],
   "source": [
    "for k = 2:(N-1)\n",
    "    \n",
    "    #Generate Measurement\n",
    "    yhist[k] = (C*xhist[:,k])[1] + sqrt(V)*randn()\n",
    "    \n",
    "    #KF Update\n",
    "    x̃ = A*x̂hist[:,k-1] + B*uhist[k-1]  #State Prediction\n",
    "    ∑̃ = A*∑hist[:,:,k-1]*A' + W  #Covariance Prediction\n",
    "    \n",
    "    z = yhist[k] - (C*x̃)[1]  #Innovation\n",
    "    S = (C*∑̃ *C')[1] + V  #Innovation Covariance\n",
    "    \n",
    "    L = ∑̃ *C'*inv(S)  #Kalman Gain\n",
    "    \n",
    "    x̂hist[:,k] = x̃ + L*z\n",
    "    ∑hist[:,:,k] = (I-L*C)*∑̃ * (I-L*C)' + L*V*L'\n",
    "    \n",
    "    #LQR Controller\n",
    "    uhist[k] = -(K*x̂hist[:,k])[1]\n",
    "    \n",
    "    #Run this on the Stochastic Dynamics\n",
    "    xhist[:,k+1] .= A*xhist[:,k] + B*uhist[k] + sqrt(W)*randn(n)\n",
    "end"
   ]
  },
  {
   "cell_type": "code",
   "execution_count": 43,
   "id": "302155b1",
   "metadata": {},
   "outputs": [
    {
     "data": {
      "image/png": "[encoded data removed]",
      "text/plain": [
       "Figure(PyObject <Figure size 640x480 with 1 Axes>)"
      ]
     },
     "metadata": {},
     "output_type": "display_data"
    },
    {
     "data": {
      "text/plain": [
       "1-element Vector{PyCall.PyObject}:\n",
       " PyObject <matplotlib.lines.Line2D object at 0x7fde43ccac70>"
      ]
     },
     "execution_count": 43,
     "metadata": {},
     "output_type": "execute_result"
    }
   ],
   "source": [
    "plot(xhist[1,:])\n",
    "plot(xhist[1,:])"
   ]
  },
  {
   "cell_type": "code",
   "execution_count": 44,
   "id": "9b7e26d3",
   "metadata": {},
   "outputs": [
    {
     "data": {
      "image/png": "[encoded data removed]",
      "text/plain": [
       "Figure(PyObject <Figure size 640x480 with 1 Axes>)"
      ]
     },
     "metadata": {},
     "output_type": "display_data"
    },
    {
     "data": {
      "text/plain": [
       "1-element Vector{PyCall.PyObject}:\n",
       " PyObject <matplotlib.lines.Line2D object at 0x7fde198df880>"
      ]
     },
     "execution_count": 44,
     "metadata": {},
     "output_type": "execute_result"
    }
   ],
   "source": [
    "#Covariance and Kalman gain covariance to steady-state values in the LTI case\n",
    "#just like LQR gain + cost-to-go Hessian\n",
    "plot(∑hist[1,1,1:N-1])\n",
    "plot(∑hist[2,2,1:N-1])\n",
    "plot(∑hist[1,2,1:N-1])"
   ]
  },
  {
   "cell_type": "code",
   "execution_count": null,
   "id": "fc7511f3",
   "metadata": {},
   "outputs": [],
   "source": []
  }
 ],
 "metadata": {
  "kernelspec": {
   "display_name": "Julia 1.8.3",
   "language": "julia",
   "name": "julia-1.8"
  },
  "language_info": {
   "file_extension": ".jl",
   "mimetype": "application/julia",
   "name": "julia",
   "version": "1.8.3"
  }
 },
 "nbformat": 4,
 "nbformat_minor": 5
}
