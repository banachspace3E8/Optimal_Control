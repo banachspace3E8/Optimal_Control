{
 "cells": [
  {
   "cell_type": "code",
   "execution_count": 52,
   "id": "acc8b5d1",
   "metadata": {},
   "outputs": [],
   "source": [
    "#Shishir Khanal\n",
    "#CMU-Optimal Controls from Jack Manchester\n",
    "#LQG Simulation using basic equations for a sliding brick in 1D problem(Double integrator)"
   ]
  },
  {
   "cell_type": "code",
   "execution_count": 92,
   "id": "37af0109",
   "metadata": {},
   "outputs": [
    {
     "name": "stderr",
     "output_type": "stream",
     "text": [
      "\u001b[32m\u001b[1m  Activating\u001b[22m\u001b[39m project at `~/Documents/Optimal_Control/Sims/LQG`\n",
      "\u001b[32m\u001b[1m   Resolving\u001b[22m\u001b[39m package versions...\n",
      "\u001b[32m\u001b[1m  No Changes\u001b[22m\u001b[39m to `~/Documents/Optimal_Control/Sims/LQG/Project.toml`\n",
      "\u001b[32m\u001b[1m  No Changes\u001b[22m\u001b[39m to `~/Documents/Optimal_Control/Sims/LQG/Manifest.toml`\n",
      "\u001b[32m\u001b[1m   Resolving\u001b[22m\u001b[39m package versions...\n",
      "\u001b[32m\u001b[1m  No Changes\u001b[22m\u001b[39m to `~/Documents/Optimal_Control/Sims/LQG/Project.toml`\n",
      "\u001b[32m\u001b[1m  No Changes\u001b[22m\u001b[39m to `~/Documents/Optimal_Control/Sims/LQG/Manifest.toml`\n",
      "\u001b[32m\u001b[1m   Resolving\u001b[22m\u001b[39m package versions...\n",
      "\u001b[32m\u001b[1m  No Changes\u001b[22m\u001b[39m to `~/Documents/Optimal_Control/Sims/LQG/Project.toml`\n",
      "\u001b[32m\u001b[1m  No Changes\u001b[22m\u001b[39m to `~/Documents/Optimal_Control/Sims/LQG/Manifest.toml`\n",
      "\u001b[32m\u001b[1m   Resolving\u001b[22m\u001b[39m package versions...\n",
      "\u001b[32m\u001b[1m  No Changes\u001b[22m\u001b[39m to `~/Documents/Optimal_Control/Sims/LQG/Project.toml`\n",
      "\u001b[32m\u001b[1m  No Changes\u001b[22m\u001b[39m to `~/Documents/Optimal_Control/Sims/LQG/Manifest.toml`\n",
      "\u001b[32m\u001b[1m   Resolving\u001b[22m\u001b[39m package versions...\n",
      "\u001b[32m\u001b[1m  No Changes\u001b[22m\u001b[39m to `~/Documents/Optimal_Control/Sims/LQG/Project.toml`\n",
      "\u001b[32m\u001b[1m  No Changes\u001b[22m\u001b[39m to `~/Documents/Optimal_Control/Sims/LQG/Manifest.toml`\n"
     ]
    }
   ],
   "source": [
    "import Pkg; Pkg.activate(@__DIR__); Pkg.instantiate()\n",
    "Pkg.add(\"LinearAlgebra\")\n",
    "Pkg.add(\"PyPlot\")\n",
    "Pkg.add(\"SparseArrays\")\n",
    "Pkg.add(\"ControlSystems\")\n",
    "Pkg.add(\"ForwardDiff\")\n",
    "using LinearAlgebra\n",
    "using PyPlot\n",
    "using ForwardDiff\n",
    "using SparseArrays\n",
    "using ControlSystems"
   ]
  },
  {
   "cell_type": "code",
   "execution_count": 93,
   "id": "80374707",
   "metadata": {},
   "outputs": [],
   "source": [
    "#Discrete Dynamics\n",
    "h = 0.1  #time step\n",
    "A = [1 h; 0 1]\n",
    "B = [0.5*h*h; h]\n",
    "C = [1.0 0];"
   ]
  },
  {
   "cell_type": "code",
   "execution_count": 94,
   "id": "a4b7dbf4",
   "metadata": {},
   "outputs": [
    {
     "data": {
      "text/plain": [
       "0.1"
      ]
     },
     "execution_count": 94,
     "metadata": {},
     "output_type": "execute_result"
    }
   ],
   "source": [
    "#Noise Covariances\n",
    "W = B*0.1*B'  #Corresponds to white noise force input to dynamics\n",
    "V = 0.1;  #Noise on position measurements"
   ]
  },
  {
   "cell_type": "code",
   "execution_count": 95,
   "id": "01d7bcc7",
   "metadata": {},
   "outputs": [],
   "source": [
    "n = 2  #number of states\n",
    "m = 1  #number of controls\n",
    "Tfinal = 10.0\n",
    "N = Int(Tfinal/h)+1  #number of time steps\n",
    "thist = Array(range(0, h*(N-1), step=h));"
   ]
  },
  {
   "cell_type": "code",
   "execution_count": 96,
   "id": "5947b264",
   "metadata": {},
   "outputs": [
    {
     "data": {
      "text/plain": [
       "2×2 Matrix{Float64}:\n",
       " 1.0  0.0\n",
       " 0.0  1.0"
      ]
     },
     "execution_count": 96,
     "metadata": {},
     "output_type": "execute_result"
    }
   ],
   "source": [
    "#LQR cost weights\n",
    "Q = Array(1.0*I(n))\n",
    "R = Array(0.1*I(m))\n",
    "Qn = Q"
   ]
  },
  {
   "cell_type": "code",
   "execution_count": 97,
   "id": "e3b82acc",
   "metadata": {},
   "outputs": [
    {
     "data": {
      "text/plain": [
       "J (generic function with 1 method)"
      ]
     },
     "execution_count": 97,
     "metadata": {},
     "output_type": "execute_result"
    }
   ],
   "source": [
    "#Cost function\n",
    "function J(xhist, uhist)\n",
    "    cost = 0.5*xhist[:,end]'*Qn*xhist[:,end]\n",
    "    for k = 1:(size(xhist,2)-1)\n",
    "        cost = cost + 0.5*xhist[:,k]'*Q*xhist[:,k] + 0.5*(uhist[k]'*R*uhist[k])[1]\n",
    "    end\n",
    "    return cost\n",
    "end"
   ]
  },
  {
   "cell_type": "code",
   "execution_count": 98,
   "id": "54c12e75",
   "metadata": {},
   "outputs": [
    {
     "data": {
      "text/plain": [
       "1×2 Matrix{Float64}:\n",
       " 2.5857  3.44344"
      ]
     },
     "execution_count": 98,
     "metadata": {},
     "output_type": "execute_result"
    }
   ],
   "source": [
    "#Infinite-Horizon LQR Gain and cost-to-go\n",
    "P = dare(A,B,Q,R)\n",
    "K = dlqr(A,B,Q,R)"
   ]
  },
  {
   "cell_type": "code",
   "execution_count": 99,
   "id": "fbe7abc8",
   "metadata": {},
   "outputs": [
    {
     "data": {
      "text/plain": [
       "2-element Vector{Float64}:\n",
       " 0.0\n",
       " 0.0"
      ]
     },
     "execution_count": 99,
     "metadata": {},
     "output_type": "execute_result"
    }
   ],
   "source": [
    "#Initial conditions\n",
    "x0 = [1.0; 0] #true state\n",
    "\n",
    "#Filter State\n",
    "∑0 = Array(1.0*I(2))\n",
    "x̂0 = [0.0; 0.0]"
   ]
  },
  {
   "cell_type": "code",
   "execution_count": 100,
   "id": "e7e5a779",
   "metadata": {},
   "outputs": [],
   "source": [
    "xhist = zeros(n,N)\n",
    "xhist[:,1] .= x0;\n",
    "\n",
    "uhist = zeros(N)\n",
    "yhist = zeros(N)\n",
    "x̂hist = zeros(n,N)\n",
    "∑hist = zeros(n,n,N);"
   ]
  },
  {
   "cell_type": "code",
   "execution_count": 101,
   "id": "13bae58e",
   "metadata": {},
   "outputs": [
    {
     "data": {
      "text/plain": [
       "2-element view(::Matrix{Float64}, :, 2) with eltype Float64:\n",
       "  0.9883903200485692\n",
       " -0.2321935990286113"
      ]
     },
     "execution_count": 101,
     "metadata": {},
     "output_type": "execute_result"
    }
   ],
   "source": [
    "#Initial Time Step\n",
    "\n",
    "#Generate Measurement\n",
    "yhist[1] = (C*xhist[:,1])[1] + sqrt(V)*randn() #randn() samples 0 mean Identity variance gaussian\n",
    "                                               #sqrt(V)*randn() samples 0 mean V variance gaussian\n",
    "z = yhist[1] - (C*x̂0)[1]  #Innovation\n",
    "S = (C*∑0*C')[1] + V  #Innovation Covariance\n",
    "\n",
    "L = ∑0*C'*inv(S)  #Kalman Gain\n",
    "\n",
    "x̂hist[:,1] = x̂0 + L*z\n",
    "∑hist[:,:,1] .= (I-L*C)*∑0*(I-L*C)' + L*V*L'\n",
    "\n",
    "uhist[1] = -(K*x̂hist[:,1])[1]  #Control input\n",
    "\n",
    "xhist[:,2] .= A*xhist[:,1] + B*uhist[1] + abs.(sqrt(W))*randn(n)  #Simulate with stochastic dynamics"
   ]
  },
  {
   "cell_type": "code",
   "execution_count": 103,
   "id": "640876fb",
   "metadata": {},
   "outputs": [],
   "source": [
    "for k = 2:(N-1)\n",
    "    \n",
    "    #Generate Measurement\n",
    "    yhist[k] = (C*xhist[:,k])[1] + sqrt(V)*randn()\n",
    "    \n",
    "    #KF Update\n",
    "    x̃ = A*x̂hist[:,k-1] + B*uhist[k-1]  #State Prediction\n",
    "    ∑̃ = A*∑hist[:,:,k-1]*A' + W  #Covariance Prediction\n",
    "    \n",
    "    z = yhist[k] - (C*x̃)[1]  #Innovation\n",
    "    S = (C*∑̃ *C')[1] + V  #Innovation Covariance\n",
    "    \n",
    "    L = ∑̃ *C'*inv(S)  #Kalman Gain\n",
    "    \n",
    "    x̂hist[:,k] = x̃ + L*z\n",
    "    ∑hist[:,:,k] = (I-L*C)*∑̃ * (I-L*C)' + L*V*L'\n",
    "    \n",
    "    #LQR Controller\n",
    "    uhist[k] = -(K*x̂hist[:,k])[1]\n",
    "    \n",
    "    #Run this on the Stochastic Dynamics\n",
    "    xhist[:,k+1] .= A*xhist[:,k] + B*uhist[k] + abs.(sqrt(W))*randn(n)\n",
    "end"
   ]
  },
  {
   "cell_type": "code",
   "execution_count": 105,
   "id": "936f7009",
   "metadata": {},
   "outputs": [
    {
     "data": {
      "image/png": "[encoded data removed]",
      "text/plain": [
       "Figure(PyObject <Figure size 640x480 with 1 Axes>)"
      ]
     },
     "metadata": {},
     "output_type": "display_data"
    },
    {
     "data": {
      "text/plain": [
       "1-element Vector{PyCall.PyObject}:\n",
       " PyObject <matplotlib.lines.Line2D object at 0x7fde1866f130>"
      ]
     },
     "execution_count": 105,
     "metadata": {},
     "output_type": "execute_result"
    }
   ],
   "source": [
    "plot(xhist[1,:])\n",
    "plot(x̂hist[1,:])"
   ]
  },
  {
   "cell_type": "code",
   "execution_count": 106,
   "id": "81b9e607",
   "metadata": {},
   "outputs": [
    {
     "data": {
      "image/png": "[encoded data removed]",
      "text/plain": [
       "Figure(PyObject <Figure size 640x480 with 1 Axes>)"
      ]
     },
     "metadata": {},
     "output_type": "display_data"
    },
    {
     "data": {
      "text/plain": [
       "1-element Vector{PyCall.PyObject}:\n",
       " PyObject <matplotlib.lines.Line2D object at 0x7fde185ef370>"
      ]
     },
     "execution_count": 106,
     "metadata": {},
     "output_type": "execute_result"
    }
   ],
   "source": [
    "#Covariance and Kalman gain covariance to steady-state values in the LTI case\n",
    "#just like LQR gain + cost-to-go Hessian\n",
    "plot(∑hist[1,1,1:N-1])\n",
    "plot(∑hist[2,2,1:N-1])\n",
    "plot(∑hist[1,2,1:N-1])"
   ]
  },
  {
   "cell_type": "code",
   "execution_count": null,
   "id": "468e08ea",
   "metadata": {},
   "outputs": [],
   "source": []
  }
 ],
 "metadata": {
  "kernelspec": {
   "display_name": "Julia 1.8.3",
   "language": "julia",
   "name": "julia-1.8"
  },
  "language_info": {
   "file_extension": ".jl",
   "mimetype": "application/julia",
   "name": "julia",
   "version": "1.8.3"
  }
 },
 "nbformat": 4,
 "nbformat_minor": 5
}
