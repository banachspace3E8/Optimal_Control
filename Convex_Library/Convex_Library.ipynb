{
 "cells": [
  {
   "cell_type": "code",
   "execution_count": 1,
   "id": "5df9c110",
   "metadata": {},
   "outputs": [],
   "source": [
    "#Shishir Khanal\n",
    "#CMU-Optimal Controls from Jack Manchester\n",
    "#Using convex optimization library to formulate a least squares optimization problem"
   ]
  },
  {
   "cell_type": "code",
   "execution_count": 4,
   "id": "a212d2c9",
   "metadata": {},
   "outputs": [
    {
     "name": "stderr",
     "output_type": "stream",
     "text": [
      "\u001b[32m\u001b[1m  Activating\u001b[22m\u001b[39m project at `~/Documents/Optimal_Control/Sims/Untitled Folder`\n",
      "\u001b[32m\u001b[1m   Resolving\u001b[22m\u001b[39m package versions...\n",
      "\u001b[32m\u001b[1m  No Changes\u001b[22m\u001b[39m to `~/Documents/Optimal_Control/Sims/Untitled Folder/Project.toml`\n",
      "\u001b[32m\u001b[1m  No Changes\u001b[22m\u001b[39m to `~/Documents/Optimal_Control/Sims/Untitled Folder/Manifest.toml`\n",
      "\u001b[32m\u001b[1m   Resolving\u001b[22m\u001b[39m package versions...\n",
      "\u001b[32m\u001b[1m   Installed\u001b[22m\u001b[39m ECOS_jll ─ v200.0.800+0\n",
      "\u001b[32m\u001b[1m   Installed\u001b[22m\u001b[39m ECOS ───── v1.1.1\n",
      "\u001b[32m\u001b[1m    Updating\u001b[22m\u001b[39m `~/Documents/Optimal_Control/Sims/Untitled Folder/Project.toml`\n",
      " \u001b[90m [e2685f51] \u001b[39m\u001b[92m+ ECOS v1.1.1\u001b[39m\n",
      "\u001b[32m\u001b[1m    Updating\u001b[22m\u001b[39m `~/Documents/Optimal_Control/Sims/Untitled Folder/Manifest.toml`\n",
      " \u001b[90m [fa961155] \u001b[39m\u001b[92m+ CEnum v0.4.2\u001b[39m\n",
      " \u001b[90m [e2685f51] \u001b[39m\u001b[92m+ ECOS v1.1.1\u001b[39m\n",
      " \u001b[90m [c2c64177] \u001b[39m\u001b[92m+ ECOS_jll v200.0.800+0\u001b[39m\n",
      "\u001b[32m\u001b[1mPrecompiling\u001b[22m\u001b[39m project...\n",
      "\u001b[32m  ✓ \u001b[39m\u001b[90mECOS_jll\u001b[39m\n",
      "\u001b[32m  ✓ \u001b[39mECOS\n",
      "  2 dependencies successfully precompiled in 66 seconds. 43 already precompiled.\n",
      "\u001b[36m\u001b[1m[ \u001b[22m\u001b[39m\u001b[36m\u001b[1mInfo: \u001b[22m\u001b[39mPrecompiling ECOS [e2685f51-7e38-5353-a97d-a921fd2c8199]\n",
      "\u001b[33m\u001b[1m┌ \u001b[22m\u001b[39m\u001b[33m\u001b[1mWarning: \u001b[22m\u001b[39mModule MathOptInterface with build ID 63145017145938 is missing from the cache.\n",
      "\u001b[33m\u001b[1m│ \u001b[22m\u001b[39mThis may mean MathOptInterface [b8f27783-ece8-5eb3-8dc8-9495eed66fee] does not support precompilation but is imported by a module that does.\n",
      "\u001b[33m\u001b[1m└ \u001b[22m\u001b[39m\u001b[90m@ Base loading.jl:1325\u001b[39m\n",
      "\u001b[36m\u001b[1m[ \u001b[22m\u001b[39m\u001b[36m\u001b[1mInfo: \u001b[22m\u001b[39mSkipping precompilation since __precompile__(false). Importing ECOS [e2685f51-7e38-5353-a97d-a921fd2c8199].\n"
     ]
    },
    {
     "data": {
      "text/plain": [
       "TaskLocalRNG()"
      ]
     },
     "execution_count": 4,
     "metadata": {},
     "output_type": "execute_result"
    }
   ],
   "source": [
    "import Pkg; Pkg.activate(@__DIR__); Pkg.instantiate();\n",
    "Pkg.add(\"Convex\")\n",
    "Pkg.add(\"ECOS\")\n",
    "using LinearAlgebra, Plots\n",
    "import ForwardDiff as FD\n",
    "using Test\n",
    "import Convex as cvx \n",
    "import ECOS\n",
    "using Random\n",
    "Random.seed!(1)"
   ]
  },
  {
   "cell_type": "markdown",
   "id": "67db6d2f",
   "metadata": {},
   "source": [
    "# Convex.jl tutorial\n",
    "\n",
    "This is convex modeling tool in Julia that let's us write out problems in a simple way, and then Convex.jl transforms them and sends them off to be solved (we're using [ECOS](https://github.com/embotech/ecos) as our solver today). If you want examples/inspiration for this technology, there are a few like this:\n",
    "\n",
    "- Python: [CVXPY](https://www.cvxpy.org/) or [CVXOPT](http://cvxopt.org/) (cvxpy is probably what you want)\n",
    "- Matlab: [CVX](http://cvxr.com/cvx/) or [YALMIP](https://yalmip.github.io/) (I like CVX better)\n",
    "- R: [CVXR](https://cvxr.rbind.io/)\n",
    "\n",
    "For Convex.jl the [repo is here](https://github.com/jump-dev/Convex.jl), and the [docs are here](https://jump.dev/Convex.jl/stable/)\n",
    "\n",
    "These tools are just used for formulating your problem and verifying that it is Convex. The problem itself is solved by one of many available solvers, many common ones are:\n",
    "\n",
    "- OSQP\n",
    "- ECOS (Can Handle Conic Constraints)\n",
    "- CPLEX (Commercial)\n",
    "- Mosek (Commercial)\n",
    "- Gurobi (Commercial)\n",
    "- COSMO \n",
    "- SeDuMi \n",
    "- SDPT3 \n",
    "- GLPK \n",
    "- Hypatia "
   ]
  },
  {
   "cell_type": "markdown",
   "id": "9e58c948",
   "metadata": {},
   "source": [
    "## Least Squares \n",
    "For overdetermined systems (more equations than variables, \"skinny\" matrix A)\n",
    "$$ \\begin{align} \\min_{x} \\quad & \\|Ax - b\\|^2_2\n",
    " \\end{align}$$"
   ]
  },
  {
   "cell_type": "code",
   "execution_count": 6,
   "id": "c0b8ddfb",
   "metadata": {},
   "outputs": [
    {
     "name": "stdout",
     "output_type": "stream",
     "text": [
      "\u001b[0m\u001b[1mTest Summary:  | \u001b[22m\u001b[32m\u001b[1mPass  \u001b[22m\u001b[39m\u001b[36m\u001b[1mTotal  \u001b[22m\u001b[39m\u001b[0m\u001b[1mTime\u001b[22m\n",
      "overdetermined | \u001b[32m   1  \u001b[39m\u001b[36m    1  \u001b[39m\u001b[0m0.0s\n",
      "\n",
      "ECOS 2.0.8 - (C) embotech GmbH, Zurich Switzerland, 2012-15. Web: www.embotech.com/ECOS\n",
      "\n",
      "It     pcost       dcost      gap   pres   dres    k/t    mu     step   sigma     IR    |   BT\n",
      " 0  +0.000e+00  -1.322e+00  +7e+00  5e-01  6e-02  1e+00  2e+00    ---    ---    1  1  - |  -  - \n",
      " 1  -8.212e-02  -2.569e-01  +1e+00  1e-01  1e-02  2e-01  5e-01  0.7834  2e-02   1  1  1 |  0  0\n",
      " 2  +8.555e-01  +1.222e+00  +1e+00  1e+00  5e-02  3e+00  3e-01  0.5729  6e-01   2  2  2 |  0  0\n",
      " 3  +2.382e+00  +2.671e+00  +2e-01  1e-01  6e-03  6e-01  5e-02  0.8540  1e-02   2  1  1 |  0  0\n",
      " 4  +7.104e-01  +2.170e+00  +1e-01  3e-01  1e-02  2e+00  4e-02  0.4921  5e-01   2  2  2 |  0  0\n",
      " 5  +3.248e+00  +3.096e+00  +1e-01  7e-02  3e-03  3e-02  3e-02  0.5470  6e-01   2  2  2 |  0  0\n",
      " 6  +4.724e+00  +4.713e+00  +1e-02  1e-02  5e-04  2e-02  3e-03  0.9009  4e-03   2  2  2 |  0  0\n",
      " 7  +5.226e+00  +5.243e+00  +2e-03  3e-03  1e-04  3e-02  6e-04  0.8823  7e-02   2  2  2 |  0  0\n",
      " 8  +5.308e+00  +5.311e+00  +4e-04  6e-04  3e-05  5e-03  1e-04  0.8163  2e-02   2  1  2 |  0  0\n",
      " 9  +5.343e+00  +5.343e+00  +2e-05  2e-05  1e-06  2e-04  5e-06  0.9735  1e-02   2  2  2 |  0  0\n",
      "10  +5.344e+00  +5.344e+00  +8e-07  1e-06  5e-08  8e-06  2e-07  0.9529  2e-04   3  1  1 |  0  0\n",
      "11  +5.344e+00  +5.344e+00  +3e-08  5e-08  2e-09  5e-07  9e-09  0.9741  1e-02   2  1  1 |  0  0\n",
      "12  +5.344e+00  +5.344e+00  +5e-10  7e-10  2e-11  8e-09  1e-10  0.9852  1e-04   3  1  1 |  0  0\n",
      "\n",
      "OPTIMAL (within feastol=6.9e-10, reltol=8.6e-11, abstol=4.6e-10).\n",
      "Runtime: 0.000451 seconds.\n",
      "\n"
     ]
    },
    {
     "data": {
      "text/plain": [
       "Test.DefaultTestSet(\"overdetermined\", Any[], 1, false, false, true, 1.681956546396043e9, 1.681956546399181e9)"
      ]
     },
     "execution_count": 6,
     "metadata": {},
     "output_type": "execute_result"
    }
   ],
   "source": [
    "@testset \"overdetermined\" begin\n",
    "    # overdetermined\n",
    "    A = randn(10,5)\n",
    "    b = randn(10)\n",
    "    x = cvx.Variable(5)\n",
    "    \n",
    "    \n",
    "    prob = cvx.minimize(cvx.sumsquares(A*x-b))  #sumsquares(y) = dot(y,y) = norm(y)^2\n",
    "    cvx.solve!(prob, ECOS.Optimizer; silent_solver = false)\n",
    "    \n",
    "    xcvx = x.value::Matrix #This will always be a matrix\n",
    "    xcvx = vec(x.value) #convert to vector easily\n",
    "    \n",
    "    #compare with pseudoinverse\n",
    "    @test norm(xcvx - (A'*A\\(A'*b))) < 1e-4\n",
    "end"
   ]
  },
  {
   "cell_type": "code",
   "execution_count": 8,
   "id": "cfdaa618",
   "metadata": {},
   "outputs": [
    {
     "name": "stdout",
     "output_type": "stream",
     "text": [
      "\u001b[0m\u001b[1mTest Summary:   | \u001b[22m\u001b[32m\u001b[1mPass  \u001b[22m\u001b[39m\u001b[36m\u001b[1mTotal  \u001b[22m\u001b[39m\u001b[0m\u001b[1mTime\u001b[22m\n",
      "underdetermined | \u001b[32m   1  \u001b[39m\u001b[36m    1  \u001b[39m\u001b[0m0.4s\n",
      "\n",
      "ECOS 2.0.8 - (C) embotech GmbH, Zurich Switzerland, 2012-15. Web: www.embotech.com/ECOS\n",
      "\n",
      "It     pcost       dcost      gap   pres   dres    k/t    mu     step   sigma     IR    |   BT\n",
      " 0  +0.000e+00  -1.322e+00  +6e+00  4e-01  7e-02  1e+00  2e+00    ---    ---    1  1  - |  -  - \n",
      " 1  -9.555e-02  -1.486e-01  +5e-01  3e-02  4e-03  1e-01  2e-01  0.9187  2e-02   1  1  1 |  0  0\n",
      " 2  -1.315e-01  -1.136e-01  +5e-01  1e-01  7e-03  4e-01  2e-01  0.3838  5e-01   2  2  2 |  0  0\n",
      " 3  +2.373e-01  +1.775e-01  +1e-01  2e-02  1e-03  3e-03  4e-02  0.9221  2e-01   2  1  2 |  0  0\n",
      " 4  +2.708e-01  +2.648e-01  +1e-02  2e-03  1e-04  6e-04  3e-03  0.9142  1e-03   2  2  2 |  0  0\n",
      " 5  +2.860e-01  +2.857e-01  +1e-03  3e-04  1e-05  5e-04  3e-04  0.9453  5e-02   2  2  2 |  0  0\n",
      " 6  +2.873e-01  +2.872e-01  +2e-04  4e-05  2e-06  7e-05  4e-05  0.8726  9e-03   2  1  2 |  0  0\n",
      " 7  +2.876e-01  +2.876e-01  +6e-06  2e-06  9e-08  5e-06  2e-06  0.9876  3e-02   2  2  2 |  0  0\n",
      " 8  +2.876e-01  +2.876e-01  +2e-07  6e-08  3e-09  2e-07  7e-08  0.9612  1e-04   2  1  1 |  0  0\n",
      " 9  +2.876e-01  +2.876e-01  +1e-08  3e-09  1e-10  8e-09  3e-09  0.9666  8e-03   3  1  1 |  0  0\n",
      "\n",
      "OPTIMAL (within feastol=2.5e-09, reltol=3.4e-08, abstol=9.7e-09).\n",
      "Runtime: 0.000264 seconds.\n",
      "\n"
     ]
    },
    {
     "data": {
      "text/plain": [
       "Test.DefaultTestSet(\"underdetermined\", Any[], 1, false, false, true, 1.681956941533413e9, 1.681956941960012e9)"
      ]
     },
     "execution_count": 8,
     "metadata": {},
     "output_type": "execute_result"
    }
   ],
   "source": [
    "@testset \"underdetermined\" begin\n",
    "    #overdetermined\n",
    "    A = randn(5,10)\n",
    "    b = randn(5)\n",
    "    x = cvx.Variable(10)\n",
    "    prob = cvx.minimize(cvx.sumsquares(x))\n",
    "        \n",
    "    #add constraint\n",
    "    prob.constraints += (A*x == b)\n",
    "    cvx.solve!(prob, ECOS.Optimizer; silent_solver = false)\n",
    "    \n",
    "    xcvx = x.value::Matrix #This will always be a matrix\n",
    "    xcvx = vec(x.value) #convert to vector easily\n",
    "    \n",
    "    #compare with pseudoinverse\n",
    "    @test norm(xcvx - A'*((A*A')\\b)) < 1e-4\n",
    "end"
   ]
  },
  {
   "cell_type": "markdown",
   "id": "deed56c2",
   "metadata": {},
   "source": [
    "## Equality constrained QP \n",
    "\n",
    "$$ \\begin{align} \\min_{x} \\quad & \\frac{1}{2} x^TQx + q^Tx \\\\ \n",
    " \\text{st} \\quad & A x = b \n",
    " \\end{align}$$"
   ]
  },
  {
   "cell_type": "code",
   "execution_count": 10,
   "id": "d8f4d491",
   "metadata": {},
   "outputs": [
    {
     "name": "stdout",
     "output_type": "stream",
     "text": [
      "\n",
      "ECOS 2.0.8 - (C) embotech GmbH, Zurich Switzerland, 2012-15. Web: www.embotech.com/ECOS\n",
      "\n",
      "It     pcost       dcost      gap   pres   dres    k/t    mu     step   sigma     IR    |   BT\n",
      " 0  -1.854e-01  -2.609e+01  +9e+01  4e-01  3e-01  1e+00  2e+01    ---    ---    1  2  - |  -  - \n",
      " 1  -6.341e-01  -1.922e+00  +8e+00  2e-02  2e-02  5e-01  2e+00  0.9243  3e-02   2  2  2 |  0  0\n",
      " 2  -8.744e-01  -1.611e+00  +5e+00  2e-02  1e-02  9e-01  1e+00  0.6830  4e-01   2  2  2 |  0  0\n",
      " 3  -4.956e-01  -5.643e-01  +5e-01  2e-03  1e-03  8e-02  1e-01  0.9890  1e-01   2  2  2 |  0  0\n",
      " 4  -4.539e-01  -4.568e-01  +1e-02  4e-05  3e-05  9e-04  4e-03  0.9730  1e-04   2  2  2 |  0  0\n",
      " 5  -4.533e-01  -4.537e-01  +2e-03  6e-06  5e-06  1e-04  5e-04  0.8632  2e-03   2  2  2 |  0  0\n",
      " 6  -4.533e-01  -4.534e-01  +4e-04  1e-06  1e-06  5e-05  1e-04  0.8797  1e-01   2  1  1 |  0  0\n",
      " 7  -4.533e-01  -4.533e-01  +4e-05  1e-07  1e-07  5e-06  1e-05  0.9031  8e-03   3  1  1 |  0  0\n",
      " 8  -4.533e-01  -4.533e-01  +8e-06  3e-08  2e-08  2e-06  3e-06  0.9385  2e-01   2  1  1 |  0  0\n",
      " 9  -4.533e-01  -4.533e-01  +2e-06  8e-09  7e-09  5e-07  8e-07  0.7003  2e-02   2  1  1 |  0  0\n",
      "10  -4.533e-01  -4.533e-01  +6e-07  2e-09  2e-09  1e-07  2e-07  0.9009  2e-01   3  1  1 |  0  0\n",
      "11  -4.533e-01  -4.533e-01  +9e-08  3e-10  3e-10  2e-08  3e-08  0.8694  3e-02   1  1  1 |  0  0\n",
      "12  -4.533e-01  -4.533e-01  +3e-08  1e-10  1e-10  7e-09  1e-08  0.6716  6e-02   2  1  1 |  0  0\n",
      "13  -4.533e-01  -4.533e-01  +2e-08  6e-11  5e-11  4e-09  6e-09  0.5818  1e-01   2  2  2 |  0  0\n",
      "14  -4.533e-01  -4.533e-01  +2e-09  1e-11  6e-12  5e-10  7e-10  0.9226  6e-02   1  1  1 |  0  0\n",
      "\n",
      "OPTIMAL (within feastol=1.1e-11, reltol=4.9e-09, abstol=2.2e-09).\n",
      "Runtime: 0.000426 seconds.\n",
      "\n"
     ]
    },
    {
     "data": {
      "text/plain": [
       "10-element Vector{Float64}:\n",
       " -0.4487687765255043\n",
       "  0.6107400162997437\n",
       "  0.03556628269949974\n",
       " -0.024201951782730602\n",
       "  0.050273990447075895\n",
       "  0.21195899494287954\n",
       "  0.04527270874277189\n",
       "  0.1550311834360013\n",
       "  0.348614722299006\n",
       " -0.08023466974569989"
      ]
     },
     "execution_count": 10,
     "metadata": {},
     "output_type": "execute_result"
    }
   ],
   "source": [
    "let\n",
    "    \n",
    "    n = 10\n",
    "    Q = randn(n,n); Q = Q'*Q + I # create PSD matrix\n",
    "    q = randn(n)\n",
    "    \n",
    "    A = randn(3, n)\n",
    "    b = randn(3)\n",
    "    \n",
    "    x = cvx.Variable(n)\n",
    "    \n",
    "    #NOTE: quadform(x, Q) = x'*Q*x\n",
    "    cost = 0.5*cvx.quadform(x, Q) + dot(q,x)\n",
    "    \n",
    "    prob = cvx.minimize(cost)\n",
    "    \n",
    "    prob.constraints += (A*x == b)\n",
    "    \n",
    "    cvx.solve!(prob, ECOS.Optimizer; silent_solver = false)\n",
    "    \n",
    "    xcvx = x.value::Matrix #This will always be a matrix\n",
    "    xcvx = vec(x.value) #convert to vector easily\n",
    "end"
   ]
  },
  {
   "cell_type": "markdown",
   "id": "5c6b4197",
   "metadata": {},
   "source": [
    "## Letting Convex.jl do the parsing \n",
    "\n",
    "$$ \\begin{align} \\min_{x} \\quad & \\|Ax - b\\|_1 \\\\ \n",
    " \\text{st} \\quad &\\|x\\|_2 \\leq 3\n",
    " \\end{align}$$\n",
    " \n",
    " This problem is not in any sort of \"standard form\", but it is convex. We will let Convex.jl will convert this into a standard form \"canonicalizing it\", and send it ECOS to solve. "
   ]
  },
  {
   "cell_type": "code",
   "execution_count": 11,
   "id": "782965de",
   "metadata": {},
   "outputs": [
    {
     "name": "stdout",
     "output_type": "stream",
     "text": [
      "\n",
      "ECOS 2.0.8 - (C) embotech GmbH, Zurich Switzerland, 2012-15. Web: www.embotech.com/ECOS\n",
      "\n",
      "It     pcost       dcost      gap   pres   dres    k/t    mu     step   sigma     IR    |   BT\n",
      " 0  +1.070e-16  -3.000e+00  +6e+01  5e-01  6e-01  1e+00  3e+00    ---    ---    1  1  - |  -  - \n",
      " 1  +2.493e+00  +2.597e+00  +2e+01  1e-01  1e-01  9e-01  9e-01  0.7644  1e-01   1  1  1 |  0  0\n",
      " 2  +2.903e+00  +2.939e+00  +3e+00  1e-02  1e-02  1e-01  1e-01  0.8638  2e-02   1  1  1 |  0  0\n",
      " 3  +2.961e+00  +2.965e+00  +5e-01  2e-03  3e-03  2e-02  3e-02  0.8274  3e-02   1  1  1 |  0  0\n",
      " 4  +2.988e+00  +2.988e+00  +5e-02  2e-04  2e-04  2e-03  2e-03  0.9298  2e-02   1  1  1 |  0  0\n",
      " 5  +2.989e+00  +2.989e+00  +5e-04  2e-06  2e-06  2e-05  3e-05  0.9890  1e-04   1  1  1 |  0  0\n",
      " 6  +2.989e+00  +2.989e+00  +6e-06  2e-08  3e-08  2e-07  3e-07  0.9890  1e-04   1  1  1 |  0  0\n",
      " 7  +2.989e+00  +2.989e+00  +6e-08  2e-10  3e-10  2e-09  3e-09  0.9890  1e-04   1  0  0 |  0  0\n",
      " 8  +2.989e+00  +2.989e+00  +7e-10  3e-12  3e-12  3e-11  4e-11  0.9890  1e-04   1  0  0 |  0  0\n",
      "\n",
      "OPTIMAL (within feastol=3.2e-12, reltol=2.4e-10, abstol=7.1e-10).\n",
      "Runtime: 0.000228 seconds.\n",
      "\n"
     ]
    },
    {
     "data": {
      "text/plain": [
       "5-element Vector{Float64}:\n",
       " -0.18786716134917025\n",
       " -0.3681298788356769\n",
       "  0.05329757748782587\n",
       " -0.38626872563229914\n",
       " -0.03692377234157958"
      ]
     },
     "execution_count": 11,
     "metadata": {},
     "output_type": "execute_result"
    }
   ],
   "source": [
    "let \n",
    "    A = randn(10,5)\n",
    "    b = randn(10)\n",
    "    x = cvx.Variable(5)\n",
    "    \n",
    "    prob = cvx.minimize(norm(A*x - b, 1))\n",
    "    prob.constraints += (norm(x,2) <= 3)\n",
    "    \n",
    "    cvx.solve!(prob, ECOS.Optimizer; silent_solver = false)\n",
    "    \n",
    "    xcvx = x.value::Matrix #This will always be a vector\n",
    "    scvx = vec(x.value) #convert to vector easily\n",
    "end"
   ]
  },
  {
   "cell_type": "markdown",
   "id": "48ed61db",
   "metadata": {},
   "source": [
    "## Convex Trajectory Optimization\n",
    "$$ \\begin{align} \\min_{x_{1:N},u_{1:N-1}} \\quad & \\sum_{i=1}^{N-1} \\bigg[ \\|x_i - x_g\\|_2^2 + \\|u_i\\|_1 \\bigg] + \\frac{1}{2}x_N^TQ_fx_N & \\\\ \n",
    " \\text{st} \\quad & x_1 = x_{\\text{IC}} \\\\ \n",
    " & x_{i+1} = A x_i + Bu_i \\quad &\\text{for } i = 1,2,\\ldots,N-1 \\\\ \n",
    " & x_N = x_g \\\\ \n",
    " & \\|u_i\\|_2 \\leq 3 \\quad &\\text{for } i = 1,2,\\ldots,N-1\\\\ \n",
    " & x_{min} \\leq x_i \\leq x_{max} \\quad &\\text{for } i = 1,2,\\ldots,N-1\\\\ \n",
    " \\end{align}$$"
   ]
  },
  {
   "cell_type": "code",
   "execution_count": 16,
   "id": "22e70232",
   "metadata": {},
   "outputs": [
    {
     "name": "stdout",
     "output_type": "stream",
     "text": [
      "\n",
      "ECOS 2.0.8 - (C) embotech GmbH, Zurich Switzerland, 2012-15. Web: www.embotech.com/ECOS\n",
      "\n",
      "It     pcost       dcost      gap   pres   dres    k/t    mu     step   sigma     IR    |   BT\n",
      " 0  +0.000e+00  -4.074e+03  +6e+03  1e-01  5e-01  1e+00  2e+01    ---    ---    1  2  - |  -  - \n",
      " 1  +3.919e+01  -9.878e+02  +2e+03  2e-02  8e-02  4e-01  5e+00  0.7233  2e-02   1  1  1 |  0  0\n",
      " 2  +5.259e+01  -9.693e+02  +2e+03  2e-02  7e-02  7e-01  5e+00  0.1129  7e-01   2  1  2 |  0  0\n",
      " 3  +7.074e+01  -9.124e+02  +1e+03  2e-02  6e-02  1e+00  4e+00  0.1970  7e-01   1  1  2 |  0  0\n",
      " 4  +1.293e+02  -7.056e+02  +1e+03  2e-02  4e-02  2e+00  3e+00  0.6473  7e-01   1  1  1 |  0  0\n",
      " 5  +1.115e+02  -4.254e+02  +8e+02  1e-02  2e-02  2e+00  2e+00  0.4622  2e-01   2  1  2 |  0  0\n",
      " 6  +1.200e+02  -3.765e+02  +7e+02  1e-02  2e-02  2e+00  2e+00  0.2777  7e-01   2  1  2 |  0  0\n",
      " 7  +1.251e+02  -3.104e+02  +6e+02  1e-02  1e-02  2e+00  2e+00  0.3235  5e-01   2  1  2 |  0  0\n",
      " 8  +1.277e+02  -1.019e+02  +3e+02  5e-03  7e-03  1e+00  9e-01  0.9890  5e-01   2  2  1 |  0  0\n",
      " 9  +1.207e+02  +4.384e+01  +1e+02  2e-03  2e-03  3e-01  3e-01  0.7450  1e-01   2  2  2 |  0  0\n",
      "10  +1.210e+02  +5.511e+01  +9e+01  2e-03  1e-03  3e-01  3e-01  0.3492  5e-01   2  2  2 |  0  0\n",
      "11  +1.224e+02  +1.141e+02  +1e+01  2e-04  2e-04  4e-02  3e-02  0.9111  4e-02   2  1  2 |  0  0\n",
      "12  +1.230e+02  +1.204e+02  +3e+00  6e-05  6e-05  1e-02  1e-02  0.8618  2e-01   2  1  1 |  0  0\n",
      "13  +1.233e+02  +1.231e+02  +3e-01  5e-06  5e-06  1e-03  9e-04  0.9252  2e-02   2  1  1 |  0  0\n",
      "14  +1.233e+02  +1.233e+02  +6e-02  1e-06  9e-07  2e-04  2e-04  0.8973  9e-02   3  1  1 |  0  0\n",
      "15  +1.233e+02  +1.233e+02  +3e-03  5e-08  4e-08  9e-06  8e-06  0.9556  2e-03   2  1  1 |  0  0\n",
      "16  +1.233e+02  +1.233e+02  +2e-04  3e-09  3e-09  6e-07  6e-07  0.9263  2e-03   3  1  1 |  0  0\n",
      "17  +1.233e+02  +1.233e+02  +8e-06  1e-10  1e-10  3e-08  2e-08  0.9890  3e-02   2  1  1 |  0  0\n",
      "18  +1.233e+02  +1.233e+02  +2e-07  8e-12  4e-12  8e-10  7e-10  0.9705  1e-04   3  1  1 |  0  0\n",
      "\n",
      "OPTIMAL (within feastol=8.0e-12, reltol=1.9e-09, abstol=2.4e-07).\n",
      "Runtime: 0.005559 seconds.\n",
      "\n"
     ]
    },
    {
     "data": {
      "text/plain": [
       "2×19 Matrix{Float64}:\n",
       " -0.136922  -1.83035  -3.0         …  -2.05116   -2.21177     -1.32521\n",
       "  1.3179    -2.37693  -2.1528e-11      0.296269   1.23485e-8   1.32907e-9"
      ]
     },
     "execution_count": 16,
     "metadata": {},
     "output_type": "execute_result"
    }
   ],
   "source": [
    "function controllable(A,B)\n",
    "    n = size(A, 1)\n",
    "    C = hcat([A^i*B for i = 0:(n-1)]...)\n",
    "    return rank(C) == n\n",
    "end\n",
    "\n",
    "let\n",
    "    #Create a linear system\n",
    "    nx = 4\n",
    "    nu = 2\n",
    "    A = randn(nx,nx);\n",
    "    B = randn(nx, nu);\n",
    "    @assert controllable(A,B)\n",
    "    \n",
    "    #time step\n",
    "    N = 20\n",
    "    x_ic = randn(nx)\n",
    "    x_g = randn(nx)\n",
    "    \n",
    "    #terminal cost\n",
    "    Qf = randn(nx, nx); Qf = Qf'*Qf + I #make PSD Qf\n",
    "    \n",
    "    #create cvx variables x_k = X[:,k], u_k = U[:,k]\n",
    "    X = cvx.Variable(nx, N)\n",
    "    U = cvx.Variable(nu, N - 1)\n",
    "    \n",
    "    #create cost\n",
    "    cost = 0\n",
    "    for k = 1:(N-1)\n",
    "        xk = X[:, k]\n",
    "        uk = U[:, k]\n",
    "        cost += cvx.sumsquares(xk - x_g)\n",
    "        cost += norm(uk, 1)\n",
    "    end\n",
    "    xn = X[:, N]\n",
    "    cost += 0.5*cvx.quadform(xn, Qf)\n",
    "    \n",
    "    #initialize CVX problem\n",
    "    prob = cvx.minimize(cost)\n",
    "    \n",
    "    #initial condition constraint\n",
    "    prob.constraints += X[:, 1] == x_ic\n",
    "    \n",
    "    for k = 1:(N-1)\n",
    "        #dynamics constraints\n",
    "        prob.constraints += (X[:,k+1] == A*X[:,k] + B*U[:,k])\n",
    "    end\n",
    "    \n",
    "    #goal constraint\n",
    "    prob.constraints += X[:, N] == x_g\n",
    "    \n",
    "    #norm(u)<3\n",
    "    for k = 1:(N-1)\n",
    "        uk = U[:,k]\n",
    "        prob.constraints += norm(uk, 2) <= 3\n",
    "    end\n",
    "    \n",
    "    x_min = -20*ones(nx)\n",
    "    x_max = 20*ones(nx)\n",
    "    for k = 1:N\n",
    "        xk = X[:,k]\n",
    "        prob.constraints += xk <= x_max\n",
    "        prob.constraints += xk >= x_min\n",
    "    end\n",
    "    \n",
    "    #solve problem (silent solver tells us the output)\n",
    "    cvx.solve!(prob, ECOS.Optimizer; silent_solver = false)\n",
    "    \n",
    "    if prob.status != cvx.MathOptInterface.OPTIMAL\n",
    "        error(\"Convex.jl problem failed to solve for some reason\")\n",
    "    end\n",
    "    \n",
    "    #convert the solution matrices into vectors of vectors\n",
    "    X = X.value::Matrix\n",
    "    U = U.value::Matrix\n",
    "end"
   ]
  },
  {
   "cell_type": "code",
   "execution_count": null,
   "id": "1f203a40",
   "metadata": {},
   "outputs": [],
   "source": []
  },
  {
   "cell_type": "code",
   "execution_count": null,
   "id": "1bacfbc7",
   "metadata": {},
   "outputs": [],
   "source": []
  },
  {
   "cell_type": "code",
   "execution_count": null,
   "id": "96e9c226",
   "metadata": {},
   "outputs": [],
   "source": []
  },
  {
   "cell_type": "code",
   "execution_count": null,
   "id": "a11b0cc5",
   "metadata": {},
   "outputs": [],
   "source": []
  }
 ],
 "metadata": {
  "kernelspec": {
   "display_name": "Julia 1.8.3",
   "language": "julia",
   "name": "julia-1.8"
  },
  "language_info": {
   "file_extension": ".jl",
   "mimetype": "application/julia",
   "name": "julia",
   "version": "1.8.3"
  }
 },
 "nbformat": 4,
 "nbformat_minor": 5
}
