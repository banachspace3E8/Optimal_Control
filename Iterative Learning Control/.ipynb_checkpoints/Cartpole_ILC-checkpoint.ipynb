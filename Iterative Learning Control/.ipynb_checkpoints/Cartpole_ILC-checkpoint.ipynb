{
 "cells": [
  {
   "cell_type": "code",
   "execution_count": 1,
   "id": "d5dc413d",
   "metadata": {},
   "outputs": [],
   "source": [
    "#Shishir Khanal\n",
    "#CMU-Optimal Controls from Jack Manchester\n",
    "#Cartpole control using Iterative Learning Controller"
   ]
  },
  {
   "cell_type": "code",
   "execution_count": 2,
   "id": "b67b9e54",
   "metadata": {},
   "outputs": [
    {
     "name": "stderr",
     "output_type": "stream",
     "text": [
      "\u001b[32m\u001b[1m  Activating\u001b[22m\u001b[39m project at `~/Documents/Optimal_Control/Sims/Iterative Learning Control`\n",
      "\u001b[32m\u001b[1m    Updating\u001b[22m\u001b[39m registry at `~/.julia/registries/General.toml`\n",
      "\u001b[32m\u001b[1m   Resolving\u001b[22m\u001b[39m package versions...\n",
      "\u001b[32m\u001b[1m  No Changes\u001b[22m\u001b[39m to `~/Documents/Optimal_Control/Sims/Iterative Learning Control/Project.toml`\n",
      "\u001b[32m\u001b[1m  No Changes\u001b[22m\u001b[39m to `~/Documents/Optimal_Control/Sims/Iterative Learning Control/Manifest.toml`\n",
      "\u001b[32m\u001b[1m   Resolving\u001b[22m\u001b[39m package versions...\n",
      "\u001b[32m\u001b[1m  No Changes\u001b[22m\u001b[39m to `~/Documents/Optimal_Control/Sims/Iterative Learning Control/Project.toml`\n",
      "\u001b[32m\u001b[1m  No Changes\u001b[22m\u001b[39m to `~/Documents/Optimal_Control/Sims/Iterative Learning Control/Manifest.toml`\n",
      "\u001b[32m\u001b[1m   Resolving\u001b[22m\u001b[39m package versions...\n",
      "\u001b[32m\u001b[1m  No Changes\u001b[22m\u001b[39m to `~/Documents/Optimal_Control/Sims/Iterative Learning Control/Project.toml`\n",
      "\u001b[32m\u001b[1m  No Changes\u001b[22m\u001b[39m to `~/Documents/Optimal_Control/Sims/Iterative Learning Control/Manifest.toml`\n",
      "\u001b[32m\u001b[1m   Resolving\u001b[22m\u001b[39m package versions...\n",
      "\u001b[32m\u001b[1m  No Changes\u001b[22m\u001b[39m to `~/Documents/Optimal_Control/Sims/Iterative Learning Control/Project.toml`\n",
      "\u001b[32m\u001b[1m  No Changes\u001b[22m\u001b[39m to `~/Documents/Optimal_Control/Sims/Iterative Learning Control/Manifest.toml`\n",
      "\u001b[32m\u001b[1m   Resolving\u001b[22m\u001b[39m package versions...\n",
      "\u001b[32m\u001b[1m  No Changes\u001b[22m\u001b[39m to `~/Documents/Optimal_Control/Sims/Iterative Learning Control/Project.toml`\n",
      "\u001b[32m\u001b[1m  No Changes\u001b[22m\u001b[39m to `~/Documents/Optimal_Control/Sims/Iterative Learning Control/Manifest.toml`\n",
      "\u001b[32m\u001b[1m   Resolving\u001b[22m\u001b[39m package versions...\n",
      "\u001b[32m\u001b[1m  No Changes\u001b[22m\u001b[39m to `~/Documents/Optimal_Control/Sims/Iterative Learning Control/Project.toml`\n",
      "\u001b[32m\u001b[1m  No Changes\u001b[22m\u001b[39m to `~/Documents/Optimal_Control/Sims/Iterative Learning Control/Manifest.toml`\n",
      "\u001b[32m\u001b[1m   Resolving\u001b[22m\u001b[39m package versions...\n",
      "\u001b[32m\u001b[1m  No Changes\u001b[22m\u001b[39m to `~/Documents/Optimal_Control/Sims/Iterative Learning Control/Project.toml`\n",
      "\u001b[32m\u001b[1m  No Changes\u001b[22m\u001b[39m to `~/Documents/Optimal_Control/Sims/Iterative Learning Control/Manifest.toml`\n",
      "\u001b[32m\u001b[1m   Resolving\u001b[22m\u001b[39m package versions...\n",
      "\u001b[32m\u001b[1m  No Changes\u001b[22m\u001b[39m to `~/Documents/Optimal_Control/Sims/Iterative Learning Control/Project.toml`\n",
      "\u001b[32m\u001b[1m  No Changes\u001b[22m\u001b[39m to `~/Documents/Optimal_Control/Sims/Iterative Learning Control/Manifest.toml`\n",
      "\u001b[32m\u001b[1m   Resolving\u001b[22m\u001b[39m package versions...\n",
      "\u001b[32m\u001b[1m  No Changes\u001b[22m\u001b[39m to `~/Documents/Optimal_Control/Sims/Iterative Learning Control/Project.toml`\n",
      "\u001b[32m\u001b[1m  No Changes\u001b[22m\u001b[39m to `~/Documents/Optimal_Control/Sims/Iterative Learning Control/Manifest.toml`\n",
      "\u001b[36m\u001b[1m[ \u001b[22m\u001b[39m\u001b[36m\u001b[1mInfo: \u001b[22m\u001b[39mPrecompiling OSQP [ab2f91bb-94b4-55e3-9ba0-7f65df51de79]\n"
     ]
    }
   ],
   "source": [
    "import Pkg; Pkg.activate(@__DIR__); Pkg.instantiate()\n",
    "Pkg.add(\"TrajectoryOptimization\")\n",
    "Pkg.add(\"RobotDynamics\")\n",
    "Pkg.add(\"RobotZoo\")\n",
    "Pkg.add(\"StaticArrays\")\n",
    "Pkg.add(\"SparseArrays\")\n",
    "Pkg.add(\"LinearAlgebra\")\n",
    "Pkg.add(\"ForwardDiff\")\n",
    "Pkg.add(\"PyPlot\")\n",
    "Pkg.add(\"OSQP\")\n",
    "using TrajectoryOptimization\n",
    "using RobotDynamics\n",
    "const RD = RobotDynamics\n",
    "import RobotZoo.Cartpole\n",
    "using StaticArrays\n",
    "using SparseArrays\n",
    "using LinearAlgebra\n",
    "using ForwardDiff\n",
    "using PyPlot\n",
    "using OSQP"
   ]
  },
  {
   "cell_type": "code",
   "execution_count": 3,
   "id": "5aa0a504",
   "metadata": {},
   "outputs": [],
   "source": [
    "model = Cartpole()\n",
    "n,m = size(model);"
   ]
  },
  {
   "cell_type": "code",
   "execution_count": 4,
   "id": "1ee5d6bf",
   "metadata": {},
   "outputs": [
    {
     "data": {
      "text/plain": [
       "0.05"
      ]
     },
     "execution_count": 4,
     "metadata": {},
     "output_type": "execute_result"
    }
   ],
   "source": [
    "N = 101\n",
    "Tf = 5.\n",
    "h = Tf/(N-1)"
   ]
  },
  {
   "cell_type": "code",
   "execution_count": 5,
   "id": "344fed4b",
   "metadata": {},
   "outputs": [],
   "source": [
    "x0 = @SVector zeros(n)  #cart sitting at origin pole hanging down\n",
    "xf = @SVector [0, pi, 0, 0];  #i.e. cart at origin but pole swing up"
   ]
  },
  {
   "cell_type": "code",
   "execution_count": 6,
   "id": "7ed4e47a",
   "metadata": {},
   "outputs": [],
   "source": [
    "#Set up\n",
    "Q = 1.0*Diagonal(@SVector ones(n))\n",
    "Qf = 100.0*Diagonal(@SVector ones(n))\n",
    "R = 0.1*Diagonal(@SVector ones(m))\n",
    "obj = LQRObjective(Q,R,Qf,xf,N);"
   ]
  },
  {
   "cell_type": "code",
   "execution_count": 7,
   "id": "ae68602a",
   "metadata": {},
   "outputs": [],
   "source": [
    "#Create Empty Constraint List\n",
    "conSet = ConstraintList(n,m,N)\n",
    "\n",
    "#Control Bounds as torque limits\n",
    "u_bnd = 5.0\n",
    "bnd = BoundConstraint(n,m,u_min=-u_bnd,u_max=u_bnd)\n",
    "add_constraint!(conSet, bnd, 1:N-1)\n",
    "\n",
    "#Goal Constraint\n",
    "goal = GoalConstraint(xf)\n",
    "add_constraint!(conSet, goal, (N-5):N)"
   ]
  },
  {
   "cell_type": "code",
   "execution_count": 8,
   "id": "bc203c4e",
   "metadata": {},
   "outputs": [],
   "source": [
    "prob = Problem(model, obj, x0, Tf, xf=xf, constraints=conSet);"
   ]
  },
  {
   "cell_type": "code",
   "execution_count": 9,
   "id": "3b482ed0",
   "metadata": {},
   "outputs": [],
   "source": [
    "u0 = @SVector fill(0.0,m)\n",
    "U0 = [u0 for k = 1:N-1]\n",
    "initial_controls!(prob, U0)\n",
    "rollout!(prob);"
   ]
  },
  {
   "cell_type": "code",
   "execution_count": 10,
   "id": "499b2e0f",
   "metadata": {},
   "outputs": [
    {
     "name": "stderr",
     "output_type": "stream",
     "text": [
      "\u001b[32m\u001b[1m   Resolving\u001b[22m\u001b[39m package versions...\n",
      "\u001b[32m\u001b[1m  No Changes\u001b[22m\u001b[39m to `~/Documents/Optimal_Control/Sims/Iterative Learning Control/Project.toml`\n",
      "\u001b[32m\u001b[1m  No Changes\u001b[22m\u001b[39m to `~/Documents/Optimal_Control/Sims/Iterative Learning Control/Manifest.toml`\n",
      "\u001b[36m\u001b[1m[ \u001b[22m\u001b[39m\u001b[36m\u001b[1mInfo: \u001b[22m\u001b[39mPrecompiling Altro [5dcf52e5-e2fb-48e0-b826-96f46d2e3e73]\n",
      "WARNING: method definition for rotation_type at /home/khanshis/.julia/packages/Altro/jipqO/src/infeasible_model.jl:84 declares type variable D but does not use it.\n",
      "WARNING: method definition for #ALTROSolver#172 at /home/khanshis/.julia/packages/Altro/jipqO/src/altro/altro_solver.jl:38 declares type variable Q but does not use it.\n"
     ]
    },
    {
     "name": "stdout",
     "output_type": "stream",
     "text": [
      "\u001b[32;1m\n",
      "SOLVE COMPLETED\n",
      "\u001b[0m solved using the \u001b[0m\u001b[36;1mALTRO\u001b[0m Solver,\n",
      " part of the Altro.jl package developed by the REx Lab at Stanford and Carnegie Mellon Universities\n",
      "\u001b[34;1m\n",
      "  Solve Statistics\n",
      "\u001b[0m    Total Iterations: 205\n",
      "\u001b[0m    Solve Time: 3588.7832169999997 (ms)\n",
      "\u001b[34;1m\n",
      "  Covergence\n",
      "\u001b[0m    Terminal Cost: 928.317996972354\n",
      "\u001b[0m    Terminal dJ: \u001b[31m0.04853163702932761\n",
      "\u001b[0m    Terminal gradient: \u001b[32m9.07219858099095e-6\n",
      "\u001b[0m    Terminal constraint violation: \u001b[32m4.63767647396196e-7\n",
      "\u001b[0m    Solve Status: \u001b[1m\u001b[32mSOLVE_SUCCEEDED\n",
      "\u001b[0m"
     ]
    }
   ],
   "source": [
    "# Use Altro solver\n",
    "Pkg.add(\"Altro\")\n",
    "using Altro\n",
    "opts = SolverOptions(\n",
    "        cost_tolerance_intermediate=1e-3,\n",
    "        penalty_scaling=10.,\n",
    "        penalty_initial=1.0\n",
    ")\n",
    "\n",
    "altro = ALTROSolver(prob, opts)\n",
    "set_options!(altro, show_summary=true)\n",
    "solve!(altro);"
   ]
  },
  {
   "cell_type": "code",
   "execution_count": 11,
   "id": "ce61e4d3",
   "metadata": {},
   "outputs": [],
   "source": [
    "#Extract the solution\n",
    "Xopt = states(altro);\n",
    "Uopt = controls(altro);\n",
    "\n",
    "xnom = zeros(n,N)\n",
    "for k = 1:N\n",
    "    xnom[:,k] .= Xopt[k]\n",
    "end\n",
    "\n",
    "unom = zeros(m,N-1)\n",
    "utraj = zeros(m,N-1)\n",
    "for k = 1:N-1\n",
    "    unom[:,k] .= Uopt[k]\n",
    "    utraj[:,k] .= Uopt[k]\n",
    "end"
   ]
  },
  {
   "cell_type": "code",
   "execution_count": 12,
   "id": "febeed9c",
   "metadata": {},
   "outputs": [
    {
     "data": {
      "text/plain": [
       "true_dynamics_rk4 (generic function with 1 method)"
      ]
     },
     "execution_count": 12,
     "metadata": {},
     "output_type": "execute_result"
    }
   ],
   "source": [
    "function dynamics_rk4(x,u)\n",
    "    #RK4 integration with zero-order hold on u\n",
    "    f1 = RD.dynamics(model, x, u)\n",
    "    f2 = RD.dynamics(model, x + 0.5*h*f1, u)\n",
    "    f3 = RD.dynamics(model, x + 0.5*h*f2,u)\n",
    "    f4 = RD.dynamics(model, x + h*f3, u)\n",
    "    return x + (h/6.0)*(f1 + 2*f2 + 2*f3 + f4)\n",
    "end\n",
    "\n",
    "#True model with friction different from a nominal model\n",
    "function true_dynamics(model::Cartpole, x, u)\n",
    "    #Perturb masses of cart + pole\n",
    "    mc = model.mc + 0.02\n",
    "    mp = model.mp - 0.01\n",
    "    \n",
    "    #Perturb length of pendulum\n",
    "    l = model.l + 0.005\n",
    "    g = model.g\n",
    "    \n",
    "    q = x[@SVector [1,2] ]\n",
    "    qd = x[@SVector [3,4] ]\n",
    "    \n",
    "    s = sin(q[2])\n",
    "    c = cos(q[2])\n",
    "    \n",
    "    H = @SMatrix [mc+mp mp*l*c; mp*l*c mp*l^2]\n",
    "    C = @SMatrix [0 -mp*qd[2]*l*s; 0 0]\n",
    "    G = @SVector [0, mp*g*l*s]\n",
    "    B = @SVector [1, 0]\n",
    "    \n",
    "    #nonlinear friction (≈Coulomb/stiction) not present in the nominal(original) dynamics\n",
    "    F = [0.01; 0.01].*tanh.(5.0*qd)   \n",
    "    \n",
    "    qdd = -H\\(C*qd + F + G - B*u[1])\n",
    "    return [qd; qdd]\n",
    "end\n",
    "\n",
    "function true_dynamics_rk4(x,u)\n",
    "    #RK4 integration with ZOH on u\n",
    "    f1 = true_dynamics(model, x, u)\n",
    "    f2 = true_dynamics(model, x + 0.5*h*f1, u)\n",
    "    f3 = true_dynamics(model, x + 0.5*h*f2, u)\n",
    "    f4 = true_dynamics(model, x + h*f3, u)\n",
    "    return x + (h/6.0)*(f1 + 2*f2 + 2*f3 + f4)\n",
    "end"
   ]
  },
  {
   "cell_type": "code",
   "execution_count": 13,
   "id": "925916f3",
   "metadata": {},
   "outputs": [],
   "source": [
    "#Compute A and B matrices using nominal dynamics + trajectory\n",
    "A = zeros(n,n,N-1)\n",
    "B = zeros(n,m,N-1)\n",
    "for k = 1:(N-1)\n",
    "    A[:,:,k] .= ForwardDiff.jacobian(x->dynamics_rk4(x,Uopt[k]),Xopt[k])\n",
    "    B[:,:,k] .= ForwardDiff.jacobian(u->dynamics_rk4(Xopt[k],u),Uopt[k])\n",
    "end"
   ]
  },
  {
   "cell_type": "code",
   "execution_count": 14,
   "id": "3cf82ed7",
   "metadata": {},
   "outputs": [],
   "source": [
    "#Compute LQR Tracking Controller\n",
    "P = zeros(n,n,N)\n",
    "K = zeros(m,n,N-1)\n",
    "P[:,:,N] = Qf\n",
    "for k = (N-1):-1:1\n",
    "    K[:,:,k] .= (R + B[:,:,k]'*P[:,:,k+1]*B[:,:,k])\\(B[:,:,k]'*P[:,:,k+1]*A[:,:,k])\n",
    "    P[:,:,k] .= Q + K[:,:,k]'*R*K[:,:,k] + (A[:,:,k]-B[:,:,k]*K[:,:,k])'*P[:,:,k+1]*(A[:,:,k]-B[:,:,k]*K[:,:,k])\n",
    "end"
   ]
  },
  {
   "cell_type": "code",
   "execution_count": 15,
   "id": "fb2010b5",
   "metadata": {},
   "outputs": [],
   "source": [
    "#Rollout with true dynamics\n",
    "#Open-loop rollout(comment out first two lines after for loop): \n",
    "#                 cart doesn't quie make it back to the origin\n",
    "#                 pole angle doesn't make it to the top and falls down\n",
    "#                 railing the torque limits i.e. bang-bang looking input\n",
    "\n",
    "#Track with LQR(uncomment first and third lines inside for loop):\n",
    "#                 \n",
    "\n",
    "xtraj = zeros(n,N)\n",
    "for k = 1:(N-1)\n",
    "    utraj[:,k] .= unom[:,k] - K[:,:,k]*(xtraj[:,k]-xnom[:,k])  #with LQR tracking controller\n",
    "    #utraj[:,k] .= min.(u_bnd, max.(-u_bnd, utraj[:,k]))  #clip values within torque limits\n",
    "    xtraj[:,k+1] .= true_dynamics_rk4(xtraj[:,k], utraj[:,k])\n",
    "end"
   ]
  },
  {
   "cell_type": "code",
   "execution_count": 16,
   "id": "f80d5226",
   "metadata": {},
   "outputs": [
    {
     "data": {
      "image/png": "[encoded data removed]",
      "text/plain": [
       "Figure(PyObject <Figure size 640x480 with 1 Axes>)"
      ]
     },
     "metadata": {},
     "output_type": "display_data"
    },
    {
     "data": {
      "text/plain": [
       "1-element Vector{PyCall.PyObject}:\n",
       " PyObject <matplotlib.lines.Line2D object at 0x7f5a07358d00>"
      ]
     },
     "execution_count": 16,
     "metadata": {},
     "output_type": "execute_result"
    }
   ],
   "source": [
    "plot(xtraj[1,:])\n",
    "plot(xnom[1,:])"
   ]
  },
  {
   "cell_type": "code",
   "execution_count": 17,
   "id": "00c95691",
   "metadata": {},
   "outputs": [
    {
     "data": {
      "image/png": "[encoded data removed]",
      "text/plain": [
       "Figure(PyObject <Figure size 640x480 with 1 Axes>)"
      ]
     },
     "metadata": {},
     "output_type": "display_data"
    },
    {
     "data": {
      "text/plain": [
       "1-element Vector{PyCall.PyObject}:\n",
       " PyObject <matplotlib.lines.Line2D object at 0x7f59cf323580>"
      ]
     },
     "execution_count": 17,
     "metadata": {},
     "output_type": "execute_result"
    }
   ],
   "source": [
    "plot(xtraj[2,:])\n",
    "plot(xnom[2,:])"
   ]
  },
  {
   "cell_type": "code",
   "execution_count": 18,
   "id": "cd53f27a",
   "metadata": {},
   "outputs": [
    {
     "data": {
      "image/png": "[encoded data removed]",
      "text/plain": [
       "Figure(PyObject <Figure size 640x480 with 1 Axes>)"
      ]
     },
     "metadata": {},
     "output_type": "display_data"
    },
    {
     "data": {
      "text/plain": [
       "1-element Vector{PyCall.PyObject}:\n",
       " PyObject <matplotlib.lines.Line2D object at 0x7f59cf293d30>"
      ]
     },
     "execution_count": 18,
     "metadata": {},
     "output_type": "execute_result"
    }
   ],
   "source": [
    "plot(utraj[1,:])\n",
    "plot(Uopt[:])"
   ]
  },
  {
   "cell_type": "code",
   "execution_count": 31,
   "id": "de5b0a53",
   "metadata": {},
   "outputs": [
    {
     "name": "stdout",
     "output_type": "stream",
     "text": [
      "-----------------------------------------------------------------\n",
      "           OSQP v0.6.2  -  Operator Splitting QP Solver\n",
      "              (c) Bartolomeo Stellato,  Goran Banjac\n",
      "        University of Oxford  -  Stanford University 2021\n",
      "-----------------------------------------------------------------\n",
      "problem:  variables n = 500, constraints m = 500\n",
      "          nnz(P) + nnz(A) = 2291\n",
      "settings: linear system solver = qdldl,\n",
      "          eps_abs = 1.0e-06, eps_rel = 1.0e-06,\n",
      "          eps_prim_inf = 1.0e-06, eps_dual_inf = 1.0e-06,\n",
      "          rho = 1.00e-01 (adaptive),\n",
      "          sigma = 1.00e-06, alpha = 1.60, max_iter = 4000\n",
      "          check_termination: on (interval 25),\n",
      "          scaling: on, scaled_termination: off\n",
      "          warm start: on, polish: on, time_limit: off\n",
      "\n",
      "iter   objective    pri res    dua res    rho        time\n",
      "   1  -1.0283e+01   2.02e-01   2.47e+01   1.00e-01   9.03e-04s\n",
      " 100  -1.3324e+01   4.30e-07   2.25e-06   1.00e-01   2.87e-03s\n",
      "plsh  -1.3324e+01   6.08e-17   3.28e-15   --------   3.40e-03s\n",
      "\n",
      "status:               solved\n",
      "solution polish:      successful\n",
      "number of iterations: 100\n",
      "optimal objective:    -13.3238\n",
      "run time:             3.40e-03s\n",
      "optimal rho estimate: 1.42e-01\n",
      "\n"
     ]
    }
   ],
   "source": [
    "#Build matrices for ILC QP\n",
    "Nh = N\n",
    "Qilc = sparse(Diagonal([0.01; 0; 1.0; 0]))\n",
    "Rilc = sparse(Diagonal([.1]))\n",
    "H = blockdiag(kron(I(Nh-2), blockdiag(Rilc, Qilc)), Rilc, sparse(Qf))\n",
    "q = zeros((n+m)*(Nh-1))\n",
    "\n",
    "for k=1:(Nh-2)\n",
    "    q[(k-1)*(m+n) .+ (1:(m+n))] .= [0.0; Qilc*(xtraj[:,k+1]-Xopt[k+1])]\n",
    "end\n",
    "q[(Nh-2)*(m+n) .+ (1:(m+n))] .= [0.0; Qf*(xtraj[:,Nh]-Xopt[Nh])]\n",
    "\n",
    "#Constraints\n",
    "U = kron(I(Nh-1), [I zeros(m,n)])  #Matrix that picks out all u\n",
    "X = kron(I(Nh-1), [zeros(n,m) I])  #Matrix that picks out all x\n",
    "D = spzeros(n*(Nh-1), (n+m)*(Nh-1))  #Dynamics constraint\n",
    "\n",
    "D[1:n,1:m] .= B[:,:,1]\n",
    "D[1:n,(m+1):(m+n)] .= -I(n)\n",
    "for k = 1:(Nh-2)\n",
    "    D[(k*n).+(1:n), (m+(k-1)*(n+m)).+(1:(2*n+m))] .= [A[:,:,k+1] B[:,:,k+1] -I]\n",
    "end\n",
    "\n",
    "lb = [zeros(n*(Nh-1)); -u_bnd.-utraj[1:(Nh-1)]]\n",
    "ub = [zeros(n*(Nh-1)); u_bnd.-utraj[1:(Nh-1)]]\n",
    "\n",
    "qp = OSQP.Model()\n",
    "OSQP.setup!(qp, P=H, q=q, A=[D; U], l=lb, u=ub, eps_abs=1e-6, eps_rel=1e-6, eps_prim_inf=1.0e-6, eps_dual_inf=1.0e-6, polish=1)\n",
    "results = OSQP.solve!(qp)\n",
    "ztraj = results.x;"
   ]
  },
  {
   "cell_type": "code",
   "execution_count": 32,
   "id": "17b192c0",
   "metadata": {},
   "outputs": [
    {
     "data": {
      "text/plain": [
       "100-element view(::Vector{Float64}, 1:100) with eltype Float64:\n",
       " -0.30355209209618517\n",
       " -0.2081919466535176\n",
       " -0.13887623407225924\n",
       " -0.08930898716509965\n",
       " -0.05501827075517166\n",
       " -0.03289774095990595\n",
       " -0.02082401434444975\n",
       " -0.01734164183478011\n",
       " -0.021402275791813558\n",
       " -0.03214996880247524\n",
       " -0.048748886897403684\n",
       " -0.07025162448679251\n",
       " -0.09550661995914309\n",
       "  ⋮\n",
       "  3.9947343189131104\n",
       "  3.7563536484419457\n",
       "  3.481549864301945\n",
       "  3.40381119322164\n",
       "  1.6484612101079243\n",
       " -2.3930288826744817\n",
       " -5.0\n",
       " -1.9660276257863156\n",
       " -2.736550426042528\n",
       " -2.9701352101053855\n",
       " -2.7483847211766457\n",
       " -2.083753345925384"
      ]
     },
     "execution_count": 32,
     "metadata": {},
     "output_type": "execute_result"
    }
   ],
   "source": [
    "Δu = U*ztraj\n",
    "utraj[1:(Nh-1)] .= utraj[1:(Nh-1)]+Δu"
   ]
  },
  {
   "cell_type": "code",
   "execution_count": null,
   "id": "d9d23524",
   "metadata": {},
   "outputs": [],
   "source": []
  }
 ],
 "metadata": {
  "kernelspec": {
   "display_name": "Julia 1.8.3",
   "language": "julia",
   "name": "julia-1.8"
  },
  "language_info": {
   "file_extension": ".jl",
   "mimetype": "application/julia",
   "name": "julia",
   "version": "1.8.3"
  }
 },
 "nbformat": 4,
 "nbformat_minor": 5
}
