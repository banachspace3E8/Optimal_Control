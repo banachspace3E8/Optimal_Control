{
 "cells": [
  {
   "cell_type": "code",
   "execution_count": 1,
   "id": "7a83eee1",
   "metadata": {},
   "outputs": [],
   "source": [
    "#Shishir Khanal\n",
    "#CMU-Optimal Controls from Jack Manchester\n",
    "#Wahba's Problem for Pose Estimation\n",
    "#Given a bunch of vectors to known features in the environment, determine the robot's attitude"
   ]
  },
  {
   "cell_type": "code",
   "execution_count": 2,
   "id": "55f9c4c3",
   "metadata": {},
   "outputs": [
    {
     "name": "stderr",
     "output_type": "stream",
     "text": [
      "\u001b[32m\u001b[1m  Activating\u001b[22m\u001b[39m new project at `~/Documents/Optimal_Control/Sims/Pose_Estimation`\n",
      "\u001b[32m\u001b[1m  No Changes\u001b[22m\u001b[39m to `~/Documents/Optimal_Control/Sims/Pose_Estimation/Project.toml`\n",
      "\u001b[32m\u001b[1m  No Changes\u001b[22m\u001b[39m to `~/Documents/Optimal_Control/Sims/Pose_Estimation/Manifest.toml`\n",
      "\u001b[32m\u001b[1m    Updating\u001b[22m\u001b[39m registry at `~/.julia/registries/General.toml`\n",
      "\u001b[32m\u001b[1m   Resolving\u001b[22m\u001b[39m package versions...\n",
      "\u001b[32m\u001b[1m    Updating\u001b[22m\u001b[39m `~/Documents/Optimal_Control/Sims/Pose_Estimation/Project.toml`\n",
      " \u001b[90m [37e2e46d] \u001b[39m\u001b[92m+ LinearAlgebra\u001b[39m\n",
      "\u001b[32m\u001b[1m    Updating\u001b[22m\u001b[39m `~/Documents/Optimal_Control/Sims/Pose_Estimation/Manifest.toml`\n",
      " \u001b[90m [56f22d72] \u001b[39m\u001b[92m+ Artifacts\u001b[39m\n",
      " \u001b[90m [8f399da3] \u001b[39m\u001b[92m+ Libdl\u001b[39m\n",
      " \u001b[90m [37e2e46d] \u001b[39m\u001b[92m+ LinearAlgebra\u001b[39m\n",
      " \u001b[90m [e66e0078] \u001b[39m\u001b[92m+ CompilerSupportLibraries_jll v0.5.2+0\u001b[39m\n",
      " \u001b[90m [4536629a] \u001b[39m\u001b[92m+ OpenBLAS_jll v0.3.20+0\u001b[39m\n",
      " \u001b[90m [8e850b90] \u001b[39m\u001b[92m+ libblastrampoline_jll v5.1.1+0\u001b[39m\n",
      "\u001b[32m\u001b[1m   Resolving\u001b[22m\u001b[39m package versions...\n",
      "\u001b[32m\u001b[1m    Updating\u001b[22m\u001b[39m `~/Documents/Optimal_Control/Sims/Pose_Estimation/Project.toml`\n",
      " \u001b[90m [f6369f11] \u001b[39m\u001b[92m+ ForwardDiff v0.10.35\u001b[39m\n",
      "\u001b[32m\u001b[1m    Updating\u001b[22m\u001b[39m `~/Documents/Optimal_Control/Sims/Pose_Estimation/Manifest.toml`\n",
      " \u001b[90m [d360d2e6] \u001b[39m\u001b[92m+ ChainRulesCore v1.15.7\u001b[39m\n",
      " \u001b[90m [9e997f8a] \u001b[39m\u001b[92m+ ChangesOfVariables v0.1.7\u001b[39m\n",
      " \u001b[90m [bbf7d656] \u001b[39m\u001b[92m+ CommonSubexpressions v0.3.0\u001b[39m\n",
      " \u001b[90m [34da2185] \u001b[39m\u001b[92m+ Compat v4.6.1\u001b[39m\n",
      " \u001b[90m [163ba53b] \u001b[39m\u001b[92m+ DiffResults v1.1.0\u001b[39m\n",
      " \u001b[90m [b552c78f] \u001b[39m\u001b[92m+ DiffRules v1.13.0\u001b[39m\n",
      " \u001b[90m [ffbed154] \u001b[39m\u001b[92m+ DocStringExtensions v0.9.3\u001b[39m\n",
      " \u001b[90m [f6369f11] \u001b[39m\u001b[92m+ ForwardDiff v0.10.35\u001b[39m\n",
      " \u001b[90m [3587e190] \u001b[39m\u001b[92m+ InverseFunctions v0.1.9\u001b[39m\n",
      " \u001b[90m [92d709cd] \u001b[39m\u001b[92m+ IrrationalConstants v0.2.2\u001b[39m\n",
      " \u001b[90m [692b3bcd] \u001b[39m\u001b[92m+ JLLWrappers v1.4.1\u001b[39m\n",
      " \u001b[90m [2ab3a3ac] \u001b[39m\u001b[92m+ LogExpFunctions v0.3.23\u001b[39m\n",
      " \u001b[90m [1914dd2f] \u001b[39m\u001b[92m+ MacroTools v0.5.10\u001b[39m\n",
      " \u001b[90m [77ba4419] \u001b[39m\u001b[92m+ NaNMath v1.0.2\u001b[39m\n",
      " \u001b[90m [21216c6a] \u001b[39m\u001b[92m+ Preferences v1.4.0\u001b[39m\n",
      " \u001b[90m [276daf66] \u001b[39m\u001b[92m+ SpecialFunctions v2.2.0\u001b[39m\n",
      " \u001b[90m [90137ffa] \u001b[39m\u001b[92m+ StaticArrays v1.5.24\u001b[39m\n",
      " \u001b[90m [1e83bf80] \u001b[39m\u001b[92m+ StaticArraysCore v1.4.0\u001b[39m\n",
      " \u001b[90m [efe28fd5] \u001b[39m\u001b[92m+ OpenSpecFun_jll v0.5.5+0\u001b[39m\n",
      " \u001b[90m [0dad84c5] \u001b[39m\u001b[92m+ ArgTools v1.1.1\u001b[39m\n",
      " \u001b[90m [2a0f44e3] \u001b[39m\u001b[92m+ Base64\u001b[39m\n",
      " \u001b[90m [ade2ca70] \u001b[39m\u001b[92m+ Dates\u001b[39m\n",
      " \u001b[90m [f43a241f] \u001b[39m\u001b[92m+ Downloads v1.6.0\u001b[39m\n",
      " \u001b[90m [7b1f6079] \u001b[39m\u001b[92m+ FileWatching\u001b[39m\n",
      " \u001b[90m [b77e0a4c] \u001b[39m\u001b[92m+ InteractiveUtils\u001b[39m\n",
      " \u001b[90m [b27032c2] \u001b[39m\u001b[92m+ LibCURL v0.6.3\u001b[39m\n",
      " \u001b[90m [76f85450] \u001b[39m\u001b[92m+ LibGit2\u001b[39m\n",
      " \u001b[90m [56ddb016] \u001b[39m\u001b[92m+ Logging\u001b[39m\n",
      " \u001b[90m [d6f4376e] \u001b[39m\u001b[92m+ Markdown\u001b[39m\n",
      " \u001b[90m [ca575930] \u001b[39m\u001b[92m+ NetworkOptions v1.2.0\u001b[39m\n",
      " \u001b[90m [44cfe95a] \u001b[39m\u001b[92m+ Pkg v1.8.0\u001b[39m\n",
      " \u001b[90m [de0858da] \u001b[39m\u001b[92m+ Printf\u001b[39m\n",
      " \u001b[90m [3fa0cd96] \u001b[39m\u001b[92m+ REPL\u001b[39m\n",
      " \u001b[90m [9a3f8284] \u001b[39m\u001b[92m+ Random\u001b[39m\n",
      " \u001b[90m [ea8e919c] \u001b[39m\u001b[92m+ SHA v0.7.0\u001b[39m\n",
      " \u001b[90m [9e88b42a] \u001b[39m\u001b[92m+ Serialization\u001b[39m\n",
      " \u001b[90m [6462fe0b] \u001b[39m\u001b[92m+ Sockets\u001b[39m\n",
      " \u001b[90m [2f01184e] \u001b[39m\u001b[92m+ SparseArrays\u001b[39m\n",
      " \u001b[90m [10745b16] \u001b[39m\u001b[92m+ Statistics\u001b[39m\n",
      " \u001b[90m [fa267f1f] \u001b[39m\u001b[92m+ TOML v1.0.0\u001b[39m\n",
      " \u001b[90m [a4e569a6] \u001b[39m\u001b[92m+ Tar v1.10.1\u001b[39m\n",
      " \u001b[90m [8dfed614] \u001b[39m\u001b[92m+ Test\u001b[39m\n",
      " \u001b[90m [cf7118a7] \u001b[39m\u001b[92m+ UUIDs\u001b[39m\n",
      " \u001b[90m [4ec0a83e] \u001b[39m\u001b[92m+ Unicode\u001b[39m\n",
      " \u001b[90m [deac9b47] \u001b[39m\u001b[92m+ LibCURL_jll v7.84.0+0\u001b[39m\n",
      " \u001b[90m [29816b5a] \u001b[39m\u001b[92m+ LibSSH2_jll v1.10.2+0\u001b[39m\n",
      " \u001b[90m [c8ffd9c3] \u001b[39m\u001b[92m+ MbedTLS_jll v2.28.0+0\u001b[39m\n",
      " \u001b[90m [14a3606d] \u001b[39m\u001b[92m+ MozillaCACerts_jll v2022.2.1\u001b[39m\n",
      " \u001b[90m [05823500] \u001b[39m\u001b[92m+ OpenLibm_jll v0.8.1+0\u001b[39m\n",
      " \u001b[90m [83775a58] \u001b[39m\u001b[92m+ Zlib_jll v1.2.12+3\u001b[39m\n",
      " \u001b[90m [8e850ede] \u001b[39m\u001b[92m+ nghttp2_jll v1.48.0+0\u001b[39m\n",
      " \u001b[90m [3f19e933] \u001b[39m\u001b[92m+ p7zip_jll v17.4.0+0\u001b[39m\n",
      "\u001b[36m\u001b[1m[ \u001b[22m\u001b[39m\u001b[36m\u001b[1mInfo: \u001b[22m\u001b[39mPrecompiling ForwardDiff [f6369f11-7733-5829-9624-2563aa707210]\n"
     ]
    }
   ],
   "source": [
    "import Pkg; Pkg.activate(@__DIR__); Pkg.instantiate()\n",
    "Pkg.add(\"LinearAlgebra\")\n",
    "Pkg.add(\"ForwardDiff\")\n",
    "using LinearAlgebra\n",
    "using ForwardDiff"
   ]
  },
  {
   "cell_type": "code",
   "execution_count": 3,
   "id": "b4253903",
   "metadata": {},
   "outputs": [
    {
     "data": {
      "text/plain": [
       "hat (generic function with 1 method)"
      ]
     },
     "execution_count": 3,
     "metadata": {},
     "output_type": "execute_result"
    }
   ],
   "source": [
    "function hat(v)\n",
    "    return [0 -v[3] v[2];\n",
    "            v[3] 0 -v[1];\n",
    "            -v[2] v[1] 0]\n",
    "end"
   ]
  },
  {
   "cell_type": "code",
   "execution_count": 4,
   "id": "d2e5a93d",
   "metadata": {},
   "outputs": [
    {
     "data": {
      "text/plain": [
       "L (generic function with 1 method)"
      ]
     },
     "execution_count": 4,
     "metadata": {},
     "output_type": "execute_result"
    }
   ],
   "source": [
    "function L(q)\n",
    "    s = q[1]\n",
    "    v = q[2:4]\n",
    "    L = [s -v';\n",
    "         v s*I+hat(v)]\n",
    "    return L\n",
    "end"
   ]
  },
  {
   "cell_type": "code",
   "execution_count": 5,
   "id": "81bb63a7",
   "metadata": {},
   "outputs": [
    {
     "data": {
      "text/plain": [
       "R (generic function with 1 method)"
      ]
     },
     "execution_count": 5,
     "metadata": {},
     "output_type": "execute_result"
    }
   ],
   "source": [
    "function R(q)\n",
    "    s = q[1]\n",
    "    v = q[2:4]\n",
    "    R = [s -v';\n",
    "         v s*I-hat(v)]\n",
    "    return R\n",
    "end"
   ]
  },
  {
   "cell_type": "code",
   "execution_count": 6,
   "id": "ab8735d1",
   "metadata": {},
   "outputs": [],
   "source": [
    "T = Diagonal([1; -ones(3)])\n",
    "H = [zeros(1,3); I];"
   ]
  },
  {
   "cell_type": "code",
   "execution_count": 7,
   "id": "cf790ad9",
   "metadata": {},
   "outputs": [
    {
     "data": {
      "text/plain": [
       "Q (generic function with 1 method)"
      ]
     },
     "execution_count": 7,
     "metadata": {},
     "output_type": "execute_result"
    }
   ],
   "source": [
    "function G(q)\n",
    "    G = L(q)*H\n",
    "end\n",
    "\n",
    "function Q(q)\n",
    "    return H'*(R(q)*L(q))*H\n",
    "end"
   ]
  },
  {
   "cell_type": "code",
   "execution_count": 8,
   "id": "9c404bce",
   "metadata": {},
   "outputs": [
    {
     "data": {
      "text/plain": [
       "3×3 Matrix{Float64}:\n",
       "  0.820888   0.159233   -0.0453622\n",
       "  0.159233   0.858441    0.0403274\n",
       " -0.0453622  0.0403274   0.988512"
      ]
     },
     "execution_count": 8,
     "metadata": {},
     "output_type": "execute_result"
    }
   ],
   "source": [
    "#Generate random quaternion\n",
    "qtrue = randn(4)\n",
    "qtrue = qtrue / norm(qtrue)\n",
    "\n",
    "Qtrue = Q(qtrue) #Generate Equivalent Rotation matrix"
   ]
  },
  {
   "cell_type": "code",
   "execution_count": 9,
   "id": "d74fa458",
   "metadata": {},
   "outputs": [
    {
     "data": {
      "text/plain": [
       "3×10 Matrix{Float64}:\n",
       "  0.0687165  -0.5634    -0.563542  …  -0.276964  -0.449785   -0.340816\n",
       "  0.521291   -0.107645   0.37903       0.629689  -0.856557   -0.399521\n",
       " -0.708976   -0.637138   0.27782       0.408044  -0.0114169   0.830892"
      ]
     },
     "execution_count": 9,
     "metadata": {},
     "output_type": "execute_result"
    }
   ],
   "source": [
    "#Generate data\n",
    "vN = randn(3,10) #Generate some random world-frame vectors\n",
    "\n",
    "#normalize\n",
    "for k = 1:10\n",
    "    vN[:,k] .= vN[:,k]./norm(vN[:,k])\n",
    "end\n",
    "\n",
    "vB = Qtrue'*vN #generate body-frame vectors"
   ]
  },
  {
   "cell_type": "code",
   "execution_count": 10,
   "id": "976ba7e0",
   "metadata": {},
   "outputs": [
    {
     "data": {
      "text/plain": [
       "residual (generic function with 1 method)"
      ]
     },
     "execution_count": 10,
     "metadata": {},
     "output_type": "execute_result"
    }
   ],
   "source": [
    "function residual(q)\n",
    "    r = vN - Q(q)*vB\n",
    "    return r[:]\n",
    "end"
   ]
  },
  {
   "cell_type": "code",
   "execution_count": 11,
   "id": "da38abc1",
   "metadata": {},
   "outputs": [
    {
     "data": {
      "text/plain": [
       "4-element Vector{Float64}:\n",
       " -0.06874200393221411\n",
       " -0.18378280403759029\n",
       "  0.6797832746840458\n",
       " -0.7066775200155295"
      ]
     },
     "execution_count": 11,
     "metadata": {},
     "output_type": "execute_result"
    }
   ],
   "source": [
    "#Random initial guess\n",
    "q = randn(4)\n",
    "q = q/norm(q)"
   ]
  },
  {
   "cell_type": "code",
   "execution_count": 13,
   "id": "a1bd2aa6",
   "metadata": {},
   "outputs": [
    {
     "ename": "LoadError",
     "evalue": "DomainError with -65.41017152601252:\nsqrt will only return a complex result if called with a complex argument. Try sqrt(Complex(x)).",
     "output_type": "error",
     "traceback": [
      "DomainError with -65.41017152601252:\nsqrt will only return a complex result if called with a complex argument. Try sqrt(Complex(x)).",
      "",
      "Stacktrace:",
      " [1] throw_complex_domainerror(f::Symbol, x::Float64)",
      "   @ Base.Math ./math.jl:33",
      " [2] sqrt(x::Float64)",
      "   @ Base.Math ./math.jl:591",
      " [3] top-level scope",
      "   @ ./In[13]:9"
     ]
    }
   ],
   "source": [
    "#Gauss-Newton\n",
    "ϕ = ones(3)\n",
    "iter = 0\n",
    "while maximum(abs.(ϕ)) > 1e-8\n",
    "    r = residual(q)\n",
    "    dr = ForwardDiff.jacobian(residual, q)\n",
    "    ∇r = dr*G(q)\n",
    "    ϕ = -(∇r'*∇r)\\(∇r'*r) #3-parameter update computed with gauss-newton\n",
    "    q = L(q)*[sqrt(1-ϕ'*ϕ); ϕ] #multiplicative update applied to q\n",
    "    iter += 1\n",
    "end"
   ]
  },
  {
   "cell_type": "code",
   "execution_count": 14,
   "id": "1fb90865",
   "metadata": {},
   "outputs": [
    {
     "data": {
      "text/plain": [
       "0"
      ]
     },
     "execution_count": 14,
     "metadata": {},
     "output_type": "execute_result"
    }
   ],
   "source": [
    "iter"
   ]
  },
  {
   "cell_type": "code",
   "execution_count": 15,
   "id": "fb86b26c",
   "metadata": {},
   "outputs": [
    {
     "data": {
      "text/plain": [
       "4-element Vector{Float64}:\n",
       "  0.8444501476723965\n",
       " -0.48304210481619764\n",
       "  0.9458278743375476\n",
       " -0.7824682591625325"
      ]
     },
     "execution_count": 15,
     "metadata": {},
     "output_type": "execute_result"
    }
   ],
   "source": [
    "q-qtrue"
   ]
  },
  {
   "cell_type": "code",
   "execution_count": 16,
   "id": "80522b5a",
   "metadata": {},
   "outputs": [
    {
     "data": {
      "text/plain": [
       "4-element Vector{Float64}:\n",
       " -0.9819341555368246\n",
       "  0.11547649674101707\n",
       "  0.41373867503054396\n",
       " -0.6308867808685266"
      ]
     },
     "execution_count": 16,
     "metadata": {},
     "output_type": "execute_result"
    }
   ],
   "source": [
    "q+qtrue"
   ]
  },
  {
   "cell_type": "code",
   "execution_count": null,
   "id": "e044abc5",
   "metadata": {},
   "outputs": [],
   "source": []
  }
 ],
 "metadata": {
  "kernelspec": {
   "display_name": "Julia 1.8.3",
   "language": "julia",
   "name": "julia-1.8"
  },
  "language_info": {
   "file_extension": ".jl",
   "mimetype": "application/julia",
   "name": "julia",
   "version": "1.8.3"
  }
 },
 "nbformat": 4,
 "nbformat_minor": 5
}
