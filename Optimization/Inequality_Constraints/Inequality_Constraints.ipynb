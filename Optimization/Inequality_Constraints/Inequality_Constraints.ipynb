{
 "cells": [
  {
   "cell_type": "code",
   "execution_count": 2,
   "id": "f509bb9e",
   "metadata": {},
   "outputs": [],
   "source": [
    "#Shishir Khanal\n",
    "#CMU-Optimal Controls from Jack Manchester\n",
    "#Minimization: Inequality Constraints"
   ]
  },
  {
   "cell_type": "code",
   "execution_count": 3,
   "id": "acbd7322",
   "metadata": {},
   "outputs": [
    {
     "name": "stderr",
     "output_type": "stream",
     "text": [
      "\u001b[32m\u001b[1m  Activating\u001b[22m\u001b[39m project at `~/Documents/Optimal_Control/Sims/Optimization/Inequality_Constraints`\n",
      "\u001b[32m\u001b[1m    Updating\u001b[22m\u001b[39m registry at `~/.julia/registries/General.toml`\n",
      "\u001b[32m\u001b[1m   Resolving\u001b[22m\u001b[39m package versions...\n",
      "\u001b[32m\u001b[1m  No Changes\u001b[22m\u001b[39m to `~/Documents/Optimal_Control/Sims/Optimization/Inequality_Constraints/Project.toml`\n",
      "\u001b[32m\u001b[1m  No Changes\u001b[22m\u001b[39m to `~/Documents/Optimal_Control/Sims/Optimization/Inequality_Constraints/Manifest.toml`\n",
      "\u001b[32m\u001b[1m   Resolving\u001b[22m\u001b[39m package versions...\n",
      "\u001b[32m\u001b[1m  No Changes\u001b[22m\u001b[39m to `~/Documents/Optimal_Control/Sims/Optimization/Inequality_Constraints/Project.toml`\n",
      "\u001b[32m\u001b[1m  No Changes\u001b[22m\u001b[39m to `~/Documents/Optimal_Control/Sims/Optimization/Inequality_Constraints/Manifest.toml`\n",
      "\u001b[32m\u001b[1m   Resolving\u001b[22m\u001b[39m package versions...\n",
      "\u001b[32m\u001b[1m  No Changes\u001b[22m\u001b[39m to `~/Documents/Optimal_Control/Sims/Optimization/Inequality_Constraints/Project.toml`\n",
      "\u001b[32m\u001b[1m  No Changes\u001b[22m\u001b[39m to `~/Documents/Optimal_Control/Sims/Optimization/Inequality_Constraints/Manifest.toml`\n"
     ]
    }
   ],
   "source": [
    "import Pkg;\n",
    "Pkg.activate(@__DIR__);\n",
    "Pkg.instantiate();\n",
    "\n",
    "Pkg.add(\"LinearAlgebra\");\n",
    "Pkg.add(\"PyPlot\");\n",
    "Pkg.add(\"ForwardDiff\");\n",
    "\n",
    "using LinearAlgebra;\n",
    "using PyPlot;\n",
    "using ForwardDiff;"
   ]
  },
  {
   "cell_type": "code",
   "execution_count": 4,
   "id": "77d1088d",
   "metadata": {},
   "outputs": [
    {
     "data": {
      "text/plain": [
       "∇2f (generic function with 1 method)"
      ]
     },
     "execution_count": 4,
     "metadata": {},
     "output_type": "execute_result"
    }
   ],
   "source": [
    "Q = Diagonal([0.5; 1])\n",
    "#Quadratic Objective Function\n",
    "function f(x)\n",
    "    return 0.5*(x-[1; 0])'*Q*(x-[1; 0])\n",
    "end\n",
    "\n",
    "function ∇f(x)\n",
    "    return Q*(x-[1; 0])\n",
    "end\n",
    "\n",
    "function ∇2f(x)\n",
    "    return Q\n",
    "end"
   ]
  },
  {
   "cell_type": "code",
   "execution_count": 5,
   "id": "c09c7cda",
   "metadata": {},
   "outputs": [
    {
     "data": {
      "text/plain": [
       "δc (generic function with 1 method)"
      ]
     },
     "execution_count": 5,
     "metadata": {},
     "output_type": "execute_result"
    }
   ],
   "source": [
    "#Linear Inequalities\n",
    "A = [1.0 -1.0]\n",
    "b = -1.0\n",
    "function c(x)\n",
    "    return dot(A,x) - b\n",
    "end\n",
    "function δc(x)\n",
    "    return A\n",
    "end"
   ]
  },
  {
   "cell_type": "code",
   "execution_count": 6,
   "id": "405131fc",
   "metadata": {},
   "outputs": [
    {
     "data": {
      "image/png": "[encoded data removed]",
      "text/plain": [
       "Figure(PyObject <Figure size 640x480 with 1 Axes>)"
      ]
     },
     "metadata": {},
     "output_type": "display_data"
    },
    {
     "data": {
      "text/plain": [
       "1-element Vector{PyCall.PyObject}:\n",
       " PyObject <matplotlib.lines.Line2D object at 0x7f49cdeb1eb0>"
      ]
     },
     "execution_count": 6,
     "metadata": {},
     "output_type": "execute_result"
    }
   ],
   "source": [
    "function plot_landscape()\n",
    "    Nsamp = 20\n",
    "    Xsamp = kron(ones(Nsamp), LinRange(-4,4,Nsamp)')\n",
    "    Ysamp = kron(ones(Nsamp)', LinRange(-4,4,Nsamp))\n",
    "    Zsamp = zeros(Nsamp, Nsamp)\n",
    "    for j = 1:Nsamp\n",
    "        for k = 1:Nsamp\n",
    "            Zsamp[j,k] = f([Xsamp[j,k]; Ysamp[j,k]])\n",
    "        end\n",
    "    end\n",
    "    #positive definite hessian so level curve looks like a bowl\n",
    "    #contour(Xsamp, Ysamp, Zsamp)\n",
    "    \n",
    "    xc = LinRange(-4, 3, Nsamp)\n",
    "    #Quadratic Equality Constraint\n",
    "    plot(xc, xc.+1, \"y\")\n",
    "end\n",
    "\n",
    "plot_landscape()"
   ]
  },
  {
   "cell_type": "code",
   "execution_count": 7,
   "id": "65bbf59e",
   "metadata": {},
   "outputs": [
    {
     "data": {
      "text/plain": [
       "La (generic function with 1 method)"
      ]
     },
     "execution_count": 7,
     "metadata": {},
     "output_type": "execute_result"
    }
   ],
   "source": [
    "function La(x,λ,ρ)\n",
    "    ρ = max(0,c(x))\n",
    "    return f(x) + λ*ρ + (ρ/2)*(ρ'*ρ)\n",
    "end"
   ]
  },
  {
   "cell_type": "code",
   "execution_count": 8,
   "id": "55eee394",
   "metadata": {},
   "outputs": [
    {
     "data": {
      "text/plain": [
       "newton_solve (generic function with 1 method)"
      ]
     },
     "execution_count": 8,
     "metadata": {},
     "output_type": "execute_result"
    }
   ],
   "source": [
    "function newton_solve(x0,λ,ρ)\n",
    "    x = x0\n",
    "    ρ = max.(0,c(x))\n",
    "    C = zeros(1,2)\n",
    "    if c(x) ≥ 0\n",
    "        C = δc(x)\n",
    "    end\n",
    "    g = ∇f(x) + (λ+ρ*ρ)*C'\n",
    "    while norm(g) ≥ 1e-8\n",
    "        H = ∇2f(x) + ρ*C'*C\n",
    "        Δx = -H\\g\n",
    "        \n",
    "        x = x+Δx\n",
    "        \n",
    "        p = max.(0, c(x))\n",
    "        C = zeros(1,2)\n",
    "        if c(x) ≥ 0\n",
    "            C = δc(x)\n",
    "        end\n",
    "        g = ∇f(x) + (λ+ρ*ρ)*C'\n",
    "    end\n",
    "    \n",
    "    return x\n",
    "end"
   ]
  },
  {
   "cell_type": "code",
   "execution_count": 9,
   "id": "b9efed16",
   "metadata": {},
   "outputs": [
    {
     "data": {
      "image/png": "[encoded data removed]",
      "text/plain": [
       "Figure(PyObject <Figure size 640x480 with 1 Axes>)"
      ]
     },
     "metadata": {},
     "output_type": "display_data"
    },
    {
     "data": {
      "text/plain": [
       "1-element Vector{PyCall.PyObject}:\n",
       " PyObject <matplotlib.lines.Line2D object at 0x7f49cd043dc0>"
      ]
     },
     "execution_count": 9,
     "metadata": {},
     "output_type": "execute_result"
    }
   ],
   "source": [
    "xguess = [-3; 2]\n",
    "λguess = [0.0]\n",
    "ρ = 1.0\n",
    "plot_landscape()\n",
    "plot(xguess[1], xguess[2], \"rx\")"
   ]
  },
  {
   "cell_type": "code",
   "execution_count": null,
   "id": "5ad2329e",
   "metadata": {},
   "outputs": [],
   "source": [
    "xnew = newton_solve(xguess[:,end], λguess[end], ρ)\n",
    "λnew = max.(0, λguess[end]+ρ*c(xnew))\n",
    "xguess = [xguess xnew]\n",
    "#λguess = [λguess λnew]\n",
    "#ρ = 10*ρ\n",
    "plot_landscape()\n",
    "plot(xguess[1,:], xguess[2,:], \"rx\")"
   ]
  },
  {
   "cell_type": "code",
   "execution_count": null,
   "id": "815ae3f1",
   "metadata": {},
   "outputs": [],
   "source": []
  }
 ],
 "metadata": {
  "kernelspec": {
   "display_name": "Julia 1.8.3",
   "language": "julia",
   "name": "julia-1.8"
  },
  "language_info": {
   "file_extension": ".jl",
   "mimetype": "application/julia",
   "name": "julia",
   "version": "1.8.3"
  }
 },
 "nbformat": 4,
 "nbformat_minor": 5
}
