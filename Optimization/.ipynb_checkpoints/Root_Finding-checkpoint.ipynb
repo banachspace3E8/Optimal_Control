{
 "cells": [
  {
   "cell_type": "code",
   "execution_count": 2,
   "id": "2fa725f0",
   "metadata": {},
   "outputs": [],
   "source": [
    "#Shishir Khanal\n",
    "#CMU-Optimal Controls from Jack Manchester\n",
    "#Optimization: Root-finding"
   ]
  },
  {
   "cell_type": "code",
   "execution_count": 1,
   "id": "5e2584d3",
   "metadata": {},
   "outputs": [
    {
     "name": "stderr",
     "output_type": "stream",
     "text": [
      "\u001b[32m\u001b[1m  Activating\u001b[22m\u001b[39m project at `~/Documents/Optimal_Control/Sims/Optimization`\n",
      "\u001b[32m\u001b[1m    Updating\u001b[22m\u001b[39m registry at `~/.julia/registries/General.toml`\n",
      "\u001b[32m\u001b[1m   Resolving\u001b[22m\u001b[39m package versions...\n",
      "\u001b[32m\u001b[1m  No Changes\u001b[22m\u001b[39m to `~/Documents/Optimal_Control/Sims/Optimization/Project.toml`\n",
      "\u001b[32m\u001b[1m  No Changes\u001b[22m\u001b[39m to `~/Documents/Optimal_Control/Sims/Optimization/Manifest.toml`\n",
      "\u001b[32m\u001b[1m   Resolving\u001b[22m\u001b[39m package versions...\n",
      "\u001b[32m\u001b[1m  No Changes\u001b[22m\u001b[39m to `~/Documents/Optimal_Control/Sims/Optimization/Project.toml`\n",
      "\u001b[32m\u001b[1m  No Changes\u001b[22m\u001b[39m to `~/Documents/Optimal_Control/Sims/Optimization/Manifest.toml`\n",
      "\u001b[32m\u001b[1m   Resolving\u001b[22m\u001b[39m package versions...\n",
      "\u001b[32m\u001b[1m  No Changes\u001b[22m\u001b[39m to `~/Documents/Optimal_Control/Sims/Optimization/Project.toml`\n",
      "\u001b[32m\u001b[1m  No Changes\u001b[22m\u001b[39m to `~/Documents/Optimal_Control/Sims/Optimization/Manifest.toml`\n"
     ]
    }
   ],
   "source": [
    "import Pkg;\n",
    "Pkg.activate(@__DIR__);\n",
    "Pkg.instantiate();\n",
    "\n",
    "Pkg.add(\"LinearAlgebra\");\n",
    "Pkg.add(\"PyPlot\");\n",
    "Pkg.add(\"ForwardDiff\");\n",
    "\n",
    "using LinearAlgebra;\n",
    "using PyPlot;\n",
    "using ForwardDiff;"
   ]
  },
  {
   "cell_type": "code",
   "execution_count": 2,
   "id": "da74bc81",
   "metadata": {},
   "outputs": [
    {
     "data": {
      "text/plain": [
       "Simple_Pendulum (generic function with 1 method)"
      ]
     },
     "execution_count": 2,
     "metadata": {},
     "output_type": "execute_result"
    }
   ],
   "source": [
    "#CT State Space representation of Simple Pendulum\n",
    "function Simple_Pendulum(x)\n",
    "    l = 1.0\n",
    "    g = 9.81\n",
    "    \n",
    "    θ = x[1]\n",
    "    θ_dot = x[2]\n",
    "    \n",
    "    θ_doubledot = -(g/l)*sin(θ)\n",
    "    \n",
    "    return [θ_dot; θ_doubledot]\n",
    "end"
   ]
  },
  {
   "cell_type": "code",
   "execution_count": 3,
   "id": "3418e6e6",
   "metadata": {},
   "outputs": [
    {
     "data": {
      "text/plain": [
       "backward_euler_step_fixed_point (generic function with 1 method)"
      ]
     },
     "execution_count": 3,
     "metadata": {},
     "output_type": "execute_result"
    }
   ],
   "source": [
    "function backward_euler_step_fixed_point(fun, x0, h)\n",
    "    xn = x0\n",
    "    e = [norm(x0 + h.*fun(xn) - xn)]\n",
    "    while e[end] > 1e-8\n",
    "        xn = x0 + h.*fun(xn)\n",
    "        e = [e; norm(x0 + h.*fun(xn) - xn)]\n",
    "    end\n",
    "    \n",
    "    return xn, e\n",
    "end"
   ]
  },
  {
   "cell_type": "code",
   "execution_count": 51,
   "id": "53f30740",
   "metadata": {},
   "outputs": [
    {
     "data": {
      "text/plain": [
       "backward_euler_step_newton (generic function with 1 method)"
      ]
     },
     "execution_count": 51,
     "metadata": {},
     "output_type": "execute_result"
    }
   ],
   "source": [
    "function backward_euler_step_newton(fun, x0, h)\n",
    "    xn = x0\n",
    "    r = x0 + h.*fun(xn) - xn\n",
    "    e = [norm(r)]\n",
    "    while e[end] > 1e-8\n",
    "        δr = 1#ForwardDiff.jacobian(x -> x0 + h.*fun(x) - x, xn)\n",
    "        #xn = xn - δr/r\n",
    "        #r = x0 + h.*fun(xn) - xn\n",
    "        #e = 1#[e; norm(r)]\n",
    "    end\n",
    "    \n",
    "    return xn, e\n",
    "end"
   ]
  },
  {
   "cell_type": "code",
   "execution_count": 52,
   "id": "2891d5b6",
   "metadata": {},
   "outputs": [
    {
     "data": {
      "text/plain": [
       "backward_euler_fixed_point (generic function with 1 method)"
      ]
     },
     "execution_count": 52,
     "metadata": {},
     "output_type": "execute_result"
    }
   ],
   "source": [
    "function backward_euler_fixed_point(fun, x0, Tf, h)\n",
    "    t = Array(0:h:Tf)\n",
    "    \n",
    "    x_hist = zeros(length(x0), length(t))\n",
    "    x_hist[:,1] .= x0\n",
    "    \n",
    "    for k = 1:(length(t)-1)\n",
    "        x_hist[:,k+1], e = backward_euler_step_fixed_point(fun, x_hist[:,k], h)\n",
    "    end\n",
    "    \n",
    "    return x_hist, t\n",
    "end"
   ]
  },
  {
   "cell_type": "code",
   "execution_count": 53,
   "id": "333acfcb",
   "metadata": {},
   "outputs": [
    {
     "data": {
      "text/plain": [
       "backward_euler_newton (generic function with 1 method)"
      ]
     },
     "execution_count": 53,
     "metadata": {},
     "output_type": "execute_result"
    }
   ],
   "source": [
    "function backward_euler_newton(fun, x0, Tf, h)\n",
    "    t = Array(0:h:Tf)\n",
    "    x_hist = zeros(length(x0), length(t))\n",
    "    x_hist[:,1] .= x0\n",
    "    \n",
    "    for k = 1:(length(t)-1)\n",
    "        x_hist[:,k+1], e = backward_euler_step_newton(fun, x_hist[:,k], h)\n",
    "    end\n",
    "    \n",
    "    return x_hist, t\n",
    "end"
   ]
  },
  {
   "cell_type": "code",
   "execution_count": null,
   "id": "913aeef4",
   "metadata": {},
   "outputs": [],
   "source": [
    "x0 = [.1; 0]\n",
    "x_hist1, t_hist1 = backward_euler_fixed_point(Simple_Pendulum, x0, 10, 0.01)\n",
    "x_hist2, t_hist2 = backward_euler_newton(Simple_Pendulum, x0, 10, 0.01)\n",
    "length(t_hist2)\n",
    "plot(t_hist1, x_hist1[1,:])\n",
    "#plot(t_hist2, x_hist2[1,:])"
   ]
  },
  {
   "cell_type": "code",
   "execution_count": null,
   "id": "6f5e1b7f",
   "metadata": {},
   "outputs": [],
   "source": []
  }
 ],
 "metadata": {
  "kernelspec": {
   "display_name": "Julia 1.8.3",
   "language": "julia",
   "name": "julia-1.8"
  },
  "language_info": {
   "file_extension": ".jl",
   "mimetype": "application/julia",
   "name": "julia",
   "version": "1.8.3"
  }
 },
 "nbformat": 4,
 "nbformat_minor": 5
}
