{
 "cells": [
  {
   "cell_type": "code",
   "execution_count": 1,
   "id": "0c661512",
   "metadata": {},
   "outputs": [],
   "source": [
    "#Shishir Khanal\n",
    "#CMU-Optimal Controls from Jack Manchester\n",
    "#Vertical balancing of an acrobot using DIRCOL"
   ]
  },
  {
   "cell_type": "code",
   "execution_count": 2,
   "id": "881c89c7",
   "metadata": {},
   "outputs": [
    {
     "name": "stderr",
     "output_type": "stream",
     "text": [
      "\u001b[32m\u001b[1m  Activating\u001b[22m\u001b[39m project at `~/Documents/Optimal_Control/Sims/Direct_Collocation`\n",
      "\u001b[32m\u001b[1m    Updating\u001b[22m\u001b[39m registry at `~/.julia/registries/General.toml`\n",
      "\u001b[32m\u001b[1m   Resolving\u001b[22m\u001b[39m package versions...\n",
      "\u001b[32m\u001b[1m  No Changes\u001b[22m\u001b[39m to `~/Documents/Optimal_Control/Sims/Direct_Collocation/Project.toml`\n",
      "\u001b[32m\u001b[1m    Updating\u001b[22m\u001b[39m `~/Documents/Optimal_Control/Sims/Direct_Collocation/Manifest.toml`\n",
      "\u001b[32m⌃\u001b[39m\u001b[90m [b53b4c65] \u001b[39m\u001b[93m↑ libpng_jll v1.6.38+0 ⇒ v1.6.38+1\u001b[39m\n",
      "\u001b[36m\u001b[1m        Info\u001b[22m\u001b[39m Packages marked with \u001b[32m⌃\u001b[39m have new versions available and may be upgradable.\n",
      "\u001b[32m\u001b[1m   Resolving\u001b[22m\u001b[39m package versions...\n",
      "\u001b[32m\u001b[1m  No Changes\u001b[22m\u001b[39m to `~/Documents/Optimal_Control/Sims/Direct_Collocation/Project.toml`\n",
      "\u001b[32m\u001b[1m  No Changes\u001b[22m\u001b[39m to `~/Documents/Optimal_Control/Sims/Direct_Collocation/Manifest.toml`\n",
      "\u001b[32m\u001b[1m   Resolving\u001b[22m\u001b[39m package versions...\n",
      "\u001b[32m\u001b[1m  No Changes\u001b[22m\u001b[39m to `~/Documents/Optimal_Control/Sims/Direct_Collocation/Project.toml`\n",
      "\u001b[32m\u001b[1m  No Changes\u001b[22m\u001b[39m to `~/Documents/Optimal_Control/Sims/Direct_Collocation/Manifest.toml`\n",
      "\u001b[32m\u001b[1m   Resolving\u001b[22m\u001b[39m package versions...\n",
      "\u001b[32m\u001b[1m  No Changes\u001b[22m\u001b[39m to `~/Documents/Optimal_Control/Sims/Direct_Collocation/Project.toml`\n",
      "\u001b[32m\u001b[1m  No Changes\u001b[22m\u001b[39m to `~/Documents/Optimal_Control/Sims/Direct_Collocation/Manifest.toml`\n",
      "\u001b[32m\u001b[1m   Resolving\u001b[22m\u001b[39m package versions...\n",
      "\u001b[32m\u001b[1m  No Changes\u001b[22m\u001b[39m to `~/Documents/Optimal_Control/Sims/Direct_Collocation/Project.toml`\n",
      "\u001b[32m\u001b[1m  No Changes\u001b[22m\u001b[39m to `~/Documents/Optimal_Control/Sims/Direct_Collocation/Manifest.toml`\n",
      "\u001b[32m\u001b[1m   Resolving\u001b[22m\u001b[39m package versions...\n",
      "\u001b[32m\u001b[1m  No Changes\u001b[22m\u001b[39m to `~/Documents/Optimal_Control/Sims/Direct_Collocation/Project.toml`\n",
      "\u001b[32m\u001b[1m  No Changes\u001b[22m\u001b[39m to `~/Documents/Optimal_Control/Sims/Direct_Collocation/Manifest.toml`\n",
      "\u001b[32m\u001b[1m   Resolving\u001b[22m\u001b[39m package versions...\n",
      "\u001b[32m\u001b[1m  No Changes\u001b[22m\u001b[39m to `~/Documents/Optimal_Control/Sims/Direct_Collocation/Project.toml`\n",
      "\u001b[32m\u001b[1m  No Changes\u001b[22m\u001b[39m to `~/Documents/Optimal_Control/Sims/Direct_Collocation/Manifest.toml`\n",
      "\u001b[36m\u001b[1m[ \u001b[22m\u001b[39m\u001b[36m\u001b[1mInfo: \u001b[22m\u001b[39mPrecompiling PyPlot [d330b81b-6aea-500a-939a-2ce795aea3ee]\n",
      "\u001b[36m\u001b[1m[ \u001b[22m\u001b[39m\u001b[36m\u001b[1mInfo: \u001b[22m\u001b[39mPrecompiling ForwardDiff [f6369f11-7733-5829-9624-2563aa707210]\n",
      "\u001b[36m\u001b[1m[ \u001b[22m\u001b[39m\u001b[36m\u001b[1mInfo: \u001b[22m\u001b[39mPrecompiling RobotZoo [74be38bb-dcc2-4b9e-baf3-d6373cd95f10]\n",
      "WARNING: method definition for copy at /home/khanshis/.julia/packages/RobotDynamics/tXate/src/trajectories.jl:76 declares type variable M but does not use it.\n",
      "WARNING: method definition for copy at /home/khanshis/.julia/packages/RobotDynamics/tXate/src/trajectories.jl:76 declares type variable N but does not use it.\n",
      "WARNING: method definition for copy at /home/khanshis/.julia/packages/RobotDynamics/tXate/src/trajectories.jl:76 declares type variable T but does not use it.\n",
      "WARNING: method definition for discretize! at /home/khanshis/.julia/packages/RobotDynamics/tXate/src/linearmodel.jl:217 declares type variable Q but does not use it.\n",
      "WARNING: method definition for #LinearizedModel#90 at /home/khanshis/.julia/packages/RobotDynamics/tXate/src/linearization.jl:100 declares type variable Q but does not use it.\n"
     ]
    }
   ],
   "source": [
    "import Pkg; Pkg.activate(@__DIR__); Pkg.instantiate()\n",
    "Pkg.add(\"PyPlot\")\n",
    "Pkg.add(\"LinearAlgebra\")\n",
    "Pkg.add(\"ForwardDiff\")\n",
    "Pkg.add(\"RobotZoo\")\n",
    "Pkg.add(\"RobotDynamics\")\n",
    "Pkg.add(\"Ipopt\")\n",
    "Pkg.add(\"MathOptInterface\")\n",
    "using LinearAlgebra, PyPlot\n",
    "using ForwardDiff\n",
    "using RobotZoo\n",
    "const RZ = RobotZoo\n",
    "using RobotDynamics\n",
    "using Ipopt\n",
    "using MathOptInterface\n",
    "const MOI = MathOptInterface;"
   ]
  },
  {
   "cell_type": "code",
   "execution_count": 3,
   "id": "3875b13f",
   "metadata": {},
   "outputs": [
    {
     "data": {
      "text/plain": [
       "0.1"
      ]
     },
     "execution_count": 3,
     "metadata": {},
     "output_type": "execute_result"
    }
   ],
   "source": [
    "#Pendulum Dynamics\n",
    "a = RobotZoo.Acrobot()\n",
    "h = 0.1 #10Hz"
   ]
  },
  {
   "cell_type": "code",
   "execution_count": 4,
   "id": "4a3b356e",
   "metadata": {},
   "outputs": [
    {
     "data": {
      "text/plain": [
       "208"
      ]
     },
     "execution_count": 4,
     "metadata": {},
     "output_type": "execute_result"
    }
   ],
   "source": [
    "Nx = 4 #number of states\n",
    "Nu = 1 #number of controls\n",
    "Tfinal = 5.0 #final time\n",
    "Nt = Int(Tfinal/h)+1 #number of time steps\n",
    "thist = Array(range(0, h*(Nt-1), step=h));\n",
    "n_nlp = (Nx+Nu)*Nt #number of decision variables\n",
    "m_nlp = Nx*(Nt+1)"
   ]
  },
  {
   "cell_type": "code",
   "execution_count": 5,
   "id": "3103db1c",
   "metadata": {},
   "outputs": [
    {
     "data": {
      "text/plain": [
       "dircol_dynamics (generic function with 1 method)"
      ]
     },
     "execution_count": 5,
     "metadata": {},
     "output_type": "execute_result"
    }
   ],
   "source": [
    "function dircol_dynamics(x1,u1,x2,u2)\n",
    "    #Hermite-Simpson integration with first-order hold on u\n",
    "    f1 = RZ.dynamics(a, x1, u1)\n",
    "    f2 = RZ.dynamics(a, x2, u2)\n",
    "    xm = 0.5*(x1 + x2) + (h/8.0)*(f1 - f2)\n",
    "    um = 0.5*(u1 + u2)\n",
    "    ẋm = (-3/(2.0*h))*(x1 - x2) - 0.25*(f1 + f2)\n",
    "    fm = RZ.dynamics(a, xm, um)\n",
    "    return fm - ẋm\n",
    "end"
   ]
  },
  {
   "cell_type": "code",
   "execution_count": 6,
   "id": "7e0b2d7c",
   "metadata": {},
   "outputs": [],
   "source": [
    "#Cost weights\n",
    "Q = Diagonal([1.0*ones(2); 1.0*ones(2)]);\n",
    "R = 0.1;"
   ]
  },
  {
   "cell_type": "code",
   "execution_count": 7,
   "id": "e41e7ef7",
   "metadata": {},
   "outputs": [
    {
     "data": {
      "text/plain": [
       "stage_cost (generic function with 1 method)"
      ]
     },
     "execution_count": 7,
     "metadata": {},
     "output_type": "execute_result"
    }
   ],
   "source": [
    "function stage_cost(x,u)\n",
    "    return 0.5*((x-xgoal)'*Q*(x-xgoal)) + 0.5*u'*R*u\n",
    "end"
   ]
  },
  {
   "cell_type": "code",
   "execution_count": 8,
   "id": "f5e849b6",
   "metadata": {},
   "outputs": [
    {
     "data": {
      "text/plain": [
       "cost (generic function with 1 method)"
      ]
     },
     "execution_count": 8,
     "metadata": {},
     "output_type": "execute_result"
    }
   ],
   "source": [
    "function cost(ztraj)\n",
    "    z = reshape(ztraj, Nx+Nu, Nt)\n",
    "    J = 0.0\n",
    "    for k=1:Nt\n",
    "        J += stage_cost(z[1:Nx,k],z[(Nx+1):(Nx+Nu),k])\n",
    "    end\n",
    "    return J\n",
    "end"
   ]
  },
  {
   "cell_type": "code",
   "execution_count": 9,
   "id": "5e53321a",
   "metadata": {},
   "outputs": [
    {
     "data": {
      "text/plain": [
       "dynamics_constraint! (generic function with 1 method)"
      ]
     },
     "execution_count": 9,
     "metadata": {},
     "output_type": "execute_result"
    }
   ],
   "source": [
    "function dynamics_constraint!(c,ztraj)\n",
    "    d = reshape(c, Nx, Nt-1)\n",
    "    z = reshape(ztraj, Nx+Nu, Nt)\n",
    "    for k = 1:(Nt-1)\n",
    "        x1 = z[1:Nx,k]\n",
    "        u1 = z[(Nx+1):(Nx+Nu),k]\n",
    "        x2 = z[1:Nx,k+1]\n",
    "        u2 = z[(Nx+1):(Nx+Nu),k+1]\n",
    "        d[:,k] = dircol_dynamics(x1,u1,x2,u2)\n",
    "    end\n",
    "    return nothing\n",
    "end"
   ]
  },
  {
   "cell_type": "code",
   "execution_count": 10,
   "id": "502c15b6",
   "metadata": {},
   "outputs": [
    {
     "data": {
      "text/plain": [
       "con! (generic function with 1 method)"
      ]
     },
     "execution_count": 10,
     "metadata": {},
     "output_type": "execute_result"
    }
   ],
   "source": [
    "function con!(c,ztraj)\n",
    "    z = reshape(ztraj,Nx+Nu,Nt)\n",
    "    c[1:Nx] .= z[1:Nx,1] - x0\n",
    "    @views dynamics_constraint!(c[(Nx+1):(end-Nx)],ztraj)\n",
    "    c[(end-Nx+1):end] .= z[1:Nx,end] - xgoal\n",
    "end"
   ]
  },
  {
   "cell_type": "code",
   "execution_count": 11,
   "id": "fd4966f8",
   "metadata": {},
   "outputs": [
    {
     "data": {
      "text/plain": [
       "solve (generic function with 1 method)"
      ]
     },
     "execution_count": 11,
     "metadata": {},
     "output_type": "execute_result"
    }
   ],
   "source": [
    "struct ProblemMOI <: MOI.AbstractNLPEvaluator\n",
    "    n_nlp::Int\n",
    "    m_nlp::Int\n",
    "    idx_ineq\n",
    "    obj_grad::Bool\n",
    "    con_jac::Bool\n",
    "    sparsity_jac\n",
    "    sparsity_hess\n",
    "    primal_bounds\n",
    "    constraint_bounds\n",
    "    hessian_lagrangian::Bool\n",
    "end\n",
    "\n",
    "function ProblemMOI(n_nlp,m_nlp;\n",
    "        idx_ineq=(1:0),\n",
    "        obj_grad=true,\n",
    "        con_jac=true,\n",
    "        sparsity_jac=sparsity_jacobian(n_nlp,m_nlp),\n",
    "        sparsity_hess=sparsity_hessian(n_nlp,m_nlp),\n",
    "        primal_bounds=primal_bounds(n_nlp),\n",
    "        constraint_bounds=constraint_bounds(m_nlp,idx_ineq=idx_ineq),\n",
    "        hessian_lagrangian=false)\n",
    "\n",
    "    ProblemMOI(n_nlp,m_nlp,\n",
    "        idx_ineq,\n",
    "        obj_grad,\n",
    "        con_jac,\n",
    "        sparsity_jac,\n",
    "        sparsity_hess,\n",
    "        primal_bounds,\n",
    "        constraint_bounds,\n",
    "        hessian_lagrangian)\n",
    "end\n",
    "\n",
    "function primal_bounds(n)\n",
    "    x_l = -Inf*ones(n)\n",
    "    x_u = Inf*ones(n)\n",
    "    return x_l, x_u\n",
    "end\n",
    "\n",
    "function constraint_bounds(m; idx_ineq=(1:0))\n",
    "    c_l = zeros(m)\n",
    "    c_l[idx_ineq] .= -Inf\n",
    "\n",
    "    c_u = zeros(m)\n",
    "    return c_l, c_u\n",
    "end\n",
    "\n",
    "function row_col!(row,col,r,c)\n",
    "    for cc in c\n",
    "        for rr in r\n",
    "            push!(row,convert(Int,rr))\n",
    "            push!(col,convert(Int,cc))\n",
    "        end\n",
    "    end\n",
    "    return row, col\n",
    "end\n",
    "\n",
    "function sparsity_jacobian(n,m)\n",
    "\n",
    "    row = []\n",
    "    col = []\n",
    "\n",
    "    r = 1:m\n",
    "    c = 1:n\n",
    "\n",
    "    row_col!(row,col,r,c)\n",
    "\n",
    "    return collect(zip(row,col))\n",
    "end\n",
    "\n",
    "function sparsity_hessian(n,m)\n",
    "\n",
    "    row = []\n",
    "    col = []\n",
    "\n",
    "    r = 1:m\n",
    "    c = 1:n\n",
    "\n",
    "    row_col!(row,col,r,c)\n",
    "\n",
    "    return collect(zip(row,col))\n",
    "end\n",
    "\n",
    "function MOI.eval_objective(prob::MOI.AbstractNLPEvaluator, x)\n",
    "    cost(x)\n",
    "end\n",
    "\n",
    "function MOI.eval_objective_gradient(prob::MOI.AbstractNLPEvaluator, grad_f, x)\n",
    "    ForwardDiff.gradient!(grad_f,cost,x)\n",
    "    return nothing\n",
    "end\n",
    "\n",
    "function MOI.eval_constraint(prob::MOI.AbstractNLPEvaluator,g,x)\n",
    "    con!(g,x)\n",
    "    return nothing\n",
    "end\n",
    "\n",
    "function MOI.eval_constraint_jacobian(prob::MOI.AbstractNLPEvaluator, jac, x)\n",
    "    ForwardDiff.jacobian!(reshape(jac,prob.m_nlp,prob.n_nlp), con!, zeros(prob.m_nlp), x)\n",
    "    return nothing\n",
    "end\n",
    "\n",
    "function MOI.features_available(prob::MOI.AbstractNLPEvaluator)\n",
    "    return [:Grad, :Jac]\n",
    "end\n",
    "\n",
    "MOI.initialize(prob::MOI.AbstractNLPEvaluator, features) = nothing\n",
    "MOI.jacobian_structure(prob::MOI.AbstractNLPEvaluator) = prob.sparsity_jac\n",
    "\n",
    "function solve(x0,prob::MOI.AbstractNLPEvaluator;\n",
    "        tol=1.0e-6,c_tol=1.0e-6,max_iter=10000)\n",
    "    x_l, x_u = prob.primal_bounds\n",
    "    c_l, c_u = prob.constraint_bounds\n",
    "\n",
    "    nlp_bounds = MOI.NLPBoundsPair.(c_l,c_u)\n",
    "    block_data = MOI.NLPBlockData(nlp_bounds,prob,true)\n",
    "\n",
    "    solver = Ipopt.Optimizer()\n",
    "    solver.options[\"max_iter\"] = max_iter\n",
    "    solver.options[\"tol\"] = tol\n",
    "    solver.options[\"constr_viol_tol\"] = c_tol\n",
    "\n",
    "    x = MOI.add_variables(solver,prob.n_nlp)\n",
    "\n",
    "    for i = 1:prob.n_nlp\n",
    "        MOI.add_constraint(solver, x[i], MOI.LessThan(x_u[i]))\n",
    "        MOI.add_constraint(solver, x[i], MOI.GreaterThan(x_l[i]))\n",
    "        MOI.set(solver, MOI.VariablePrimalStart(), x[i], x0[i])\n",
    "    end\n",
    "\n",
    "    # Solve the problem\n",
    "    MOI.set(solver, MOI.NLPBlock(), block_data)\n",
    "    MOI.set(solver, MOI.ObjectiveSense(), MOI.MIN_SENSE)\n",
    "    MOI.optimize!(solver)\n",
    "\n",
    "    # Get the solution\n",
    "    res = MOI.get(solver, MOI.VariablePrimal(), x)\n",
    "\n",
    "    return res\n",
    "end"
   ]
  },
  {
   "cell_type": "code",
   "execution_count": 12,
   "id": "1a6428e4",
   "metadata": {},
   "outputs": [],
   "source": [
    "#Initial and goal states\n",
    "x0 = [-pi/2; 0; 0; 0]\n",
    "xgoal = [pi/2; 0; 0; 0]\n",
    "xtraj = kron(ones(1,Nt), x0);"
   ]
  },
  {
   "cell_type": "code",
   "execution_count": 13,
   "id": "244fb1dc",
   "metadata": {},
   "outputs": [],
   "source": [
    "#Guess\n",
    "xguess = kron(ones(Nt)', x0)\n",
    "xguess[1,:] .= xtraj[1,:] + 0.1*randn(Nt)\n",
    "uguess = zeros(Nt)'\n",
    "z0 = reshape([xguess; uguess],(Nx+Nu)*Nt,1);"
   ]
  },
  {
   "cell_type": "code",
   "execution_count": 14,
   "id": "85a44d12",
   "metadata": {},
   "outputs": [
    {
     "name": "stdout",
     "output_type": "stream",
     "text": [
      "\n",
      "******************************************************************************\n",
      "This program contains Ipopt, a library for large-scale nonlinear optimization.\n",
      " Ipopt is released as open source code under the Eclipse Public License (EPL).\n",
      "         For more information visit https://github.com/coin-or/Ipopt\n",
      "******************************************************************************\n",
      "\n",
      "This is Ipopt version 3.13.4, running with linear solver mumps.\n",
      "NOTE: Other linear solvers might be more efficient (see Ipopt documentation).\n",
      "\n",
      "Number of nonzeros in equality constraint Jacobian...:    53040\n",
      "Number of nonzeros in inequality constraint Jacobian.:        0\n",
      "Number of nonzeros in Lagrangian Hessian.............:        0\n",
      "\n",
      "Total number of variables............................:      255\n",
      "                     variables with only lower bounds:        0\n",
      "                variables with lower and upper bounds:        0\n",
      "                     variables with only upper bounds:        0\n",
      "Total number of equality constraints.................:      208\n",
      "Total number of inequality constraints...............:        0\n",
      "        inequality constraints with only lower bounds:        0\n",
      "   inequality constraints with lower and upper bounds:        0\n",
      "        inequality constraints with only upper bounds:        0\n",
      "\n",
      "iter    objective    inf_pr   inf_du lg(mu)  ||d||  lg(rg) alpha_du alpha_pr  ls\n",
      "   0  2.4921018e+02 4.97e+00 2.10e-01   0.0 0.00e+00    -  0.00e+00 0.00e+00   0\n",
      "   1  2.8033473e+02 4.66e+00 5.28e+00 -11.0 4.59e+01    -  1.00e+00 6.25e-02h  5\n",
      "   2  2.9240749e+02 4.58e+00 7.12e+00 -11.0 4.83e+01    -  1.00e+00 1.56e-02h  7\n",
      "   3  3.2099171e+02 4.44e+00 1.20e+01 -11.0 4.41e+01    -  1.00e+00 3.12e-02h  6\n",
      "   4  3.5039121e+02 4.30e+00 1.74e+01 -11.0 3.62e+01    -  1.00e+00 3.12e-02h  6\n",
      "   5  3.8046272e+02 4.17e+00 2.41e+01 -11.0 2.70e+01    -  1.00e+00 3.12e-02h  6\n",
      "   6  4.3974303e+02 3.91e+00 3.85e+01 -11.0 2.33e+01    -  1.00e+00 6.25e-02h  5\n",
      "   7  4.9085466e+02 3.66e+00 5.70e+01 -11.0 1.80e+01    -  1.00e+00 6.25e-02h  5\n",
      "   8  5.3851700e+02 3.43e+00 7.91e+01 -11.0 1.78e+01    -  1.00e+00 6.25e-02h  5\n",
      "   9  6.3747236e+02 3.00e+00 1.32e+02 -11.0 1.87e+01    -  1.00e+00 1.25e-01h  4\n",
      "iter    objective    inf_pr   inf_du lg(mu)  ||d||  lg(rg) alpha_du alpha_pr  ls\n",
      "  10  7.3135637e+02 2.63e+00 1.73e+02 -11.0 2.21e+01    -  1.00e+00 1.25e-01h  4\n",
      "  11  1.7697990e+03 5.80e+01 2.79e+03 -11.0 2.14e+01    -  1.00e+00 1.00e+00w  1\n",
      "  12  3.6076812e+03 2.23e+02 7.41e+03 -11.0 5.34e+01    -  1.00e+00 1.00e+00w  1\n",
      "  13  4.2489577e+03 4.68e+02 1.08e+03 -11.0 8.00e+01    -  1.00e+00 1.00e+00w  1\n",
      "  14  9.1438988e+02 1.97e+00 2.51e+02 -11.0 2.37e+02    -  1.00e+00 2.50e-01h  2\n",
      "  15  9.5706672e+02 1.73e+00 2.13e+02 -11.0 3.57e+01    -  1.00e+00 1.25e-01h  4\n",
      "  16  9.6496945e+02 1.62e+00 2.23e+02 -11.0 3.19e+01    -  1.00e+00 6.25e-02h  5\n",
      "  17  1.0039317e+03 1.76e+00 2.38e+02 -11.0 2.93e+01    -  1.00e+00 1.25e-01h  4\n",
      "  18  1.0520001e+03 2.03e+00 2.48e+02 -11.0 3.04e+01    -  1.00e+00 1.25e-01h  4\n",
      "  19  1.0864908e+03 2.16e+00 2.54e+02 -11.0 2.41e+01    -  1.00e+00 1.25e-01h  4\n",
      "iter    objective    inf_pr   inf_du lg(mu)  ||d||  lg(rg) alpha_du alpha_pr  ls\n",
      "  20  1.1195124e+03 2.08e+00 2.60e+02 -11.0 2.67e+01    -  1.00e+00 1.25e-01h  4\n",
      "  21  1.1409830e+03 2.20e+00 2.83e+02 -11.0 2.40e+01    -  1.00e+00 1.25e-01h  4\n",
      "  22  1.1128785e+03 4.61e+00 2.60e+02 -11.0 8.02e+00    -  1.00e+00 1.25e-01f  4\n",
      "  23  1.0429834e+03 4.99e+00 2.64e+02 -11.0 3.43e+01    -  1.00e+00 6.25e-02f  5\n",
      "  24  1.9501739e+03 1.77e+02 2.89e+02 -11.0 3.13e+01    -  1.00e+00 1.00e+00w  1\n",
      "  25  3.9106119e+03 2.08e+02 1.02e+03 -11.0 4.83e+01    -  1.00e+00 1.00e+00w  1\n",
      "  26  4.9745248e+03 1.05e+03 1.57e+03 -11.0 4.52e+01    -  1.00e+00 1.00e+00w  1\n",
      "  27  1.0208894e+03 4.45e+00 2.63e+02 -11.0 5.39e+01    -  1.00e+00 3.12e-02f  5\n",
      "  28  1.0063326e+03 4.84e+00 2.60e+02 -11.0 3.20e+01    -  1.00e+00 6.25e-02f  5\n",
      "  29  1.0267590e+03 4.94e+00 2.48e+02 -11.0 3.87e+01    -  1.00e+00 1.25e-01h  4\n",
      "iter    objective    inf_pr   inf_du lg(mu)  ||d||  lg(rg) alpha_du alpha_pr  ls\n",
      "  30  1.0453782e+03 5.90e+00 2.38e+02 -11.0 4.77e+01    -  1.00e+00 6.25e-02h  5\n",
      "  31  1.0776223e+03 5.22e+00 2.29e+02 -11.0 5.28e+01    -  1.00e+00 6.25e-02h  5\n",
      "  32  1.1435686e+03 4.97e+00 2.26e+02 -11.0 4.58e+01    -  1.00e+00 1.25e-01h  4\n",
      "  33  1.1239423e+03 4.91e+00 2.21e+02 -11.0 5.12e+01    -  1.00e+00 3.12e-02f  6\n",
      "  34  1.1067421e+03 5.06e+00 2.20e+02 -11.0 9.08e+01    -  1.00e+00 1.56e-02f  7\n",
      "  35  1.0767983e+03 5.26e+00 2.22e+02 -11.0 1.98e+02    -  1.00e+00 1.56e-02f  7\n",
      "  36  1.0589717e+03 5.57e+00 2.24e+02 -11.0 2.27e+02    -  1.00e+00 7.81e-03f  8\n",
      "  37  2.0032460e+07 8.91e+05 1.12e+07 -11.0 6.13e+03    -  1.00e+00 1.00e+00w  1\n",
      "  38  1.5766841e+09 2.61e+11 6.56e+14 -11.0 1.02e+05    -  1.00e+00 1.00e+00w  1\n",
      "  39  1.2831766e+13 1.04e+18 1.62e+25 -11.0 9.12e+06    -  1.00e+00 1.00e+00w  1\n",
      "iter    objective    inf_pr   inf_du lg(mu)  ||d||  lg(rg) alpha_du alpha_pr  ls\n",
      "  40  1.0531539e+03 5.63e+00 2.25e+02 -11.0 9.89e+09    -  1.00e+00 1.22e-04f 13\n",
      "  41  1.0437678e+03 9.25e+00 1.34e+08 -11.0 3.00e+01    -  1.00e+00 2.50e-01f  3\n",
      "  42  1.0440237e+03 9.41e+00 1.07e+08 -11.0 1.96e+01    -  1.00e+00 1.25e-01h  4\n",
      "  43  1.4714472e+03 1.11e+01 1.61e+07 -11.0 3.56e+01   0.7 1.00e+00 1.00e+00H  1\n",
      "  44  1.4695237e+03 3.28e-02 8.75e+05 -11.0 6.48e-01    -  1.00e+00 1.00e+00h  1\n",
      "  45  1.4659633e+03 1.19e-02 3.83e+03 -11.0 2.97e-01    -  1.00e+00 1.00e+00f  1\n",
      "  46  1.4654354e+03 6.79e-05 4.24e+02 -11.0 2.49e-02    -  1.00e+00 1.00e+00f  1\n",
      "  47  1.4396514e+03 2.42e+00 5.19e+02 -11.0 9.83e+09    -  1.00e+00 1.86e-09f 30\n",
      "  48  1.3048487e+03 8.12e+00 4.50e+02 -11.0 8.49e+01    -  1.00e+00 1.25e-01f  4\n",
      "  49  1.2427868e+03 9.39e+00 4.17e+02 -11.0 2.48e+02    -  1.00e+00 6.25e-02f  5\n",
      "iter    objective    inf_pr   inf_du lg(mu)  ||d||  lg(rg) alpha_du alpha_pr  ls\n",
      "  50  1.1677266e+03 9.39e+00 3.90e+02 -11.0 1.47e+02    -  1.00e+00 6.25e-02f  5\n",
      "  51  1.1602357e+03 9.12e+00 3.78e+02 -11.0 1.40e+02    -  1.00e+00 3.12e-02f  6\n",
      "  52  1.1593133e+03 9.15e+00 3.78e+02 -11.0 2.21e+04    -  1.00e+00 1.22e-04f 14\n",
      "  53  1.1590987e+03 9.18e+00 3.78e+02 -11.0 1.29e+05    -  1.00e+00 3.05e-05f 16\n",
      "  54  1.1545850e+03 9.19e+00 3.78e+02 -11.0 7.93e+03    -  1.00e+00 1.22e-04f 14\n",
      "  55  1.1320035e+03 8.85e+00 3.66e+02 -11.0 1.62e+02    -  1.00e+00 3.12e-02f  6\n",
      "  56  1.1209048e+03 9.07e+00 3.65e+02 -11.0 3.56e+02    -  1.00e+00 7.81e-03f  8\n",
      "  57  1.2130640e+06 1.67e+04 8.42e+04 -11.0 1.27e+03    -  1.00e+00 1.00e+00w  1\n",
      "  58  4.7313933e+09 3.70e+13 1.79e+15 -11.0 8.86e+04    -  1.00e+00 1.00e+00w  1\n",
      "  59  1.4379197e+13 2.87e+19 1.13e+21 -11.0 8.10e+06    -  1.00e+00 1.00e+00w  1\n",
      "iter    objective    inf_pr   inf_du lg(mu)  ||d||  lg(rg) alpha_du alpha_pr  ls\n",
      "  60  1.1196348e+03 9.15e+00 3.65e+02 -11.0 1.57e+13    -  1.00e+00 9.77e-04f 10\n",
      "  61  1.1296260e+03 2.41e+00 1.47e+10 -11.0 2.33e+00    -  1.00e+00 1.00e+00h  1\n",
      "  62  1.1311678e+03 6.15e-03 1.27e+08 -11.0 1.66e-01    -  1.00e+00 1.00e+00h  1\n",
      "  63  1.1311868e+03 9.41e-08 2.18e+02 -11.0 1.62e-03    -  1.00e+00 1.00e+00h  1\n",
      "  64  1.1309089e+03 1.16e-05 6.19e+01 -11.0 1.85e-02   1.9 1.00e+00 1.00e+00f  1\n",
      "  65  1.1283439e+03 8.76e-04 6.06e+01 -11.0 1.65e-01   1.0 1.00e+00 1.00e+00f  1\n",
      "  66  1.1283432e+03 6.30e-10 3.12e+00 -11.0 1.64e-04   5.0 1.00e+00 1.00e+00h  1\n",
      "  67  1.1283409e+03 6.62e-09 3.12e+00 -11.0 8.93e-05   4.5 1.00e+00 1.00e+00f  1\n",
      "  68  9.5357378e+02 3.55e+01 7.93e+01 -11.0 1.80e+01    -  1.00e+00 1.00e+00f  1\n",
      "  69  8.4602953e+02 4.24e+01 6.58e+01 -11.0 1.87e+01    -  1.00e+00 1.00e+00f  1\n",
      "iter    objective    inf_pr   inf_du lg(mu)  ||d||  lg(rg) alpha_du alpha_pr  ls\n",
      "  70  7.8327986e+02 6.21e+00 2.48e+01 -11.0 9.70e+00    -  1.00e+00 1.00e+00f  1\n",
      "  71  7.2602818e+02 1.08e+00 7.09e+00 -11.0 5.21e+00    -  1.00e+00 1.00e+00f  1\n",
      "  72  7.2414995e+02 1.03e+00 6.26e+00 -11.0 3.02e+00    -  1.00e+00 1.00e+00f  1\n",
      "  73  7.0355613e+02 1.18e+00 1.05e+01 -11.0 1.05e+01    -  1.00e+00 1.00e+00F  1\n",
      "  74  7.0998214e+02 5.30e-01 1.34e+01 -11.0 4.34e+00    -  1.00e+00 1.00e+00H  1\n",
      "  75  7.0736912e+02 1.37e+00 7.36e+00 -11.0 1.85e+00    -  1.00e+00 1.00e+00f  1\n",
      "  76  7.0686385e+02 2.05e-01 2.87e+00 -11.0 1.18e+00    -  1.00e+00 1.00e+00h  1\n",
      "  77  7.0679861e+02 1.94e-01 2.25e+00 -11.0 1.15e+00    -  1.00e+00 1.00e+00h  1\n",
      "  78  7.0594765e+02 4.57e-02 3.04e+00 -11.0 2.21e+00    -  1.00e+00 1.00e+00H  1\n",
      "  79  7.0615969e+02 5.83e-04 2.49e+00 -11.0 1.04e+00    -  1.00e+00 1.00e+00H  1\n",
      "iter    objective    inf_pr   inf_du lg(mu)  ||d||  lg(rg) alpha_du alpha_pr  ls\n",
      "  80  7.0603014e+02 7.77e-04 4.16e-01 -11.0 7.42e-01    -  1.00e+00 1.00e+00F  1\n",
      "  81  7.0602709e+02 3.72e-05 1.22e-01 -11.0 1.62e-01    -  1.00e+00 1.00e+00H  1\n",
      "  82  7.0602801e+02 1.76e-05 2.77e-01 -11.0 5.84e-02    -  1.00e+00 1.00e+00H  1\n",
      "  83  7.0602492e+02 1.18e-05 6.68e-02 -11.0 8.13e-02    -  1.00e+00 1.00e+00H  1\n",
      "  84  7.0602485e+02 1.02e-04 4.13e-02 -11.0 3.25e-02    -  1.00e+00 1.00e+00h  1\n",
      "  85  7.0602470e+02 1.87e-05 3.66e-03 -11.0 1.90e-02    -  1.00e+00 1.00e+00h  1\n",
      "  86  7.0602477e+02 7.87e-08 9.46e-05 -11.0 1.35e-03    -  1.00e+00 1.00e+00h  1\n",
      "  87  7.0602477e+02 1.29e-10 2.75e-05 -11.0 2.38e-03    -  1.00e+00 1.00e+00H  1\n",
      "  88  7.0602477e+02 2.50e-13 3.88e-05 -11.0 5.77e-04    -  1.00e+00 1.00e+00H  1\n",
      "  89  7.0602477e+02 7.21e-13 2.58e-06 -11.0 5.33e-04    -  1.00e+00 1.00e+00H  1\n",
      "iter    objective    inf_pr   inf_du lg(mu)  ||d||  lg(rg) alpha_du alpha_pr  ls\n",
      "  90  7.0602477e+02 1.60e-14 4.56e-06 -11.0 4.57e-05    -  1.00e+00 1.00e+00H  1\n",
      "  91  7.0602477e+02 8.42e-11 2.54e-06 -11.0 2.61e-05    -  1.00e+00 1.00e+00h  1\n",
      "  92  7.0602477e+02 6.60e-11 2.01e-06 -11.0 1.73e-05    -  1.00e+00 1.00e+00h  1\n",
      "  93  7.0602477e+02 1.30e-11 1.22e-07 -11.0 1.02e-05    -  1.00e+00 1.00e+00h  1\n",
      "\n",
      "Number of Iterations....: 93\n",
      "\n",
      "                                   (scaled)                 (unscaled)\n",
      "Objective...............:   7.0602477170169550e+02    7.0602477170169550e+02\n",
      "Dual infeasibility......:   1.2163097329320749e-07    1.2163097329320749e-07\n",
      "Constraint violation....:   1.3042400492935258e-11    1.3042400492935258e-11\n",
      "Complementarity.........:   0.0000000000000000e+00    0.0000000000000000e+00\n",
      "Overall NLP error.......:   1.2163097329320749e-07    1.2163097329320749e-07\n",
      "\n",
      "\n",
      "Number of objective function evaluations             = 370\n",
      "Number of objective gradient evaluations             = 94\n",
      "Number of equality constraint evaluations            = 408\n",
      "Number of inequality constraint evaluations          = 0\n",
      "Number of equality constraint Jacobian evaluations   = 94\n",
      "Number of inequality constraint Jacobian evaluations = 0\n",
      "Number of Lagrangian Hessian evaluations             = 0\n",
      "Total CPU secs in IPOPT (w/o function evaluations)   =     16.650\n",
      "Total CPU secs in NLP function evaluations           =      5.745\n",
      "\n",
      "EXIT: Optimal Solution Found.\n"
     ]
    }
   ],
   "source": [
    "prob = ProblemMOI(n_nlp, m_nlp)\n",
    "z_sol = solve(z0,prob) #solve\n",
    "ztraj = reshape(z_sol,Nx+Nu,Nt)\n",
    "xtraj = ztraj[1:Nx,:]\n",
    "utraj = ztraj[(Nx+1):(Nx+Nu),:];"
   ]
  },
  {
   "cell_type": "code",
   "execution_count": 15,
   "id": "aea494f6",
   "metadata": {},
   "outputs": [
    {
     "data": {
      "image/png": "[encoded data removed]",
      "text/plain": [
       "Figure(PyObject <Figure size 640x480 with 1 Axes>)"
      ]
     },
     "metadata": {},
     "output_type": "display_data"
    },
    {
     "data": {
      "text/plain": [
       "1-element Vector{PyCall.PyObject}:\n",
       " PyObject <matplotlib.lines.Line2D object at 0x7f5d2d48c8b0>"
      ]
     },
     "execution_count": 15,
     "metadata": {},
     "output_type": "execute_result"
    }
   ],
   "source": [
    "plot(thist, xtraj[1,:])\n",
    "plot(thist, xtraj[2,:])\n",
    "plot(thist, xguess[1,:])"
   ]
  },
  {
   "cell_type": "code",
   "execution_count": 16,
   "id": "08396b31",
   "metadata": {},
   "outputs": [
    {
     "data": {
      "image/png": "[encoded data removed]",
      "text/plain": [
       "Figure(PyObject <Figure size 640x480 with 1 Axes>)"
      ]
     },
     "metadata": {},
     "output_type": "display_data"
    },
    {
     "data": {
      "text/plain": [
       "1-element Vector{PyCall.PyObject}:\n",
       " PyObject <matplotlib.lines.Line2D object at 0x7f5d2c4e0fa0>"
      ]
     },
     "execution_count": 16,
     "metadata": {},
     "output_type": "execute_result"
    }
   ],
   "source": [
    "plot(thist, xtraj[3,:])\n",
    "plot(thist, xtraj[4,:])"
   ]
  },
  {
   "cell_type": "code",
   "execution_count": 17,
   "id": "ec30aed8",
   "metadata": {},
   "outputs": [
    {
     "data": {
      "image/png": "[encoded data removed]",
      "text/plain": [
       "Figure(PyObject <Figure size 640x480 with 1 Axes>)"
      ]
     },
     "metadata": {},
     "output_type": "display_data"
    },
    {
     "data": {
      "text/plain": [
       "1-element Vector{PyCall.PyObject}:\n",
       " PyObject <matplotlib.lines.Line2D object at 0x7f5d2c459f10>"
      ]
     },
     "execution_count": 17,
     "metadata": {},
     "output_type": "execute_result"
    }
   ],
   "source": [
    "plot(thist,utraj[1,:])"
   ]
  },
  {
   "cell_type": "code",
   "execution_count": 18,
   "id": "8bb042d7",
   "metadata": {},
   "outputs": [
    {
     "name": "stderr",
     "output_type": "stream",
     "text": [
      "\u001b[32m\u001b[1m   Resolving\u001b[22m\u001b[39m package versions...\n",
      "\u001b[32m\u001b[1m  No Changes\u001b[22m\u001b[39m to `~/Documents/Optimal_Control/Sims/Direct_Collocation/Project.toml`\n",
      "\u001b[32m\u001b[1m  No Changes\u001b[22m\u001b[39m to `~/Documents/Optimal_Control/Sims/Direct_Collocation/Manifest.toml`\n",
      "\u001b[32m\u001b[1m   Resolving\u001b[22m\u001b[39m package versions...\n",
      "\u001b[32m\u001b[1m  No Changes\u001b[22m\u001b[39m to `~/Documents/Optimal_Control/Sims/Direct_Collocation/Project.toml`\n",
      "\u001b[32m\u001b[1m  No Changes\u001b[22m\u001b[39m to `~/Documents/Optimal_Control/Sims/Direct_Collocation/Manifest.toml`\n",
      "\u001b[32m\u001b[1m   Resolving\u001b[22m\u001b[39m package versions...\n",
      "\u001b[32m\u001b[1m  No Changes\u001b[22m\u001b[39m to `~/Documents/Optimal_Control/Sims/Direct_Collocation/Project.toml`\n",
      "\u001b[32m\u001b[1m  No Changes\u001b[22m\u001b[39m to `~/Documents/Optimal_Control/Sims/Direct_Collocation/Manifest.toml`\n",
      "\u001b[36m\u001b[1m[ \u001b[22m\u001b[39m\u001b[36m\u001b[1mInfo: \u001b[22m\u001b[39mPrecompiling TrajOptPlots [7770976a-8dee-4930-bf39-a1782fd21ce6]\n",
      "WARNING: method definition for centered at /home/khanshis/.julia/packages/GeometryBasics/pjtu1/src/primitives/rectangles.jl:515 declares type variable N but does not use it.\n",
      "WARNING: method definition for volume at /home/khanshis/.julia/packages/GeometryBasics/pjtu1/src/meshes.jl:209 declares type variable FT but does not use it.\n",
      "WARNING: method definition for volume at /home/khanshis/.julia/packages/GeometryBasics/pjtu1/src/meshes.jl:209 declares type variable VT but does not use it.\n",
      "WARNING: method definition for volume at /home/khanshis/.julia/packages/GeometryBasics/pjtu1/src/meshes.jl:221 declares type variable FT but does not use it.\n",
      "WARNING: method definition for volume at /home/khanshis/.julia/packages/GeometryBasics/pjtu1/src/meshes.jl:221 declares type variable VT but does not use it.\n"
     ]
    }
   ],
   "source": [
    "Pkg.add(\"TrajOptPlots\")\n",
    "Pkg.add(\"MeshCat\")\n",
    "Pkg.add(\"StaticArrays\")\n",
    "using TrajOptPlots\n",
    "using MeshCat\n",
    "using StaticArrays"
   ]
  },
  {
   "cell_type": "code",
   "execution_count": 19,
   "id": "25d1ff82",
   "metadata": {
    "scrolled": true
   },
   "outputs": [
    {
     "name": "stderr",
     "output_type": "stream",
     "text": [
      "\u001b[36m\u001b[1m┌ \u001b[22m\u001b[39m\u001b[36m\u001b[1mInfo: \u001b[22m\u001b[39mMeshCat server started. You can open the visualizer by visiting the following URL in your browser:\n",
      "\u001b[36m\u001b[1m└ \u001b[22m\u001b[39mhttp://127.0.0.1:8702\n"
     ]
    },
    {
     "data": {
      "text/html": [
       "    <div style=\"height: 500px; width: 100%; overflow-x: auto; overflow-y: hidden; resize: both\">\n",
       "    <iframe src=\"http://127.0.0.1:8702\" style=\"width: 100%; height: 100%; border: none\"></iframe>\n",
       "    </div>\n"
      ],
      "text/plain": [
       "MeshCat.DisplayedVisualizer(MeshCat.CoreVisualizer(MeshCat.SceneTrees.SceneNode(nothing, nothing, Dict{String, Vector{UInt8}}(), nothing, Dict{String, MeshCat.SceneTrees.SceneNode}()), Set{Any}(), ip\"127.0.0.1\", 8702))"
      ]
     },
     "execution_count": 19,
     "metadata": {},
     "output_type": "execute_result"
    }
   ],
   "source": [
    "vis = Visualizer()\n",
    "render(vis)"
   ]
  },
  {
   "cell_type": "code",
   "execution_count": 20,
   "id": "c4b02a86",
   "metadata": {},
   "outputs": [
    {
     "data": {
      "text/plain": [
       "MeshCat Visualizer with path /meshcat/robot/link1/joint at http://127.0.0.1:8702"
      ]
     },
     "execution_count": 20,
     "metadata": {},
     "output_type": "execute_result"
    }
   ],
   "source": [
    "TrajOptPlots.set_mesh!(vis, a)"
   ]
  },
  {
   "cell_type": "code",
   "execution_count": 22,
   "id": "ab802d0b",
   "metadata": {},
   "outputs": [],
   "source": [
    "X1 = [SVector{4}(x) for x in eachcol(xtraj)];\n",
    "visualize!(vis, a, thist[end], X1)"
   ]
  },
  {
   "cell_type": "code",
   "execution_count": null,
   "id": "238ae108",
   "metadata": {},
   "outputs": [],
   "source": []
  }
 ],
 "metadata": {
  "kernelspec": {
   "display_name": "Julia 1.8.3",
   "language": "julia",
   "name": "julia-1.8"
  },
  "language_info": {
   "file_extension": ".jl",
   "mimetype": "application/julia",
   "name": "julia",
   "version": "1.8.3"
  }
 },
 "nbformat": 4,
 "nbformat_minor": 5
}
