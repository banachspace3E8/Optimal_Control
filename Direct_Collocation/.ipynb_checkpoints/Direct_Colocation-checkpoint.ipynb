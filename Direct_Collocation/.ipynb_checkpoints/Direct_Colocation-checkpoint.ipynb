{
 "cells": [
  {
   "cell_type": "code",
   "execution_count": 1,
   "id": "587ec715",
   "metadata": {},
   "outputs": [],
   "source": [
    "#Shishir Khanal\n",
    "#CMU-Optimal Controls from Jack Manchester\n",
    "#Vertical balancing of an acrobot using DIRCOL"
   ]
  },
  {
   "cell_type": "code",
   "execution_count": 6,
   "id": "935a5b38",
   "metadata": {},
   "outputs": [
    {
     "name": "stderr",
     "output_type": "stream",
     "text": [
      "\u001b[32m\u001b[1m  Activating\u001b[22m\u001b[39m project at `~/Documents/Optimal_Control/Sims/Direct_Collocation`\n",
      "\u001b[32m\u001b[1m   Resolving\u001b[22m\u001b[39m package versions...\n",
      "\u001b[32m\u001b[1m  No Changes\u001b[22m\u001b[39m to `~/Documents/Optimal_Control/Sims/Direct_Collocation/Project.toml`\n",
      "\u001b[32m\u001b[1m  No Changes\u001b[22m\u001b[39m to `~/Documents/Optimal_Control/Sims/Direct_Collocation/Manifest.toml`\n",
      "\u001b[32m\u001b[1m   Resolving\u001b[22m\u001b[39m package versions...\n",
      "\u001b[32m\u001b[1m  No Changes\u001b[22m\u001b[39m to `~/Documents/Optimal_Control/Sims/Direct_Collocation/Project.toml`\n",
      "\u001b[32m\u001b[1m  No Changes\u001b[22m\u001b[39m to `~/Documents/Optimal_Control/Sims/Direct_Collocation/Manifest.toml`\n",
      "\u001b[32m\u001b[1m   Resolving\u001b[22m\u001b[39m package versions...\n",
      "\u001b[32m\u001b[1m  No Changes\u001b[22m\u001b[39m to `~/Documents/Optimal_Control/Sims/Direct_Collocation/Project.toml`\n",
      "\u001b[32m\u001b[1m  No Changes\u001b[22m\u001b[39m to `~/Documents/Optimal_Control/Sims/Direct_Collocation/Manifest.toml`\n",
      "\u001b[32m\u001b[1m   Resolving\u001b[22m\u001b[39m package versions...\n",
      "\u001b[32m\u001b[1m  No Changes\u001b[22m\u001b[39m to `~/Documents/Optimal_Control/Sims/Direct_Collocation/Project.toml`\n",
      "\u001b[32m\u001b[1m  No Changes\u001b[22m\u001b[39m to `~/Documents/Optimal_Control/Sims/Direct_Collocation/Manifest.toml`\n",
      "\u001b[32m\u001b[1m   Resolving\u001b[22m\u001b[39m package versions...\n",
      "\u001b[32m\u001b[1m  No Changes\u001b[22m\u001b[39m to `~/Documents/Optimal_Control/Sims/Direct_Collocation/Project.toml`\n",
      "\u001b[32m\u001b[1m  No Changes\u001b[22m\u001b[39m to `~/Documents/Optimal_Control/Sims/Direct_Collocation/Manifest.toml`\n",
      "\u001b[32m\u001b[1m   Resolving\u001b[22m\u001b[39m package versions...\n",
      "\u001b[32m\u001b[1m  No Changes\u001b[22m\u001b[39m to `~/Documents/Optimal_Control/Sims/Direct_Collocation/Project.toml`\n",
      "\u001b[32m\u001b[1m  No Changes\u001b[22m\u001b[39m to `~/Documents/Optimal_Control/Sims/Direct_Collocation/Manifest.toml`\n",
      "\u001b[32m\u001b[1m   Resolving\u001b[22m\u001b[39m package versions...\n",
      "\u001b[32m\u001b[1m  No Changes\u001b[22m\u001b[39m to `~/Documents/Optimal_Control/Sims/Direct_Collocation/Project.toml`\n",
      "\u001b[32m\u001b[1m  No Changes\u001b[22m\u001b[39m to `~/Documents/Optimal_Control/Sims/Direct_Collocation/Manifest.toml`\n",
      "\u001b[36m\u001b[1m[ \u001b[22m\u001b[39m\u001b[36m\u001b[1mInfo: \u001b[22m\u001b[39mPrecompiling Ipopt [b6b21f68-93f8-5de0-b562-5493be1d77c9]\n"
     ]
    }
   ],
   "source": [
    "import Pkg; Pkg.activate(@__DIR__); Pkg.instantiate()\n",
    "Pkg.add(\"PyPlot\")\n",
    "Pkg.add(\"LinearAlgebra\")\n",
    "Pkg.add(\"ForwardDiff\")\n",
    "Pkg.add(\"RobotZoo\")\n",
    "Pkg.add(\"RobotDynamics\")\n",
    "Pkg.add(\"Ipopt\")\n",
    "Pkg.add(\"MathOptInterface\")\n",
    "using LinearAlgebra, PyPlot\n",
    "using ForwardDiff\n",
    "using RobotZoo\n",
    "const RZ = RobotZoo\n",
    "using RobotDynamics\n",
    "using Ipopt\n",
    "using MathOptInterface\n",
    "const MOI = MathOptInterface;"
   ]
  },
  {
   "cell_type": "code",
   "execution_count": 7,
   "id": "a756ff98",
   "metadata": {},
   "outputs": [
    {
     "data": {
      "text/plain": [
       "0.1"
      ]
     },
     "execution_count": 7,
     "metadata": {},
     "output_type": "execute_result"
    }
   ],
   "source": [
    "#Pendulum Dynamics\n",
    "a = RobotZoo.Acrobot()\n",
    "h = 0.1 #10Hz"
   ]
  },
  {
   "cell_type": "code",
   "execution_count": 8,
   "id": "ff163a38",
   "metadata": {},
   "outputs": [
    {
     "data": {
      "text/plain": [
       "208"
      ]
     },
     "execution_count": 8,
     "metadata": {},
     "output_type": "execute_result"
    }
   ],
   "source": [
    "Nx = 4 #number of states\n",
    "Nu = 1 #number of controls\n",
    "Tfinal = 5.0 #final time\n",
    "Nt = Int(Tfinal/h)+1 #number of time steps\n",
    "thist = Array(range(0, h*(Nt-1), step=h));\n",
    "n_nlp = (Nx+Nu)*Nt #number of decision variables\n",
    "m_nlp = Nx*(Nt+1)"
   ]
  },
  {
   "cell_type": "code",
   "execution_count": 9,
   "id": "d983f726",
   "metadata": {},
   "outputs": [
    {
     "data": {
      "text/plain": [
       "dircol_dynamics (generic function with 1 method)"
      ]
     },
     "execution_count": 9,
     "metadata": {},
     "output_type": "execute_result"
    }
   ],
   "source": [
    "function dircol_dynamics(x1,u1,x2,u2)\n",
    "    #Hermite-Simpson integration with first-order hold on u\n",
    "    f1 = RZ.dynamics(a, x1, u1)\n",
    "    f2 = RZ.dynamics(a, x2, u2)\n",
    "    xm = 0.5*(x1 + x2) + (h/8.0)*(f1 - f2)\n",
    "    um = 0.5*(u1 + u2)\n",
    "    ẋm = (-3/(2.0*h))*(x1 - x2) - 0.25*(f1 + f2)\n",
    "    fm = RZ.dynamics(a, xm, um)\n",
    "    return fm - ẋm\n",
    "end"
   ]
  },
  {
   "cell_type": "code",
   "execution_count": 10,
   "id": "6779b221",
   "metadata": {},
   "outputs": [],
   "source": [
    "#Cost weights\n",
    "Q = Diagonal([1.0*ones(2); 1.0*ones(2)]);\n",
    "R = 0.1;"
   ]
  },
  {
   "cell_type": "code",
   "execution_count": 11,
   "id": "fb847274",
   "metadata": {},
   "outputs": [
    {
     "data": {
      "text/plain": [
       "stage_cost (generic function with 1 method)"
      ]
     },
     "execution_count": 11,
     "metadata": {},
     "output_type": "execute_result"
    }
   ],
   "source": [
    "function stage_cost(x,u)\n",
    "    return 0.5*((x-xgoal)'*Q*(x-xgoal)) + 0.5*u'*R*u\n",
    "end"
   ]
  },
  {
   "cell_type": "code",
   "execution_count": 12,
   "id": "e5665d91",
   "metadata": {},
   "outputs": [
    {
     "data": {
      "text/plain": [
       "cost (generic function with 1 method)"
      ]
     },
     "execution_count": 12,
     "metadata": {},
     "output_type": "execute_result"
    }
   ],
   "source": [
    "function cost(ztraj)\n",
    "    z = reshape(ztraj, Nx+Nu, Nt)\n",
    "    J = 0.0\n",
    "    for k=1:Nt\n",
    "        J += stage_cost(z[1:Nx,k],z[(Nx+1):(Nx+Nu),k])\n",
    "    end\n",
    "    return J\n",
    "end"
   ]
  },
  {
   "cell_type": "code",
   "execution_count": 13,
   "id": "524acc87",
   "metadata": {},
   "outputs": [
    {
     "data": {
      "text/plain": [
       "dynamics_constraint! (generic function with 1 method)"
      ]
     },
     "execution_count": 13,
     "metadata": {},
     "output_type": "execute_result"
    }
   ],
   "source": [
    "function dynamics_constraint!(c,ztraj)\n",
    "    d = reshape(c, Nx, Nt-1)\n",
    "    z = reshape(ztraj, Nx+Nu, Nt)\n",
    "    for k = 1:(Nt-1)\n",
    "        x1 = z[1:Nx,k]\n",
    "        u1 = z[(Nx+1):(Nx+Nu),k]\n",
    "        x2 = z[1:Nx,k+1]\n",
    "        u2 = z[(Nx+1):(Nx+Nu),k+1]\n",
    "        d[:,k] = dircol_dynamics(x1,u1,x2,u2)\n",
    "    end\n",
    "    return nothing\n",
    "end"
   ]
  },
  {
   "cell_type": "code",
   "execution_count": 14,
   "id": "35f3e194",
   "metadata": {},
   "outputs": [
    {
     "data": {
      "text/plain": [
       "con! (generic function with 1 method)"
      ]
     },
     "execution_count": 14,
     "metadata": {},
     "output_type": "execute_result"
    }
   ],
   "source": [
    "function con!(c,ztraj)\n",
    "    z = reshape(ztraj,Nx+Nu,Nt)\n",
    "    c[1:Nx] .= z[1:Nx,1] - x0\n",
    "    @views dynamics_constraint!(c[(Nx+1):(end-Nx)],ztraj)\n",
    "    c[(end-Nx+1):end] .= z[1:Nx,end] - xgoal\n",
    "end"
   ]
  },
  {
   "cell_type": "code",
   "execution_count": 15,
   "id": "f7a00af7",
   "metadata": {},
   "outputs": [
    {
     "data": {
      "text/plain": [
       "solve (generic function with 1 method)"
      ]
     },
     "execution_count": 15,
     "metadata": {},
     "output_type": "execute_result"
    }
   ],
   "source": [
    "struct ProblemMOI <: MOI.AbstractNLPEvaluator\n",
    "    n_nlp::Int\n",
    "    m_nlp::Int\n",
    "    idx_ineq\n",
    "    obj_grad::Bool\n",
    "    con_jac::Bool\n",
    "    sparsity_jac\n",
    "    sparsity_hess\n",
    "    primal_bounds\n",
    "    constraint_bounds\n",
    "    hessian_lagrangian::Bool\n",
    "end\n",
    "\n",
    "function ProblemMOI(n_nlp,m_nlp;\n",
    "        idx_ineq=(1:0),\n",
    "        obj_grad=true,\n",
    "        con_jac=true,\n",
    "        sparsity_jac=sparsity_jacobian(n_nlp,m_nlp),\n",
    "        sparsity_hess=sparsity_hessian(n_nlp,m_nlp),\n",
    "        primal_bounds=primal_bounds(n_nlp),\n",
    "        constraint_bounds=constraint_bounds(m_nlp,idx_ineq=idx_ineq),\n",
    "        hessian_lagrangian=false)\n",
    "\n",
    "    ProblemMOI(n_nlp,m_nlp,\n",
    "        idx_ineq,\n",
    "        obj_grad,\n",
    "        con_jac,\n",
    "        sparsity_jac,\n",
    "        sparsity_hess,\n",
    "        primal_bounds,\n",
    "        constraint_bounds,\n",
    "        hessian_lagrangian)\n",
    "end\n",
    "\n",
    "function primal_bounds(n)\n",
    "    x_l = -Inf*ones(n)\n",
    "    x_u = Inf*ones(n)\n",
    "    return x_l, x_u\n",
    "end\n",
    "\n",
    "function constraint_bounds(m; idx_ineq=(1:0))\n",
    "    c_l = zeros(m)\n",
    "    c_l[idx_ineq] .= -Inf\n",
    "\n",
    "    c_u = zeros(m)\n",
    "    return c_l, c_u\n",
    "end\n",
    "\n",
    "function row_col!(row,col,r,c)\n",
    "    for cc in c\n",
    "        for rr in r\n",
    "            push!(row,convert(Int,rr))\n",
    "            push!(col,convert(Int,cc))\n",
    "        end\n",
    "    end\n",
    "    return row, col\n",
    "end\n",
    "\n",
    "function sparsity_jacobian(n,m)\n",
    "\n",
    "    row = []\n",
    "    col = []\n",
    "\n",
    "    r = 1:m\n",
    "    c = 1:n\n",
    "\n",
    "    row_col!(row,col,r,c)\n",
    "\n",
    "    return collect(zip(row,col))\n",
    "end\n",
    "\n",
    "function sparsity_hessian(n,m)\n",
    "\n",
    "    row = []\n",
    "    col = []\n",
    "\n",
    "    r = 1:m\n",
    "    c = 1:n\n",
    "\n",
    "    row_col!(row,col,r,c)\n",
    "\n",
    "    return collect(zip(row,col))\n",
    "end\n",
    "\n",
    "function MOI.eval_objective(prob::MOI.AbstractNLPEvaluator, x)\n",
    "    cost(x)\n",
    "end\n",
    "\n",
    "function MOI.eval_objective_gradient(prob::MOI.AbstractNLPEvaluator, grad_f, x)\n",
    "    ForwardDiff.gradient!(grad_f,cost,x)\n",
    "    return nothing\n",
    "end\n",
    "\n",
    "function MOI.eval_constraint(prob::MOI.AbstractNLPEvaluator,g,x)\n",
    "    con!(g,x)\n",
    "    return nothing\n",
    "end\n",
    "\n",
    "function MOI.eval_constraint_jacobian(prob::MOI.AbstractNLPEvaluator, jac, x)\n",
    "    ForwardDiff.jacobian!(reshape(jac,prob.m_nlp,prob.n_nlp), con!, zeros(prob.m_nlp), x)\n",
    "    return nothing\n",
    "end\n",
    "\n",
    "function MOI.features_available(prob::MOI.AbstractNLPEvaluator)\n",
    "    return [:Grad, :Jac]\n",
    "end\n",
    "\n",
    "MOI.initialize(prob::MOI.AbstractNLPEvaluator, features) = nothing\n",
    "MOI.jacobian_structure(prob::MOI.AbstractNLPEvaluator) = prob.sparsity_jac\n",
    "\n",
    "function solve(x0,prob::MOI.AbstractNLPEvaluator;\n",
    "        tol=1.0e-6,c_tol=1.0e-6,max_iter=10000)\n",
    "    x_l, x_u = prob.primal_bounds\n",
    "    c_l, c_u = prob.constraint_bounds\n",
    "\n",
    "    nlp_bounds = MOI.NLPBoundsPair.(c_l,c_u)\n",
    "    block_data = MOI.NLPBlockData(nlp_bounds,prob,true)\n",
    "\n",
    "    solver = Ipopt.Optimizer()\n",
    "    solver.options[\"max_iter\"] = max_iter\n",
    "    solver.options[\"tol\"] = tol\n",
    "    solver.options[\"constr_viol_tol\"] = c_tol\n",
    "\n",
    "    x = MOI.add_variables(solver,prob.n_nlp)\n",
    "\n",
    "    for i = 1:prob.n_nlp\n",
    "        MOI.add_constraint(solver, x[i], MOI.LessThan(x_u[i]))\n",
    "        MOI.add_constraint(solver, x[i], MOI.GreaterThan(x_l[i]))\n",
    "        MOI.set(solver, MOI.VariablePrimalStart(), x[i], x0[i])\n",
    "    end\n",
    "\n",
    "    # Solve the problem\n",
    "    MOI.set(solver, MOI.NLPBlock(), block_data)\n",
    "    MOI.set(solver, MOI.ObjectiveSense(), MOI.MIN_SENSE)\n",
    "    MOI.optimize!(solver)\n",
    "\n",
    "    # Get the solution\n",
    "    res = MOI.get(solver, MOI.VariablePrimal(), x)\n",
    "\n",
    "    return res\n",
    "end"
   ]
  },
  {
   "cell_type": "code",
   "execution_count": 19,
   "id": "fac41a82",
   "metadata": {},
   "outputs": [],
   "source": [
    "#Initial and goal states\n",
    "x0 = [-pi/2; 0; 0; 0]\n",
    "xgoal = [pi/2; 0; 0; 0]\n",
    "xtraj = kron(ones(1,Nt), x0);"
   ]
  },
  {
   "cell_type": "code",
   "execution_count": 20,
   "id": "6f484790",
   "metadata": {},
   "outputs": [],
   "source": [
    "#Guess\n",
    "xguess = kron(ones(Nt)', x0)\n",
    "xguess[1,:] .= xtraj[1,:] + 0.1*randn(Nt)\n",
    "uguess = zeros(Nt)'\n",
    "z0 = reshape([xguess; uguess],(Nx+Nu)*Nt,1);"
   ]
  },
  {
   "cell_type": "code",
   "execution_count": 21,
   "id": "d48134b9",
   "metadata": {},
   "outputs": [
    {
     "name": "stdout",
     "output_type": "stream",
     "text": [
      "\n",
      "******************************************************************************\n",
      "This program contains Ipopt, a library for large-scale nonlinear optimization.\n",
      " Ipopt is released as open source code under the Eclipse Public License (EPL).\n",
      "         For more information visit https://github.com/coin-or/Ipopt\n",
      "******************************************************************************\n",
      "\n",
      "This is Ipopt version 3.14.10, running with linear solver MUMPS 5.5.1.\n",
      "\n",
      "Number of nonzeros in equality constraint Jacobian...:    53040\n",
      "Number of nonzeros in inequality constraint Jacobian.:        0\n",
      "Number of nonzeros in Lagrangian Hessian.............:        0\n",
      "\n",
      "Total number of variables............................:      255\n",
      "                     variables with only lower bounds:        0\n",
      "                variables with lower and upper bounds:        0\n",
      "                     variables with only upper bounds:        0\n",
      "Total number of equality constraints.................:      208\n",
      "Total number of inequality constraints...............:        0\n",
      "        inequality constraints with only lower bounds:        0\n",
      "   inequality constraints with lower and upper bounds:        0\n",
      "        inequality constraints with only upper bounds:        0\n",
      "\n",
      "iter    objective    inf_pr   inf_du lg(mu)  ||d||  lg(rg) alpha_du alpha_pr  ls\n",
      "   0  2.5512300e+02 5.69e+00 2.14e-01   0.0 0.00e+00    -  0.00e+00 0.00e+00   0\n",
      "   1  2.8593624e+02 5.33e+00 5.43e+00 -11.0 4.59e+01    -  1.00e+00 6.25e-02h  5\n",
      "   2  3.1242845e+02 5.17e+00 9.44e+00 -11.0 4.68e+01    -  1.00e+00 3.12e-02h  6\n",
      "   3  3.4174494e+02 5.01e+00 1.44e+01 -11.0 3.86e+01    -  1.00e+00 3.12e-02h  6\n",
      "   4  3.7052126e+02 4.85e+00 1.94e+01 -11.0 3.18e+01    -  1.00e+00 3.12e-02h  6\n",
      "   5  3.9933721e+02 4.70e+00 2.54e+01 -11.0 2.46e+01    -  1.00e+00 3.12e-02h  6\n",
      "   6  4.5600662e+02 4.40e+00 3.83e+01 -11.0 2.16e+01    -  1.00e+00 6.25e-02h  5\n",
      "   7  5.0610873e+02 4.13e+00 5.83e+01 -11.0 1.71e+01    -  1.00e+00 6.25e-02h  5\n",
      "   8  6.0761551e+02 3.61e+00 1.10e+02 -11.0 1.81e+01    -  1.00e+00 1.25e-01h  4\n",
      "   9  8.1921180e+02 2.71e+00 2.25e+02 -11.0 2.19e+01    -  1.00e+00 2.50e-01h  3\n",
      "iter    objective    inf_pr   inf_du lg(mu)  ||d||  lg(rg) alpha_du alpha_pr  ls\n",
      "  10  9.7447050e+02 2.04e+00 2.68e+02 -11.0 1.93e+01    -  1.00e+00 2.50e-01h  3\n",
      "  11  1.2589708e+03 7.06e+01 6.44e+02 -11.0 1.61e+01    -  1.00e+00 1.00e+00w  1\n",
      "  12  9.1805273e+02 7.85e+01 2.21e+02 -11.0 8.77e+00    -  1.00e+00 1.00e+00w  1\n",
      "  13  1.0326086e+03 8.65e+01 7.34e+02 -11.0 1.08e+01    -  1.00e+00 1.00e+00w  1\n",
      "  14  9.8113647e+02 2.00e+00 2.38e+02 -11.0 1.02e+01    -  1.00e+00 1.25e-01h  3\n",
      "  15  9.7848132e+02 2.73e+00 2.21e+02 -11.0 1.41e+01    -  1.00e+00 1.25e-01f  4\n",
      "  16  9.7509015e+02 6.62e+00 2.29e+02 -11.0 1.41e+01    -  1.00e+00 2.50e-01f  3\n",
      "  17  9.8151030e+02 5.81e+00 2.29e+02 -11.0 1.21e+01    -  1.00e+00 1.25e-01h  4\n",
      "  18  9.6986827e+02 1.08e+01 1.88e+02 -11.0 1.53e+01    -  1.00e+00 2.50e-01f  3\n",
      "  19  9.6736605e+02 7.80e+00 1.57e+02 -11.0 2.10e+01    -  1.00e+00 2.50e-01f  3\n",
      "iter    objective    inf_pr   inf_du lg(mu)  ||d||  lg(rg) alpha_du alpha_pr  ls\n",
      "  20  1.3397366e+03 4.99e+00 1.68e+02 -11.0 1.90e+01    -  1.00e+00 1.00e+00H  1\n",
      "  21  9.6341982e+02 1.09e+01 9.08e+01 -11.0 1.24e+01    -  1.00e+00 1.00e+00F  1\n",
      "  22  8.2704843e+02 8.95e+00 9.01e+01 -11.0 1.27e+01    -  1.00e+00 1.00e+00F  1\n",
      "  23  7.9431754e+02 3.91e+00 4.51e+01 -11.0 4.65e+00    -  1.00e+00 1.00e+00f  1\n",
      "  24  7.6697456e+02 1.53e+00 3.15e+01 -11.0 4.21e+00    -  1.00e+00 1.00e+00f  1\n",
      "  25  7.5268090e+02 2.37e-01 1.95e+01 -11.0 2.30e+00    -  1.00e+00 1.00e+00f  1\n",
      "  26  7.3852085e+02 2.19e+00 6.73e+00 -11.0 5.89e+00    -  1.00e+00 1.00e+00f  1\n",
      "  27  7.3751735e+02 4.47e+00 1.39e+01 -11.0 5.17e+00    -  1.00e+00 1.00e+00f  1\n",
      "  28  7.3716678e+02 4.52e+00 1.68e+01 -11.0 1.81e+01    -  1.00e+00 2.50e-01f  3\n",
      "  29  7.3518743e+02 3.97e+00 2.17e+01 -11.0 2.36e+01    -  1.00e+00 2.50e-01f  3\n",
      "iter    objective    inf_pr   inf_du lg(mu)  ||d||  lg(rg) alpha_du alpha_pr  ls\n",
      "  30  7.3492257e+02 3.91e+00 2.59e+01 -11.0 2.76e+01    -  1.00e+00 1.25e-01f  4\n",
      "  31  7.0866511e+02 4.15e-01 1.66e+01 -11.0 5.94e+00    -  1.00e+00 1.00e+00f  1\n",
      "  32  7.0677512e+02 1.15e-01 4.83e+00 -11.0 1.57e+00    -  1.00e+00 1.00e+00f  1\n",
      "  33  7.0650551e+02 3.31e-02 2.27e+00 -11.0 7.91e-01    -  1.00e+00 1.00e+00h  1\n",
      "  34  7.0630363e+02 4.04e-02 3.50e+00 -11.0 2.41e+00    -  1.00e+00 1.00e+00F  1\n",
      "  35  7.0657607e+02 1.04e-02 5.78e+00 -11.0 1.62e+00    -  1.00e+00 1.00e+00H  1\n",
      "  36  7.0465076e+02 3.08e-01 1.15e+00 -11.0 3.03e+00    -  1.00e+00 1.00e+00F  1\n",
      "  37  7.0627237e+02 3.03e-02 1.88e+00 -11.0 7.16e-01    -  1.00e+00 1.00e+00h  1\n",
      "  38  7.0625279e+02 1.22e-01 8.89e-01 -11.0 6.76e-01    -  1.00e+00 1.00e+00h  1\n",
      "  39  7.0608580e+02 1.99e-02 8.04e-01 -11.0 3.44e-01    -  1.00e+00 1.00e+00h  1\n",
      "iter    objective    inf_pr   inf_du lg(mu)  ||d||  lg(rg) alpha_du alpha_pr  ls\n",
      "  40  7.0603730e+02 4.86e-03 3.85e-02 -11.0 1.67e-01    -  1.00e+00 1.00e+00h  1\n",
      "  41  7.0602505e+02 8.89e-05 4.08e-02 -11.0 3.62e-02    -  1.00e+00 1.00e+00h  1\n",
      "  42  7.0602476e+02 1.64e-05 1.10e-02 -11.0 2.46e-02    -  1.00e+00 1.00e+00h  1\n",
      "  43  7.0602477e+02 8.38e-09 2.87e-05 -11.0 6.78e-04    -  1.00e+00 1.00e+00h  1\n",
      "  44  7.0602477e+02 2.74e-09 1.10e-05 -11.0 1.72e-04    -  1.00e+00 1.00e+00h  1\n",
      "  45  7.0602477e+02 2.40e-09 1.57e-05 -11.0 2.86e-04    -  1.00e+00 1.00e+00h  1\n",
      "  46  7.0602477e+02 4.55e-13 1.98e-05 -11.0 3.40e-04    -  1.00e+00 1.00e+00H  1\n",
      "  47  7.0602477e+02 9.59e-14 8.61e-06 -11.0 2.54e-04    -  1.00e+00 1.00e+00H  1\n",
      "  48  7.0602477e+02 4.97e-14 1.86e-05 -11.0 1.97e-04    -  1.00e+00 1.00e+00H  1\n",
      "  49  7.0602477e+02 9.27e-10 5.44e-07 -11.0 1.51e-04    -  1.00e+00 1.00e+00h  1\n",
      "\n",
      "Number of Iterations....: 49\n",
      "\n",
      "                                   (scaled)                 (unscaled)\n",
      "Objective...............:   7.0602477170258510e+02    7.0602477170258510e+02\n",
      "Dual infeasibility......:   5.4368658486403376e-07    5.4368658486403376e-07\n",
      "Constraint violation....:   9.2662899575657320e-10    9.2662899575657320e-10\n",
      "Variable bound violation:   0.0000000000000000e+00    0.0000000000000000e+00\n",
      "Complementarity.........:   0.0000000000000000e+00    0.0000000000000000e+00\n",
      "Overall NLP error.......:   5.4368658486403376e-07    5.4368658486403376e-07\n",
      "\n",
      "\n",
      "Number of objective function evaluations             = 147\n",
      "Number of objective gradient evaluations             = 50\n",
      "Number of equality constraint evaluations            = 147\n",
      "Number of inequality constraint evaluations          = 0\n",
      "Number of equality constraint Jacobian evaluations   = 50\n",
      "Number of inequality constraint Jacobian evaluations = 0\n",
      "Number of Lagrangian Hessian evaluations             = 0\n",
      "Total seconds in IPOPT                               = 11.666\n",
      "\n",
      "EXIT: Optimal Solution Found.\n"
     ]
    }
   ],
   "source": [
    "prob = ProblemMOI(n_nlp, m_nlp)\n",
    "z_sol = solve(z0,prob) #solve\n",
    "ztraj = reshape(z_sol,Nx+Nu,Nt)\n",
    "xtraj = ztraj[1:Nx,:]\n",
    "utraj = ztraj[(Nx+1):(Nx+Nu),:];"
   ]
  },
  {
   "cell_type": "code",
   "execution_count": 24,
   "id": "cf85fed1",
   "metadata": {},
   "outputs": [
    {
     "data": {
      "image/png": "[encoded data removed]",
      "text/plain": [
       "Figure(PyObject <Figure size 640x480 with 1 Axes>)"
      ]
     },
     "metadata": {},
     "output_type": "display_data"
    },
    {
     "data": {
      "text/plain": [
       "1-element Vector{PyCall.PyObject}:\n",
       " PyObject <matplotlib.lines.Line2D object at 0x7ff4827af550>"
      ]
     },
     "execution_count": 24,
     "metadata": {},
     "output_type": "execute_result"
    }
   ],
   "source": [
    "plot(thist, xtraj[1,:])\n",
    "plot(thist, xtraj[2,:])\n",
    "plot(thist, xguess[1,:])"
   ]
  },
  {
   "cell_type": "code",
   "execution_count": 26,
   "id": "140193cf",
   "metadata": {},
   "outputs": [
    {
     "data": {
      "image/png": "[encoded data removed]",
      "text/plain": [
       "Figure(PyObject <Figure size 640x480 with 1 Axes>)"
      ]
     },
     "metadata": {},
     "output_type": "display_data"
    },
    {
     "data": {
      "text/plain": [
       "1-element Vector{PyCall.PyObject}:\n",
       " PyObject <matplotlib.lines.Line2D object at 0x7ff4826a44c0>"
      ]
     },
     "execution_count": 26,
     "metadata": {},
     "output_type": "execute_result"
    }
   ],
   "source": [
    "plot(thist, xtraj[3,:])\n",
    "plot(thist, xtraj[4,:])"
   ]
  },
  {
   "cell_type": "code",
   "execution_count": 27,
   "id": "8c94b097",
   "metadata": {},
   "outputs": [
    {
     "data": {
      "image/png": "[encoded data removed]",
      "text/plain": [
       "Figure(PyObject <Figure size 640x480 with 1 Axes>)"
      ]
     },
     "metadata": {},
     "output_type": "display_data"
    },
    {
     "data": {
      "text/plain": [
       "1-element Vector{PyCall.PyObject}:\n",
       " PyObject <matplotlib.lines.Line2D object at 0x7ff482612d00>"
      ]
     },
     "execution_count": 27,
     "metadata": {},
     "output_type": "execute_result"
    }
   ],
   "source": [
    "plot(thist,utraj[1,:])"
   ]
  },
  {
   "cell_type": "code",
   "execution_count": 32,
   "id": "fc5e0e2c",
   "metadata": {},
   "outputs": [
    {
     "name": "stderr",
     "output_type": "stream",
     "text": [
      "\u001b[32m\u001b[1m   Resolving\u001b[22m\u001b[39m package versions...\n",
      "\u001b[32m\u001b[1m  No Changes\u001b[22m\u001b[39m to `~/Documents/Optimal_Control/Sims/Direct_Collocation/Project.toml`\n",
      "\u001b[32m\u001b[1m  No Changes\u001b[22m\u001b[39m to `~/Documents/Optimal_Control/Sims/Direct_Collocation/Manifest.toml`\n",
      "\u001b[32m\u001b[1m   Resolving\u001b[22m\u001b[39m package versions...\n",
      "\u001b[32m\u001b[1m  No Changes\u001b[22m\u001b[39m to `~/Documents/Optimal_Control/Sims/Direct_Collocation/Project.toml`\n",
      "\u001b[32m\u001b[1m  No Changes\u001b[22m\u001b[39m to `~/Documents/Optimal_Control/Sims/Direct_Collocation/Manifest.toml`\n",
      "\u001b[32m\u001b[1m   Resolving\u001b[22m\u001b[39m package versions...\n",
      "\u001b[32m\u001b[1m  No Changes\u001b[22m\u001b[39m to `~/Documents/Optimal_Control/Sims/Direct_Collocation/Project.toml`\n",
      "\u001b[32m\u001b[1m  No Changes\u001b[22m\u001b[39m to `~/Documents/Optimal_Control/Sims/Direct_Collocation/Manifest.toml`\n",
      "\u001b[36m\u001b[1m┌ \u001b[22m\u001b[39m\u001b[36m\u001b[1mInfo: \u001b[22m\u001b[39mMeshCat server started. You can open the visualizer by visiting the following URL in your browser:\n",
      "\u001b[36m\u001b[1m└ \u001b[22m\u001b[39mhttp://127.0.0.1:8706\n"
     ]
    },
    {
     "data": {
      "text/html": [
       "    <div style=\"height: 500px; width: 100%; overflow-x: auto; overflow-y: hidden; resize: both\">\n",
       "    <iframe src=\"http://127.0.0.1:8706\" style=\"width: 100%; height: 100%; border: none\"></iframe>\n",
       "    </div>\n"
      ],
      "text/plain": [
       "MeshCat.DisplayedVisualizer(MeshCat.CoreVisualizer(MeshCat.SceneTrees.SceneNode(nothing, nothing, Dict{String, Vector{UInt8}}(), nothing, Dict{String, MeshCat.SceneTrees.SceneNode}()), Set{Any}(), ip\"127.0.0.1\", 8706))"
      ]
     },
     "execution_count": 32,
     "metadata": {},
     "output_type": "execute_result"
    }
   ],
   "source": [
    "Pkg.add(\"TrajOptPlots\")\n",
    "Pkg.add(\"MeshCat\")\n",
    "Pkg.add(\"StaticArrays\")\n",
    "using TrajOptPlots\n",
    "using MeshCat\n",
    "using StaticArrays\n",
    "\n",
    "vis = Visualizer()\n",
    "render(vis)"
   ]
  },
  {
   "cell_type": "code",
   "execution_count": 33,
   "id": "22c2910a",
   "metadata": {},
   "outputs": [
    {
     "ename": "LoadError",
     "evalue": "UndefVarError: set_mesh! not defined",
     "output_type": "error",
     "traceback": [
      "UndefVarError: set_mesh! not defined",
      "",
      "Stacktrace:",
      " [1] getproperty(x::Module, f::Symbol)",
      "   @ Base ./Base.jl:31",
      " [2] top-level scope",
      "   @ In[33]:1"
     ]
    }
   ],
   "source": [
    "TrajOptPlots.set_mesh!(vis, a)"
   ]
  },
  {
   "cell_type": "code",
   "execution_count": 34,
   "id": "ab065dba",
   "metadata": {},
   "outputs": [
    {
     "ename": "LoadError",
     "evalue": "UndefVarError: visualize! not defined",
     "output_type": "error",
     "traceback": [
      "UndefVarError: visualize! not defined",
      "",
      "Stacktrace:",
      " [1] top-level scope",
      "   @ In[34]:2"
     ]
    }
   ],
   "source": [
    "X1 = [SVector{4}(x) for x in eachcol(xtraj)];\n",
    "visualize!(vis, a, thist[end], X1)"
   ]
  },
  {
   "cell_type": "code",
   "execution_count": null,
   "id": "c3e984c0",
   "metadata": {},
   "outputs": [],
   "source": []
  }
 ],
 "metadata": {
  "kernelspec": {
   "display_name": "Julia 1.8.3",
   "language": "julia",
   "name": "julia-1.8"
  },
  "language_info": {
   "file_extension": ".jl",
   "mimetype": "application/julia",
   "name": "julia",
   "version": "1.8.3"
  }
 },
 "nbformat": 4,
 "nbformat_minor": 5
}
