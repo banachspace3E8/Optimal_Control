{
 "cells": [
  {
   "cell_type": "code",
   "execution_count": 1,
   "id": "474ffa73",
   "metadata": {},
   "outputs": [],
   "source": [
    "#Shishir Khanal\n",
    "#CMU-Optimal Controls from Jack Manchester\n",
    "#Optimization: LQR using Riccati for Double Integrator System\n",
    "# Double Inegrator: F = ma for unit mass 1D system where F => control u "
   ]
  },
  {
   "cell_type": "code",
   "execution_count": 3,
   "id": "44ec0e52",
   "metadata": {},
   "outputs": [
    {
     "name": "stderr",
     "output_type": "stream",
     "text": [
      "\u001b[32m\u001b[1m  Activating\u001b[22m\u001b[39m project at `~/Documents/Optimal_Control/Sims/LQR`\n",
      "\u001b[32m\u001b[1m   Resolving\u001b[22m\u001b[39m package versions...\n",
      "\u001b[32m\u001b[1m  No Changes\u001b[22m\u001b[39m to `~/Documents/Optimal_Control/Sims/LQR/Project.toml`\n",
      "\u001b[32m\u001b[1m  No Changes\u001b[22m\u001b[39m to `~/Documents/Optimal_Control/Sims/LQR/Manifest.toml`\n",
      "\u001b[36m\u001b[1m[ \u001b[22m\u001b[39m\u001b[36m\u001b[1mInfo: \u001b[22m\u001b[39mPrecompiling ControlSystems [a6e380b2-a6ca-5380-bf3e-84a91bcd477e]\n"
     ]
    }
   ],
   "source": [
    "import Pkg; Pkg.activate(@__DIR__); Pkg.instantiate();\n",
    "Pkg.add(\"PyPlot\")\n",
    "using LinearAlgebra\n",
    "using PyPlot\n",
    "using ControlSystems"
   ]
  },
  {
   "cell_type": "code",
   "execution_count": 4,
   "id": "599c8392",
   "metadata": {},
   "outputs": [
    {
     "data": {
      "text/plain": [
       "2-element Vector{Float64}:\n",
       " 0.005000000000000001\n",
       " 0.1"
      ]
     },
     "execution_count": 4,
     "metadata": {},
     "output_type": "execute_result"
    }
   ],
   "source": [
    "#Discrete Dynamics\n",
    "h = 0.1 #time step\n",
    "A = [1 h; 0 1]\n",
    "B = [0.5*h*h; h]"
   ]
  },
  {
   "cell_type": "code",
   "execution_count": 5,
   "id": "22d83df7",
   "metadata": {},
   "outputs": [],
   "source": [
    "n = 2 #number of states\n",
    "m = 1 #number of controls\n",
    "Tfinal = 10.0 #final time #try larger values\n",
    "N = Int(Tfinal/h)+1      #number of time steps\n",
    "thist = Array(range(0, h*(N-1), step=h));"
   ]
  },
  {
   "cell_type": "code",
   "execution_count": 6,
   "id": "8532ccf8",
   "metadata": {},
   "outputs": [
    {
     "data": {
      "text/plain": [
       "2-element Vector{Float64}:\n",
       " 1.0\n",
       " 0.0"
      ]
     },
     "execution_count": 6,
     "metadata": {},
     "output_type": "execute_result"
    }
   ],
   "source": [
    "#Initial Conditions\n",
    "x0 = [1.0; 0]"
   ]
  },
  {
   "cell_type": "code",
   "execution_count": 7,
   "id": "433ab11d",
   "metadata": {},
   "outputs": [
    {
     "data": {
      "text/plain": [
       "2×2 Matrix{Float64}:\n",
       " 1.0  0.0\n",
       " 0.0  1.0"
      ]
     },
     "execution_count": 7,
     "metadata": {},
     "output_type": "execute_result"
    }
   ],
   "source": [
    "#Cost Weignts\n",
    "Q = Array(1.0*I(2))\n",
    "R = 0.1   #Array(1.0*I(1))\n",
    "#If R is changed to 1, that means I am making controls more expensive so the solution will use less controls\n",
    "Qn = Array(1.0*I(2))"
   ]
  },
  {
   "cell_type": "code",
   "execution_count": 8,
   "id": "e6ced386",
   "metadata": {},
   "outputs": [
    {
     "data": {
      "text/plain": [
       "J (generic function with 1 method)"
      ]
     },
     "execution_count": 8,
     "metadata": {},
     "output_type": "execute_result"
    }
   ],
   "source": [
    "#Cost Function\n",
    "function J(xhist, uhist)\n",
    "    cost = 0.5*xhist[:,end]'*Qn*xhist[:,end]\n",
    "    for k = 1:(N-1)\n",
    "        cost = cost + 0.5*xhist[:,k]'*Q*xhist[:, k] + 0.5*(uhist[k]'*R*uhist[k])[1]\n",
    "    end\n",
    "    return cost\n",
    "end"
   ]
  },
  {
   "cell_type": "code",
   "execution_count": 14,
   "id": "b40432a5",
   "metadata": {},
   "outputs": [],
   "source": [
    "P = zeros(n,n,N)\n",
    "K = zeros(m,n,N-1)\n",
    "\n",
    "P[:,:,N] .= Qn\n",
    "\n",
    "#Backward Riccati recursion\n",
    "for k = (N-1):-1:1\n",
    "    K[:,:,k] .= (R + B'*P[:,:,k+1]*B)\\(B'*P[:,:,k+1]*A)\n",
    "    P[:,:,k] .= Q + A'*P[:,:,k+1]*(A-B*K[:,:,k])\n",
    "end\n",
    "\n",
    "#Forward Rollout starting at x0\n",
    "xhist = zeros(n,N)\n",
    "xhist[:,1] = x0\n",
    "uhist = zeros(m,N-1)\n",
    "for k = 1:(N-1)\n",
    "    uhist[:,k] .= -K[:,:,k]*xhist[:,k]\n",
    "    xhist[:,k+1] .= A*xhist[:,k] + B*uhist[k]\n",
    "end"
   ]
  },
  {
   "cell_type": "code",
   "execution_count": 15,
   "id": "1d4085ff",
   "metadata": {},
   "outputs": [
    {
     "data": {
      "image/png": "[encoded data removed]",
      "text/plain": [
       "Figure(PyObject <Figure size 640x480 with 1 Axes>)"
      ]
     },
     "metadata": {},
     "output_type": "display_data"
    },
    {
     "data": {
      "text/plain": [
       "PyObject <matplotlib.legend.Legend object at 0x7f875731bdc0>"
      ]
     },
     "execution_count": 15,
     "metadata": {},
     "output_type": "execute_result"
    }
   ],
   "source": [
    "#plot x1 vs x2, u vs t\n",
    "times = range(0, h*(N-1), step=h)\n",
    "plot(times, xhist[1,:], label=\"Position\")\n",
    "plot(times, xhist[2,:], label=\"Velocity\")\n",
    "xlabel(\"Time\")\n",
    "legend()"
   ]
  },
  {
   "cell_type": "code",
   "execution_count": 16,
   "id": "a72cde0a",
   "metadata": {},
   "outputs": [
    {
     "data": {
      "image/png": "[encoded data removed]",
      "text/plain": [
       "Figure(PyObject <Figure size 640x480 with 1 Axes>)"
      ]
     },
     "metadata": {},
     "output_type": "display_data"
    },
    {
     "data": {
      "text/plain": [
       "PyObject <matplotlib.legend.Legend object at 0x7f874d5e44f0>"
      ]
     },
     "execution_count": 16,
     "metadata": {},
     "output_type": "execute_result"
    }
   ],
   "source": [
    "plot(times[1:end-1], uhist[1,:], label=\"control\")\n",
    "xlabel(\"Time\")\n",
    "legend()"
   ]
  },
  {
   "cell_type": "code",
   "execution_count": 17,
   "id": "6851e769",
   "metadata": {},
   "outputs": [
    {
     "data": {
      "text/plain": [
       "6.658612208961312"
      ]
     },
     "execution_count": 17,
     "metadata": {},
     "output_type": "execute_result"
    }
   ],
   "source": [
    "J(xhist, uhist)"
   ]
  },
  {
   "cell_type": "code",
   "execution_count": 18,
   "id": "c1bd4c13",
   "metadata": {},
   "outputs": [],
   "source": [
    "#Forward rollout with random noise\n",
    "xhist = zeros(n,N)\n",
    "xhist[:,1] = x0  #10.0*randn(2) #Can start anywhere\n",
    "uhist = zeros(m,N-1)\n",
    "for k = 1:(N-1)\n",
    "    uhist[:,k] .= -K[:,:,k]*xhist[:,k]\n",
    "    xhist[:,k+1] .= A*xhist[:,k] + B*uhist[k] + 0.01*randn(2) #can add noise to the dynamics\n",
    "end"
   ]
  },
  {
   "cell_type": "code",
   "execution_count": 19,
   "id": "83961b36",
   "metadata": {},
   "outputs": [
    {
     "data": {
      "image/png": "[encoded data removed]",
      "text/plain": [
       "Figure(PyObject <Figure size 640x480 with 1 Axes>)"
      ]
     },
     "metadata": {},
     "output_type": "display_data"
    },
    {
     "data": {
      "text/plain": [
       "PyObject <matplotlib.legend.Legend object at 0x7f872cb43550>"
      ]
     },
     "execution_count": 19,
     "metadata": {},
     "output_type": "execute_result"
    }
   ],
   "source": [
    "plot(K[1,1,:],label=\"K1\")\n",
    "plot(K[1,2,:],label=\"K2\")\n",
    "xlabel(\"Time\")\n",
    "legend()"
   ]
  },
  {
   "cell_type": "code",
   "execution_count": 20,
   "id": "3e47408f",
   "metadata": {},
   "outputs": [
    {
     "data": {
      "text/plain": [
       "1×2 Matrix{Float64}:\n",
       " -6.7293e-9  -2.28764e-9"
      ]
     },
     "execution_count": 20,
     "metadata": {},
     "output_type": "execute_result"
    }
   ],
   "source": [
    "#Compute infinite-horizon K matrix using ControlSystems.jl\n",
    "Kinf = dlqr(A,B,Q,R)\n",
    "#Compare to ours\n",
    "K[:,:,1]-Kinf"
   ]
  },
  {
   "cell_type": "code",
   "execution_count": 21,
   "id": "dc5b997c",
   "metadata": {},
   "outputs": [],
   "source": [
    "#Forward rollout with constant K\n",
    "xhist = zeros(n,N)\n",
    "xhist[:,1] = x0  #10.0*randn(2) #Can start anywhere\n",
    "uhist = zeros(m,N-1)\n",
    "for k = 1:(N-1)\n",
    "    uhist[:,k] .= -Kinf*xhist[:,k]\n",
    "    xhist[:,k+1] .= A*xhist[:,k] + B*uhist[k] #+ 0.01*randn(2)\n",
    "end"
   ]
  },
  {
   "cell_type": "code",
   "execution_count": 22,
   "id": "f931ee0a",
   "metadata": {},
   "outputs": [
    {
     "data": {
      "text/plain": [
       "2-element Vector{Float64}:\n",
       " 0.7435575978433919\n",
       " 0.8991703058887754"
      ]
     },
     "execution_count": 22,
     "metadata": {},
     "output_type": "execute_result"
    }
   ],
   "source": [
    "#Closed-loop Eigenvalues\n",
    "eigvals(A-B*Kinf)"
   ]
  },
  {
   "cell_type": "code",
   "execution_count": null,
   "id": "d9c9d6e1",
   "metadata": {},
   "outputs": [],
   "source": []
  }
 ],
 "metadata": {
  "kernelspec": {
   "display_name": "Julia 1.8.3",
   "language": "julia",
   "name": "julia-1.8"
  },
  "language_info": {
   "file_extension": ".jl",
   "mimetype": "application/julia",
   "name": "julia",
   "version": "1.8.3"
  }
 },
 "nbformat": 4,
 "nbformat_minor": 5
}
