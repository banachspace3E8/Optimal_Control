{
 "cells": [
  {
   "cell_type": "code",
   "execution_count": 1,
   "id": "a4f3ac93",
   "metadata": {},
   "outputs": [],
   "source": [
    "#Shishir Khanal\n",
    "#CMU-Optimal Controls from Jack Manchester\n",
    "#Optimization: LQR using QP for Double Integrator System\n",
    "# Double Inegrator: F = ma for unit mass 1D system where F => control u "
   ]
  },
  {
   "cell_type": "code",
   "execution_count": 1,
   "id": "2a194734",
   "metadata": {},
   "outputs": [
    {
     "name": "stderr",
     "output_type": "stream",
     "text": [
      "\u001b[32m\u001b[1m  Activating\u001b[22m\u001b[39m project at `~/Documents/Optimal_Control/Sims/LQR`\n",
      "\u001b[32m\u001b[1m    Updating\u001b[22m\u001b[39m registry at `~/.julia/registries/General.toml`\n",
      "\u001b[32m\u001b[1m   Resolving\u001b[22m\u001b[39m package versions...\n",
      "\u001b[32m\u001b[1m  No Changes\u001b[22m\u001b[39m to `~/Documents/Optimal_Control/Sims/LQR/Project.toml`\n",
      "\u001b[32m\u001b[1m  No Changes\u001b[22m\u001b[39m to `~/Documents/Optimal_Control/Sims/LQR/Manifest.toml`\n"
     ]
    }
   ],
   "source": [
    "import Pkg; Pkg.activate(@__DIR__); Pkg.instantiate();\n",
    "Pkg.add(\"PyPlot\")\n",
    "using LinearAlgebra\n",
    "using PyPlot\n",
    "using SparseArrays"
   ]
  },
  {
   "cell_type": "code",
   "execution_count": 2,
   "id": "fe4e494a",
   "metadata": {},
   "outputs": [
    {
     "data": {
      "text/plain": [
       "2-element Vector{Float64}:\n",
       " 0.005000000000000001\n",
       " 0.1"
      ]
     },
     "execution_count": 2,
     "metadata": {},
     "output_type": "execute_result"
    }
   ],
   "source": [
    "#Discrete Dynamics\n",
    "h = 0.1 #time step\n",
    "A = [1 h; 0 1]\n",
    "B = [0.5*h*h; h]"
   ]
  },
  {
   "cell_type": "code",
   "execution_count": 3,
   "id": "340d3fb2",
   "metadata": {},
   "outputs": [],
   "source": [
    "n = 2 #number of states\n",
    "m = 1 #number of controls\n",
    "Tfinal = 5.0 #final time #try larger values\n",
    "N = Int(Tfinal/h)+1      #number of time steps\n",
    "thist = Array(range(0, h*(N-1), step=h));"
   ]
  },
  {
   "cell_type": "code",
   "execution_count": 4,
   "id": "cf914323",
   "metadata": {},
   "outputs": [
    {
     "data": {
      "text/plain": [
       "2-element Vector{Float64}:\n",
       " 1.0\n",
       " 0.0"
      ]
     },
     "execution_count": 4,
     "metadata": {},
     "output_type": "execute_result"
    }
   ],
   "source": [
    "#Initial Conditions\n",
    "x0 = [1.0; 0]"
   ]
  },
  {
   "cell_type": "code",
   "execution_count": 5,
   "id": "eaebc7ff",
   "metadata": {},
   "outputs": [
    {
     "data": {
      "text/plain": [
       "2×2 SparseMatrixCSC{Float64, Int64} with 2 stored entries:\n",
       " 1.0   ⋅ \n",
       "  ⋅   1.0"
      ]
     },
     "execution_count": 5,
     "metadata": {},
     "output_type": "execute_result"
    }
   ],
   "source": [
    "#Cost Weignts\n",
    "Q = sparse(1.0*I(2))\n",
    "R = sparse(0.1*I(1))\n",
    "#If R is changed to 1, that means I am making controls more expensive so the solution will use less controls\n",
    "Qn = sparse(1.0*I(2))"
   ]
  },
  {
   "cell_type": "code",
   "execution_count": 6,
   "id": "181098dd",
   "metadata": {},
   "outputs": [
    {
     "data": {
      "text/plain": [
       "J (generic function with 1 method)"
      ]
     },
     "execution_count": 6,
     "metadata": {},
     "output_type": "execute_result"
    }
   ],
   "source": [
    "#Cost Function\n",
    "function J(xhist, uhist)\n",
    "    cost = 0.5*xhist[:,end]'*Qn*xhist[:,end]\n",
    "    for k = 1:(N-1)\n",
    "        cost = cost + 0.5*xhist[:,k]'*Q*xhist[:, k] + 0.5*(uhist[k]'*R*uhist[k])[1]\n",
    "    end\n",
    "    return cost\n",
    "end"
   ]
  },
  {
   "cell_type": "code",
   "execution_count": 7,
   "id": "b70f8118",
   "metadata": {},
   "outputs": [],
   "source": [
    "#Cost\n",
    "H = blockdiag(R, kron(I(N-2), blockdiag(Q,R)), Qn);"
   ]
  },
  {
   "cell_type": "code",
   "execution_count": 8,
   "id": "4eca63fc",
   "metadata": {},
   "outputs": [],
   "source": [
    "#Constraints\n",
    "C = kron(I(N-1), [B -I(2)])\n",
    "for k = 1:N-2\n",
    "    C[(k*n).+(1:n), (k*(n+m)-n).+(1:n)] .= A\n",
    "end\n",
    "d = [-A*x0; zeros(size(C,1)-n)];"
   ]
  },
  {
   "cell_type": "code",
   "execution_count": 9,
   "id": "5b9fd0cc",
   "metadata": {},
   "outputs": [],
   "source": [
    "#Solve the linear system\n",
    "y = [H C'; C zeros(size(C,1),size(C,1))]\\[zeros(size(H,1)); d]\n",
    "    \n",
    "#Get state history\n",
    "z = y[1:size(H,1)]  #states and controls [u0,x1,u1,...xN]\n",
    "Z = reshape(z,n+m,N-1)\n",
    "xhist = Z[m+1:end,:]\n",
    "xhist = [x0 xhist]\n",
    "    \n",
    "#Get control history\n",
    "uhist = Z[1,:];"
   ]
  },
  {
   "cell_type": "code",
   "execution_count": 10,
   "id": "dd5c30a1",
   "metadata": {},
   "outputs": [
    {
     "data": {
      "image/png": "[encoded data removed]",
      "text/plain": [
       "Figure(PyObject <Figure size 640x480 with 1 Axes>)"
      ]
     },
     "metadata": {},
     "output_type": "display_data"
    },
    {
     "data": {
      "text/plain": [
       "PyObject <matplotlib.legend.Legend object at 0x7f5e63d86c10>"
      ]
     },
     "execution_count": 10,
     "metadata": {},
     "output_type": "execute_result"
    }
   ],
   "source": [
    "#plot x1 vs x2, u vs t\n",
    "times = range(0, h*(N-1), step=h)\n",
    "plot(times, xhist[1,:], label=\"Position\")\n",
    "plot(times, xhist[2,:], label=\"Velocity\")\n",
    "xlabel(\"Time\")\n",
    "legend()"
   ]
  },
  {
   "cell_type": "code",
   "execution_count": 11,
   "id": "d843c280",
   "metadata": {},
   "outputs": [
    {
     "data": {
      "image/png": "[encoded data removed]",
      "text/plain": [
       "Figure(PyObject <Figure size 640x480 with 1 Axes>)"
      ]
     },
     "metadata": {},
     "output_type": "display_data"
    },
    {
     "data": {
      "text/plain": [
       "PyObject <matplotlib.legend.Legend object at 0x7f5e2f7b3f10>"
      ]
     },
     "execution_count": 11,
     "metadata": {},
     "output_type": "execute_result"
    }
   ],
   "source": [
    "plot(times[1:end-1], uhist, label=\"control\")\n",
    "xlabel(\"Time\")\n",
    "legend()"
   ]
  },
  {
   "cell_type": "code",
   "execution_count": 12,
   "id": "8469bc50",
   "metadata": {},
   "outputs": [
    {
     "data": {
      "text/plain": [
       "6.658133166380844"
      ]
     },
     "execution_count": 12,
     "metadata": {},
     "output_type": "execute_result"
    }
   ],
   "source": [
    "J(xhist,uhist)"
   ]
  },
  {
   "cell_type": "code",
   "execution_count": null,
   "id": "59833716",
   "metadata": {},
   "outputs": [],
   "source": []
  }
 ],
 "metadata": {
  "kernelspec": {
   "display_name": "Julia 1.8.3",
   "language": "julia",
   "name": "julia-1.8"
  },
  "language_info": {
   "file_extension": ".jl",
   "mimetype": "application/julia",
   "name": "julia",
   "version": "1.8.3"
  }
 },
 "nbformat": 4,
 "nbformat_minor": 5
}
