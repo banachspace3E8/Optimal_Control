{
 "cells": [
  {
   "cell_type": "code",
   "execution_count": 25,
   "id": "7cce1e9a",
   "metadata": {},
   "outputs": [],
   "source": [
    "#Shishir Khanal\n",
    "#CMU-Optimal Controls from Jack Manchester\n",
    "#Optimization: LQR using shooting for Double Integrator System\n",
    "# Double Inegrator: F = ma for unit mass 1D system where F => control u "
   ]
  },
  {
   "cell_type": "code",
   "execution_count": 26,
   "id": "f3ae06c3",
   "metadata": {},
   "outputs": [
    {
     "name": "stderr",
     "output_type": "stream",
     "text": [
      "\u001b[32m\u001b[1m  Activating\u001b[22m\u001b[39m project at `~/Documents/Optimal_Control/Sims/LQR`\n",
      "\u001b[32m\u001b[1m   Resolving\u001b[22m\u001b[39m package versions...\n",
      "\u001b[32m\u001b[1m  No Changes\u001b[22m\u001b[39m to `~/Documents/Optimal_Control/Sims/LQR/Project.toml`\n",
      "\u001b[32m\u001b[1m  No Changes\u001b[22m\u001b[39m to `~/Documents/Optimal_Control/Sims/LQR/Manifest.toml`\n"
     ]
    }
   ],
   "source": [
    "import Pkg; Pkg.activate(@__DIR__); Pkg.instantiate();\n",
    "Pkg.add(\"PyPlot\")\n",
    "using LinearAlgebra\n",
    "using PyPlot"
   ]
  },
  {
   "cell_type": "code",
   "execution_count": 47,
   "id": "20082780",
   "metadata": {},
   "outputs": [
    {
     "data": {
      "text/plain": [
       "2-element Vector{Float64}:\n",
       " 0.005000000000000001\n",
       " 0.1"
      ]
     },
     "execution_count": 47,
     "metadata": {},
     "output_type": "execute_result"
    }
   ],
   "source": [
    "#Discrete Dynamics\n",
    "h = 0.1 #time step\n",
    "A = [1 h; 0 1]\n",
    "B = [0.5*h*h; h]"
   ]
  },
  {
   "cell_type": "code",
   "execution_count": 59,
   "id": "0a40c768",
   "metadata": {},
   "outputs": [],
   "source": [
    "n = 2 #number of states\n",
    "m = 1 #number of controls\n",
    "Tfinal = 5.0 #final time #try larger values\n",
    "N = Int(Tfinal/h)+1      #number of time steps\n",
    "thist = Array(range(0, h*(N-1), step=h));"
   ]
  },
  {
   "cell_type": "code",
   "execution_count": 60,
   "id": "c0b36d9b",
   "metadata": {},
   "outputs": [
    {
     "data": {
      "text/plain": [
       "2-element Vector{Float64}:\n",
       " 1.0\n",
       " 0.0"
      ]
     },
     "execution_count": 60,
     "metadata": {},
     "output_type": "execute_result"
    }
   ],
   "source": [
    "#Initial Conditions\n",
    "x0 = [1.0; 0]"
   ]
  },
  {
   "cell_type": "code",
   "execution_count": 61,
   "id": "b6bada77",
   "metadata": {},
   "outputs": [
    {
     "data": {
      "text/plain": [
       "2×2 Diagonal{Float64, Vector{Float64}}:\n",
       " 1.0   ⋅ \n",
       "  ⋅   1.0"
      ]
     },
     "execution_count": 61,
     "metadata": {},
     "output_type": "execute_result"
    }
   ],
   "source": [
    "#Cost Weignts\n",
    "Q = 1.0*I(2)\n",
    "R = 0.1\n",
    "#If R is changed to 1, that means I am making controls more expensive so the solution will use less controls\n",
    "Qn = 1.0*I(2)"
   ]
  },
  {
   "cell_type": "code",
   "execution_count": 70,
   "id": "aa595d9c",
   "metadata": {},
   "outputs": [
    {
     "data": {
      "text/plain": [
       "J (generic function with 1 method)"
      ]
     },
     "execution_count": 70,
     "metadata": {},
     "output_type": "execute_result"
    }
   ],
   "source": [
    "#Cost Function\n",
    "function J(xhist, uhist)\n",
    "    cost = 0.5*xhist[:,end]'*Qn*xhist[:,end]\n",
    "    for k = 1:(N-1)\n",
    "        cost = cost + 0.5*xhist[:,k]'*Q*xhist[:, k] + 0.5*uhist[k]'*R*uhist[k]\n",
    "    end\n",
    "    return cost\n",
    "end"
   ]
  },
  {
   "cell_type": "code",
   "execution_count": 71,
   "id": "44f231bd",
   "metadata": {},
   "outputs": [
    {
     "data": {
      "text/plain": [
       "rollout (generic function with 1 method)"
      ]
     },
     "execution_count": 71,
     "metadata": {},
     "output_type": "execute_result"
    }
   ],
   "source": [
    "function rollout(xhist, uhist)\n",
    "    xnew = zeros(size(xhist))\n",
    "    xnew[:,1] = xhist[:,1]\n",
    "    for k = 1:(N-1)\n",
    "        xnew[:,k+1] .= A*xnew[:,k] + B*uhist[k]\n",
    "    end\n",
    "    return xnew\n",
    "end"
   ]
  },
  {
   "cell_type": "code",
   "execution_count": 72,
   "id": "f9006085",
   "metadata": {},
   "outputs": [
    {
     "data": {
      "text/plain": [
       "50.5"
      ]
     },
     "execution_count": 72,
     "metadata": {},
     "output_type": "execute_result"
    }
   ],
   "source": [
    "#Initial guess\n",
    "xhist = repeat(x0, 1, N)\n",
    "uhist = zeros(N-1)\n",
    "Δu = ones(N-1)\n",
    "λhist = zeros(n,N)\n",
    "\n",
    "xhist = rollout(xhist, uhist) #initial rollout to get state trajectory\n",
    "\n",
    "J(xhist, uhist) #Initial Cost"
   ]
  },
  {
   "cell_type": "code",
   "execution_count": 73,
   "id": "84b83b4e",
   "metadata": {},
   "outputs": [],
   "source": [
    "b = 1e-2 #line search tolerance\n",
    "α = 1.0\n",
    "iter = 0\n",
    "\n",
    "while maximum(abs.(Δu[:])) > 1e-2 #terminate when gradient is small\n",
    "    \n",
    "    #Backward pass to compute λ and Δu\n",
    "    λhist[:,N] .= Qn*xhist[:,N]\n",
    "    for k = N-1:-1:1\n",
    "        Δu[k] = -(uhist[k]+R\\B'*λhist[:,k+1])\n",
    "        λhist[:,k] .= Q*xhist[:,k] + A'*λhist[:,k+1]\n",
    "    end\n",
    "    \n",
    "    #Forward pass with line search to compute x\n",
    "    α = 1.0\n",
    "    unew = uhist + α.*Δu\n",
    "    xnew = rollout(xhist, unew)\n",
    "    while J(xnew, unew) > J(xhist, uhist) - b*α*Δu[:]'*Δu[:]\n",
    "        α = 0.5*α\n",
    "        unew = uhist + α.*Δu\n",
    "        xnew = rollout(xhist, unew)\n",
    "    end\n",
    "    \n",
    "    uhist .= unew;\n",
    "    xhist .= xnew;\n",
    "    iter += 1\n",
    "end"
   ]
  },
  {
   "cell_type": "code",
   "execution_count": 74,
   "id": "6c99c8bf",
   "metadata": {},
   "outputs": [
    {
     "data": {
      "text/plain": [
       "2416"
      ]
     },
     "execution_count": 74,
     "metadata": {},
     "output_type": "execute_result"
    }
   ],
   "source": [
    "iter"
   ]
  },
  {
   "cell_type": "code",
   "execution_count": 75,
   "id": "47fb04f8",
   "metadata": {},
   "outputs": [
    {
     "data": {
      "text/plain": [
       "6.658621241414694"
      ]
     },
     "execution_count": 75,
     "metadata": {},
     "output_type": "execute_result"
    }
   ],
   "source": [
    "J(xhist,uhist)"
   ]
  },
  {
   "cell_type": "code",
   "execution_count": 76,
   "id": "c9a1efb5",
   "metadata": {},
   "outputs": [
    {
     "data": {
      "image/png": "[encoded data removed]",
      "text/plain": [
       "Figure(PyObject <Figure size 640x480 with 1 Axes>)"
      ]
     },
     "metadata": {},
     "output_type": "display_data"
    },
    {
     "data": {
      "text/plain": [
       "PyObject <matplotlib.legend.Legend object at 0x7f664b2132b0>"
      ]
     },
     "execution_count": 76,
     "metadata": {},
     "output_type": "execute_result"
    }
   ],
   "source": [
    "#plot x1 vs x2, u vs t\n",
    "plot(thist, xhist[1,:], label=\"Position\")\n",
    "plot(thist, xhist[2,:], label=\"Velocity\")\n",
    "xlabel(\"Time\")\n",
    "legend()"
   ]
  },
  {
   "cell_type": "code",
   "execution_count": 77,
   "id": "c8f512a5",
   "metadata": {},
   "outputs": [
    {
     "data": {
      "image/png": "[encoded data removed]",
      "text/plain": [
       "Figure(PyObject <Figure size 640x480 with 1 Axes>)"
      ]
     },
     "metadata": {},
     "output_type": "display_data"
    },
    {
     "data": {
      "text/plain": [
       "PyObject <matplotlib.legend.Legend object at 0x7f664b19cf40>"
      ]
     },
     "execution_count": 77,
     "metadata": {},
     "output_type": "execute_result"
    }
   ],
   "source": [
    "plot(thist[1:end-1], uhist, label=\"Control\")\n",
    "xlabel(\"Time\")\n",
    "legend()"
   ]
  },
  {
   "cell_type": "code",
   "execution_count": null,
   "id": "60bf75eb",
   "metadata": {},
   "outputs": [],
   "source": []
  }
 ],
 "metadata": {
  "kernelspec": {
   "display_name": "Julia 1.8.3",
   "language": "julia",
   "name": "julia-1.8"
  },
  "language_info": {
   "file_extension": ".jl",
   "mimetype": "application/julia",
   "name": "julia",
   "version": "1.8.3"
  }
 },
 "nbformat": 4,
 "nbformat_minor": 5
}
