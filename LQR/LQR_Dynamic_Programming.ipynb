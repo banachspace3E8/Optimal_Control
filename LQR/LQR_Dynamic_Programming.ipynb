{
 "cells": [
  {
   "cell_type": "code",
   "execution_count": 1,
   "id": "721d68f2",
   "metadata": {},
   "outputs": [],
   "source": [
    "#Shishir Khanal\n",
    "#CMU-Optimal Controls from Jack Manchester\n",
    "#Optimization: LQR using dynamic programming for Double Integrator System\n",
    "# Double Inegrator: F = ma for unit mass 1D system where F => control u "
   ]
  },
  {
   "cell_type": "code",
   "execution_count": 2,
   "id": "6526841d",
   "metadata": {},
   "outputs": [
    {
     "name": "stderr",
     "output_type": "stream",
     "text": [
      "\u001b[32m\u001b[1m  Activating\u001b[22m\u001b[39m project at `~/Documents/Optimal_Control/Sims/LQR`\n",
      "\u001b[32m\u001b[1m    Updating\u001b[22m\u001b[39m registry at `~/.julia/registries/General.toml`\n",
      "\u001b[32m\u001b[1m   Resolving\u001b[22m\u001b[39m package versions...\n",
      "\u001b[32m\u001b[1m  No Changes\u001b[22m\u001b[39m to `~/Documents/Optimal_Control/Sims/LQR/Project.toml`\n",
      "\u001b[32m\u001b[1m  No Changes\u001b[22m\u001b[39m to `~/Documents/Optimal_Control/Sims/LQR/Manifest.toml`\n",
      "\u001b[32m\u001b[1m   Resolving\u001b[22m\u001b[39m package versions...\n",
      "\u001b[32m\u001b[1m  No Changes\u001b[22m\u001b[39m to `~/Documents/Optimal_Control/Sims/LQR/Project.toml`\n",
      "\u001b[32m\u001b[1m  No Changes\u001b[22m\u001b[39m to `~/Documents/Optimal_Control/Sims/LQR/Manifest.toml`\n",
      "\u001b[36m\u001b[1m[ \u001b[22m\u001b[39m\u001b[36m\u001b[1mInfo: \u001b[22m\u001b[39mPrecompiling ControlSystems [a6e380b2-a6ca-5380-bf3e-84a91bcd477e]\n"
     ]
    }
   ],
   "source": [
    "import Pkg; Pkg.activate(@__DIR__); Pkg.instantiate();\n",
    "Pkg.add(\"PyPlot\")\n",
    "Pkg.add(\"ForwardDiff\")\n",
    "using LinearAlgebra\n",
    "using PyPlot\n",
    "using SparseArrays\n",
    "using ControlSystems\n",
    "using ForwardDiff"
   ]
  },
  {
   "cell_type": "code",
   "execution_count": 3,
   "id": "d41230b1",
   "metadata": {},
   "outputs": [
    {
     "data": {
      "text/plain": [
       "2-element Vector{Float64}:\n",
       " 0.005000000000000001\n",
       " 0.1"
      ]
     },
     "execution_count": 3,
     "metadata": {},
     "output_type": "execute_result"
    }
   ],
   "source": [
    "#Discrete Dynamics\n",
    "h = 0.1 #time step\n",
    "A = [1 h; 0 1]\n",
    "B = [0.5*h*h; h]"
   ]
  },
  {
   "cell_type": "code",
   "execution_count": 4,
   "id": "2da8c21c",
   "metadata": {},
   "outputs": [
    {
     "data": {
      "text/plain": [
       "2"
      ]
     },
     "execution_count": 4,
     "metadata": {},
     "output_type": "execute_result"
    }
   ],
   "source": [
    "#Controllability\n",
    "rank([B A*B])"
   ]
  },
  {
   "cell_type": "code",
   "execution_count": 5,
   "id": "71e31ecd",
   "metadata": {},
   "outputs": [],
   "source": [
    "n = 2 #number of states\n",
    "m = 1 #number of controls\n",
    "Tfinal = 10.0 #number of time steps\n",
    "N = Int(Tfinal/h)+1    #number of time steps\n",
    "thist = Array(range(0,h*(N-1), step=h));"
   ]
  },
  {
   "cell_type": "code",
   "execution_count": 6,
   "id": "0f2832f2",
   "metadata": {},
   "outputs": [
    {
     "data": {
      "text/plain": [
       "2-element Vector{Float64}:\n",
       " 1.0\n",
       " 0.0"
      ]
     },
     "execution_count": 6,
     "metadata": {},
     "output_type": "execute_result"
    }
   ],
   "source": [
    "#initial conditions\n",
    "x0 = [1.0; 0]"
   ]
  },
  {
   "cell_type": "code",
   "execution_count": 7,
   "id": "a40c033c",
   "metadata": {},
   "outputs": [
    {
     "data": {
      "text/plain": [
       "2×2 Matrix{Float64}:\n",
       " 1.0  0.0\n",
       " 0.0  1.0"
      ]
     },
     "execution_count": 7,
     "metadata": {},
     "output_type": "execute_result"
    }
   ],
   "source": [
    "#Cost Weights\n",
    "Q = Array(1.0*I(n))\n",
    "R = Array(0.1*I(m))\n",
    "Qn = Array(1.0*I(n)) "
   ]
  },
  {
   "cell_type": "code",
   "execution_count": 8,
   "id": "b62cb566",
   "metadata": {},
   "outputs": [
    {
     "data": {
      "text/plain": [
       "J (generic function with 1 method)"
      ]
     },
     "execution_count": 8,
     "metadata": {},
     "output_type": "execute_result"
    }
   ],
   "source": [
    "#Cost Function\n",
    "function J(xhist,uhist)\n",
    "    cost = 0.5*xhist[:,end]'Qn*xhist[:,end]\n",
    "    for k = 1:(size(xhist,2)-1)\n",
    "        cost = cost + 0.5*xhist[:,k]'*Q*xhist[:,k] + 0.5*(uhist[k]'*R*uhist[k])[1]\n",
    "    end\n",
    "    return cost\n",
    "end"
   ]
  },
  {
   "cell_type": "code",
   "execution_count": 9,
   "id": "65efcb82",
   "metadata": {},
   "outputs": [
    {
     "data": {
      "text/plain": [
       "V (generic function with 1 method)"
      ]
     },
     "execution_count": 9,
     "metadata": {},
     "output_type": "execute_result"
    }
   ],
   "source": [
    "#Cost-to-go Function\n",
    "function Vinf(x)\n",
    "    return 0.5*x'*Pinf*x\n",
    "end\n",
    "\n",
    "function V(k,x)\n",
    "    return 0.5*x'*P[:,:,k]*x\n",
    "end"
   ]
  },
  {
   "cell_type": "code",
   "execution_count": 10,
   "id": "fc5bec70",
   "metadata": {},
   "outputs": [],
   "source": [
    "#QP Solution  for xhist, uhist\n",
    "#Cost\n",
    "H = blockdiag(sparse(R), kron(I(N-2), blockdiag(sparse(Q), sparse(R))), sparse(Qn));"
   ]
  },
  {
   "cell_type": "code",
   "execution_count": 11,
   "id": "0d423bf8",
   "metadata": {},
   "outputs": [],
   "source": [
    "#Constraints\n",
    "C = kron(I(N-1), [B -I(2)])\n",
    "for k = 1:N-2\n",
    "    C[(k*n).+(1:n), (k*(n+m)-n).+(1:n)] .= A\n",
    "end\n",
    "d = [-A*x0; zeros(size(C,1)-n)];"
   ]
  },
  {
   "cell_type": "code",
   "execution_count": 18,
   "id": "ad436740",
   "metadata": {},
   "outputs": [],
   "source": [
    "#Solve the linear system: QP approach\n",
    "y = [H C'; C zeros(size(C,1),size(C,1))]\\[zeros(size(H,1)); d]\n",
    "    \n",
    "#Get multipliers \n",
    "λhist_qp = reshape(y[(size(H,1)+1):end],n,N-1)\n",
    "\n",
    "#Get state history\n",
    "z = y[1:size(H,1)]  #states and controls [u0,x1,u1,...,uN]\n",
    "Z = reshape(z,n+m,N-1)\n",
    "xhist_qp = Z[m+1:end,:]\n",
    "xhist_qp = [x0 xhist_qp]\n",
    "\n",
    "#Get control history\n",
    "uhist_qp = Z[1,:];"
   ]
  },
  {
   "cell_type": "code",
   "execution_count": 19,
   "id": "ad77d48e",
   "metadata": {},
   "outputs": [],
   "source": [
    "#Dynamic Programming Solution for P and K\n",
    "P = zeros(n,n,N)\n",
    "K = zeros(m,n,N-1)\n",
    "\n",
    "P[:,:,N] .= Qn\n",
    "\n",
    "#Backward Riccati recursion\n",
    "for k = (N-1):-1:1\n",
    "    K[:,:,k] .= (R .+ B'*P[:,:,k+1]*B)\\(B'*P[:,:,k+1]*A)\n",
    "    P[:,:,k] .= Q + K[:,:,k]'*R*K[:,:,k] + (A-B*K[:,:,k])'*P[:,:,k+1]*(A-B*K[:,:,k])\n",
    "end\n",
    "\n",
    "#Forward rollout starting at x0\n",
    "xhist = zeros(n,N)\n",
    "xhist[:,1] = x0\n",
    "uhist = zeros(m,N-1)\n",
    "for k = 1:(N-1)\n",
    "    uhist[:,k] .= -K[:,:,k]*xhist[:,k]\n",
    "    xhist[:,k+1] .= A*xhist[:,k] + B*uhist[k]\n",
    "end"
   ]
  },
  {
   "cell_type": "code",
   "execution_count": 20,
   "id": "66cd3771",
   "metadata": {},
   "outputs": [
    {
     "data": {
      "image/png": "[encoded data removed]",
      "text/plain": [
       "Figure(PyObject <Figure size 640x480 with 1 Axes>)"
      ]
     },
     "metadata": {},
     "output_type": "display_data"
    },
    {
     "data": {
      "text/plain": [
       "PyObject <matplotlib.legend.Legend object at 0x7f64207de820>"
      ]
     },
     "execution_count": 20,
     "metadata": {},
     "output_type": "execute_result"
    }
   ],
   "source": [
    "#Plot x1 vs. x2, u vs. t, x vs. t, etc\n",
    "times = range(0, h*(N-1), step=h)\n",
    "plot(times, xhist[1,:], label=\"DP Position\")\n",
    "plot(times, xhist[2,:], label=\"DP Velocity\")\n",
    "plot(times, xhist_qp[1,:], label=\"QP Position\")\n",
    "plot(times, xhist_qp[2,:], label=\"QP Velocity\")\n",
    "xlabel(\"time\")\n",
    "legend()"
   ]
  },
  {
   "cell_type": "code",
   "execution_count": 21,
   "id": "c01de68c",
   "metadata": {},
   "outputs": [
    {
     "data": {
      "text/plain": [
       "2×101 Matrix{Float64}:\n",
       " 1.0   0.987071   0.952905   0.905422   0.850265  …   6.95272e-5   6.6895e-5\n",
       " 0.0  -0.25857   -0.42476   -0.52489   -0.578262     -2.7416e-5   -2.52277e-5"
      ]
     },
     "execution_count": 21,
     "metadata": {},
     "output_type": "execute_result"
    }
   ],
   "source": [
    "xhist_qp"
   ]
  },
  {
   "cell_type": "code",
   "execution_count": 22,
   "id": "3c0dcf5e",
   "metadata": {},
   "outputs": [
    {
     "data": {
      "image/png": "[encoded data removed]",
      "text/plain": [
       "Figure(PyObject <Figure size 640x480 with 1 Axes>)"
      ]
     },
     "metadata": {},
     "output_type": "display_data"
    },
    {
     "data": {
      "text/plain": [
       "PyObject <matplotlib.legend.Legend object at 0x7f641fc285b0>"
      ]
     },
     "execution_count": 22,
     "metadata": {},
     "output_type": "execute_result"
    }
   ],
   "source": [
    "plot(times[1:end-1], uhist[1,:], label=\"DP control\")\n",
    "plot(times[1:end-1], uhist_qp, label=\"QP control\")\n",
    "xlabel(\"Time\")\n",
    "legend()"
   ]
  },
  {
   "cell_type": "code",
   "execution_count": 23,
   "id": "a0b21f0e",
   "metadata": {},
   "outputs": [
    {
     "data": {
      "image/png": "[encoded data removed]",
      "text/plain": [
       "Figure(PyObject <Figure size 640x480 with 1 Axes>)"
      ]
     },
     "metadata": {},
     "output_type": "display_data"
    },
    {
     "data": {
      "text/plain": [
       "1-element Vector{PyCall.PyObject}:\n",
       " PyObject <matplotlib.lines.Line2D object at 0x7f641c056160>"
      ]
     },
     "execution_count": 23,
     "metadata": {},
     "output_type": "execute_result"
    }
   ],
   "source": [
    "plot(P[1,1,:])\n",
    "plot(P[1,2,:])\n",
    "plot(P[2,2,:])"
   ]
  },
  {
   "cell_type": "code",
   "execution_count": 24,
   "id": "7a17be7d",
   "metadata": {},
   "outputs": [
    {
     "data": {
      "text/plain": [
       "6.658612208961312"
      ]
     },
     "execution_count": 24,
     "metadata": {},
     "output_type": "execute_result"
    }
   ],
   "source": [
    "J(xhist,uhist)"
   ]
  },
  {
   "cell_type": "code",
   "execution_count": null,
   "id": "988ff51a",
   "metadata": {},
   "outputs": [],
   "source": [
    "#Cost of QP and DP match\n",
    "J(xhist_qp,uhist_qp)"
   ]
  },
  {
   "cell_type": "code",
   "execution_count": 26,
   "id": "478fbe38",
   "metadata": {},
   "outputs": [
    {
     "data": {
      "text/plain": [
       "1×2 Matrix{Float64}:\n",
       " -6.7293e-9  -2.28764e-9"
      ]
     },
     "execution_count": 26,
     "metadata": {},
     "output_type": "execute_result"
    }
   ],
   "source": [
    "#Compute infinite-horizon K matrix using ControlSystems.jl\n",
    "Kinf = dlqr(A, B, Q, R[1])\n",
    "#Compare to ours\n",
    "K[:,:,1] - Kinf"
   ]
  },
  {
   "cell_type": "code",
   "execution_count": 27,
   "id": "a887923d",
   "metadata": {},
   "outputs": [
    {
     "data": {
      "text/plain": [
       "2×2 Matrix{Float64}:\n",
       " -2.32085e-8  -7.88975e-9\n",
       " -7.88975e-9  -2.68212e-9"
      ]
     },
     "execution_count": 27,
     "metadata": {},
     "output_type": "execute_result"
    }
   ],
   "source": [
    "#Compute infinite-horizon P matrix\n",
    "Pinf = dare(A, B, Q, R)\n",
    "#Compare to ours\n",
    "P[:,:,1] - Pinf"
   ]
  },
  {
   "cell_type": "code",
   "execution_count": 46,
   "id": "2d076446",
   "metadata": {},
   "outputs": [
    {
     "data": {
      "text/plain": [
       "rollout (generic function with 1 method)"
      ]
     },
     "execution_count": 46,
     "metadata": {},
     "output_type": "execute_result"
    }
   ],
   "source": [
    "#Forward rollout starting at xk\n",
    "function rollout(k,x)\n",
    "    xsub = zeros(n,N-k+1)\n",
    "    xsub[:,1] .= x\n",
    "    usub = zeros(m, N-k)\n",
    "    for j = k:(N-1)\n",
    "        usub[:,j-k+1] .= -K[:,:,j]*xsub[:,j-k+1]\n",
    "        xsub[:,j-k+2] .= A*xsub[:,j-k+1] + B*usub[j-k+1]\n",
    "    end\n",
    "    return xsub,usub\n",
    "end"
   ]
  },
  {
   "cell_type": "code",
   "execution_count": 47,
   "id": "0097c72a",
   "metadata": {},
   "outputs": [
    {
     "data": {
      "text/plain": [
       "([0.008565027630146478 0.0077014972324246905 … 6.952721258612022e-5 6.689502637287269e-5; -0.009093717065069605 -0.008176890889366146 … -2.741601026646726e-5 -2.5227713998483293e-5], [0.009168261757034592 0.008244198746429753 … 3.913310967971365e-5 2.1882962679839655e-5])"
      ]
     },
     "execution_count": 47,
     "metadata": {},
     "output_type": "execute_result"
    }
   ],
   "source": [
    "#Generate a sub-trajectory starting at xk\n",
    "k = 50\n",
    "xsub, usub = rollout(k, xhist[:,k])"
   ]
  },
  {
   "cell_type": "code",
   "execution_count": 48,
   "id": "697f62ac",
   "metadata": {},
   "outputs": [
    {
     "data": {
      "text/plain": [
       "2×52 Matrix{Float64}:\n",
       " 0.0  0.0  0.0  0.0  0.0  0.0  0.0  0.0  …  0.0  0.0  0.0  0.0  0.0  0.0  0.0\n",
       " 0.0  0.0  0.0  0.0  0.0  0.0  0.0  0.0     0.0  0.0  0.0  0.0  0.0  0.0  0.0"
      ]
     },
     "execution_count": 48,
     "metadata": {},
     "output_type": "execute_result"
    }
   ],
   "source": [
    "#Optimal state sub-trajectories are optimal\n",
    "xsub - xhist[:, k:end]"
   ]
  },
  {
   "cell_type": "code",
   "execution_count": 49,
   "id": "70fb069d",
   "metadata": {},
   "outputs": [
    {
     "data": {
      "text/plain": [
       "1×51 Matrix{Float64}:\n",
       " 0.0  0.0  0.0  0.0  0.0  0.0  0.0  0.0  …  0.0  0.0  0.0  0.0  0.0  0.0  0.0"
      ]
     },
     "execution_count": 49,
     "metadata": {},
     "output_type": "execute_result"
    }
   ],
   "source": [
    "#Optimal control sub-trajectories are optimal\n",
    "usub - uhist[:, k:end]"
   ]
  },
  {
   "cell_type": "code",
   "execution_count": 50,
   "id": "75c33c16",
   "metadata": {},
   "outputs": [
    {
     "data": {
      "text/plain": [
       "2-element Vector{Float64}:\n",
       "  0.08494405503397162\n",
       " -0.014443027451912923"
      ]
     },
     "execution_count": 50,
     "metadata": {},
     "output_type": "execute_result"
    }
   ],
   "source": [
    "#Compare multipliers from QP to cost-to-go gradient from DP\n",
    "λhist_qp[:,k-1]"
   ]
  },
  {
   "cell_type": "code",
   "execution_count": 51,
   "id": "fea4dae4",
   "metadata": {},
   "outputs": [
    {
     "data": {
      "text/plain": [
       "2-element Vector{Float64}:\n",
       "  0.0849440550339718\n",
       " -0.014443027451912928"
      ]
     },
     "execution_count": 51,
     "metadata": {},
     "output_type": "execute_result"
    }
   ],
   "source": [
    "ForwardDiff.gradient(x->V(k,x), xhist[:,k])"
   ]
  },
  {
   "cell_type": "code",
   "execution_count": 52,
   "id": "444c5c3d",
   "metadata": {},
   "outputs": [
    {
     "data": {
      "text/plain": [
       "2-element Vector{Float64}:\n",
       "  0.08494829522129786\n",
       " -0.014441586030909531"
      ]
     },
     "execution_count": 52,
     "metadata": {},
     "output_type": "execute_result"
    }
   ],
   "source": [
    "#Also compare to infinite horizon\n",
    "ForwardDiff.gradient(x->Vinf(x),xhist[:,k])"
   ]
  },
  {
   "cell_type": "code",
   "execution_count": 53,
   "id": "258e1ed8",
   "metadata": {},
   "outputs": [
    {
     "data": {
      "text/plain": [
       "2-element Vector{Float64}:\n",
       "  0.0849507132588993\n",
       " -0.014440725739381464"
      ]
     },
     "execution_count": 53,
     "metadata": {},
     "output_type": "execute_result"
    }
   ],
   "source": [
    "#Let's try finite diffing the cost w.r.t. the state\n",
    "x1p, u1p = rollout(k, xhist[:,k]+[1e-6; 0])\n",
    "x2p, u2p = rollout(k, xhist[:,k]+[0; 1e-6])\n",
    "λfd = [J(x1p, u1p) - J(xhist[:,k:end],uhist[:,k:end]), J(x2p, u2p) - J(xhist[:,k:end],uhist[:,k:end])]./1e-6"
   ]
  },
  {
   "cell_type": "code",
   "execution_count": null,
   "id": "4a64fde6",
   "metadata": {},
   "outputs": [],
   "source": []
  },
  {
   "cell_type": "code",
   "execution_count": null,
   "id": "a1fefadf",
   "metadata": {},
   "outputs": [],
   "source": []
  }
 ],
 "metadata": {
  "kernelspec": {
   "display_name": "Julia 1.8.3",
   "language": "julia",
   "name": "julia-1.8"
  },
  "language_info": {
   "file_extension": ".jl",
   "mimetype": "application/julia",
   "name": "julia",
   "version": "1.8.3"
  }
 },
 "nbformat": 4,
 "nbformat_minor": 5
}
