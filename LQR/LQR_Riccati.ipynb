{
 "cells": [
  {
   "cell_type": "code",
   "execution_count": 1,
   "id": "474ffa73",
   "metadata": {},
   "outputs": [],
   "source": [
    "#Shishir Khanal\n",
    "#CMU-Optimal Controls from Jack Manchester\n",
    "#Optimization: LQR using Riccati for Double Integrator System\n",
    "# Double Inegrator: F = ma for unit mass 1D system where F => control u "
   ]
  },
  {
   "cell_type": "code",
   "execution_count": null,
   "id": "44ec0e52",
   "metadata": {},
   "outputs": [
    {
     "name": "stderr",
     "output_type": "stream",
     "text": [
      "\u001b[32m\u001b[1m  Activating\u001b[22m\u001b[39m project at `~/Documents/Optimal_Control/Sims/LQR`\n",
      "\u001b[32m\u001b[1m    Updating\u001b[22m\u001b[39m registry at `~/.julia/registries/General.toml`\n",
      "\u001b[32m\u001b[1m   Resolving\u001b[22m\u001b[39m package versions...\n",
      "\u001b[32m\u001b[1m  No Changes\u001b[22m\u001b[39m to `~/Documents/Optimal_Control/Sims/LQR/Project.toml`\n",
      "\u001b[32m\u001b[1m  No Changes\u001b[22m\u001b[39m to `~/Documents/Optimal_Control/Sims/LQR/Manifest.toml`\n"
     ]
    }
   ],
   "source": [
    "import Pkg; Pkg.activate(@__DIR__); Pkg.instantiate();\n",
    "Pkg.add(\"PyPlot\")\n",
    "using LinearAlgebra\n",
    "using PyPlot\n",
    "using ControlSystems"
   ]
  },
  {
   "cell_type": "code",
   "execution_count": null,
   "id": "599c8392",
   "metadata": {},
   "outputs": [],
   "source": [
    "#Discrete Dynamics\n",
    "h = 0.1 #time step\n",
    "A = [1 h; 0 1]\n",
    "B = [0.5*h*h; h]"
   ]
  },
  {
   "cell_type": "code",
   "execution_count": null,
   "id": "22d83df7",
   "metadata": {},
   "outputs": [],
   "source": [
    "n = 2 #number of states\n",
    "m = 1 #number of controls\n",
    "Tfinal = 10.0 #final time #try larger values\n",
    "N = Int(Tfinal/h)+1      #number of time steps\n",
    "thist = Array(range(0, h*(N-1), step=h));"
   ]
  },
  {
   "cell_type": "code",
   "execution_count": null,
   "id": "8532ccf8",
   "metadata": {},
   "outputs": [],
   "source": [
    "#Initial Conditions\n",
    "x0 = [1.0; 0]"
   ]
  },
  {
   "cell_type": "code",
   "execution_count": null,
   "id": "433ab11d",
   "metadata": {},
   "outputs": [],
   "source": [
    "#Cost Weignts\n",
    "Q = Array(1.0*I(2))\n",
    "R = 0.1   #Array(1.0*I(1))\n",
    "#If R is changed to 1, that means I am making controls more expensive so the solution will use less controls\n",
    "Qn = Array(1.0*I(2))"
   ]
  },
  {
   "cell_type": "code",
   "execution_count": null,
   "id": "e6ced386",
   "metadata": {},
   "outputs": [],
   "source": [
    "#Cost Function\n",
    "function J(xhist, uhist)\n",
    "    cost = 0.5*xhist[:,end]'*Qn*xhist[:,end]\n",
    "    for k = 1:(N-1)\n",
    "        cost = cost + 0.5*xhist[:,k]'*Q*xhist[:, k] + 0.5*(uhist[k]'*R*uhist[k])[1]\n",
    "    end\n",
    "    return cost\n",
    "end"
   ]
  },
  {
   "cell_type": "code",
   "execution_count": null,
   "id": "b40432a5",
   "metadata": {},
   "outputs": [],
   "source": [
    "P = zeros(n,n,N)\n",
    "K = zeros(m,n,N-1)\n",
    "\n",
    "P[:,:,N] .= Qn\n",
    "\n",
    "#Backward Riccati recursion\n",
    "#Just depends on the dynamics and the cost function\n",
    "for k = (N-1):-1:1\n",
    "    K[:,:,k] .= (R + B'*P[:,:,k+1]*B)\\(B'*P[:,:,k+1]*A)\n",
    "    P[:,:,k] .= Q + A'*P[:,:,k+1]*(A-B*K[:,:,k])\n",
    "end\n",
    "\n",
    "#Forward Rollout starting at x0\n",
    "xhist = zeros(n,N)\n",
    "xhist[:,1] = x0\n",
    "uhist = zeros(m,N-1)\n",
    "for k = 1:(N-1)\n",
    "    uhist[:,k] .= -K[:,:,k]*xhist[:,k]\n",
    "    xhist[:,k+1] .= A*xhist[:,k] + B*uhist[k]\n",
    "end"
   ]
  },
  {
   "cell_type": "code",
   "execution_count": null,
   "id": "1d4085ff",
   "metadata": {},
   "outputs": [],
   "source": [
    "#plot x1 vs x2, u vs t\n",
    "times = range(0, h*(N-1), step=h)\n",
    "plot(times, xhist[1,:], label=\"Position\")\n",
    "plot(times, xhist[2,:], label=\"Velocity\")\n",
    "xlabel(\"Time\")\n",
    "legend()"
   ]
  },
  {
   "cell_type": "code",
   "execution_count": null,
   "id": "a72cde0a",
   "metadata": {},
   "outputs": [],
   "source": [
    "plot(times[1:end-1], uhist[1,:], label=\"control\")\n",
    "xlabel(\"Time\")\n",
    "legend()"
   ]
  },
  {
   "cell_type": "code",
   "execution_count": null,
   "id": "6851e769",
   "metadata": {},
   "outputs": [],
   "source": [
    "J(xhist, uhist)"
   ]
  },
  {
   "cell_type": "code",
   "execution_count": null,
   "id": "c1bd4c13",
   "metadata": {},
   "outputs": [],
   "source": [
    "#Forward rollout with random noise\n",
    "xhist = zeros(n,N)\n",
    "xhist[:,1] = x0  #10.0*randn(2) #Can start anywhere\n",
    "uhist = zeros(m,N-1)\n",
    "for k = 1:(N-1)\n",
    "    uhist[:,k] .= -K[:,:,k]*xhist[:,k]\n",
    "    xhist[:,k+1] .= A*xhist[:,k] + B*uhist[k] + 0.01*randn(2) #can add noise to the dynamics\n",
    "end"
   ]
  },
  {
   "cell_type": "code",
   "execution_count": null,
   "id": "83961b36",
   "metadata": {},
   "outputs": [],
   "source": [
    "plot(K[1,1,:],label=\"K1\")\n",
    "plot(K[1,2,:],label=\"K2\")\n",
    "xlabel(\"Time\")\n",
    "legend()"
   ]
  },
  {
   "cell_type": "code",
   "execution_count": null,
   "id": "3e47408f",
   "metadata": {},
   "outputs": [],
   "source": [
    "#Compute infinite-horizon K matrix using ControlSystems.jl\n",
    "Kinf = dlqr(A,B,Q,R)\n",
    "#Compare to ours\n",
    "K[:,:,1]-Kinf"
   ]
  },
  {
   "cell_type": "code",
   "execution_count": null,
   "id": "dc5b997c",
   "metadata": {},
   "outputs": [],
   "source": [
    "#Forward rollout with constant K\n",
    "xhist = zeros(n,N)\n",
    "xhist[:,1] = x0  #10.0*randn(2) #Can start anywhere\n",
    "uhist = zeros(m,N-1)\n",
    "for k = 1:(N-1)\n",
    "    uhist[:,k] .= -Kinf*xhist[:,k]\n",
    "    xhist[:,k+1] .= A*xhist[:,k] + B*uhist[k] #+ 0.01*randn(2)\n",
    "end"
   ]
  },
  {
   "cell_type": "code",
   "execution_count": null,
   "id": "f931ee0a",
   "metadata": {},
   "outputs": [],
   "source": [
    "#Closed-loop Eigenvalues\n",
    "eigvals(A-B*Kinf)"
   ]
  },
  {
   "cell_type": "code",
   "execution_count": null,
   "id": "d9c9d6e1",
   "metadata": {},
   "outputs": [],
   "source": []
  }
 ],
 "metadata": {
  "kernelspec": {
   "display_name": "Julia 1.8.3",
   "language": "julia",
   "name": "julia-1.8"
  },
  "language_info": {
   "file_extension": ".jl",
   "mimetype": "application/julia",
   "name": "julia",
   "version": "1.8.3"
  }
 },
 "nbformat": 4,
 "nbformat_minor": 5
}
