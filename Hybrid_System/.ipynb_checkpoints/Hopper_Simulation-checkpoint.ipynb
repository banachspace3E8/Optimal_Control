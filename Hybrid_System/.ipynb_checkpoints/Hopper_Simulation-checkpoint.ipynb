{
 "cells": [
  {
   "cell_type": "code",
   "execution_count": 1,
   "id": "9f963df4",
   "metadata": {},
   "outputs": [],
   "source": [
    "#Shishir Khanal\n",
    "#CMU-Optimal Controls from Jack Manchester\n",
    "#Hopper simulation as a hybrid system"
   ]
  },
  {
   "cell_type": "code",
   "execution_count": 2,
   "id": "bf8e7221",
   "metadata": {},
   "outputs": [
    {
     "name": "stderr",
     "output_type": "stream",
     "text": [
      "\u001b[32m\u001b[1m  Activating\u001b[22m\u001b[39m project at `~/Documents/Optimal_Control/Sims/Hybrid_System`\n",
      "\u001b[32m\u001b[1m    Updating\u001b[22m\u001b[39m registry at `~/.julia/registries/General.toml`\n",
      "\u001b[32m\u001b[1m   Resolving\u001b[22m\u001b[39m package versions...\n",
      "\u001b[32m\u001b[1m  No Changes\u001b[22m\u001b[39m to `~/Documents/Optimal_Control/Sims/Hybrid_System/Project.toml`\n",
      "\u001b[32m\u001b[1m  No Changes\u001b[22m\u001b[39m to `~/Documents/Optimal_Control/Sims/Hybrid_System/Manifest.toml`\n",
      "\u001b[32m\u001b[1m   Resolving\u001b[22m\u001b[39m package versions...\n",
      "\u001b[32m\u001b[1m  No Changes\u001b[22m\u001b[39m to `~/Documents/Optimal_Control/Sims/Hybrid_System/Project.toml`\n",
      "\u001b[32m\u001b[1m  No Changes\u001b[22m\u001b[39m to `~/Documents/Optimal_Control/Sims/Hybrid_System/Manifest.toml`\n",
      "\u001b[32m\u001b[1m   Resolving\u001b[22m\u001b[39m package versions...\n",
      "\u001b[32m\u001b[1m  No Changes\u001b[22m\u001b[39m to `~/Documents/Optimal_Control/Sims/Hybrid_System/Project.toml`\n",
      "\u001b[32m\u001b[1m  No Changes\u001b[22m\u001b[39m to `~/Documents/Optimal_Control/Sims/Hybrid_System/Manifest.toml`\n",
      "\u001b[32m\u001b[1m   Resolving\u001b[22m\u001b[39m package versions...\n",
      "\u001b[32m\u001b[1m  No Changes\u001b[22m\u001b[39m to `~/Documents/Optimal_Control/Sims/Hybrid_System/Project.toml`\n",
      "\u001b[32m\u001b[1m  No Changes\u001b[22m\u001b[39m to `~/Documents/Optimal_Control/Sims/Hybrid_System/Manifest.toml`\n",
      "\u001b[32m\u001b[1m   Resolving\u001b[22m\u001b[39m package versions...\n",
      "\u001b[32m\u001b[1m  No Changes\u001b[22m\u001b[39m to `~/Documents/Optimal_Control/Sims/Hybrid_System/Project.toml`\n",
      "\u001b[32m\u001b[1m  No Changes\u001b[22m\u001b[39m to `~/Documents/Optimal_Control/Sims/Hybrid_System/Manifest.toml`\n",
      "\u001b[36m\u001b[1m[ \u001b[22m\u001b[39m\u001b[36m\u001b[1mInfo: \u001b[22m\u001b[39mPrecompiling Ipopt [b6b21f68-93f8-5de0-b562-5493be1d77c9]\n"
     ]
    }
   ],
   "source": [
    "import Pkg; Pkg.activate(@__DIR__); Pkg.instantiate()\n",
    "Pkg.add(\"LinearAlgebra\")\n",
    "Pkg.add(\"PyPlot\")\n",
    "Pkg.add(\"ForwardDiff\")\n",
    "Pkg.add(\"Ipopt\")\n",
    "Pkg.add(\"MathOptInterface\")\n",
    "using LinearAlgebra\n",
    "using PyPlot\n",
    "using ForwardDiff\n",
    "using Ipopt\n",
    "using MathOptInterface\n",
    "const MOI = MathOptInterface;"
   ]
  },
  {
   "cell_type": "code",
   "execution_count": 3,
   "id": "58016eb4",
   "metadata": {},
   "outputs": [
    {
     "data": {
      "text/plain": [
       "430"
      ]
     },
     "execution_count": 3,
     "metadata": {},
     "output_type": "execute_result"
    }
   ],
   "source": [
    "Nx = 8  #number of state\n",
    "Nu = 2  #number of controls \n",
    "Tfinal = 4.4  # final time\n",
    "h = 0.1  #10Hz\n",
    "Nm = 5  #number of steps in each mode (5 time steps to each mode: 5 steps for stance 5 for flight and so on)\n",
    "Nt = Int(ceil(Tfinal/h)+1)  #number of time steps\n",
    "Nmodes = Int(ceil(Nt/Nm))\n",
    "thist = Array(range(0, h*(Nt-1), step=h));\n",
    "n_nlp = Nx*Nt + Nu*(Nt-1)  #Number of decision variables\n",
    "#indexing math\n",
    "#to index into the giant vector of optimization variables from the solver to pick out the things I want to pick out\n",
    "c_init_inds = 1:Nx\n",
    "c_term_inds = (c_init_inds[end]+1):(c_init_inds[end]+Nx)\n",
    "c_dyn_inds = (c_init_inds[end]+1):(c_init_inds[end]+Nx*(Nt-1))\n",
    "c_stance_inds = (c_dyn_inds[end]+1):(c_dyn_inds[end]+Int(ceil(Nmodes/2)*Nm))\n",
    "c_length_inds = (c_stance_inds[end]+1):(c_stance_inds[end]+Nt)\n",
    "m_nlp = c_length_inds[end]"
   ]
  },
  {
   "cell_type": "code",
   "execution_count": 88,
   "id": "f9b7e069",
   "metadata": {},
   "outputs": [
    {
     "data": {
      "text/plain": [
       "jump_map (generic function with 1 method)"
      ]
     },
     "execution_count": 88,
     "metadata": {},
     "output_type": "execute_result"
    }
   ],
   "source": [
    "#Hopper Dynamics\n",
    "g = 9.81\n",
    "m1 = 5.0  #body mass\n",
    "m2 = 1.0  #foot mass\n",
    "l_min = 0.5  #min length\n",
    "l_max = 1.5  #max length\n",
    "\n",
    "function flight_dynamics(x,u)  # f = ma for two masses\n",
    "    M = Diagonal([m1 m1 m2 m2])\n",
    "    \n",
    "    r1 = x[1:2]\n",
    "    r2 = x[3:4]\n",
    "    v = x[5:8]\n",
    "    \n",
    "    l1 = (r1[1] - r2[2])/norm(r1 - r2) #Calculate the direction along which prismatic joint acts\n",
    "    l2 = (r1[2] - r2[2])/norm(r1- r2) #l1 and l2 are the unit vectors pointing between body and foot\n",
    "    B = [l1 l2;\n",
    "        l2 -l1;\n",
    "       -l1 -l2;\n",
    "       -l2  l1] #map the torque and the prismatic joint forces into the forces and torques on the whole body\n",
    "    \n",
    "    v̇ = [0; -g; 0; -g] + M\\(B*u)\n",
    "    \n",
    "    ẋ = [v; v̇]\n",
    "end\n",
    "\n",
    "function stance_dynamics(x,u)\n",
    "    m1 = 5.0 #body mass\n",
    "    m2 = 1.0 #foot mass\n",
    "    M = Diagonal([m1 m1 m2 m2])\n",
    "    g = 9.81\n",
    "    \n",
    "    r1 = x[1:2]\n",
    "    r2 = x[3:4]\n",
    "    v = x[5:8]\n",
    "    \n",
    "    l1 = (r1[1] - r2[2])/norm(r1 - r2)\n",
    "    l2 = (r1[2] - r2[2])/norm(r1- r2)\n",
    "    B = [l1 l2;\n",
    "        l2 -l1;\n",
    "        0    0;\n",
    "        0    0] #zero out all the stuffs having to do with the foot coz stuck to the ground\n",
    "    \n",
    "    v̇ = [0; -g; 0; 0] + M\\(B*u)\n",
    "    \n",
    "    ẋ = [v; v̇]\n",
    "end\n",
    "\n",
    "function flight_dynamics_rk4(x,u)\n",
    "    #RK4 integration ZOH on u\n",
    "    f1 = flight_dynamics(x, u)\n",
    "    f2 = flight_dynamics(x + 0.5*h*f1, u)\n",
    "    f3 = flight_dynamics(x + 0.5*h*f2, u)\n",
    "    f4 = flight_dynamics(x + h*f3, u)\n",
    "    return x + (h/6.0)*(f1 + 2*f2 + 2*f3 + f4)\n",
    "end\n",
    "\n",
    "function stance_dynamics_rk4(x,u)\n",
    "    #RK4 integration ZOH on u\n",
    "    f1 = stance_dynamics(x, u)\n",
    "    f2 = stance_dynamics(x + 0.5*h*f1, u)\n",
    "    f3 = stance_dynamics(x + 0.5*h*f2, u)\n",
    "    f4 = stance_dynamics(x + h*f3, u)\n",
    "    return x + (h/6.0)*(f1 + 2*f2 + 2*f3 + f4)\n",
    "end\n",
    "\n",
    "function jump_map(x)\n",
    "    #Assume the foot experiences inelastic collision\n",
    "    xn = [x[1:6]; 0.0; 0.0] #zero out the velocities of the foot\n",
    "    return xn\n",
    "end"
   ]
  },
  {
   "cell_type": "code",
   "execution_count": 89,
   "id": "49e256c1",
   "metadata": {},
   "outputs": [
    {
     "data": {
      "text/plain": [
       "8×8 Diagonal{Float64, Vector{Float64}}:\n",
       " 1.0   ⋅    ⋅    ⋅    ⋅    ⋅    ⋅    ⋅ \n",
       "  ⋅   1.0   ⋅    ⋅    ⋅    ⋅    ⋅    ⋅ \n",
       "  ⋅    ⋅   1.0   ⋅    ⋅    ⋅    ⋅    ⋅ \n",
       "  ⋅    ⋅    ⋅   1.0   ⋅    ⋅    ⋅    ⋅ \n",
       "  ⋅    ⋅    ⋅    ⋅   1.0   ⋅    ⋅    ⋅ \n",
       "  ⋅    ⋅    ⋅    ⋅    ⋅   1.0   ⋅    ⋅ \n",
       "  ⋅    ⋅    ⋅    ⋅    ⋅    ⋅   1.0   ⋅ \n",
       "  ⋅    ⋅    ⋅    ⋅    ⋅    ⋅    ⋅   1.0"
      ]
     },
     "execution_count": 89,
     "metadata": {},
     "output_type": "execute_result"
    }
   ],
   "source": [
    "#Cost weights\n",
    "Q = Diagonal([1.0*ones(4); 1.0*ones(4)]);\n",
    "R = 0.001;\n",
    "Qn = Q"
   ]
  },
  {
   "cell_type": "code",
   "execution_count": 90,
   "id": "635b8ccf",
   "metadata": {},
   "outputs": [
    {
     "data": {
      "text/plain": [
       "terminal_cost (generic function with 1 method)"
      ]
     },
     "execution_count": 90,
     "metadata": {},
     "output_type": "execute_result"
    }
   ],
   "source": [
    "function stage_cost(x,u,k)\n",
    "    return 0.5*((x-xref[:,k])'*Q*(x-xref[:,k])) + 0.5*(u-uref)'*R*(u-uref)\n",
    "end\n",
    "\n",
    "function terminal_cost(x)\n",
    "    return 0.5*((x-xref[:,end])'*Qn*(x-xref[:,end]))\n",
    "end"
   ]
  },
  {
   "cell_type": "code",
   "execution_count": 91,
   "id": "da02bf6e",
   "metadata": {},
   "outputs": [
    {
     "data": {
      "text/plain": [
       "cost (generic function with 1 method)"
      ]
     },
     "execution_count": 91,
     "metadata": {},
     "output_type": "execute_result"
    }
   ],
   "source": [
    "function cost(ztraj)\n",
    "    z  = reshape(ztraj[1:(end-Nx)],Nx+Nu,Nt-1)\n",
    "    xtraj = [z[1:Nx,:] ztraj[end-(Nx-1):end]]\n",
    "    utraj = z[(Nx+1):(Nx+Nu),:]\n",
    "    J = 0.0\n",
    "    for k = 1:(Nt-1)\n",
    "        J += stage_cost(xtraj[:,k],utraj[:,k],k)\n",
    "    end\n",
    "    J += terminal_cost(xtraj[:,end])\n",
    "    return J\n",
    "end"
   ]
  },
  {
   "cell_type": "code",
   "execution_count": 92,
   "id": "8b940e28",
   "metadata": {},
   "outputs": [],
   "source": [
    "#Reference Trajectory\n",
    "uref = [m1*g; 0.0]\n",
    "xref = zeros(Nx,Nt)\n",
    "xref[1,:] .= LinRange(-1.0,1.0,Nt)\n",
    "xref[2,:] .= 1.0 .+ 0.5.*sin.(2*pi/10.0*(0:(Nt-1)));\n",
    "xref[3,:] .= LinRange(-1.0,1.0,Nt)\n",
    "xref[5,2:end-1] .= (2.0/Tfinal)*ones(Nt-2)\n",
    "xref[7,2:end-1] .= (2.0/Tfinal)*ones(Nt-2);"
   ]
  },
  {
   "cell_type": "code",
   "execution_count": 93,
   "id": "e63cfd6f",
   "metadata": {},
   "outputs": [
    {
     "data": {
      "image/png": "[encoded data removed]",
      "text/plain": [
       "Figure(PyObject <Figure size 640x480 with 1 Axes>)"
      ]
     },
     "metadata": {},
     "output_type": "display_data"
    },
    {
     "data": {
      "text/plain": [
       "1-element Vector{PyCall.PyObject}:\n",
       " PyObject <matplotlib.lines.Line2D object at 0x7fdb79896160>"
      ]
     },
     "execution_count": 93,
     "metadata": {},
     "output_type": "execute_result"
    }
   ],
   "source": [
    "plot(xref[2,:])"
   ]
  },
  {
   "cell_type": "code",
   "execution_count": 94,
   "id": "f3db529b",
   "metadata": {},
   "outputs": [
    {
     "data": {
      "text/plain": [
       "dynamics_constraint! (generic function with 1 method)"
      ]
     },
     "execution_count": 94,
     "metadata": {},
     "output_type": "execute_result"
    }
   ],
   "source": [
    "function dynamics_constraint!(c, ztraj)\n",
    "    d = reshape(view(c,c_dyn_inds),Nx,Nt-1)\n",
    "    z = reshape(ztraj[1:(end-Nx)],Nx+Nu,Nt-1)\n",
    "    xtraj = [z[1:Nx,:] ztraj[end-(Nx-1):end]]\n",
    "    utraj = z[(Nx+1):(Nx+Nu),:]\n",
    "    for k = 1:(Nmodes-1)\n",
    "        if mod(k,2) == 1\n",
    "            for j = 1:Nm\n",
    "                s = (k-1)*Nm + j\n",
    "                d[:,s] = stance_dynamics_rk4(xtraj[:,s],utraj[:,s]) - xtraj[:,s+1]\n",
    "            end\n",
    "        else\n",
    "            for j = 1:(Nm-1)\n",
    "                s = (k-1)*Nm + j\n",
    "                d[:,s] = flight_dynamics_rk4(xtraj[:,s],utraj[:,s]) - xtraj[:,s+1]\n",
    "            end\n",
    "            s = k*Nm\n",
    "            d[:,s] = jump_map(flight_dynamics_rk4(xtraj[:,s],utraj[:,s]) - xtraj[:,s+1])\n",
    "        end\n",
    "    end\n",
    "    if mod(Nmodes,2) == 1\n",
    "        for j = 1:(Nm-1)\n",
    "            s = (Nmodes-1)*Nm + j\n",
    "            d[:,s] = stance_dynamics_rk4(xtraj[:,s],utraj[:,s]) - xtraj[:,s+1]\n",
    "        end\n",
    "    else\n",
    "        for j = 1:(Nm-1)\n",
    "            s = (Nmodes-1)*Nm + j\n",
    "            d[:,s] = flight_dynamics_rk4(xtraj[:,s],utraj[:,s]) - xtraj[:,s+1]\n",
    "        end\n",
    "    end\n",
    "\n",
    "    return nothing\n",
    "end"
   ]
  },
  {
   "cell_type": "code",
   "execution_count": 95,
   "id": "39cff76c",
   "metadata": {},
   "outputs": [
    {
     "data": {
      "text/plain": [
       "stance_constraint! (generic function with 1 method)"
      ]
     },
     "execution_count": 95,
     "metadata": {},
     "output_type": "execute_result"
    }
   ],
   "source": [
    "function stance_constraint!(c, ztraj)\n",
    "    d = view(c,c_stance_inds)\n",
    "    z = reshape(ztraj[1:(end-Nx)],Nx+Nu,Nt-1)\n",
    "    xtraj = [z[1:Nx,:] ztraj[(end-(Nx-1)):end]]\n",
    "    t = 1\n",
    "    for k = 1:Nmodes\n",
    "        if mod(k,2) == 1\n",
    "            for j = 1:Nm\n",
    "                s = (k-1)*Nm + j\n",
    "                d[t] = xtraj[4,s]\n",
    "                t += 1\n",
    "            end\n",
    "        end\n",
    "        \n",
    "    end\n",
    "    return nothing\n",
    "end"
   ]
  },
  {
   "cell_type": "code",
   "execution_count": 96,
   "id": "a12d9adf",
   "metadata": {},
   "outputs": [
    {
     "data": {
      "text/plain": [
       "length_constraint! (generic function with 1 method)"
      ]
     },
     "execution_count": 96,
     "metadata": {},
     "output_type": "execute_result"
    }
   ],
   "source": [
    "function length_constraint!(c,ztraj)\n",
    "    d = view(c,c_length_inds)\n",
    "    z = reshape(ztraj[1:(end-Nx)],Nx+Nu,Nt-1)\n",
    "    xtraj = [z[1:Nx,:] ztraj[(end - (Nx-1)):end]]\n",
    "    for k = 1:Nt\n",
    "        d[k] = norm(xtraj[1:2,k] - xtraj[3:4,k])\n",
    "    end\n",
    "end"
   ]
  },
  {
   "cell_type": "code",
   "execution_count": 97,
   "id": "1aaa4276",
   "metadata": {},
   "outputs": [
    {
     "data": {
      "text/plain": [
       "con! (generic function with 1 method)"
      ]
     },
     "execution_count": 97,
     "metadata": {},
     "output_type": "execute_result"
    }
   ],
   "source": [
    "function con!(c,ztraj)\n",
    "    c[c_init_inds] .= ztraj[1:Nx] - xref[:,1]  #initial state constraint\n",
    "    c[c_term_inds] .= ztraj[(end-(Nx-1)):end] - xref[:,end]  #terminal state constraint\n",
    "    @views dynamics_constraint!(c,ztraj)\n",
    "    @views stance_constraint!(c,ztraj)\n",
    "    @views length_constraint!(c,ztraj)\n",
    "end"
   ]
  },
  {
   "cell_type": "code",
   "execution_count": 98,
   "id": "a5fc788e",
   "metadata": {},
   "outputs": [
    {
     "data": {
      "text/plain": [
       "solve (generic function with 1 method)"
      ]
     },
     "execution_count": 98,
     "metadata": {},
     "output_type": "execute_result"
    }
   ],
   "source": [
    "struct ProblemMOI <: MOI.AbstractNLPEvaluator\n",
    "    n_nlp::Int\n",
    "    m_nlp::Int\n",
    "    idx_ineq\n",
    "    obj_grad::Bool\n",
    "    con_jac::Bool\n",
    "    sparsity_jac\n",
    "    sparsity_hess\n",
    "    primal_bounds\n",
    "    constraint_bounds\n",
    "    hessian_lagrangian::Bool\n",
    "end\n",
    "\n",
    "function ProblemMOI(n_nlp,m_nlp;\n",
    "        idx_ineq=c_length_inds,\n",
    "        obj_grad=true,\n",
    "        con_jac=true,\n",
    "        sparsity_jac=sparsity_jacobian(n_nlp,m_nlp),\n",
    "        sparsity_hess=sparsity_hessian(n_nlp,m_nlp),\n",
    "        primal_bounds=primal_bounds(n_nlp),\n",
    "        constraint_bounds=constraint_bounds(m_nlp,idx_ineq=idx_ineq),\n",
    "        hessian_lagrangian=false)\n",
    "\n",
    "    ProblemMOI(n_nlp,m_nlp,\n",
    "        idx_ineq,\n",
    "        obj_grad,\n",
    "        con_jac,\n",
    "        sparsity_jac,\n",
    "        sparsity_hess,\n",
    "        primal_bounds,\n",
    "        constraint_bounds,\n",
    "        hessian_lagrangian)\n",
    "end\n",
    "\n",
    "function primal_bounds(n)\n",
    "    x_l = -Inf*ones(n)\n",
    "    x_u = Inf*ones(n)\n",
    "    return x_l, x_u\n",
    "end\n",
    "\n",
    "function constraint_bounds(m; idx_ineq=(1:0))\n",
    "    c_l = zeros(m)\n",
    "    c_l[idx_ineq] .= l_min\n",
    "\n",
    "    c_u = zeros(m)\n",
    "    c_u[idx_ineq] .= l_max\n",
    "    return c_l, c_u\n",
    "end\n",
    "\n",
    "function row_col!(row,col,r,c)\n",
    "    for cc in c\n",
    "        for rr in r\n",
    "            push!(row,convert(Int,rr))\n",
    "            push!(col,convert(Int,cc))\n",
    "        end\n",
    "    end\n",
    "    return row, col\n",
    "end\n",
    "\n",
    "function sparsity_jacobian(n,m)\n",
    "\n",
    "    row = []\n",
    "    col = []\n",
    "\n",
    "    r = 1:m\n",
    "    c = 1:n\n",
    "\n",
    "    row_col!(row,col,r,c)\n",
    "\n",
    "    return collect(zip(row,col))\n",
    "end\n",
    "\n",
    "function sparsity_hessian(n,m)\n",
    "\n",
    "    row = []\n",
    "    col = []\n",
    "\n",
    "    r = 1:m\n",
    "    c = 1:n\n",
    "\n",
    "    row_col!(row,col,r,c)\n",
    "\n",
    "    return collect(zip(row,col))\n",
    "end\n",
    "\n",
    "function MOI.eval_objective(prob::MOI.AbstractNLPEvaluator, x)\n",
    "    cost(x)\n",
    "end\n",
    "\n",
    "function MOI.eval_objective_gradient(prob::MOI.AbstractNLPEvaluator, grad_f, x)\n",
    "    ForwardDiff.gradient!(grad_f,cost,x)\n",
    "    return nothing\n",
    "end\n",
    "\n",
    "function MOI.eval_constraint(prob::MOI.AbstractNLPEvaluator,g,x)\n",
    "    con!(g,x)\n",
    "    return nothing\n",
    "end\n",
    "\n",
    "function MOI.eval_constraint_jacobian(prob::MOI.AbstractNLPEvaluator, jac, x)\n",
    "    ForwardDiff.jacobian!(reshape(jac,prob.m_nlp,prob.n_nlp), con!, zeros(prob.m_nlp), x)\n",
    "    return nothing\n",
    "end\n",
    "\n",
    "function MOI.features_available(prob::MOI.AbstractNLPEvaluator)\n",
    "    return [:Grad, :Jac]\n",
    "end\n",
    "\n",
    "MOI.initialize(prob::MOI.AbstractNLPEvaluator, features) = nothing\n",
    "MOI.jacobian_structure(prob::MOI.AbstractNLPEvaluator) = prob.sparsity_jac\n",
    "\n",
    "function solve(x0,prob::MOI.AbstractNLPEvaluator;\n",
    "        tol=1.0e-6,c_tol=1.0e-6,max_iter=10000)\n",
    "    x_l, x_u = prob.primal_bounds\n",
    "    c_l, c_u = prob.constraint_bounds\n",
    "\n",
    "    nlp_bounds = MOI.NLPBoundsPair.(c_l,c_u)\n",
    "    block_data = MOI.NLPBlockData(nlp_bounds,prob,true)\n",
    "\n",
    "    solver = Ipopt.Optimizer()\n",
    "    solver.options[\"max_iter\"] = max_iter\n",
    "    solver.options[\"tol\"] = tol\n",
    "    solver.options[\"constr_viol_tol\"] = c_tol\n",
    "\n",
    "    x = MOI.add_variables(solver,prob.n_nlp)\n",
    "\n",
    "    for i = 1:prob.n_nlp\n",
    "        MOI.add_constraint(solver, x[i], MOI.LessThan(x_u[i]))\n",
    "        MOI.add_constraint(solver, x[i], MOI.GreaterThan(x_l[i]))\n",
    "        MOI.set(solver, MOI.VariablePrimalStart(), x[i], x0[i])\n",
    "    end\n",
    "\n",
    "    # Solve the problem\n",
    "    MOI.set(solver, MOI.NLPBlock(), block_data)\n",
    "    MOI.set(solver, MOI.ObjectiveSense(), MOI.MIN_SENSE)\n",
    "    MOI.optimize!(solver)\n",
    "\n",
    "    # Get the solution\n",
    "    res = MOI.get(solver, MOI.VariablePrimal(), x)\n",
    "\n",
    "    return res\n",
    "end"
   ]
  },
  {
   "cell_type": "code",
   "execution_count": 99,
   "id": "4d341423",
   "metadata": {},
   "outputs": [],
   "source": [
    "#Guess\n",
    "xguess = xref + 0.1*randn(Nx,Nt)\n",
    "uguess = kron(ones(Nt-1)', uref) + 0.1*randn(Nu,Nt-1)\n",
    "z0 = [reshape([xguess[:,1:(Nt-1)]; uguess],(Nx+Nu)*(Nt-1),1); xguess[:,end]];"
   ]
  },
  {
   "cell_type": "code",
   "execution_count": 100,
   "id": "74b18015",
   "metadata": {},
   "outputs": [
    {
     "name": "stdout",
     "output_type": "stream",
     "text": [
      "This is Ipopt version 3.14.10, running with linear solver MUMPS 5.5.1.\n",
      "\n",
      "Number of nonzeros in equality constraint Jacobian...:   172480\n",
      "Number of nonzeros in inequality constraint Jacobian.:    20160\n",
      "Number of nonzeros in Lagrangian Hessian.............:        0\n",
      "\n",
      "Total number of variables............................:      448\n",
      "                     variables with only lower bounds:        0\n",
      "                variables with lower and upper bounds:        0\n",
      "                     variables with only upper bounds:        0\n",
      "Total number of equality constraints.................:      385\n",
      "Total number of inequality constraints...............:       45\n",
      "        inequality constraints with only lower bounds:        0\n",
      "   inequality constraints with lower and upper bounds:       45\n",
      "        inequality constraints with only upper bounds:        0\n",
      "\n",
      "iter    objective    inf_pr   inf_du lg(mu)  ||d||  lg(rg) alpha_du alpha_pr  ls\n",
      "   0  1.6927399e+00 2.07e+00 3.55e-01   0.0 0.00e+00    -  0.00e+00 0.00e+00   0\n",
      "   1  2.2983190e+00 1.79e+00 1.76e+02   0.3 4.00e+01    -  1.00e+00 1.53e-01f  1\n",
      "   2  2.9098386e+01 1.28e+00 2.86e+02  -5.5 4.23e+01    -  7.58e-02 3.17e-01h  1\n",
      "   3  2.5147838e+01 8.48e-01 2.63e+02  -1.3 3.72e+01    -  8.14e-02 3.67e-01f  1\n",
      "   4  3.5127131e+01 4.98e-01 2.11e+02  -5.4 2.75e+01    -  8.15e-02 4.35e-01h  1\n",
      "   5  4.3987345e+01 6.42e-01 1.54e+02  -1.1 1.76e+01    -  1.79e-01 5.66e-01h  1\n",
      "   6  3.3230321e+01 6.57e-01 1.67e+02  -0.6 6.14e+00    -  4.86e-01 1.00e+00f  1\n",
      "   7  2.3742963e+01 5.67e-01 9.30e+01  -0.5 3.10e+00    -  6.33e-01 1.00e+00f  1\n",
      "   8  1.9469500e+01 1.33e-01 1.20e+01  -1.5 1.74e+00    -  7.33e-01 1.00e+00f  1\n",
      "   9  1.8469303e+01 3.11e-03 1.19e+00  -1.1 4.43e-01    -  1.00e+00 1.00e+00f  1\n",
      "iter    objective    inf_pr   inf_du lg(mu)  ||d||  lg(rg) alpha_du alpha_pr  ls\n",
      "  10  1.7734000e+01 1.61e-03 7.87e-01  -1.8 3.76e-01    -  9.57e-01 1.00e+00f  1\n",
      "  11  1.7499435e+01 8.98e-03 1.83e-01  -1.6 5.62e-01    -  8.53e-01 1.00e+00f  1\n",
      "  12  1.6884616e+01 7.87e-03 5.96e-01  -1.9 2.00e+00    -  6.15e-01 1.00e+00f  1\n",
      "  13  1.6869135e+01 7.61e-03 5.56e-01  -1.5 7.66e+00    -  4.31e-01 8.85e-02f  4\n",
      "  14  1.6520641e+01 2.47e-03 1.86e-01  -2.2 7.19e-01    -  9.81e-01 1.00e+00f  1\n",
      "  15  1.6356425e+01 7.12e-03 3.11e-01  -1.9 2.18e+00    -  1.00e+00 1.76e-01f  2\n",
      "  16  1.6052569e+01 3.50e-03 1.50e-01  -2.6 9.06e-01    -  9.81e-01 1.00e+00f  1\n",
      "  17  1.5915232e+01 3.46e-03 1.67e-01  -2.4 5.36e+00    -  1.00e+00 1.76e-01f  2\n",
      "  18  1.5627298e+01 8.08e-03 1.87e-01  -1.5 6.75e+00    -  5.51e-01 2.36e-01f  3\n",
      "  19  1.5611772e+01 1.16e-02 4.68e-01  -1.5 9.18e+00    -  5.48e-01 2.50e-01f  3\n",
      "iter    objective    inf_pr   inf_du lg(mu)  ||d||  lg(rg) alpha_du alpha_pr  ls\n",
      "  20  1.7053212e+01 7.32e-03 6.42e-01  -1.7 6.10e+00    -  8.43e-01 1.00e+00H  1\n",
      "  21  1.6669702e+01 1.07e-02 7.71e-01  -1.8 4.24e+01    -  3.10e-01 7.35e-02f  3\n",
      "  22  1.6083615e+01 2.07e-02 5.51e-01  -1.8 5.54e+00    -  6.70e-01 6.84e-01f  1\n",
      "  23  1.5814596e+01 3.81e-02 5.08e-01  -1.8 2.18e+01    -  5.28e-02 1.43e-01f  2\n",
      "  24  1.4998060e+01 3.56e-02 4.46e-01  -1.8 1.97e+01    -  4.08e-02 7.35e-02f  3\n",
      "  25  1.6905609e+01 1.82e-02 5.08e-01  -7.9 3.57e+00    -  2.81e-01 1.00e+00h  1\n",
      "  26  2.8868241e+01 1.20e-02 1.91e+00  -2.2 3.82e+00    -  6.62e-01 1.00e+00H  1\n",
      "  27  2.1954462e+01 4.28e-02 1.02e+00  -2.2 4.99e+00    -  4.90e-01 2.81e-01F  1\n",
      "  28  1.6141331e+01 5.03e-02 1.82e+00  -2.2 1.18e+01    -  1.45e-02 4.21e-01f  2\n",
      "  29  1.5261609e+01 4.77e-02 1.72e+00  -2.2 3.81e+01    -  3.69e-02 5.23e-02f  3\n",
      "iter    objective    inf_pr   inf_du lg(mu)  ||d||  lg(rg) alpha_du alpha_pr  ls\n",
      "  30  1.5250486e+01 3.89e-02 1.33e+00  -2.2 4.95e+00    -  2.03e-01 2.26e-01f  3\n",
      "  31  1.5041306e+01 2.16e-02 6.65e-01  -2.2 2.00e+00    -  1.00e+00 5.00e-01f  2\n",
      "  32  1.8035533e+01 7.20e-03 8.44e-01  -1.9 1.32e+00    -  1.00e+00 1.00e+00H  1\n",
      "  33  1.4243883e+01 4.01e-02 3.39e-01  -2.0 2.05e+00    -  1.00e+00 1.00e+00f  1\n",
      "  34  1.4478392e+01 4.08e-03 1.48e-01  -2.2 1.50e+00    -  9.90e-01 1.00e+00h  1\n",
      "  35  1.5301642e+01 4.78e-03 5.00e-01  -2.5 7.40e-01    -  9.38e-01 9.25e-01H  1\n",
      "  36  1.4178026e+01 2.15e-02 2.58e-02  -2.2 7.14e-01    -  1.00e+00 1.00e+00f  1\n",
      "  37  1.4172929e+01 4.52e-04 4.45e-02  -3.5 1.05e-01    -  9.99e-01 1.00e+00h  1\n",
      "  38  1.4146380e+01 1.77e-04 2.19e-02  -4.9 1.76e-01    -  1.00e+00 1.00e+00h  1\n",
      "  39  1.4133651e+01 1.46e-04 3.81e-02  -5.5 1.01e+00    -  1.00e+00 1.25e-01f  4\n",
      "iter    objective    inf_pr   inf_du lg(mu)  ||d||  lg(rg) alpha_du alpha_pr  ls\n",
      "  40  1.4072140e+01 5.62e-04 8.85e-02  -5.0 6.86e-01    -  1.00e+00 1.00e+00f  1\n",
      "  41  1.4009451e+01 1.24e-03 1.01e-01  -4.8 1.42e+01    -  1.00e+00 5.48e-02f  5\n",
      "  42  1.3972697e+01 1.97e-03 2.13e-01  -4.3 2.17e+01    -  1.00e+00 6.80e-02f  3\n",
      "  43  1.3960386e+01 2.02e-03 2.18e-01  -3.3 5.41e+00    -  1.00e+00 1.93e-02h  6\n",
      "  44  1.3790855e+01 7.22e-04 1.35e-01  -3.9 9.58e-01    -  1.00e+00 1.00e+00h  1\n",
      "  45  1.3673429e+01 1.16e-03 2.12e-01  -3.1 5.05e+01    -  1.00e+00 2.05e-02f  5\n",
      "  46  1.3675798e+01 1.10e-03 2.08e-01  -3.2 2.40e+00    -  9.99e-01 6.59e-02h  4\n",
      "  47  1.3870974e+01 8.58e-05 2.16e-01  -3.2 2.13e+00    -  1.00e+00 1.00e+00H  1\n",
      "  48  1.3864420e+01 6.65e-04 2.22e-01  -3.5 1.60e+01    -  1.00e+00 6.25e-02f  5\n",
      "  49  1.3844396e+01 7.47e-04 2.57e-01  -3.0 9.91e+00    -  1.00e+00 4.91e-02f  4\n",
      "iter    objective    inf_pr   inf_du lg(mu)  ||d||  lg(rg) alpha_du alpha_pr  ls\n",
      "  50  1.4355629e+01 8.72e-04 3.43e-01  -3.3 3.98e+00    -  1.00e+00 1.00e+00H  1\n",
      "  51  1.4278299e+01 3.25e-03 4.53e-01  -3.4 9.29e+01    -  1.68e-01 2.10e-02f  3\n",
      "  52  1.4257214e+01 3.44e-03 3.92e-01  -3.4 1.79e+01    -  3.33e-01 3.29e-02f  4\n",
      "  53  1.4165567e+01 3.94e-03 2.74e-01  -3.4 9.85e+00    -  1.00e+00 1.21e-01f  2\n",
      "  54  1.3794589e+01 6.29e-03 1.20e-01  -3.4 1.59e+01    -  9.16e-02 9.70e-02f  4\n",
      "  55  1.3726945e+01 6.61e-03 1.05e-01  -3.4 3.03e+01    -  3.24e-01 6.25e-02f  5\n",
      "  56  1.3691888e+01 6.37e-03 1.17e-01  -3.4 4.17e+01    -  2.01e-01 1.36e-02f  6\n",
      "  57  1.3668864e+01 6.31e-03 1.13e-01  -3.4 9.22e+00    -  5.17e-01 2.46e-02h  5\n",
      "  58  1.3675376e+01 6.70e-04 6.07e-02  -4.6 5.05e-01    -  1.00e+00 1.00e+00h  1\n",
      "  59  1.5072818e+01 2.30e-04 8.17e-01  -4.5 9.18e+00    -  9.63e-01 1.00e+00H  1\n",
      "iter    objective    inf_pr   inf_du lg(mu)  ||d||  lg(rg) alpha_du alpha_pr  ls\n",
      "  60  1.5050586e+01 8.24e-04 8.71e-01  -4.7 8.52e+01    -  1.39e-01 7.12e-03f  6\n",
      "  61  1.4392639e+01 1.03e-02 6.11e-01  -4.7 7.76e+00    -  9.82e-01 3.95e-01f  2\n",
      "  62  1.4359088e+01 1.07e-02 2.10e-01  -4.7 1.54e+02    -  3.79e-02 4.27e-02f  3\n",
      "  63  1.4350754e+01 1.34e-02 2.04e-01  -4.7 1.03e+02    -  1.50e-01 1.31e-02f  4\n",
      "  64  1.4183175e+01 1.33e-02 2.24e-01  -4.7 8.47e+00    -  1.00e+00 1.25e-01f  4\n",
      "  65  1.3947208e+01 1.27e-02 2.00e-01  -4.7 1.15e+01    -  3.51e-01 6.71e-02f  3\n",
      "  66  1.6243715e+01 4.59e-03 6.82e-01  -4.7 4.95e+00    -  1.00e+00 1.00e+00H  1\n",
      "  67  1.5769436e+01 7.84e-03 5.19e-01  -4.7 2.35e+01    -  2.85e-01 7.25e-02f  4\n",
      "  68  1.5227477e+01 1.96e-02 3.04e-01  -4.7 1.70e+01    -  1.00e+00 2.57e-01f  2\n",
      "  69  1.4374853e+01 9.87e-03 2.83e-01  -4.7 8.59e+01    -  5.50e-02 6.37e-02f  3\n",
      "iter    objective    inf_pr   inf_du lg(mu)  ||d||  lg(rg) alpha_du alpha_pr  ls\n",
      "  70  1.4192653e+01 1.26e-02 3.97e-01  -4.7 2.06e+02    -  4.79e-02 7.92e-03f  3\n",
      "  71  1.4352560e+01 1.13e-02 4.09e-01  -4.7 1.38e+01    -  6.47e-01 9.49e-02h  4\n",
      "  72  1.4985181e+01 7.32e-03 5.16e-01  -4.7 5.64e+00    -  1.00e+00 1.00e+00H  1\n",
      "  73  1.4569712e+01 9.33e-03 7.74e-01  -4.7 1.13e+02    -  1.45e-01 2.54e-02f  3\n",
      "  74  1.5046223e+01 7.43e-03 9.18e-01  -4.7 5.87e+01    -  4.68e-02 3.62e-02h  3\n",
      "  75  1.7180578e+01 4.32e-03 6.29e-01  -4.7 1.07e+01    -  1.00e+00 8.71e-01H  1\n",
      "  76  1.6587866e+01 4.35e-03 5.56e-01  -4.7 5.23e+01    -  1.25e-02 4.53e-02f  4\n",
      "  77  1.6158727e+01 5.15e-03 4.99e-01  -4.7 1.56e+02    -  9.67e-03 7.42e-03f  4\n",
      "  78  1.5814367e+01 5.26e-03 4.63e-01  -4.7 6.74e+01    -  3.45e-02 1.30e-02f  3\n",
      "  79  1.5561751e+01 5.71e-03 4.35e-01  -4.7 3.82e+01    -  3.09e-02 1.08e-02f  6\n",
      "iter    objective    inf_pr   inf_du lg(mu)  ||d||  lg(rg) alpha_du alpha_pr  ls\n",
      "  80  1.3823107e+01 4.57e-03 1.50e-01  -4.7 6.64e+00    -  1.00e+00 1.00e+00f  1\n",
      "  81  1.3730972e+01 4.35e-03 9.79e-02  -4.7 2.93e+01    -  2.38e-01 1.33e-02f  4\n",
      "  82  1.4182004e+01 3.33e-04 3.30e-01  -4.7 4.35e+00    -  8.30e-01 1.00e+00H  1\n",
      "  83  1.4158074e+01 4.04e-04 4.06e-01  -4.7 5.78e+01    -  6.86e-01 1.48e-02f  6\n",
      "  84  1.4149740e+01 1.63e-03 5.14e-01  -4.7 5.82e+01    -  5.80e-01 2.08e-02f  4\n",
      "  85  1.4088851e+01 1.81e-03 4.87e-01  -4.7 8.35e+00    -  9.19e-01 6.25e-02f  5\n",
      "  86  1.7342605e+01 6.94e-04 7.11e-01  -4.7 8.17e+00    -  1.00e+00 1.00e+00H  1\n",
      "  87  1.7038962e+01 1.13e-03 5.08e-01  -4.7 1.03e+02    -  1.04e-01 2.42e-02f  3\n",
      "  88  1.6703945e+01 4.21e-03 4.73e-01  -4.7 3.77e+01    -  1.10e-01 2.71e-02f  2\n",
      "  89  1.6364912e+01 4.42e-03 4.47e-01  -4.7 3.60e+01    -  9.64e-02 1.56e-02f  6\n",
      "iter    objective    inf_pr   inf_du lg(mu)  ||d||  lg(rg) alpha_du alpha_pr  ls\n",
      "  90  1.5816211e+01 4.29e-03 4.39e-01  -4.7 8.29e+00    -  5.87e-02 3.38e-02f  5\n",
      "  91  1.9475471e+01 3.53e-03 1.12e+00  -4.7 1.75e+01    -  1.00e+00 1.00e+00H  1\n",
      "  92  1.9267791e+01 3.58e-03 1.15e+00  -4.7 1.33e+02    -  4.28e-02 4.67e-03f  4\n",
      "  93  1.4286849e+01 9.30e-04 3.24e+00  -4.7 1.49e+01    -  1.00e+00 1.00e+00F  1\n",
      "  94  1.4206003e+01 1.16e-03 3.35e+00  -4.7 1.56e+02    -  1.54e-01 5.06e-03f  6\n",
      "  95  1.4124306e+01 1.63e-03 3.12e+00  -4.7 1.20e+01    -  8.36e-01 1.25e-01f  4\n",
      "  96  1.3951195e+01 4.66e-03 3.01e+00  -4.7 3.99e+01    -  1.58e-01 1.55e-02f  3\n",
      "  97  1.3824727e+01 6.73e-03 2.32e+00  -4.7 1.26e+01    -  5.99e-01 1.59e-01f  3\n",
      "  98  1.3858207e+01 5.45e-03 1.89e+00  -4.7 1.20e+01    -  2.19e-01 1.21e-01h  4\n",
      "  99  1.3810839e+01 5.40e-03 1.73e+00  -4.7 3.39e+01    -  4.84e-01 2.56e-02f  4\n",
      "iter    objective    inf_pr   inf_du lg(mu)  ||d||  lg(rg) alpha_du alpha_pr  ls\n",
      " 100  1.3726166e+01 5.56e-03 1.63e+00  -4.7 1.28e+02    -  6.17e-02 4.97e-03f  6\n",
      " 101  1.4747662e+01 3.33e-03 3.21e-01  -4.7 2.60e+00    -  1.00e+00 1.00e+00H  1\n",
      " 102  1.9498922e+01 1.11e-03 5.78e-01  -4.7 7.87e+00    -  1.00e+00 1.00e+00H  1\n",
      " 103  1.8948509e+01 1.07e-03 5.63e-01  -4.7 4.53e+01    -  1.94e-01 2.22e-02f  3\n",
      " 104  1.8666898e+01 1.09e-03 5.62e-01  -4.7 6.03e+01    -  1.00e-01 7.67e-03f  4\n",
      " 105  1.8524438e+01 1.11e-03 5.51e-01  -4.7 1.04e+02    -  1.17e-02 1.95e-03f  7\n",
      " 106  1.7907795e+01 1.12e-03 5.01e-01  -4.7 1.78e+01    -  2.97e-01 3.12e-02f  6\n",
      " 107  1.7847884e+01 1.12e-03 5.07e-01  -4.7 1.40e+01    -  1.99e-02 1.15e-03f  8\n",
      " 108  1.3689614e+01 2.48e-02 2.47e-01  -4.7 4.64e+00    -  1.00e+00 1.00e+00f  1\n",
      " 109  3.7695368e+01 3.67e-02 3.40e+00  -4.7 7.98e+00    -  3.81e-01 1.00e+00H  1\n",
      "iter    objective    inf_pr   inf_du lg(mu)  ||d||  lg(rg) alpha_du alpha_pr  ls\n",
      " 110  2.9623996e+01 5.20e-02 2.72e+00  -4.7 5.22e+00    -  2.51e-01 1.88e-01f  3\n",
      " 111  2.5616933e+01 7.34e-02 2.33e+00  -4.7 1.75e+01    -  2.40e-01 1.06e-01F  1\n",
      " 112  2.3521614e+01 7.40e-02 1.80e+00  -4.7 4.82e+01    -  1.67e-05 2.73e-02f  2\n",
      " 113  2.1213874e+01 7.19e-02 1.69e+00  -4.7 5.91e+01    -  4.58e-03 1.84e-02f  4\n",
      " 114  1.9993176e+01 6.85e-02 1.57e+00  -4.7 2.29e+01    -  4.42e-01 4.05e-02f  4\n",
      " 115  1.8503732e+01 1.26e-01 1.05e+00  -4.7 3.92e+01    -  3.78e-02 6.65e-02f  2\n",
      " 116  2.2133213e+01 5.15e-02 9.78e-01  -4.7 3.77e+00    -  6.09e-01 1.00e+00H  1\n",
      " 117  1.7660428e+01 5.90e-02 6.63e-01  -4.7 2.63e+00    -  1.00e+00 3.73e-01F  1\n",
      " 118  1.6538392e+01 5.54e-02 2.82e+00  -4.7 4.36e+00    -  3.05e-05 5.00e-01f  2\n",
      " 119  1.6171425e+01 5.89e-02 2.21e+00  -4.7 4.53e+00    -  1.64e-01 2.16e-01F  1\n",
      "iter    objective    inf_pr   inf_du lg(mu)  ||d||  lg(rg) alpha_du alpha_pr  ls\n",
      " 120  1.4183066e+01 3.36e-02 3.85e+00  -4.7 7.28e-01    -  3.89e-05 1.00e+00f  1\n",
      " 121  1.3840548e+01 2.92e-03 8.68e-02  -4.7 3.25e-01    -  1.00e+00 1.00e+00h  1\n",
      " 122  1.3769183e+01 4.43e-04 4.47e-02  -4.7 6.72e-01    -  1.00e+00 1.00e+00h  1\n",
      " 123  1.3755727e+01 1.44e-03 1.11e-01  -4.7 9.86e+00    -  2.01e-01 4.11e-02f  5\n",
      " 124  1.3832875e+01 1.30e-04 8.11e-02  -4.7 9.39e-01    -  1.00e+00 1.00e+00H  1\n",
      " 125  1.3756614e+01 2.21e-03 1.29e-01  -5.5 9.59e-01    -  1.00e+00 5.00e-01f  2\n",
      " 126  1.4618192e+01 1.13e-03 3.40e-01  -5.6 8.79e-01    -  1.00e+00 1.00e+00H  1\n",
      " 127  1.3717909e+01 2.46e-02 7.36e-02  -5.6 7.40e-01    -  7.06e-01 1.00e+00f  1\n",
      " 128  1.3710938e+01 1.23e-03 8.97e-02  -5.6 1.58e-01    -  1.00e+00 1.00e+00h  1\n",
      " 129  1.3672265e+01 3.00e-04 1.63e-02  -5.6 9.95e-02    -  1.00e+00 1.00e+00h  1\n",
      "iter    objective    inf_pr   inf_du lg(mu)  ||d||  lg(rg) alpha_du alpha_pr  ls\n",
      " 130  1.3669141e+01 6.48e-06 5.26e-03  -7.3 6.60e-02    -  1.00e+00 1.00e+00h  1\n",
      " 131  1.3660099e+01 6.86e-05 3.69e-02  -8.2 1.64e+00    -  1.00e+00 2.50e-01f  3\n",
      " 132  1.3655503e+01 2.08e-04 6.08e-02  -6.9 1.97e+01    -  1.00e+00 1.66e-02f  6\n",
      " 133  1.3640862e+01 3.59e-04 1.11e-01  -7.6 3.28e+00    -  1.00e+00 2.50e-01f  3\n",
      " 134  1.3630804e+01 6.10e-04 1.77e-01  -6.6 3.22e+01    -  1.00e+00 2.73e-02f  5\n",
      " 135  1.4439795e+01 1.04e-04 2.36e-01  -6.9 6.92e-01    -  1.00e+00 1.00e+00H  1\n",
      " 136  1.3626511e+01 3.61e-03 2.05e-02  -7.1 4.76e-01    -  1.00e+00 1.00e+00f  1\n",
      " 137  1.3625212e+01 1.91e-04 4.71e-02  -8.1 7.68e-02    -  1.00e+00 1.00e+00h  1\n",
      " 138  1.3616198e+01 9.03e-05 4.90e-03  -9.6 5.23e-02    -  1.00e+00 1.00e+00h  1\n",
      " 139  1.3616172e+01 3.57e-05 1.33e-02 -11.0 3.50e-02    -  1.00e+00 1.00e+00h  1\n",
      "iter    objective    inf_pr   inf_du lg(mu)  ||d||  lg(rg) alpha_du alpha_pr  ls\n",
      " 140  1.3612971e+01 4.36e-05 6.48e-03 -11.0 3.55e-02    -  1.00e+00 1.00e+00h  1\n",
      " 141  1.3634901e+01 3.55e-06 3.69e-02 -11.0 1.34e-01    -  1.00e+00 1.00e+00H  1\n",
      " 142  1.3608797e+01 4.37e-04 9.10e-03 -11.0 5.13e-02    -  1.00e+00 1.00e+00f  1\n",
      " 143  1.3609099e+01 1.72e-06 4.81e-03 -11.0 1.02e-02    -  1.00e+00 1.00e+00h  1\n",
      " 144  1.3608827e+01 1.51e-06 1.78e-03 -11.0 1.75e-02    -  1.00e+00 1.00e+00h  1\n",
      " 145  1.3609719e+01 1.51e-07 1.08e-02 -11.0 8.13e-02    -  1.00e+00 1.00e+00H  1\n",
      " 146  1.3608876e+01 4.18e-05 1.11e-02 -11.0 2.70e-01    -  1.00e+00 5.00e-01f  2\n",
      " 147  1.3833464e+01 6.93e-05 2.75e-01 -11.0 5.24e-01    -  1.00e+00 1.00e+00H  1\n",
      " 148  1.3608842e+01 3.60e-03 3.16e-02 -11.0 4.37e-01    -  1.00e+00 1.00e+00f  1\n",
      " 149  1.3801001e+01 3.55e-05 2.12e-01 -11.0 2.53e-01    -  1.00e+00 1.00e+00H  1\n",
      "iter    objective    inf_pr   inf_du lg(mu)  ||d||  lg(rg) alpha_du alpha_pr  ls\n",
      " 150  1.3594393e+01 7.22e-03 8.63e-03 -11.0 1.94e-01    -  1.00e+00 1.00e+00f  1\n",
      " 151  1.3607589e+01 3.29e-05 1.05e-02 -11.0 5.34e-02    -  1.00e+00 1.00e+00h  1\n",
      " 152  1.3606427e+01 9.31e-06 4.14e-03 -11.0 2.61e-02    -  1.00e+00 1.00e+00h  1\n",
      " 153  1.3607345e+01 2.87e-08 1.02e-02 -11.0 2.85e-02    -  1.00e+00 1.00e+00H  1\n",
      " 154  1.3606061e+01 9.72e-06 1.64e-03 -11.0 1.07e-02    -  1.00e+00 1.00e+00f  1\n",
      " 155  1.3605950e+01 5.43e-07 1.49e-03 -11.0 9.22e-03    -  1.00e+00 1.00e+00h  1\n",
      " 156  1.3609030e+01 1.03e-07 1.83e-02 -11.0 1.66e-01    -  1.00e+00 1.00e+00H  1\n",
      " 157  1.3608915e+01 5.51e-05 2.22e-02 -11.0 1.81e-01    -  1.00e+00 2.50e-01f  3\n",
      " 158  1.3607595e+01 1.11e-04 1.73e-02 -11.0 1.44e-01    -  1.00e+00 1.00e+00h  1\n",
      " 159  1.3634694e+01 9.30e-06 9.50e-02 -11.0 1.10e-01    -  1.00e+00 1.00e+00H  1\n",
      "iter    objective    inf_pr   inf_du lg(mu)  ||d||  lg(rg) alpha_du alpha_pr  ls\n",
      " 160  1.3603146e+01 9.86e-04 1.75e-03 -11.0 9.63e-02    -  1.00e+00 1.00e+00f  1\n",
      " 161  1.3605272e+01 1.87e-07 7.81e-04 -11.0 3.92e-03    -  1.00e+00 1.00e+00h  1\n",
      " 162  1.3605236e+01 8.82e-07 2.45e-03 -11.0 1.36e-02    -  1.00e+00 1.00e+00h  1\n",
      " 163  1.3605634e+01 1.02e-07 1.14e-02 -11.0 1.39e-01    -  1.00e+00 1.00e+00H  1\n",
      " 164  1.3605614e+01 4.41e-07 1.21e-02 -11.0 8.60e-01    -  1.00e+00 1.56e-02h  7\n",
      " 165  1.3605236e+01 1.19e-05 3.18e-03 -11.0 8.82e-02    -  1.00e+00 1.00e+00h  1\n",
      " 166  1.3605213e+01 1.28e-05 3.49e-03 -11.0 1.44e+00    -  1.00e+00 3.12e-02h  6\n",
      " 167  1.3607392e+01 5.18e-07 2.13e-02 -11.0 9.43e-02    -  1.00e+00 1.00e+00H  1\n",
      " 168  1.3607315e+01 1.19e-04 2.16e-02 -11.0 2.55e-01    -  1.00e+00 1.00e+00f  1\n",
      " 169  1.4021287e+01 1.31e-05 2.30e-01 -11.0 1.93e+00    -  1.00e+00 1.00e+00H  1\n",
      "iter    objective    inf_pr   inf_du lg(mu)  ||d||  lg(rg) alpha_du alpha_pr  ls\n",
      " 170  1.3749107e+01 1.22e-04 1.39e-01 -11.0 3.51e-01    -  1.00e+00 1.00e+00F  1\n",
      " 171  1.3702251e+01 1.01e-04 1.07e-01 -11.0 2.40e+00    -  1.00e+00 1.25e-01f  4\n",
      " 172  1.3693491e+01 1.02e-04 9.89e-02 -11.0 3.50e+01    -  4.29e-01 3.27e-03f  9\n",
      " 173  1.3691065e+01 1.01e-04 9.92e-02 -11.0 2.26e+00    -  5.04e-01 2.86e-03f  8\n",
      " 174  1.3610689e+01 7.28e-05 2.06e-02 -11.0 1.24e+00    -  1.00e+00 1.00e+00F  1\n",
      " 175  1.3609626e+01 7.30e-05 1.84e-02 -11.0 2.25e+00    -  1.00e+00 1.27e-02h  6\n",
      " 176  1.3606337e+01 2.12e-05 9.12e-03 -11.0 6.28e-02    -  1.00e+00 1.00e+00h  1\n",
      " 177  1.3676585e+01 2.96e-06 1.05e-01 -11.0 1.16e+00    -  1.00e+00 1.00e+00H  1\n",
      " 178  1.3624998e+01 1.46e-06 5.09e-02 -11.0 8.88e-01    -  1.00e+00 1.00e+00F  1\n",
      " 179  1.3618677e+01 1.40e-05 4.43e-02 -11.0 1.82e+01    -  1.27e-01 3.37e-03f  8\n",
      "iter    objective    inf_pr   inf_du lg(mu)  ||d||  lg(rg) alpha_du alpha_pr  ls\n",
      " 180  1.3617223e+01 1.16e-05 4.60e-02 -11.0 1.79e-01    -  1.00e+00 6.25e-02h  5\n",
      " 181  1.3605372e+01 1.13e-04 4.98e-03 -11.0 5.16e-02    -  1.00e+00 1.00e+00f  1\n",
      " 182  1.3604933e+01 6.94e-07 2.81e-03 -11.0 6.41e-03    -  1.00e+00 1.00e+00h  1\n",
      " 183  1.3604941e+01 3.11e-07 1.81e-03 -11.0 1.15e-02    -  1.00e+00 1.00e+00h  1\n",
      " 184  1.3605136e+01 4.09e-09 4.61e-03 -11.0 5.18e-02    -  1.00e+00 1.00e+00H  1\n",
      " 185  1.3605113e+01 1.32e-06 7.10e-03 -11.0 5.72e-02    -  1.00e+00 2.50e-01h  3\n",
      " 186  1.3606099e+01 7.62e-08 1.08e-02 -11.0 9.15e-02    -  1.00e+00 1.00e+00H  1\n",
      " 187  1.3605971e+01 1.77e-07 1.20e-02 -11.0 4.83e-01    -  1.00e+00 3.12e-02h  6\n",
      " 188  1.3605844e+01 8.68e-07 1.16e-02 -11.0 3.69e-01    -  1.00e+00 1.56e-02h  7\n",
      " 189  1.3605083e+01 2.79e-05 9.34e-03 -11.0 5.75e-02    -  1.00e+00 1.00e+00h  1\n",
      "iter    objective    inf_pr   inf_du lg(mu)  ||d||  lg(rg) alpha_du alpha_pr  ls\n",
      " 190  1.3622693e+01 6.77e-09 5.12e-02 -11.0 3.16e-01    -  1.00e+00 1.00e+00H  1\n",
      " 191  1.3608183e+01 5.47e-08 1.46e-02 -11.0 4.36e-01    -  1.00e+00 1.00e+00F  1\n",
      " 192  1.3608110e+01 5.50e-08 1.45e-02 -11.0 1.29e+00    -  1.00e+00 3.56e-04f 12\n",
      " 193  1.3604994e+01 2.15e-05 6.77e-03 -11.0 1.08e-01    -  1.00e+00 1.00e+00f  1\n",
      " 194  1.3866082e+01 1.58e-08 2.35e-01 -11.0 5.34e-01    -  1.00e+00 1.00e+00H  1\n",
      " 195  1.3598835e+01 4.25e-03 1.18e-02 -11.0 4.82e-01    -  1.00e+00 1.00e+00f  1\n",
      " 196  1.3650512e+01 1.25e-03 8.37e-02 -11.0 9.29e-02    -  1.00e+00 1.00e+00h  1\n",
      " 197  1.3604666e+01 1.09e-03 1.56e-03 -11.0 8.31e-02    -  1.00e+00 1.00e+00h  1\n",
      " 198  1.3604908e+01 6.79e-07 7.47e-04 -11.0 5.09e-03    -  1.00e+00 1.00e+00h  1\n",
      " 199  1.3605065e+01 1.56e-09 3.87e-03 -11.0 2.24e-02    -  1.00e+00 1.00e+00H  1\n",
      "iter    objective    inf_pr   inf_du lg(mu)  ||d||  lg(rg) alpha_du alpha_pr  ls\n",
      " 200  1.3604944e+01 1.14e-06 2.12e-03 -11.0 4.44e-03    -  1.00e+00 1.00e+00f  1\n",
      " 201  1.3604901e+01 6.65e-07 8.33e-04 -11.0 8.52e-03    -  1.00e+00 1.00e+00h  1\n",
      " 202  1.3604972e+01 2.09e-09 3.04e-03 -11.0 1.40e-02    -  1.00e+00 1.00e+00H  1\n",
      " 203  1.3605023e+01 2.54e-09 3.67e-03 -11.0 6.68e-03    -  1.00e+00 1.00e+00H  1\n",
      " 204  1.3604895e+01 1.08e-06 6.05e-04 -11.0 1.34e-02    -  1.00e+00 1.00e+00h  1\n",
      " 205  1.3604985e+01 1.26e-09 2.60e-03 -11.0 8.44e-03    -  1.00e+00 1.00e+00H  1\n",
      " 206  1.3604893e+01 6.11e-07 5.40e-04 -11.0 7.28e-03    -  1.00e+00 1.00e+00h  1\n",
      " 207  1.3604903e+01 2.81e-07 1.82e-03 -11.0 2.50e-03    -  1.00e+00 1.00e+00h  1\n",
      " 208  1.3604895e+01 1.42e-07 2.32e-04 -11.0 2.22e-03    -  1.00e+00 1.00e+00h  1\n",
      " 209  1.3604900e+01 4.14e-08 8.53e-04 -11.0 1.75e-03    -  1.00e+00 1.00e+00h  1\n",
      "iter    objective    inf_pr   inf_du lg(mu)  ||d||  lg(rg) alpha_du alpha_pr  ls\n",
      " 210  1.3604895e+01 2.09e-08 5.09e-05 -11.0 1.26e-03    -  1.00e+00 1.00e+00h  1\n",
      " 211  1.3604895e+01 1.55e-09 8.65e-05 -11.0 2.53e-04    -  1.00e+00 1.00e+00h  1\n",
      " 212  1.3604894e+01 1.52e-09 1.04e-04 -11.0 1.61e-03    -  1.00e+00 1.00e+00h  1\n",
      " 213  1.3605962e+01 5.06e-11 1.01e-02 -11.0 7.36e-02    -  1.00e+00 1.00e+00H  1\n",
      " 214  1.3604904e+01 1.99e-06 6.00e-04 -11.0 5.31e-02    -  1.00e+00 1.00e+00f  1\n",
      " 215  1.3604973e+01 2.17e-06 5.45e-03 -11.0 5.69e-03    -  1.00e+00 1.00e+00h  1\n",
      " 216  1.3604886e+01 1.77e-06 8.66e-05 -11.0 5.60e-03    -  1.00e+00 1.00e+00h  1\n",
      " 217  1.3604890e+01 1.47e-09 6.56e-05 -11.0 1.11e-03    -  1.00e+00 1.00e+00h  1\n",
      " 218  1.3604893e+01 8.97e-12 6.81e-04 -11.0 1.89e-03    -  1.00e+00 1.00e+00H  1\n",
      " 219  1.3604890e+01 6.59e-08 1.16e-04 -11.0 7.53e-04    -  1.00e+00 1.00e+00h  1\n",
      "iter    objective    inf_pr   inf_du lg(mu)  ||d||  lg(rg) alpha_du alpha_pr  ls\n",
      " 220  1.3604890e+01 6.00e-10 1.02e-04 -11.0 6.58e-04    -  1.00e+00 1.00e+00h  1\n",
      " 221  1.3604890e+01 6.03e-12 4.33e-04 -11.0 1.02e-02    -  1.00e+00 1.00e+00H  1\n",
      " 222  1.3605874e+01 3.03e-12 1.12e-02 -11.0 1.05e-01    -  1.00e+00 1.00e+00H  1\n",
      " 223  1.3604937e+01 2.85e-06 3.38e-03 -11.0 9.48e-02    -  1.00e+00 1.00e+00f  1\n",
      " 224  1.3650041e+01 1.50e-07 1.23e-01 -11.0 5.61e-01    -  1.00e+00 1.00e+00H  1\n",
      " 225  1.3602520e+01 8.96e-04 2.34e-03 -11.0 5.33e-01    -  1.00e+00 1.00e+00f  1\n",
      " 226  1.3627872e+01 3.18e-04 5.47e-02 -11.0 2.51e-01    -  1.00e+00 1.00e+00h  1\n",
      " 227  1.3604987e+01 3.19e-04 1.71e-03 -11.0 2.33e-01    -  1.00e+00 1.00e+00h  1\n",
      " 228  1.3609039e+01 3.33e-05 1.88e-02 -11.0 2.26e-02    -  1.00e+00 1.00e+00h  1\n",
      " 229  1.3604944e+01 2.80e-05 5.20e-04 -11.0 1.91e-02    -  1.00e+00 1.00e+00h  1\n",
      "iter    objective    inf_pr   inf_du lg(mu)  ||d||  lg(rg) alpha_du alpha_pr  ls\n",
      " 230  1.3604890e+01 7.57e-10 7.80e-05 -11.0 5.90e-04    -  1.00e+00 1.00e+00h  1\n",
      " 231  1.3604890e+01 1.61e-08 3.35e-04 -11.0 5.70e-03    -  1.00e+00 1.00e+00h  1\n",
      " 232  1.3605268e+01 8.66e-10 8.93e-03 -11.0 3.03e-02    -  1.00e+00 1.00e+00H  1\n",
      " 233  1.3604890e+01 1.53e-05 2.13e-04 -11.0 3.24e-02    -  1.00e+00 1.00e+00f  1\n",
      " 234  1.3604890e+01 1.34e-05 1.61e-04 -11.0 2.96e-03    -  1.00e+00 1.25e-01h  4\n",
      " 235  1.3604889e+01 2.29e-09 1.87e-05 -11.0 4.57e-04    -  1.00e+00 1.00e+00h  1\n",
      " 236  1.3604889e+01 2.73e-10 4.97e-05 -11.0 3.59e-04    -  1.00e+00 1.00e+00h  1\n",
      " 237  1.3604893e+01 4.55e-11 5.54e-04 -11.0 1.24e-02    -  1.00e+00 1.00e+00H  1\n",
      " 238  1.3605059e+01 5.95e-13 5.56e-03 -11.0 1.62e-02    -  1.00e+00 1.00e+00H  1\n",
      " 239  1.3604890e+01 1.62e-06 9.28e-05 -11.0 2.66e-02    -  1.00e+00 1.00e+00f  1\n",
      "iter    objective    inf_pr   inf_du lg(mu)  ||d||  lg(rg) alpha_du alpha_pr  ls\n",
      " 240  1.3604890e+01 8.59e-07 4.97e-04 -11.0 1.12e-03    -  1.00e+00 5.00e-01h  2\n",
      " 241  1.3604889e+01 3.30e-08 3.78e-05 -11.0 1.02e-03    -  1.00e+00 1.00e+00h  1\n",
      " 242  1.3604889e+01 3.55e-09 1.90e-04 -11.0 2.24e-04    -  1.00e+00 1.00e+00h  1\n",
      " 243  1.3604889e+01 2.31e-09 1.24e-05 -11.0 3.38e-04    -  1.00e+00 1.00e+00h  1\n",
      " 244  1.3604889e+01 2.20e-10 4.54e-05 -11.0 1.79e-04    -  1.00e+00 1.00e+00h  1\n",
      " 245  1.3604889e+01 1.80e-09 8.69e-05 -11.0 8.95e-04    -  1.00e+00 1.00e+00h  1\n",
      " 246  1.3604891e+01 3.16e-12 4.77e-04 -11.0 2.12e-03    -  1.00e+00 1.00e+00H  1\n",
      " 247  1.3604889e+01 1.00e-08 1.07e-04 -11.0 1.05e-03    -  1.00e+00 1.00e+00h  1\n",
      " 248  1.3604889e+01 1.59e-08 1.93e-04 -11.0 4.07e-04    -  1.00e+00 1.00e+00h  1\n",
      " 249  1.3604889e+01 6.03e-09 1.46e-05 -11.0 5.04e-04    -  1.00e+00 1.00e+00h  1\n",
      "iter    objective    inf_pr   inf_du lg(mu)  ||d||  lg(rg) alpha_du alpha_pr  ls\n",
      " 250  1.3604889e+01 4.40e-11 1.10e-05 -11.0 2.53e-05    -  1.00e+00 1.00e+00h  1\n",
      " 251  1.3604888e+01 6.40e-12 7.72e-06 -11.0 1.12e-04    -  1.00e+00 1.00e+00h  1\n",
      " 252  1.3604994e+01 7.71e-13 3.34e-03 -11.0 2.45e-02    -  1.00e+00 1.00e+00H  1\n",
      " 253  1.3604891e+01 1.14e-06 1.41e-04 -11.0 2.17e-02    -  1.00e+00 1.00e+00f  1\n",
      " 254  1.3604942e+01 1.23e-06 5.43e-03 -11.0 5.55e-03    -  1.00e+00 1.00e+00h  1\n",
      " 255  1.3604886e+01 1.19e-06 1.97e-05 -11.0 5.41e-03    -  1.00e+00 1.00e+00h  1\n",
      " 256  1.3604888e+01 2.52e-11 1.50e-05 -11.0 1.34e-04    -  1.00e+00 1.00e+00h  1\n",
      " 257  1.3604895e+01 3.03e-11 1.04e-03 -11.0 1.62e-02    -  1.00e+00 1.00e+00H  1\n",
      " 258  1.3604891e+01 1.80e-07 5.35e-04 -11.0 1.44e-02    -  1.00e+00 1.00e+00h  1\n",
      " 259  1.3604890e+01 1.83e-07 2.67e-04 -11.0 5.73e-01    -  1.00e+00 7.81e-03h  8\n",
      "iter    objective    inf_pr   inf_du lg(mu)  ||d||  lg(rg) alpha_du alpha_pr  ls\n",
      " 260  1.3605460e+01 3.80e-12 5.94e-03 -11.0 2.78e-02    -  1.00e+00 1.00e+00H  1\n",
      " 261  1.3604888e+01 2.07e-09 2.28e-05 -11.0 3.08e-02    -  1.00e+00 1.00e+00F  1\n",
      " 262  1.3604889e+01 1.05e-09 2.05e-04 -11.0 2.27e-04    -  1.00e+00 1.00e+00h  1\n",
      " 263  1.3604888e+01 8.44e-10 1.59e-06 -11.0 2.04e-04    -  1.00e+00 1.00e+00h  1\n",
      " 264  1.3604888e+01 4.19e-13 1.58e-06 -11.0 4.57e-06    -  1.00e+00 1.00e+00h  1\n",
      " 265  1.3604888e+01 1.30e-11 7.28e-06 -11.0 2.07e-04    -  1.00e+00 1.00e+00h  1\n",
      " 266  1.3604890e+01 3.53e-12 4.33e-04 -11.0 1.66e-03    -  1.00e+00 1.00e+00H  1\n",
      " 267  1.3604888e+01 2.40e-08 2.40e-06 -11.0 1.53e-03    -  1.00e+00 1.00e+00h  1\n",
      " 268  1.3604888e+01 4.01e-12 4.09e-06 -11.0 2.56e-05    -  1.00e+00 1.00e+00h  1\n",
      " 269  1.3604888e+01 1.73e-15 1.46e-05 -11.0 2.76e-04    -  1.00e+00 1.00e+00H  1\n",
      "iter    objective    inf_pr   inf_du lg(mu)  ||d||  lg(rg) alpha_du alpha_pr  ls\n",
      " 270  1.3604888e+01 1.55e-12 1.37e-05 -11.0 4.74e-04    -  1.00e+00 3.12e-02h  6\n",
      " 271  1.3604888e+01 1.12e-11 6.14e-06 -11.0 1.55e-04    -  1.00e+00 1.00e+00h  1\n",
      " 272  1.3604889e+01 3.49e-12 4.81e-04 -11.0 1.83e-03    -  1.00e+00 1.00e+00H  1\n",
      " 273  1.3604888e+01 2.42e-08 3.61e-06 -11.0 1.89e-03    -  1.00e+00 1.00e+00h  1\n",
      " 274  1.3604888e+01 2.05e-10 7.56e-05 -11.0 7.92e-05    -  1.00e+00 1.00e+00h  1\n",
      " 275  1.3604888e+01 1.87e-10 7.70e-07 -11.0 7.56e-05    -  1.00e+00 1.00e+00h  1\n",
      "\n",
      "Number of Iterations....: 275\n",
      "\n",
      "                                   (scaled)                 (unscaled)\n",
      "Objective...............:   1.3604888429670599e+01    1.3604888429670599e+01\n",
      "Dual infeasibility......:   7.7003356269145229e-07    7.7003356269145229e-07\n",
      "Constraint violation....:   1.8681034497092242e-10    1.8681034497092242e-10\n",
      "Variable bound violation:   0.0000000000000000e+00    0.0000000000000000e+00\n",
      "Complementarity.........:   9.9999999999999994e-12    9.9999999999999994e-12\n",
      "Overall NLP error.......:   7.7003356269145229e-07    7.7003356269145229e-07\n",
      "\n",
      "\n",
      "Number of objective function evaluations             = 913\n",
      "Number of objective gradient evaluations             = 276\n",
      "Number of equality constraint evaluations            = 913\n",
      "Number of inequality constraint evaluations          = 913\n",
      "Number of equality constraint Jacobian evaluations   = 276\n",
      "Number of inequality constraint Jacobian evaluations = 276\n",
      "Number of Lagrangian Hessian evaluations             = 0\n",
      "Total seconds in IPOPT                               = 117.705\n",
      "\n",
      "EXIT: Optimal Solution Found.\n"
     ]
    },
    {
     "data": {
      "text/plain": [
       "448-element Vector{Float64}:\n",
       "  -1.0000000000000016\n",
       "   0.9999999999999994\n",
       "  -0.9999999999999994\n",
       "   3.5372234514447063e-16\n",
       "  -3.67386393976477e-16\n",
       "   2.578028767189732e-16\n",
       "   4.1443450727921217e-16\n",
       "   4.848751874432367e-17\n",
       "  15.488924766238917\n",
       "  42.86715536697991\n",
       "  -0.9725283637188157\n",
       "   1.0090434207344956\n",
       "  -0.9999999999999988\n",
       "   ⋮\n",
       "   0.37587241905045526\n",
       "  -1.8057914114098853e-18\n",
       "  42.233496216512\n",
       " -13.3980415958262\n",
       "   0.6436851101147044\n",
       "   1.2088791347906571\n",
       "   0.9429565412583764\n",
       "  -7.269800398341075e-19\n",
       "   0.7023503366596661\n",
       "   0.009630942656158586\n",
       "   0.37587241905045526\n",
       "  -1.8057918694228258e-18"
      ]
     },
     "execution_count": 100,
     "metadata": {},
     "output_type": "execute_result"
    }
   ],
   "source": [
    "prob = ProblemMOI(n_nlp,m_nlp)\n",
    "z_sol = solve(z0, prob)  #solve"
   ]
  },
  {
   "cell_type": "code",
   "execution_count": 101,
   "id": "82f7b9fa",
   "metadata": {},
   "outputs": [],
   "source": [
    "z = reshape(z_sol[1:(end-Nx)],Nx+Nu,Nt-1)\n",
    "xtraj = [z[1:Nx,:] z_sol[end-(Nx-1):end]]\n",
    "utraj = z[(Nx+1):(Nx+Nu),:];"
   ]
  },
  {
   "cell_type": "code",
   "execution_count": 102,
   "id": "dba53369",
   "metadata": {},
   "outputs": [
    {
     "data": {
      "image/png": "[encoded data removed]",
      "text/plain": [
       "Figure(PyObject <Figure size 640x480 with 1 Axes>)"
      ]
     },
     "metadata": {},
     "output_type": "display_data"
    },
    {
     "data": {
      "text/plain": [
       "1-element Vector{PyCall.PyObject}:\n",
       " PyObject <matplotlib.lines.Line2D object at 0x7fdb79878a90>"
      ]
     },
     "execution_count": 102,
     "metadata": {},
     "output_type": "execute_result"
    }
   ],
   "source": [
    "plot(thist,xtraj[2,:])\n",
    "plot(thist,xtraj[4,:])"
   ]
  },
  {
   "cell_type": "code",
   "execution_count": 103,
   "id": "bfe9c256",
   "metadata": {},
   "outputs": [
    {
     "data": {
      "image/png": "[encoded data removed]",
      "text/plain": [
       "Figure(PyObject <Figure size 640x480 with 1 Axes>)"
      ]
     },
     "metadata": {},
     "output_type": "display_data"
    },
    {
     "data": {
      "text/plain": [
       "1-element Vector{PyCall.PyObject}:\n",
       " PyObject <matplotlib.lines.Line2D object at 0x7fdb797ee5e0>"
      ]
     },
     "execution_count": 103,
     "metadata": {},
     "output_type": "execute_result"
    }
   ],
   "source": [
    "plot(thist,xtraj[1,:])\n",
    "plot(thist,xtraj[3,:])"
   ]
  },
  {
   "cell_type": "code",
   "execution_count": 104,
   "id": "f4aa1c8c",
   "metadata": {},
   "outputs": [
    {
     "data": {
      "image/png": "[encoded data removed]",
      "text/plain": [
       "Figure(PyObject <Figure size 640x480 with 1 Axes>)"
      ]
     },
     "metadata": {},
     "output_type": "display_data"
    },
    {
     "data": {
      "text/plain": [
       "1-element Vector{PyCall.PyObject}:\n",
       " PyObject <matplotlib.lines.Line2D object at 0x7fdb73689a60>"
      ]
     },
     "execution_count": 104,
     "metadata": {},
     "output_type": "execute_result"
    }
   ],
   "source": [
    "plot(thist[1:end-1],utraj[1,:])"
   ]
  },
  {
   "cell_type": "code",
   "execution_count": 105,
   "id": "53253b2d",
   "metadata": {},
   "outputs": [
    {
     "data": {
      "image/png": "[encoded data removed]",
      "text/plain": [
       "Figure(PyObject <Figure size 640x480 with 1 Axes>)"
      ]
     },
     "metadata": {},
     "output_type": "display_data"
    },
    {
     "data": {
      "text/plain": [
       "1-element Vector{PyCall.PyObject}:\n",
       " PyObject <matplotlib.lines.Line2D object at 0x7fdb73606b50>"
      ]
     },
     "execution_count": 105,
     "metadata": {},
     "output_type": "execute_result"
    }
   ],
   "source": [
    "plot(thist[1:end-1],utraj[2,:])"
   ]
  },
  {
   "cell_type": "code",
   "execution_count": 106,
   "id": "f0b84b3f",
   "metadata": {},
   "outputs": [
    {
     "name": "stderr",
     "output_type": "stream",
     "text": [
      "\u001b[32m\u001b[1m   Resolving\u001b[22m\u001b[39m package versions...\n",
      "\u001b[32m\u001b[1m  No Changes\u001b[22m\u001b[39m to `~/Documents/Optimal_Control/Sims/Hybrid_System/Project.toml`\n",
      "\u001b[32m\u001b[1m  No Changes\u001b[22m\u001b[39m to `~/Documents/Optimal_Control/Sims/Hybrid_System/Manifest.toml`\n",
      "\u001b[32m\u001b[1m   Resolving\u001b[22m\u001b[39m package versions...\n",
      "\u001b[32m\u001b[1m  No Changes\u001b[22m\u001b[39m to `~/Documents/Optimal_Control/Sims/Hybrid_System/Project.toml`\n",
      "\u001b[32m\u001b[1m  No Changes\u001b[22m\u001b[39m to `~/Documents/Optimal_Control/Sims/Hybrid_System/Manifest.toml`\n",
      "\u001b[32m\u001b[1m   Resolving\u001b[22m\u001b[39m package versions...\n",
      "\u001b[32m\u001b[1m  No Changes\u001b[22m\u001b[39m to `~/Documents/Optimal_Control/Sims/Hybrid_System/Project.toml`\n",
      "\u001b[32m\u001b[1m  No Changes\u001b[22m\u001b[39m to `~/Documents/Optimal_Control/Sims/Hybrid_System/Manifest.toml`\n",
      "\u001b[32m\u001b[1m   Resolving\u001b[22m\u001b[39m package versions...\n",
      "\u001b[32m\u001b[1m  No Changes\u001b[22m\u001b[39m to `~/Documents/Optimal_Control/Sims/Hybrid_System/Project.toml`\n",
      "\u001b[32m\u001b[1m  No Changes\u001b[22m\u001b[39m to `~/Documents/Optimal_Control/Sims/Hybrid_System/Manifest.toml`\n",
      "\u001b[32m\u001b[1m   Resolving\u001b[22m\u001b[39m package versions...\n",
      "\u001b[32m\u001b[1m  No Changes\u001b[22m\u001b[39m to `~/Documents/Optimal_Control/Sims/Hybrid_System/Project.toml`\n",
      "\u001b[32m\u001b[1m  No Changes\u001b[22m\u001b[39m to `~/Documents/Optimal_Control/Sims/Hybrid_System/Manifest.toml`\n",
      "\u001b[32m\u001b[1m   Resolving\u001b[22m\u001b[39m package versions...\n",
      "\u001b[32m\u001b[1m  No Changes\u001b[22m\u001b[39m to `~/Documents/Optimal_Control/Sims/Hybrid_System/Project.toml`\n",
      "\u001b[32m\u001b[1m  No Changes\u001b[22m\u001b[39m to `~/Documents/Optimal_Control/Sims/Hybrid_System/Manifest.toml`\n",
      "\u001b[36m\u001b[1m┌ \u001b[22m\u001b[39m\u001b[36m\u001b[1mInfo: \u001b[22m\u001b[39mMeshCat server started. You can open the visualizer by visiting the following URL in your browser:\n",
      "\u001b[36m\u001b[1m└ \u001b[22m\u001b[39mhttp://127.0.0.1:8703\n"
     ]
    },
    {
     "data": {
      "text/html": [
       "    <div style=\"height: 500px; width: 100%; overflow-x: auto; overflow-y: hidden; resize: both\">\n",
       "    <iframe src=\"http://127.0.0.1:8703\" style=\"width: 100%; height: 100%; border: none\"></iframe>\n",
       "    </div>\n"
      ],
      "text/plain": [
       "MeshCat.DisplayedVisualizer(MeshCat.CoreVisualizer(MeshCat.SceneTrees.SceneNode(nothing, nothing, Dict{String, Vector{UInt8}}(), nothing, Dict{String, MeshCat.SceneTrees.SceneNode}()), Set{Any}(), ip\"127.0.0.1\", 8703))"
      ]
     },
     "execution_count": 106,
     "metadata": {},
     "output_type": "execute_result"
    }
   ],
   "source": [
    "#Set up visualizer\n",
    "Pkg.add(\"Colors\")\n",
    "Pkg.add(\"CoordinateTransformations\")\n",
    "Pkg.add(\"GeometryBasics\")\n",
    "Pkg.add(\"MeshCat\")\n",
    "Pkg.add(\"Rotations\")\n",
    "Pkg.add(\"StaticArrays\")\n",
    "using Colors\n",
    "using CoordinateTransformations\n",
    "using GeometryBasics\n",
    "using MeshCat\n",
    "using Rotations\n",
    "using StaticArrays\n",
    "\n",
    "# Kinematics\n",
    "kinematics(q) = [q[3], q[4]]\n",
    "\n",
    "# Visualization\n",
    "function visualize!(vis, q, Δt)\n",
    "\n",
    "    # body radius\n",
    "    r_body = 0.2\n",
    "    # foot radius\n",
    "    r_foot = 0.1\n",
    "\n",
    "    # leg width\n",
    "    r_leg = 0.5 * r_foot\n",
    "\n",
    "    # set background to white\n",
    "    setvisible!(vis[\"/Background\"], true)\n",
    "    setprop!(vis[\"/Background\"], \"top_color\", RGBA(1.0, 1.0, 1.0, 1.0))\n",
    "    setprop!(vis[\"/Background\"], \"bottom_color\", RGBA(1.0, 1.0, 1.0, 1.0))\n",
    "    setvisible!(vis[\"/Axes\"], false)\n",
    "\n",
    "    # create body\n",
    "    setobject!(vis[\"body\"], Sphere(Point3f0(0),\n",
    "        convert(Float32, r_body)),\n",
    "        MeshPhongMaterial(color = RGBA(0, 1, 0, 1.0)))\n",
    "\n",
    "    # create foot\n",
    "    setobject!(vis[\"foot\"], Sphere(Point3f0(0),\n",
    "        convert(Float32, r_foot)),\n",
    "        MeshPhongMaterial(color = RGBA(1.0, 165.0 / 255.0, 0, 1.0)))\n",
    "\n",
    "    # create leg\n",
    "    n_leg = 100\n",
    "    for i = 1:n_leg\n",
    "        setobject!(vis[\"leg$i\"], Sphere(Point3f0(0),\n",
    "            convert(Float32, r_leg)),\n",
    "            MeshPhongMaterial(color = RGBA(0, 0, 0, 1.0)))\n",
    "    end\n",
    "\n",
    "    p_leg = [zeros(3) for i = 1:n_leg]\n",
    "\n",
    "    # animation\n",
    "    anim = MeshCat.Animation(convert(Int, floor(1.0 / Δt)))\n",
    "\n",
    "    for t = 1:length(q)\n",
    "        p_body = [q[t][1], 0.0, q[t][2]]\n",
    "        p_foot = [kinematics(q[t])[1], 0.0, kinematics(q[t])[2]]\n",
    "\n",
    "        dir = [q[t][3] - q[t][1]; q[t][4] - q[t][2]]\n",
    "        dir = dir ./ norm(dir)\n",
    "        r_range = range(0, stop = sqrt((q[t][1] - q[t][3])^2.0 + (q[t][2] - q[t][4])^2.0), length = n_leg)\n",
    "        for i = 1:n_leg\n",
    "            p_leg[i] = [q[t][1] + r_range[i] * dir[1], 0.0, q[t][2] + r_range[i] * dir[2]]\n",
    "        end\n",
    "        \n",
    "        z_shift = [0.0; 0.0; r_foot]\n",
    "\n",
    "        MeshCat.atframe(anim, t) do\n",
    "            settransform!(vis[\"body\"], Translation(p_body + z_shift))\n",
    "            settransform!(vis[\"foot\"], Translation(p_foot + z_shift))\n",
    "\n",
    "            for i = 1:n_leg\n",
    "                settransform!(vis[\"leg$i\"], Translation(p_leg[i] + z_shift))\n",
    "            end\n",
    "        end\n",
    "    end\n",
    "\n",
    "    MeshCat.setanimation!(vis, anim)\n",
    "end\n",
    "\n",
    "vis = Visualizer()\n",
    "render(vis)"
   ]
  },
  {
   "cell_type": "code",
   "execution_count": 108,
   "id": "eece44dc",
   "metadata": {},
   "outputs": [],
   "source": [
    "q = [SVector{4}(x[1:4]) for x in eachcol(xtraj)];\n",
    "visualize!(vis, q, h)"
   ]
  },
  {
   "cell_type": "code",
   "execution_count": null,
   "id": "cc9bef0e",
   "metadata": {},
   "outputs": [],
   "source": []
  }
 ],
 "metadata": {
  "kernelspec": {
   "display_name": "Julia 1.8.3",
   "language": "julia",
   "name": "julia-1.8"
  },
  "language_info": {
   "file_extension": ".jl",
   "mimetype": "application/julia",
   "name": "julia",
   "version": "1.8.3"
  }
 },
 "nbformat": 4,
 "nbformat_minor": 5
}
