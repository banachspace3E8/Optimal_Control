{
 "cells": [
  {
   "cell_type": "code",
   "execution_count": 1,
   "id": "0fdf53f3",
   "metadata": {},
   "outputs": [],
   "source": [
    "#Shishir Khanal\n",
    "#CMU-Optimal Controls from Jack Manchester\n",
    "#Attitude Controls of LQR using Quaternion Representations"
   ]
  },
  {
   "cell_type": "code",
   "execution_count": 2,
   "id": "f6b9f40b",
   "metadata": {},
   "outputs": [
    {
     "name": "stderr",
     "output_type": "stream",
     "text": [
      "\u001b[32m\u001b[1m  Activating\u001b[22m\u001b[39m project at `~/Documents/Optimal_Control/Sims/LQR_Quaternions`\n",
      "\u001b[32m\u001b[1m    Updating\u001b[22m\u001b[39m registry at `~/.julia/registries/General.toml`\n",
      "\u001b[32m\u001b[1m   Resolving\u001b[22m\u001b[39m package versions...\n",
      "\u001b[32m\u001b[1m  No Changes\u001b[22m\u001b[39m to `~/Documents/Optimal_Control/Sims/LQR_Quaternions/Project.toml`\n",
      "\u001b[32m\u001b[1m  No Changes\u001b[22m\u001b[39m to `~/Documents/Optimal_Control/Sims/LQR_Quaternions/Manifest.toml`\n",
      "\u001b[32m\u001b[1m   Resolving\u001b[22m\u001b[39m package versions...\n",
      "\u001b[32m\u001b[1m  No Changes\u001b[22m\u001b[39m to `~/Documents/Optimal_Control/Sims/LQR_Quaternions/Project.toml`\n",
      "\u001b[32m\u001b[1m  No Changes\u001b[22m\u001b[39m to `~/Documents/Optimal_Control/Sims/LQR_Quaternions/Manifest.toml`\n",
      "\u001b[32m\u001b[1m   Resolving\u001b[22m\u001b[39m package versions...\n",
      "\u001b[32m\u001b[1m  No Changes\u001b[22m\u001b[39m to `~/Documents/Optimal_Control/Sims/LQR_Quaternions/Project.toml`\n",
      "\u001b[32m\u001b[1m  No Changes\u001b[22m\u001b[39m to `~/Documents/Optimal_Control/Sims/LQR_Quaternions/Manifest.toml`\n",
      "\u001b[32m\u001b[1m   Resolving\u001b[22m\u001b[39m package versions...\n",
      "\u001b[32m\u001b[1m  No Changes\u001b[22m\u001b[39m to `~/Documents/Optimal_Control/Sims/LQR_Quaternions/Project.toml`\n",
      "\u001b[32m\u001b[1m  No Changes\u001b[22m\u001b[39m to `~/Documents/Optimal_Control/Sims/LQR_Quaternions/Manifest.toml`\n",
      "\u001b[36m\u001b[1m[ \u001b[22m\u001b[39m\u001b[36m\u001b[1mInfo: \u001b[22m\u001b[39mPrecompiling ControlSystems [a6e380b2-a6ca-5380-bf3e-84a91bcd477e]\n",
      "\u001b[33m\u001b[1m┌ \u001b[22m\u001b[39m\u001b[33m\u001b[1mWarning: \u001b[22m\u001b[39mReplacing docs for `SciMLBase.sol :: Union{Tuple, Tuple{D}, Tuple{S}, Tuple{N}, Tuple{T}} where {T, N, S, D}` in module `SciMLBase`\n",
      "\u001b[33m\u001b[1m└ \u001b[22m\u001b[39m\u001b[90m@ Base.Docs docs/Docs.jl:240\u001b[39m\n",
      "WARNING: could not import OrdinaryDiffEq.SavedValues into ControlSystems\n",
      "WARNING: could not import OrdinaryDiffEq.SavingCallback into ControlSystems\n"
     ]
    }
   ],
   "source": [
    "import Pkg; Pkg.activate(@__DIR__); Pkg.instantiate()\n",
    "Pkg.add(\"LinearAlgebra\")\n",
    "Pkg.add(\"ForwardDiff\")\n",
    "Pkg.add(\"BlockDiagonals\")\n",
    "Pkg.add(\"ControlSystems\")\n",
    "using LinearAlgebra\n",
    "using ForwardDiff\n",
    "using BlockDiagonals\n",
    "using ControlSystems"
   ]
  },
  {
   "cell_type": "code",
   "execution_count": 3,
   "id": "06535e94",
   "metadata": {},
   "outputs": [
    {
     "data": {
      "text/plain": [
       "qtorp (generic function with 1 method)"
      ]
     },
     "execution_count": 3,
     "metadata": {},
     "output_type": "execute_result"
    }
   ],
   "source": [
    "#Quaternion Stuffs\n",
    "function hat(v)\n",
    "    return [0 -v[3] v[2];\n",
    "            v[3] 0 -v[1];\n",
    "            -v[2] v[1] 0]\n",
    "end\n",
    "\n",
    "function L(q)\n",
    "    s = q[1]\n",
    "    v = q[2:4]\n",
    "    L = [s   -v';\n",
    "         v s*I+hat(v)]\n",
    "    return L\n",
    "end\n",
    "\n",
    "T = Diagonal([1; -ones(3)])\n",
    "H = [zeros(1,3); I]\n",
    "\n",
    "function qtoQ(q)\n",
    "    return H'*T*L(q)*T*L(q)*H\n",
    "end\n",
    "\n",
    "function G(q)\n",
    "    G = L(q)*H\n",
    "end\n",
    "\n",
    "function rptoq(φ)\n",
    "    (1/sqrt(1+φ'*φ))*[1;φ]\n",
    "end\n",
    "\n",
    "function qtorp(q)\n",
    "    q[2:4]/q[1]\n",
    "end"
   ]
  },
  {
   "cell_type": "code",
   "execution_count": 4,
   "id": "c3b70bd2",
   "metadata": {},
   "outputs": [],
   "source": [
    "#Quadrotor parameters\n",
    "m = 0.5\n",
    "ℓ = 0.1750\n",
    "J = Diagonal([0.0023, 0.0023, 0.004])\n",
    "g = 9.81\n",
    "kt = 1.0\n",
    "km = 0.0245\n",
    "\n",
    "h = 0.05 #20Hz\n",
    "\n",
    "Nx = 13  #number of states(quaternion)\n",
    "Nx̃ = 12  #number of states(linearized)\n",
    "Nu = 4   #number of controls\n",
    "Tfinal = 10.0  #final time\n",
    "Nt = Int(Tfinal/h)+1  #number of time steps\n",
    "thist = Array(range(0,h*(Nt-1), step=h));"
   ]
  },
  {
   "cell_type": "code",
   "execution_count": 5,
   "id": "d91f9c7a",
   "metadata": {},
   "outputs": [
    {
     "data": {
      "text/plain": [
       "E (generic function with 1 method)"
      ]
     },
     "execution_count": 5,
     "metadata": {},
     "output_type": "execute_result"
    }
   ],
   "source": [
    "function E(q)\n",
    "    E = BlockDiagonal([1.0*I(3), G(q), 1.0*I(6)])\n",
    "end"
   ]
  },
  {
   "cell_type": "code",
   "execution_count": 6,
   "id": "d1970f8a",
   "metadata": {},
   "outputs": [
    {
     "data": {
      "text/plain": [
       "quad_dynamics (generic function with 1 method)"
      ]
     },
     "execution_count": 6,
     "metadata": {},
     "output_type": "execute_result"
    }
   ],
   "source": [
    "function quad_dynamics(x,u)\n",
    "    r = x[1:3]\n",
    "    q = x[4:7]/norm(x[4:7])  #normalize q just to be careful\n",
    "    v = x[8:10]\n",
    "    ω = x[11:13]\n",
    "    Q = qtoQ(q)\n",
    "    \n",
    "    ṙ = Q*v\n",
    "    q̇ = 0.5*L(q)*H*ω\n",
    "    \n",
    "    v̇ = Q'*[0; 0; -g] + (1/m)*[zeros(2,4); kt*ones(1,4)]*u - hat(ω)*v\n",
    "    \n",
    "    ω̇  = J\\(-hat(ω)*J*ω + [0 ℓ*kt 0 -ℓ*kt; -ℓ*kt 0 ℓ*kt 0; km -km km -km]*u)\n",
    "    \n",
    "    return [ṙ; q̇; v̇; ω̇ ]\n",
    "end"
   ]
  },
  {
   "cell_type": "code",
   "execution_count": 7,
   "id": "5ced4b09",
   "metadata": {},
   "outputs": [
    {
     "data": {
      "text/plain": [
       "quad_dynamics_rk4 (generic function with 1 method)"
      ]
     },
     "execution_count": 7,
     "metadata": {},
     "output_type": "execute_result"
    }
   ],
   "source": [
    "function quad_dynamics_rk4(x, u)\n",
    "    #RK4 integration with ZOH on u\n",
    "    f1 = quad_dynamics(x, u)\n",
    "    f2 = quad_dynamics(x + 0.5*h*f1, u)\n",
    "    f3 = quad_dynamics(x + 0.5*h*f2, u)\n",
    "    f4 = quad_dynamics(x + h*f3, u)\n",
    "    xn = x + (h/6.0)*(f1 + 2*f2 + 2*f3 + f4)\n",
    "    xn[4:7] .= xn[4:7]/norm(xn[4:7])  #re-normalize quaternion\n",
    "    return xn\n",
    "end"
   ]
  },
  {
   "cell_type": "code",
   "execution_count": 8,
   "id": "7fcae9aa",
   "metadata": {},
   "outputs": [],
   "source": [
    "#Initial Condition\n",
    "uhover = (m*g/4)*ones(4)\n",
    "r0 = [0.0; 0; 1.0]\n",
    "q0 = [1.0; 0; 0; 0]\n",
    "v0 = zeros(3)\n",
    "ω0 = zeros(3)\n",
    "x0 = [r0; q0; v0; ω0];"
   ]
  },
  {
   "cell_type": "code",
   "execution_count": 9,
   "id": "1d718d56",
   "metadata": {},
   "outputs": [],
   "source": [
    "#Linearize dynamics about hover\n",
    "A = ForwardDiff.jacobian(x->quad_dynamics_rk4(x,uhover),x0)\n",
    "B = ForwardDiff.jacobian(u->quad_dynamics_rk4(x0,u),uhover);"
   ]
  },
  {
   "cell_type": "code",
   "execution_count": 10,
   "id": "b3209974",
   "metadata": {},
   "outputs": [
    {
     "data": {
      "text/plain": [
       "12"
      ]
     },
     "execution_count": 10,
     "metadata": {},
     "output_type": "execute_result"
    }
   ],
   "source": [
    "rank(A) #The naive A matrix will always be rank deficient due to the unit-norm constraint on the quaternion"
   ]
  },
  {
   "cell_type": "code",
   "execution_count": 11,
   "id": "ed41af04",
   "metadata": {},
   "outputs": [],
   "source": [
    "#Controllability matrix\n",
    "C = B\n",
    "for k = 1:(Nx-1)\n",
    "    C = [C A*C[:,end-(Nu-1):end]]\n",
    "end"
   ]
  },
  {
   "cell_type": "code",
   "execution_count": 12,
   "id": "d48bab5e",
   "metadata": {},
   "outputs": [
    {
     "data": {
      "text/plain": [
       "12"
      ]
     },
     "execution_count": 12,
     "metadata": {},
     "output_type": "execute_result"
    }
   ],
   "source": [
    "rank(C)  #The naive linearized system will always be uncontrollable"
   ]
  },
  {
   "cell_type": "code",
   "execution_count": 13,
   "id": "2e4f4892",
   "metadata": {},
   "outputs": [],
   "source": [
    "#Reduced system\n",
    "Ã = Array(E(q0)'*A*E(q0))\n",
    "B̃ = Array(E(q0)'*B);"
   ]
  },
  {
   "cell_type": "code",
   "execution_count": 14,
   "id": "2ef552a2",
   "metadata": {},
   "outputs": [],
   "source": [
    "#Controllability Matrix\n",
    "C = B̃\n",
    "for k = 1:(Nx-1)\n",
    "    C = [C Ã*C[:,end-(Nu-1):end]]\n",
    "end"
   ]
  },
  {
   "cell_type": "code",
   "execution_count": 15,
   "id": "e8ef1b63",
   "metadata": {},
   "outputs": [
    {
     "data": {
      "text/plain": [
       "12"
      ]
     },
     "execution_count": 15,
     "metadata": {},
     "output_type": "execute_result"
    }
   ],
   "source": [
    "rank(C)  #Reduced system is controllable"
   ]
  },
  {
   "cell_type": "code",
   "execution_count": 16,
   "id": "fe4364b8",
   "metadata": {},
   "outputs": [],
   "source": [
    "#cost weights\n",
    "Q = Array(I(Nx̃));\n",
    "R = Array(.1*I(Nu));"
   ]
  },
  {
   "cell_type": "code",
   "execution_count": 17,
   "id": "c53e2bbc",
   "metadata": {
    "scrolled": true
   },
   "outputs": [
    {
     "data": {
      "text/plain": [
       "4×12 Matrix{Float64}:\n",
       " -0.114603     -4.47273e-14  1.1308  -2.81113e-13  …  -0.147816      0.681679\n",
       "  5.40677e-14  -0.114603     1.1308   1.39421         -5.24001e-15  -0.681679\n",
       "  0.114603      2.95518e-14  1.1308  -7.34973e-13      0.147816      0.681679\n",
       "  6.109e-14     0.114603     1.1308  -1.39421          3.71421e-15  -0.681679"
      ]
     },
     "execution_count": 17,
     "metadata": {},
     "output_type": "execute_result"
    }
   ],
   "source": [
    "#LQR controller\n",
    "K = dlqr(Ã,B̃,Q,R)"
   ]
  },
  {
   "cell_type": "code",
   "execution_count": 18,
   "id": "164bba71",
   "metadata": {},
   "outputs": [
    {
     "data": {
      "text/plain": [
       "controller (generic function with 1 method)"
      ]
     },
     "execution_count": 18,
     "metadata": {},
     "output_type": "execute_result"
    }
   ],
   "source": [
    "#LQR controller\n",
    "function controller(x)\n",
    "    q0 = x0[4:7]\n",
    "    q = x[4:7]\n",
    "    φ = qtorp(L(q0)'*q)\n",
    "    \n",
    "    Δx̃ = [x[1:3]-r0; φ; x[8:10]-v0; x[11:13]-ω0]\n",
    "    \n",
    "    u = uhover - K*Δx̃\n",
    "end"
   ]
  },
  {
   "cell_type": "code",
   "execution_count": 19,
   "id": "2090d142",
   "metadata": {},
   "outputs": [],
   "source": [
    "#Simulation\n",
    "uhist = zeros(Nu,Nt)\n",
    "xhist = zeros(Nx,Nt)\n",
    "xhist[:,1] = [r0+randn(3); L(q0)*rptoq([1; 0; 0]); v0; ω0]\n",
    "for k = 1:(Nt-1)\n",
    "    uhist[:,k] = controller(xhist[:,k])\n",
    "    xhist[:,k+1] = quad_dynamics_rk4(xhist[:,k],uhist[:,k])\n",
    "end"
   ]
  },
  {
   "cell_type": "code",
   "execution_count": 20,
   "id": "c7328d82",
   "metadata": {},
   "outputs": [
    {
     "name": "stderr",
     "output_type": "stream",
     "text": [
      "\u001b[32m\u001b[1m   Resolving\u001b[22m\u001b[39m package versions...\n",
      "\u001b[32m\u001b[1m  No Changes\u001b[22m\u001b[39m to `~/Documents/Optimal_Control/Sims/LQR_Quaternions/Project.toml`\n",
      "\u001b[32m\u001b[1m  No Changes\u001b[22m\u001b[39m to `~/Documents/Optimal_Control/Sims/LQR_Quaternions/Manifest.toml`\n",
      "\u001b[32m\u001b[1m   Resolving\u001b[22m\u001b[39m package versions...\n",
      "\u001b[32m\u001b[1m  No Changes\u001b[22m\u001b[39m to `~/Documents/Optimal_Control/Sims/LQR_Quaternions/Project.toml`\n",
      "\u001b[32m\u001b[1m  No Changes\u001b[22m\u001b[39m to `~/Documents/Optimal_Control/Sims/LQR_Quaternions/Manifest.toml`\n",
      "\u001b[32m\u001b[1m   Resolving\u001b[22m\u001b[39m package versions...\n",
      "\u001b[32m\u001b[1m  No Changes\u001b[22m\u001b[39m to `~/Documents/Optimal_Control/Sims/LQR_Quaternions/Project.toml`\n",
      "\u001b[32m\u001b[1m  No Changes\u001b[22m\u001b[39m to `~/Documents/Optimal_Control/Sims/LQR_Quaternions/Manifest.toml`\n",
      "\u001b[32m\u001b[1m   Resolving\u001b[22m\u001b[39m package versions...\n",
      "\u001b[32m\u001b[1m  No Changes\u001b[22m\u001b[39m to `~/Documents/Optimal_Control/Sims/LQR_Quaternions/Project.toml`\n",
      "\u001b[32m\u001b[1m  No Changes\u001b[22m\u001b[39m to `~/Documents/Optimal_Control/Sims/LQR_Quaternions/Manifest.toml`\n",
      "\u001b[36m\u001b[1m[ \u001b[22m\u001b[39m\u001b[36m\u001b[1mInfo: \u001b[22m\u001b[39mPrecompiling TrajOptPlots [7770976a-8dee-4930-bf39-a1782fd21ce6]\n",
      "WARNING: method definition for copy at /home/khanshis/.julia/packages/RobotDynamics/tXate/src/trajectories.jl:76 declares type variable M but does not use it.\n",
      "WARNING: method definition for copy at /home/khanshis/.julia/packages/RobotDynamics/tXate/src/trajectories.jl:76 declares type variable N but does not use it.\n",
      "WARNING: method definition for copy at /home/khanshis/.julia/packages/RobotDynamics/tXate/src/trajectories.jl:76 declares type variable T but does not use it.\n",
      "WARNING: method definition for discretize! at /home/khanshis/.julia/packages/RobotDynamics/tXate/src/linearmodel.jl:217 declares type variable Q but does not use it.\n",
      "WARNING: method definition for #LinearizedModel#90 at /home/khanshis/.julia/packages/RobotDynamics/tXate/src/linearization.jl:100 declares type variable Q but does not use it.\n"
     ]
    }
   ],
   "source": [
    "#Set up visualization\n",
    "Pkg.add(\"TrajOptPlots\")\n",
    "Pkg.add(\"MeshCat\")\n",
    "Pkg.add(\"StaticArrays\")\n",
    "Pkg.add(\"RobotZoo\")\n",
    "\n",
    "using TrajOptPlots\n",
    "using MeshCat\n",
    "using StaticArrays\n",
    "using RobotZoo:Quadrotor"
   ]
  },
  {
   "cell_type": "code",
   "execution_count": 21,
   "id": "b9d92fda",
   "metadata": {},
   "outputs": [
    {
     "name": "stderr",
     "output_type": "stream",
     "text": [
      "\u001b[36m\u001b[1m┌ \u001b[22m\u001b[39m\u001b[36m\u001b[1mInfo: \u001b[22m\u001b[39mMeshCat server started. You can open the visualizer by visiting the following URL in your browser:\n",
      "\u001b[36m\u001b[1m└ \u001b[22m\u001b[39mhttp://127.0.0.1:8700\n"
     ]
    },
    {
     "data": {
      "text/html": [
       "    <div style=\"height: 500px; width: 100%; overflow-x: auto; overflow-y: hidden; resize: both\">\n",
       "    <iframe src=\"http://127.0.0.1:8700\" style=\"width: 100%; height: 100%; border: none\"></iframe>\n",
       "    </div>\n"
      ],
      "text/plain": [
       "MeshCat.DisplayedVisualizer(MeshCat.CoreVisualizer(MeshCat.SceneTrees.SceneNode(nothing, nothing, Dict{String, Vector{UInt8}}(), nothing, Dict{String, MeshCat.SceneTrees.SceneNode}()), Set{Any}(), ip\"127.0.0.1\", 8700))"
      ]
     },
     "execution_count": 21,
     "metadata": {},
     "output_type": "execute_result"
    }
   ],
   "source": [
    "vis = Visualizer()\n",
    "render(vis)"
   ]
  },
  {
   "cell_type": "code",
   "execution_count": 33,
   "id": "9b5e0c4c",
   "metadata": {},
   "outputs": [
    {
     "data": {
      "text/plain": [
       "false"
      ]
     },
     "execution_count": 33,
     "metadata": {},
     "output_type": "execute_result"
    }
   ],
   "source": [
    "model = Quadrotor()\n",
    "TrajOptPlots.set_mesh!(vis, model)"
   ]
  },
  {
   "cell_type": "code",
   "execution_count": 34,
   "id": "6934bb0c",
   "metadata": {},
   "outputs": [],
   "source": [
    "X1 = [SVector{13}(x) for x in eachcol(xhist)];\n",
    "visualize!(vis, model, thist[end], X1)"
   ]
  },
  {
   "cell_type": "code",
   "execution_count": 24,
   "id": "71d51a97",
   "metadata": {},
   "outputs": [
    {
     "data": {
      "text/plain": [
       "4×3 Matrix{Float64}:\n",
       " 0.0  0.0  0.0\n",
       " 1.0  0.0  0.0\n",
       " 0.0  1.0  0.0\n",
       " 0.0  0.0  1.0"
      ]
     },
     "execution_count": 24,
     "metadata": {},
     "output_type": "execute_result"
    }
   ],
   "source": [
    "H = [zeros(1,3); I]"
   ]
  },
  {
   "cell_type": "code",
   "execution_count": 25,
   "id": "aa5844d4",
   "metadata": {},
   "outputs": [
    {
     "data": {
      "text/plain": [
       "3×3 Diagonal{Float64, Vector{Float64}}:\n",
       " 1.0   ⋅    ⋅ \n",
       "  ⋅   1.0   ⋅ \n",
       "  ⋅    ⋅   1.0"
      ]
     },
     "execution_count": 25,
     "metadata": {},
     "output_type": "execute_result"
    }
   ],
   "source": [
    "1.0*I(3)"
   ]
  },
  {
   "cell_type": "code",
   "execution_count": 26,
   "id": "9d94d557",
   "metadata": {},
   "outputs": [
    {
     "data": {
      "text/plain": [
       "4-element Vector{Float64}:\n",
       " 1.0\n",
       " 0.0\n",
       " 0.0\n",
       " 0.0"
      ]
     },
     "execution_count": 26,
     "metadata": {},
     "output_type": "execute_result"
    }
   ],
   "source": [
    "x0[4:7]"
   ]
  },
  {
   "cell_type": "code",
   "execution_count": 27,
   "id": "8e7cc886",
   "metadata": {},
   "outputs": [
    {
     "data": {
      "text/plain": [
       "G (generic function with 1 method)"
      ]
     },
     "execution_count": 27,
     "metadata": {},
     "output_type": "execute_result"
    }
   ],
   "source": [
    "G"
   ]
  },
  {
   "cell_type": "code",
   "execution_count": null,
   "id": "5a1ec7ae",
   "metadata": {},
   "outputs": [],
   "source": []
  },
  {
   "cell_type": "code",
   "execution_count": null,
   "id": "5dfe549e",
   "metadata": {},
   "outputs": [],
   "source": []
  }
 ],
 "metadata": {
  "kernelspec": {
   "display_name": "Julia 1.8.3",
   "language": "julia",
   "name": "julia-1.8"
  },
  "language_info": {
   "file_extension": ".jl",
   "mimetype": "application/julia",
   "name": "julia",
   "version": "1.8.3"
  }
 },
 "nbformat": 4,
 "nbformat_minor": 5
}
