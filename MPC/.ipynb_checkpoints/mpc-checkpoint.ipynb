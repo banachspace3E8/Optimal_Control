{
 "cells": [
  {
   "cell_type": "code",
   "execution_count": 1,
   "id": "27e55709",
   "metadata": {},
   "outputs": [],
   "source": [
    "#Shishir Khanal\n",
    "#CMU-Optimal Controls from Jack Manchester\n",
    "#MPC to control altitude for a quadrotor"
   ]
  },
  {
   "cell_type": "code",
   "execution_count": 2,
   "id": "65e51073",
   "metadata": {},
   "outputs": [
    {
     "name": "stderr",
     "output_type": "stream",
     "text": [
      "\u001b[32m\u001b[1m  Activating\u001b[22m\u001b[39m project at `~/Documents/Optimal_Control/Sims/MPC`\n",
      "\u001b[32m\u001b[1m    Updating\u001b[22m\u001b[39m registry at `~/.julia/registries/General.toml`\n",
      "\u001b[32m\u001b[1m   Resolving\u001b[22m\u001b[39m package versions...\n",
      "\u001b[32m\u001b[1m  No Changes\u001b[22m\u001b[39m to `~/Documents/Optimal_Control/Sims/MPC/Project.toml`\n",
      "\u001b[32m\u001b[1m  No Changes\u001b[22m\u001b[39m to `~/Documents/Optimal_Control/Sims/MPC/Manifest.toml`\n",
      "\u001b[32m\u001b[1m   Resolving\u001b[22m\u001b[39m package versions...\n",
      "\u001b[32m\u001b[1m  No Changes\u001b[22m\u001b[39m to `~/Documents/Optimal_Control/Sims/MPC/Project.toml`\n",
      "\u001b[32m\u001b[1m  No Changes\u001b[22m\u001b[39m to `~/Documents/Optimal_Control/Sims/MPC/Manifest.toml`\n",
      "\u001b[32m\u001b[1m   Resolving\u001b[22m\u001b[39m package versions...\n",
      "\u001b[32m\u001b[1m  No Changes\u001b[22m\u001b[39m to `~/Documents/Optimal_Control/Sims/MPC/Project.toml`\n",
      "\u001b[32m\u001b[1m  No Changes\u001b[22m\u001b[39m to `~/Documents/Optimal_Control/Sims/MPC/Manifest.toml`\n",
      "\u001b[36m\u001b[1m[ \u001b[22m\u001b[39m\u001b[36m\u001b[1mInfo: \u001b[22m\u001b[39mPrecompiling ControlSystems [a6e380b2-a6ca-5380-bf3e-84a91bcd477e]\n",
      "\u001b[33m\u001b[1m┌ \u001b[22m\u001b[39m\u001b[33m\u001b[1mWarning: \u001b[22m\u001b[39mReplacing docs for `SciMLBase.sol :: Union{Tuple, Tuple{D}, Tuple{S}, Tuple{N}, Tuple{T}} where {T, N, S, D}` in module `SciMLBase`\n",
      "\u001b[33m\u001b[1m└ \u001b[22m\u001b[39m\u001b[90m@ Base.Docs docs/Docs.jl:240\u001b[39m\n"
     ]
    }
   ],
   "source": [
    "import Pkg; Pkg.activate(@__DIR__); Pkg.instantiate();\n",
    "Pkg.add(\"PyPlot\")\n",
    "Pkg.add(\"ForwardDiff\")\n",
    "Pkg.add(\"OSQP\")\n",
    "using LinearAlgebra\n",
    "using PyPlot\n",
    "using SparseArrays\n",
    "using ControlSystems\n",
    "using ForwardDiff\n",
    "using OSQP"
   ]
  },
  {
   "cell_type": "code",
   "execution_count": 3,
   "id": "1c4cfa62",
   "metadata": {},
   "outputs": [
    {
     "data": {
      "text/plain": [
       "0.05"
      ]
     },
     "execution_count": 3,
     "metadata": {},
     "output_type": "execute_result"
    }
   ],
   "source": [
    "#Model Parameters\n",
    "g = 9.81 #m/s^2\n",
    "m = 1.0 #kg\n",
    "ℓ = 0.3 #meters\n",
    "J = 0.2*m*l*l\n",
    "\n",
    "#Thrust limits\n",
    "umin = [0.2*m*g; 0.2*m*g]\n",
    "umax = [0.6*m*g; 0.6*m*g]\n",
    "\n",
    "h = 0.05 #time step (20Hz)"
   ]
  },
  {
   "cell_type": "code",
   "execution_count": 33,
   "id": "c74e852f",
   "metadata": {},
   "outputs": [
    {
     "data": {
      "text/plain": [
       "quad_dynamics (generic function with 1 method)"
      ]
     },
     "execution_count": 33,
     "metadata": {},
     "output_type": "execute_result"
    }
   ],
   "source": [
    "#Planar Quadrotor Dynamics\n",
    "function quad_dynamics(x,u)\n",
    "    θ = x[3]\n",
    "    \n",
    "    ẍ = (1/m)*(u[1] + u[2])*sin(θ)\n",
    "    ÿ = (1/m)*(u[1] + u[2])*cos(θ) - g\n",
    "    θ̈ = (1/J)*(ℓ/2)*(u[2] - u[1])\n",
    "    \n",
    "    return [x[4:6]; ẍ; ÿ; θ̈] \n",
    "end"
   ]
  },
  {
   "cell_type": "code",
   "execution_count": 34,
   "id": "b35ea65e",
   "metadata": {},
   "outputs": [
    {
     "data": {
      "text/plain": [
       "quad_dynamics_rk4 (generic function with 1 method)"
      ]
     },
     "execution_count": 34,
     "metadata": {},
     "output_type": "execute_result"
    }
   ],
   "source": [
    "function quad_dynamics_rk4(x,u)\n",
    "    #RK-4 integration w/ ZOH on u\n",
    "    f1 = quad_dynamics(x, u)\n",
    "    f2 = quad_dynamics(x + 0.5*h*f1, u)\n",
    "    f3 = quad_dynamics(x + 0.5*h*f2, u)\n",
    "    f4 = quad_dynamics(x + h*f3, u)\n",
    "    return x + (h/6.0)*(f1 + 2*f2 +2*f3 + f4)\n",
    "end"
   ]
  },
  {
   "cell_type": "code",
   "execution_count": 35,
   "id": "46e71657",
   "metadata": {},
   "outputs": [
    {
     "ename": "LoadError",
     "evalue": "UndefVarError: ℓ not defined",
     "output_type": "error",
     "traceback": [
      "UndefVarError: ℓ not defined",
      "",
      "Stacktrace:",
      " [1] quad_dynamics(x::Vector{ForwardDiff.Dual{ForwardDiff.Tag{var\"#5#6\", Float64}, Float64, 6}}, u::Vector{Float64})",
      "   @ Main ./In[33]:7",
      " [2] quad_dynamics_rk4(x::Vector{ForwardDiff.Dual{ForwardDiff.Tag{var\"#5#6\", Float64}, Float64, 6}}, u::Vector{Float64})",
      "   @ Main ./In[34]:3",
      " [3] (::var\"#5#6\")(x::Vector{ForwardDiff.Dual{ForwardDiff.Tag{var\"#5#6\", Float64}, Float64, 6}})",
      "   @ Main ./In[35]:4",
      " [4] vector_mode_dual_eval!",
      "   @ ~/.julia/packages/ForwardDiff/vXysl/src/apiutils.jl:24 [inlined]",
      " [5] vector_mode_jacobian(f::var\"#5#6\", x::Vector{Float64}, cfg::ForwardDiff.JacobianConfig{ForwardDiff.Tag{var\"#5#6\", Float64}, Float64, 6, Vector{ForwardDiff.Dual{ForwardDiff.Tag{var\"#5#6\", Float64}, Float64, 6}}})",
      "   @ ForwardDiff ~/.julia/packages/ForwardDiff/vXysl/src/jacobian.jl:125",
      " [6] jacobian(f::Function, x::Vector{Float64}, cfg::ForwardDiff.JacobianConfig{ForwardDiff.Tag{var\"#5#6\", Float64}, Float64, 6, Vector{ForwardDiff.Dual{ForwardDiff.Tag{var\"#5#6\", Float64}, Float64, 6}}}, ::Val{true})",
      "   @ ForwardDiff ~/.julia/packages/ForwardDiff/vXysl/src/jacobian.jl:21",
      " [7] jacobian(f::Function, x::Vector{Float64}, cfg::ForwardDiff.JacobianConfig{ForwardDiff.Tag{var\"#5#6\", Float64}, Float64, 6, Vector{ForwardDiff.Dual{ForwardDiff.Tag{var\"#5#6\", Float64}, Float64, 6}}}) (repeats 2 times)",
      "   @ ForwardDiff ~/.julia/packages/ForwardDiff/vXysl/src/jacobian.jl:19",
      " [8] top-level scope",
      "   @ In[35]:4"
     ]
    }
   ],
   "source": [
    "#Linearized dynamics for hovering\n",
    "x_hover = zeros(6)\n",
    "u_hover = [0.5*m*g; 0.5*m*g]\n",
    "A = ForwardDiff.jacobian(x->quad_dynamics_rk4(x, u_hover), x_hover);\n",
    "B = ForwardDiff.jacobian(u->quad_dynamics_rk4(x_hover,u), u_hover);\n",
    "quad_dynamics_rk4(x_hover, u_hover)"
   ]
  },
  {
   "cell_type": "code",
   "execution_count": 36,
   "id": "6eecdb84",
   "metadata": {},
   "outputs": [],
   "source": [
    "Nx = 6     # number of state\n",
    "Nu = 2     # number of controls\n",
    "Tfinal = 10.0 # final time\n",
    "Nt = Int(Tfinal/h)+1    # number of time steps\n",
    "thist = Array(range(0,h*(Nt-1), step=h));"
   ]
  },
  {
   "cell_type": "code",
   "execution_count": 37,
   "id": "908674b0",
   "metadata": {},
   "outputs": [],
   "source": [
    "# Cost weights\n",
    "Q = Array(1.0*I(Nx));\n",
    "R = Array(.01*I(Nu));\n",
    "Qn = Array(1.0*I(Nx));"
   ]
  },
  {
   "cell_type": "code",
   "execution_count": 38,
   "id": "c2fc96e7",
   "metadata": {},
   "outputs": [
    {
     "data": {
      "text/plain": [
       "cost (generic function with 1 method)"
      ]
     },
     "execution_count": 38,
     "metadata": {},
     "output_type": "execute_result"
    }
   ],
   "source": [
    "#Cost function\n",
    "function cost(xhist,uhist)\n",
    "    cost = 0.5*xhist[:,end]'*Qn*xhist[:,end]\n",
    "    for k = 1:(size(xhist,2)-1)\n",
    "        cost = cost + 0.5*xhist[:,k]'*Q*xhist[:,k] + 0.5*(uhist[k]'*R*uhist[k])[1]\n",
    "    end\n",
    "    return cost\n",
    "end"
   ]
  },
  {
   "cell_type": "code",
   "execution_count": 39,
   "id": "b4ec814e",
   "metadata": {},
   "outputs": [
    {
     "data": {
      "text/plain": [
       "lqr_controller (generic function with 1 method)"
      ]
     },
     "execution_count": 39,
     "metadata": {},
     "output_type": "execute_result"
    }
   ],
   "source": [
    "#LQR Hover Controller\n",
    "P = dare(A, B, Q, R)\n",
    "Q = dlqr(A, B, Q, R)\n",
    "\n",
    "function lqr_controller(t, x, K, xref)\n",
    "    return u_hover - K*(x-xref)\n",
    "end"
   ]
  },
  {
   "cell_type": "code",
   "execution_count": 40,
   "id": "0ac1cb88",
   "metadata": {},
   "outputs": [
    {
     "ename": "LoadError",
     "evalue": "ArgumentError: mismatched height in block row 2 (expected 6, got 2)",
     "output_type": "error",
     "traceback": [
      "ArgumentError: mismatched height in block row 2 (expected 6, got 2)",
      "",
      "Stacktrace:",
      " [1] typed_hvcat(::Type{Float64}, ::Tuple{Int64, Int64}, ::Matrix{Float64}, ::Vararg{AbstractVecOrMat})",
      "   @ Base ./abstractarray.jl:2018",
      " [2] hvcat(::Tuple{Int64, Int64}, ::Matrix{Float64}, ::Vararg{Matrix{Float64}})",
      "   @ LinearAlgebra ~/Downloads/julia-1.8.3/share/julia/stdlib/v1.8/LinearAlgebra/src/special.jl:427",
      " [3] top-level scope",
      "   @ In[40]:7"
     ]
    }
   ],
   "source": [
    "#Build QP matrices for OSQP\n",
    "Nh = 20 #one second horizon at 20Hz\n",
    "Nx = 6\n",
    "Nu = 2\n",
    "U = kron(Diagonal(I,Nh), [I zeros(Nu,Nx)]) #Matrix that picks out all u\n",
    "Θ = kron(Diagonal(I,Nh), [0 0 0 0 1 0 0 0]) #Matrix that picks out all x3 (θ)\n",
    "H = sparse([kron(Diagonal(I,Nh-1),[R zeros(Nu,Nx); zeros(Nx,Nu) Q]) zeros((Nx+Nu)*(Nh-1), Nx+Nu); zeros(Nx+Nu,(Nx+Nu)*(Nh-1)) [R zeros(Nu,Nx); zeros(Nx,Nu) P]])\n",
    "#b = zeros(Nh*(Nx+Nu))\n",
    "#C = sparse([[B -I zeros(Nx,(Nh-1)*(Nu+Nx))]; zeros(Nx*(Nh-1),Nu) [kron(Diagonal(I,Nh-1), [A B]) zeros((Nh-1)*Nx,Nx)] + [zeros((Nh-1)*Nx,Nx) kron(Diagonal(I,Nh-1),[zeros(Nx,Nu) Diagonal(-I,Nx)])]])\n",
    "\n",
    "#Dynamics + Thrust limit constraints\n",
    "#D = [C; U]\n",
    "#lb = [zeros(Nx*Nh); kron(ones(Nh),umin-u_hover)]\n",
    "#ub = [zeros(Nx*Nh); kron(ones(Nh),umax-u_hover)]\n",
    "\n",
    "#Dynamics + thrust limit + bound constraint on θ to keep the system within small-angle approximation\n",
    "#D = [C; U; Θ]\n",
    "#lb = [zeros(Nx*Nh); kron(ones(Nh),umin-u_hover); -0.2*ones(Nh)]\n",
    "#ub = [zeros(Nx*Nh); kron(ones(Nh),umax-u_hover); 0.2*ones(Nh)]\n",
    "\n",
    "#prob = OSQP.Model()\n",
    "#OSQP.setup!(prob; P=H, q=b, A=D, l=lb, u=ub, verbose=false, eps_abs=1e-8, eps_rel=1e-8, polish=1);"
   ]
  },
  {
   "cell_type": "code",
   "execution_count": null,
   "id": "c986817c",
   "metadata": {},
   "outputs": [],
   "source": []
  }
 ],
 "metadata": {
  "kernelspec": {
   "display_name": "Julia 1.8.3",
   "language": "julia",
   "name": "julia-1.8"
  },
  "language_info": {
   "file_extension": ".jl",
   "mimetype": "application/julia",
   "name": "julia",
   "version": "1.8.3"
  }
 },
 "nbformat": 4,
 "nbformat_minor": 5
}
