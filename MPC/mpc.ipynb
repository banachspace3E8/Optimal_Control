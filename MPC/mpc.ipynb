{
 "cells": [
  {
   "cell_type": "code",
   "execution_count": 122,
   "id": "27e55709",
   "metadata": {},
   "outputs": [],
   "source": [
    "#Shishir Khanal\n",
    "#CMU-Optimal Controls from Jack Manchester\n",
    "#MPC to control altitude for a quadrotor"
   ]
  },
  {
   "cell_type": "code",
   "execution_count": 134,
   "id": "65e51073",
   "metadata": {},
   "outputs": [
    {
     "name": "stderr",
     "output_type": "stream",
     "text": [
      "\u001b[32m\u001b[1m  No Changes\u001b[22m\u001b[39m to `~/Documents/Optimal_Control/Sims/MPC/Project.toml`\n",
      "\u001b[32m\u001b[1m  No Changes\u001b[22m\u001b[39m to `~/Documents/Optimal_Control/Sims/MPC/Manifest.toml`\n",
      "\u001b[32m\u001b[1m  Activating\u001b[22m\u001b[39m project at `~/Documents/Optimal_Control/Sims/MPC`\n",
      "\u001b[32m\u001b[1m   Resolving\u001b[22m\u001b[39m package versions...\n",
      "\u001b[32m\u001b[1m  No Changes\u001b[22m\u001b[39m to `~/Documents/Optimal_Control/Sims/MPC/Project.toml`\n",
      "\u001b[32m\u001b[1m  No Changes\u001b[22m\u001b[39m to `~/Documents/Optimal_Control/Sims/MPC/Manifest.toml`\n",
      "\u001b[32m\u001b[1m   Resolving\u001b[22m\u001b[39m package versions...\n",
      "\u001b[32m\u001b[1m  No Changes\u001b[22m\u001b[39m to `~/Documents/Optimal_Control/Sims/MPC/Project.toml`\n",
      "\u001b[32m\u001b[1m  No Changes\u001b[22m\u001b[39m to `~/Documents/Optimal_Control/Sims/MPC/Manifest.toml`\n",
      "\u001b[32m\u001b[1m   Resolving\u001b[22m\u001b[39m package versions...\n",
      "\u001b[32m\u001b[1m  No Changes\u001b[22m\u001b[39m to `~/Documents/Optimal_Control/Sims/MPC/Project.toml`\n",
      "\u001b[32m\u001b[1m  No Changes\u001b[22m\u001b[39m to `~/Documents/Optimal_Control/Sims/MPC/Manifest.toml`\n",
      "\u001b[32m\u001b[1m   Resolving\u001b[22m\u001b[39m package versions...\n",
      "\u001b[32m\u001b[1m  No Changes\u001b[22m\u001b[39m to `~/Documents/Optimal_Control/Sims/MPC/Project.toml`\n",
      "\u001b[32m\u001b[1m  No Changes\u001b[22m\u001b[39m to `~/Documents/Optimal_Control/Sims/MPC/Manifest.toml`\n",
      "\u001b[32m\u001b[1m   Resolving\u001b[22m\u001b[39m package versions...\n",
      "\u001b[32m\u001b[1m  No Changes\u001b[22m\u001b[39m to `~/Documents/Optimal_Control/Sims/MPC/Project.toml`\n",
      "\u001b[32m\u001b[1m  No Changes\u001b[22m\u001b[39m to `~/Documents/Optimal_Control/Sims/MPC/Manifest.toml`\n"
     ]
    }
   ],
   "source": [
    "import Pkg; Pkg.resolve();\n",
    "Pkg.activate(@__DIR__); Pkg.instantiate();\n",
    "#Pkg.add(\"PyPlot\")\n",
    "Pkg.add(\"ForwardDiff\")\n",
    "Pkg.add(\"OSQP\")\n",
    "Pkg.add(\"LinearAlgebra\")\n",
    "Pkg.add(\"SparseArrays\")\n",
    "Pkg.add(\"ControlSystems\")\n",
    "using LinearAlgebra\n",
    "#using PyPlot\n",
    "using SparseArrays\n",
    "using ForwardDiff\n",
    "using ControlSystems\n",
    "using OSQP"
   ]
  },
  {
   "cell_type": "code",
   "execution_count": 135,
   "id": "1c4cfa62",
   "metadata": {},
   "outputs": [
    {
     "data": {
      "text/plain": [
       "0.05"
      ]
     },
     "execution_count": 135,
     "metadata": {},
     "output_type": "execute_result"
    }
   ],
   "source": [
    "#Model parameters\n",
    "g = 9.81 #m/s^2\n",
    "m = 1.0 #kg \n",
    "ℓ = 0.3 #meters\n",
    "J = 0.2*m*ℓ*ℓ\n",
    "\n",
    "#Thrust limits\n",
    "umin = [0.2*m*g; 0.2*m*g]\n",
    "umax = [0.6*m*g; 0.6*m*g]\n",
    "\n",
    "h = 0.05 #time step (20 Hz)"
   ]
  },
  {
   "cell_type": "code",
   "execution_count": 136,
   "id": "c74e852f",
   "metadata": {},
   "outputs": [
    {
     "data": {
      "text/plain": [
       "quad_dynamics (generic function with 1 method)"
      ]
     },
     "execution_count": 136,
     "metadata": {},
     "output_type": "execute_result"
    }
   ],
   "source": [
    "#Planar Quadrotor Dynamics\n",
    "function quad_dynamics(x,u)\n",
    "    θ = x[3]\n",
    "    \n",
    "    ẍ = (1/m)*(u[1] + u[2])*sin(θ)\n",
    "    ÿ = (1/m)*(u[1] + u[2])*cos(θ) - g\n",
    "    θ̈ = (1/J)*(ℓ/2)*(u[2] - u[1])\n",
    "    \n",
    "    return [x[4:6]; ẍ; ÿ; θ̈]\n",
    "end"
   ]
  },
  {
   "cell_type": "code",
   "execution_count": 137,
   "id": "b35ea65e",
   "metadata": {},
   "outputs": [
    {
     "data": {
      "text/plain": [
       "quad_dynamics_rk4 (generic function with 1 method)"
      ]
     },
     "execution_count": 137,
     "metadata": {},
     "output_type": "execute_result"
    }
   ],
   "source": [
    "function quad_dynamics_rk4(x,u)\n",
    "    #RK4 integration with zero-order hold on u\n",
    "    f1 = quad_dynamics(x, u)\n",
    "    f2 = quad_dynamics(x + 0.5*h*f1, u)\n",
    "    f3 = quad_dynamics(x + 0.5*h*f2, u)\n",
    "    f4 = quad_dynamics(x + h*f3, u)\n",
    "    return x + (h/6.0)*(f1 + 2*f2 + 2*f3 + f4)\n",
    "end"
   ]
  },
  {
   "cell_type": "code",
   "execution_count": 138,
   "id": "46e71657",
   "metadata": {},
   "outputs": [
    {
     "data": {
      "text/plain": [
       "6-element Vector{Float64}:\n",
       " 0.0\n",
       " 0.0\n",
       " 0.0\n",
       " 0.0\n",
       " 0.0\n",
       " 0.0"
      ]
     },
     "execution_count": 138,
     "metadata": {},
     "output_type": "execute_result"
    }
   ],
   "source": [
    "#Linearized dynamics for hovering\n",
    "x_hover = zeros(6)\n",
    "u_hover = [0.5*m*g; 0.5*m*g]\n",
    "A = ForwardDiff.jacobian(x->quad_dynamics_rk4(x,u_hover),x_hover);\n",
    "B = ForwardDiff.jacobian(u->quad_dynamics_rk4(x_hover,u),u_hover);\n",
    "quad_dynamics_rk4(x_hover, u_hover)"
   ]
  },
  {
   "cell_type": "code",
   "execution_count": 139,
   "id": "6eecdb84",
   "metadata": {},
   "outputs": [],
   "source": [
    "Nx = 6     # number of state\n",
    "Nu = 2     # number of controls\n",
    "Tfinal = 10.0 # final time\n",
    "Nt = Int(Tfinal/h)+1    # number of time steps\n",
    "thist = Array(range(0,h*(Nt-1), step=h));"
   ]
  },
  {
   "cell_type": "code",
   "execution_count": 140,
   "id": "908674b0",
   "metadata": {},
   "outputs": [],
   "source": [
    "# Cost weights\n",
    "Q = Array(1.0*I(Nx));\n",
    "R = Array(.01*I(Nu));\n",
    "Qn = Array(1.0*I(Nx));"
   ]
  },
  {
   "cell_type": "code",
   "execution_count": 141,
   "id": "c2fc96e7",
   "metadata": {},
   "outputs": [
    {
     "data": {
      "text/plain": [
       "cost (generic function with 1 method)"
      ]
     },
     "execution_count": 141,
     "metadata": {},
     "output_type": "execute_result"
    }
   ],
   "source": [
    "#Cost function\n",
    "function cost(xhist,uhist)\n",
    "    cost = 0.5*xhist[:,end]'*Qn*xhist[:,end]\n",
    "    for k = 1:(size(xhist,2)-1)\n",
    "        cost = cost + 0.5*xhist[:,k]'*Q*xhist[:,k] + 0.5*(uhist[k]'*R*uhist[k])[1]\n",
    "    end\n",
    "    return cost\n",
    "end"
   ]
  },
  {
   "cell_type": "code",
   "execution_count": 142,
   "id": "b4ec814e",
   "metadata": {},
   "outputs": [
    {
     "ename": "LoadError",
     "evalue": "UndefVarError: dare not defined",
     "output_type": "error",
     "traceback": [
      "UndefVarError: dare not defined",
      "",
      "Stacktrace:",
      " [1] top-level scope",
      "   @ In[142]:2"
     ]
    }
   ],
   "source": [
    "#LQR Hover Controller\n",
    "P = dare(A,B,Q,R)\n",
    "K = dlqr(A,B,Q,R)\n",
    "\n",
    "function lqr_controller(t,x,K,xref)\n",
    "    \n",
    "    return u_hover - K*(x-xref)\n",
    "end"
   ]
  },
  {
   "cell_type": "code",
   "execution_count": 54,
   "id": "0ac1cb88",
   "metadata": {},
   "outputs": [
    {
     "ename": "LoadError",
     "evalue": "UndefVarError: P not defined",
     "output_type": "error",
     "traceback": [
      "UndefVarError: P not defined",
      "",
      "Stacktrace:",
      " [1] top-level scope",
      "   @ In[54]:8"
     ]
    }
   ],
   "source": [
    "#Build QP matrices for OSQP\n",
    "Nh = 20 #one second horizon at 20Hz\n",
    "Nx = 6\n",
    "Nu = 2\n",
    "#Use Kronecker Product to build block sparse matrices\n",
    "U = kron(Diagonal(I,Nh), [I zeros(Nu,Nx)]) #Matrix that picks out all u\n",
    "Θ = kron(Diagonal(I,Nh), [0 0 0 0 1 0 0 0]) #Matrix that picks out all x3 (θ)\n",
    "H = sparse([kron(Diagonal(I,Nh-1),[R zeros(Nu,Nx); zeros(Nx,Nu) Q]) zeros((Nx+Nu)*(Nh-1), Nx+Nu); zeros(Nx+Nu,(Nx+Nu)*(Nh-1)) [R zeros(Nu,Nx); zeros(Nx,Nu) P]])\n",
    "b = zeros(Nh*(Nx+Nu))\n",
    "C = sparse([[B -I zeros(Nx,(Nh-1)*(Nu+Nx))]; zeros(Nx*(Nh-1),Nu) [kron(Diagonal(I,Nh-1), [A B]) zeros((Nh-1)*Nx,Nx)] + [zeros((Nh-1)*Nx,Nx) kron(Diagonal(I,Nh-1),[zeros(Nx,Nu) Diagonal(-I,Nx)])]])\n",
    "\n",
    "#Dynamics + Thrust limit constraints\n",
    "#D = [C; U]\n",
    "#lb = [zeros(Nx*Nh); kron(ones(Nh),umin-u_hover)] #u is subtracted because u in QP is in terms of Δu\n",
    "#ub = [zeros(Nx*Nh); kron(ones(Nh),umax-u_hover)]\n",
    "\n",
    "#Dynamics + thrust limit + bound constraint on θ to keep the system within small-angle approximation\n",
    "D = [C; U; Θ]\n",
    "lb = [zeros(Nx*Nh); kron(ones(Nh),umin-u_hover); -0.2*ones(Nh)]\n",
    "ub = [zeros(Nx*Nh); kron(ones(Nh),umax-u_hover); 0.2*ones(Nh)]\n",
    "\n",
    "prob = OSQP.Model()\n",
    "OSQP.setup!(prob; P=H, q=b, A=D, l=lb, u=ub, verbose=false, eps_abs=1e-8, eps_rel=1e-8, polish=1);"
   ]
  },
  {
   "cell_type": "code",
   "execution_count": 55,
   "id": "c09ddd57",
   "metadata": {},
   "outputs": [
    {
     "ename": "LoadError",
     "evalue": "syntax: incomplete: premature end of input",
     "output_type": "error",
     "traceback": [
      "syntax: incomplete: premature end of input",
      "",
      "Stacktrace:",
      " [1] top-level scope",
      "   @ In[55]:2"
     ]
    }
   ],
   "source": [
    "lb = [zeros(Nx*Nh); kron(ones(Nh),umin-u_hover); -0.2*ones(Nh)]\n",
    "zeros(Nx*Nh"
   ]
  },
  {
   "cell_type": "code",
   "execution_count": 56,
   "id": "c986817c",
   "metadata": {},
   "outputs": [
    {
     "data": {
      "text/plain": [
       "mpc_controller (generic function with 1 method)"
      ]
     },
     "execution_count": 56,
     "metadata": {},
     "output_type": "execute_result"
    }
   ],
   "source": [
    "#MPC Controller\n",
    "function mpc_controller(t,x,xref)\n",
    "    \n",
    "    #Update QP problem\n",
    "    lb[1:6] .= -A*x\n",
    "    ub[1:6] .= -A*x\n",
    "    \n",
    "    for j = 1:(Nh-1)\n",
    "        b[(Nu+(j-1)*(Nx+Nu)).+(1:Nx)] .= -Q*xref\n",
    "    end\n",
    "    b[(Nu+(Nh-1)*(Nx+Nu)).+(1:Nx)] .= -P*xref\n",
    "    \n",
    "    OSQP.update!(prob, q=b, l=lb, u=ub)\n",
    "\n",
    "    #Solve QP\n",
    "    results = OSQP.solve!(prob)\n",
    "    Δu = results.x[1:Nu]\n",
    "\n",
    "    return u_hover + Δu\n",
    "end"
   ]
  },
  {
   "cell_type": "code",
   "execution_count": 57,
   "id": "9db437c8",
   "metadata": {},
   "outputs": [
    {
     "data": {
      "text/plain": [
       "closed_loop (generic function with 1 method)"
      ]
     },
     "execution_count": 57,
     "metadata": {},
     "output_type": "execute_result"
    }
   ],
   "source": [
    "function closed_loop(x0,controller,N)\n",
    "    xhist = zeros(length(x0),N)\n",
    "    u0 = controller(1,x0)\n",
    "    uhist = zeros(length(u0),N-1)\n",
    "    uhist[:,1] .= u0\n",
    "    xhist[:,1] .= x0\n",
    "    for k = 1:(N-1)\n",
    "        uk = controller(k,xhist[:,k])\n",
    "        uhist[:,k] = max.(min.(umax, uk), umin) #enforce control limits\n",
    "        xhist[:,k+1] .= quad_dynamics_rk4(xhist[:,k],uhist[:,k])\n",
    "    end\n",
    "    return xhist, uhist\n",
    "end"
   ]
  },
  {
   "cell_type": "code",
   "execution_count": 58,
   "id": "706e6280",
   "metadata": {},
   "outputs": [
    {
     "ename": "LoadError",
     "evalue": "UndefVarError: lqr_controller not defined",
     "output_type": "error",
     "traceback": [
      "UndefVarError: lqr_controller not defined",
      "",
      "Stacktrace:",
      " [1] (::var\"#25#26\")(t::Int64, x::Vector{Float64})",
      "   @ Main ./In[58]:3",
      " [2] closed_loop(x0::Vector{Float64}, controller::var\"#25#26\", N::Int64)",
      "   @ Main ./In[57]:3",
      " [3] top-level scope",
      "   @ In[58]:3"
     ]
    }
   ],
   "source": [
    "x_ref = [0.0; 1.0; 0; 0; 0; 0]\n",
    "x0 = [10.0; 2.0; 0.0; 0; 0; 0]\n",
    "xhist1, uhist1 = closed_loop(x0, (t,x)->lqr_controller(t,x,K,x_ref), Nt);\n",
    "xhist2, uhist2 = closed_loop(x0, (t,x)->mpc_controller(t,x,x_ref), Nt);"
   ]
  },
  {
   "cell_type": "code",
   "execution_count": 59,
   "id": "a53cd8d3",
   "metadata": {},
   "outputs": [
    {
     "ename": "LoadError",
     "evalue": "UndefVarError: xhist1 not defined",
     "output_type": "error",
     "traceback": [
      "UndefVarError: xhist1 not defined",
      "",
      "Stacktrace:",
      " [1] top-level scope",
      "   @ In[59]:1"
     ]
    }
   ],
   "source": [
    "plot(thist, xhist1[1,:], label=\"x LQR\")\n",
    "plot(thist, xhist2[1,:], label=\"x MPC\")\n",
    "xlabel(\"time\")\n",
    "legend()"
   ]
  },
  {
   "cell_type": "code",
   "execution_count": 60,
   "id": "ce542db3",
   "metadata": {},
   "outputs": [
    {
     "ename": "LoadError",
     "evalue": "UndefVarError: xhist1 not defined",
     "output_type": "error",
     "traceback": [
      "UndefVarError: xhist1 not defined",
      "",
      "Stacktrace:",
      " [1] top-level scope",
      "   @ In[60]:1"
     ]
    }
   ],
   "source": [
    "plot(thist, xhist1[2,:], label=\"y LQR\")\n",
    "plot(thist, xhist2[2,:], label=\"y MPC\")\n",
    "xlabel(\"time\")\n",
    "legend()"
   ]
  },
  {
   "cell_type": "code",
   "execution_count": 61,
   "id": "b3488d61",
   "metadata": {},
   "outputs": [
    {
     "ename": "LoadError",
     "evalue": "UndefVarError: xhist2 not defined",
     "output_type": "error",
     "traceback": [
      "UndefVarError: xhist2 not defined",
      "",
      "Stacktrace:",
      " [1] top-level scope",
      "   @ In[61]:2"
     ]
    }
   ],
   "source": [
    "#plot(thist, xhist1[3,:], label=\"θ LQR\")\n",
    "plot(thist, xhist2[3,:], label=\"θ MPC\")\n",
    "xlabel(\"time\")\n",
    "legend()"
   ]
  },
  {
   "cell_type": "code",
   "execution_count": 62,
   "id": "7a599694",
   "metadata": {},
   "outputs": [
    {
     "ename": "LoadError",
     "evalue": "UndefVarError: uhist1 not defined",
     "output_type": "error",
     "traceback": [
      "UndefVarError: uhist1 not defined",
      "",
      "Stacktrace:",
      " [1] top-level scope",
      "   @ In[62]:1"
     ]
    }
   ],
   "source": [
    "plot(thist[1:end-1], uhist1[1,:], label=\"u1 LQR\")\n",
    "plot(thist[1:end-1], uhist2[1,:], label=\"u1 MPC\")\n",
    "xlabel(\"time\")\n",
    "legend()"
   ]
  },
  {
   "cell_type": "code",
   "execution_count": 63,
   "id": "89a71436",
   "metadata": {},
   "outputs": [
    {
     "ename": "LoadError",
     "evalue": "UndefVarError: uhist1 not defined",
     "output_type": "error",
     "traceback": [
      "UndefVarError: uhist1 not defined",
      "",
      "Stacktrace:",
      " [1] top-level scope",
      "   @ In[63]:1"
     ]
    }
   ],
   "source": [
    "plot(thist[1:end-1], uhist1[2,:], label=\"u2 LQR\")\n",
    "plot(thist[1:end-1], uhist2[2,:], label=\"xu2 MPC\")\n",
    "xlabel(\"time\")\n",
    "legend()"
   ]
  },
  {
   "cell_type": "code",
   "execution_count": 64,
   "id": "0b0a253e",
   "metadata": {},
   "outputs": [
    {
     "name": "stderr",
     "output_type": "stream",
     "text": [
      "\u001b[32m\u001b[1m   Resolving\u001b[22m\u001b[39m package versions...\n",
      "\u001b[32m\u001b[1m  No Changes\u001b[22m\u001b[39m to `~/Documents/Optimal_Control/Sims/MPC/Project.toml`\n",
      "\u001b[32m\u001b[1m  No Changes\u001b[22m\u001b[39m to `~/Documents/Optimal_Control/Sims/MPC/Manifest.toml`\n",
      "\u001b[32m\u001b[1m   Resolving\u001b[22m\u001b[39m package versions...\n",
      "\u001b[32m\u001b[1m  No Changes\u001b[22m\u001b[39m to `~/Documents/Optimal_Control/Sims/MPC/Project.toml`\n",
      "\u001b[32m\u001b[1m  No Changes\u001b[22m\u001b[39m to `~/Documents/Optimal_Control/Sims/MPC/Manifest.toml`\n",
      "\u001b[32m\u001b[1m   Resolving\u001b[22m\u001b[39m package versions...\n",
      "\u001b[32m\u001b[1m  No Changes\u001b[22m\u001b[39m to `~/Documents/Optimal_Control/Sims/MPC/Project.toml`\n",
      "\u001b[32m\u001b[1m  No Changes\u001b[22m\u001b[39m to `~/Documents/Optimal_Control/Sims/MPC/Manifest.toml`\n",
      "\u001b[32m\u001b[1m   Resolving\u001b[22m\u001b[39m package versions...\n",
      "\u001b[32m\u001b[1m  No Changes\u001b[22m\u001b[39m to `~/Documents/Optimal_Control/Sims/MPC/Project.toml`\n",
      "\u001b[32m\u001b[1m  No Changes\u001b[22m\u001b[39m to `~/Documents/Optimal_Control/Sims/MPC/Manifest.toml`\n",
      "\u001b[32m\u001b[1m   Resolving\u001b[22m\u001b[39m package versions...\n",
      "\u001b[32m\u001b[1m  No Changes\u001b[22m\u001b[39m to `~/Documents/Optimal_Control/Sims/MPC/Project.toml`\n",
      "\u001b[32m\u001b[1m  No Changes\u001b[22m\u001b[39m to `~/Documents/Optimal_Control/Sims/MPC/Manifest.toml`\n",
      "\u001b[32m\u001b[1m   Resolving\u001b[22m\u001b[39m package versions...\n",
      "\u001b[32m\u001b[1m  No Changes\u001b[22m\u001b[39m to `~/Documents/Optimal_Control/Sims/MPC/Project.toml`\n",
      "\u001b[32m\u001b[1m  No Changes\u001b[22m\u001b[39m to `~/Documents/Optimal_Control/Sims/MPC/Manifest.toml`\n",
      "\u001b[32m\u001b[1m   Resolving\u001b[22m\u001b[39m package versions...\n",
      "\u001b[32m\u001b[1m  No Changes\u001b[22m\u001b[39m to `~/Documents/Optimal_Control/Sims/MPC/Project.toml`\n",
      "\u001b[32m\u001b[1m  No Changes\u001b[22m\u001b[39m to `~/Documents/Optimal_Control/Sims/MPC/Manifest.toml`\n"
     ]
    }
   ],
   "source": [
    "#Set up Visualization\n",
    "Pkg.add(\"MeshCat\")\n",
    "Pkg.add(\"RobotZoo\")\n",
    "Pkg.add(\"CoordinateTransformations\")\n",
    "Pkg.add(\"Rotations\")\n",
    "Pkg.add(\"Colors\")\n",
    "Pkg.add(\"StaticArrays\")\n",
    "Pkg.add(\"RobotDynamics\")\n",
    "using MeshCat\n",
    "using RobotZoo: Quadrotor, PlanarQuadrotor\n",
    "using CoordinateTransformations, Rotations, Colors, StaticArrays, RobotDynamics\n"
   ]
  },
  {
   "cell_type": "code",
   "execution_count": 65,
   "id": "7d127961",
   "metadata": {},
   "outputs": [
    {
     "data": {
      "text/plain": [
       "visualize! (generic function with 2 methods)"
      ]
     },
     "execution_count": 65,
     "metadata": {},
     "output_type": "execute_result"
    }
   ],
   "source": [
    "function set_mesh!(vis, model::L; scaling=1.0, color=colorant\"black\") where {L <: Union{Quadrotor, PlanarQuadrotor}}\n",
    "    #urdf_folder = joinpath(@__DIR__, \"..\", \"data\", \"meshes\")\n",
    "    urdf_folder = @__DIR__\n",
    "    #if scaling != 1.0\n",
    "    #     quad_scaling = 0.085 * scaling\n",
    "    obj = joinpath(urdf_folder, \"quadrotor_scaled.obj\")\n",
    "    if scaling != 1.0\n",
    "        error(\"Scaling not implemented after switching to MeshCat 0.12\")\n",
    "    end\n",
    "    robot_obj = MeshFileGeometry(obj)\n",
    "    mat = MeshPhongMaterial(color=color)\n",
    "    setobject!(vis[\"robot\"][\"geom\"], robot_obj, mat)\n",
    "    if hasfield(L, :ned)\n",
    "        model.ned && settransform!(vis[\"robot\"][\"geom\"], LinearMap(RotX(pi)))\n",
    "    end\n",
    "end\n",
    "\n",
    "function visualize!(vis, model::PlanarQuadrotor, x::StaticVector)\n",
    "    py,pz = x[1],x[2]\n",
    "    θ = x[3]\n",
    "    settransform!(vis[\"robot\"], compose(Translation(0, py, pz), LinearMap(RotX(-θ))))\n",
    "end\n",
    "    \n",
    "function visualize!(vis, model, tf::Real, X)\n",
    "    fps = Int(round((length(X)-1)/tf))\n",
    "    anim = MeshCat.Animation(fps)\n",
    "    for (k,x) in enumerate(X)\n",
    "        atframe(anim, k) do\n",
    "            x = X[k]\n",
    "            visualize!(vis, model, SVector{6}(x))\n",
    "        end\n",
    "    end\n",
    "    setanimation!(vis, anim)\n",
    "end   "
   ]
  },
  {
   "cell_type": "code",
   "execution_count": 66,
   "id": "38ad7fdf",
   "metadata": {
    "scrolled": true
   },
   "outputs": [
    {
     "name": "stderr",
     "output_type": "stream",
     "text": [
      "\u001b[36m\u001b[1m┌ \u001b[22m\u001b[39m\u001b[36m\u001b[1mInfo: \u001b[22m\u001b[39mMeshCat server started. You can open the visualizer by visiting the following URL in your browser:\n",
      "\u001b[36m\u001b[1m└ \u001b[22m\u001b[39mhttp://127.0.0.1:8700\n"
     ]
    },
    {
     "data": {
      "text/html": [
       "    <div style=\"height: 500px; width: 100%; overflow-x: auto; overflow-y: hidden; resize: both\">\n",
       "    <iframe src=\"http://127.0.0.1:8700\" style=\"width: 100%; height: 100%; border: none\"></iframe>\n",
       "    </div>\n"
      ],
      "text/plain": [
       "MeshCat.DisplayedVisualizer(MeshCat.CoreVisualizer(MeshCat.SceneTrees.SceneNode(nothing, nothing, Dict{String, Vector{UInt8}}(), nothing, Dict{String, MeshCat.SceneTrees.SceneNode}(\"meshcat\" => MeshCat.SceneTrees.SceneNode(nothing, nothing, Dict{String, Vector{UInt8}}(), nothing, Dict{String, MeshCat.SceneTrees.SceneNode}(\"robot\" => MeshCat.SceneTrees.SceneNode(nothing, nothing, Dict{String, Vector{UInt8}}(), nothing, Dict{String, MeshCat.SceneTrees.SceneNode}(\"geom\" => MeshCat.SceneTrees.SceneNode(UInt8[0x83, 0xa6, 0x6f, 0x62, 0x6a, 0x65, 0x63, 0x74, 0x84, 0xaa  …  0x72, 0x6f, 0x62, 0x6f, 0x74, 0x2f, 0x67, 0x65, 0x6f, 0x6d], nothing, Dict{String, Vector{UInt8}}(), nothing, Dict{String, MeshCat.SceneTrees.SceneNode}()))))))), Set{Any}(), ip\"127.0.0.1\", 8700))"
      ]
     },
     "execution_count": 66,
     "metadata": {},
     "output_type": "execute_result"
    }
   ],
   "source": [
    "vis = Visualizer()\n",
    "model = PlanarQuadrotor()\n",
    "set_mesh!(vis, model)\n",
    "render(vis)"
   ]
  },
  {
   "cell_type": "code",
   "execution_count": 67,
   "id": "7797e008",
   "metadata": {},
   "outputs": [
    {
     "ename": "LoadError",
     "evalue": "UndefVarError: xhist1 not defined",
     "output_type": "error",
     "traceback": [
      "UndefVarError: xhist1 not defined",
      "",
      "Stacktrace:",
      " [1] top-level scope",
      "   @ In[67]:1"
     ]
    }
   ],
   "source": [
    "X1 = [SVector{6}(x) for x in eachcol(xhist1)];\n",
    "X2 = [SVector{6}(x) for x in eachcol(xhist2)];"
   ]
  },
  {
   "cell_type": "code",
   "execution_count": 68,
   "id": "db533ec5",
   "metadata": {},
   "outputs": [
    {
     "ename": "LoadError",
     "evalue": "UndefVarError: X1 not defined",
     "output_type": "error",
     "traceback": [
      "UndefVarError: X1 not defined",
      "",
      "Stacktrace:",
      " [1] top-level scope",
      "   @ In[68]:1"
     ]
    }
   ],
   "source": [
    "visualize!(vis, model, thist[end], X1)"
   ]
  },
  {
   "cell_type": "code",
   "execution_count": 25,
   "id": "419bb351",
   "metadata": {},
   "outputs": [
    {
     "ename": "LoadError",
     "evalue": "UndefVarError: X2 not defined",
     "output_type": "error",
     "traceback": [
      "UndefVarError: X2 not defined",
      "",
      "Stacktrace:",
      " [1] top-level scope",
      "   @ In[25]:1"
     ]
    }
   ],
   "source": [
    "visualize!(vis, model, thist[end], X2)"
   ]
  },
  {
   "cell_type": "code",
   "execution_count": null,
   "id": "3c5b43ea",
   "metadata": {},
   "outputs": [],
   "source": []
  }
 ],
 "metadata": {
  "kernelspec": {
   "display_name": "Julia 1.8.3",
   "language": "julia",
   "name": "julia-1.8"
  },
  "language_info": {
   "file_extension": ".jl",
   "mimetype": "application/julia",
   "name": "julia",
   "version": "1.8.3"
  }
 },
 "nbformat": 4,
 "nbformat_minor": 5
}
